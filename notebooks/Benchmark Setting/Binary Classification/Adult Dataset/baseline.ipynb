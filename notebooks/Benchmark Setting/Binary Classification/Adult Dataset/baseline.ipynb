{
 "cells": [
  {
   "cell_type": "code",
   "execution_count": 1,
   "id": "133ecd63-8d18-4463-8084-3952338e4cbb",
   "metadata": {
    "tags": []
   },
   "outputs": [],
   "source": [
    "import pandas as pd\n",
    "import numpy as np\n",
    "import scipy as sp\n",
    "import pickle\n",
    "from comparers import ModelComparer\n",
    "import matplotlib.pyplot as plt\n",
    "from IPython.display import display\n",
    "from sklearn.metrics import classification_report\n",
    "from util import RuleClassifier, find_counterfactuals, counterfactuals_to_constraint_matrix,\\\n",
    "                 evaluate_counterfactual_fidelity, get_complexity\n",
    "from surrogate_tree import train_surrogate_tree, tree_to_rules, plot_surrogate_tree,\\\n",
    "                 get_feature_importances, plot_feature_importances, plot_tree_leafs_for_class,\\\n",
    "                 tree_to_constraint_matrix, constraint_matrix_to_rules, extract_rules, print_rules,\\\n",
    "                 evaluate"
   ]
  },
  {
   "cell_type": "code",
   "execution_count": 2,
   "id": "2f7ee4e3-f345-465f-a9f0-71772b2df958",
   "metadata": {},
   "outputs": [],
   "source": [
    "with open('task_without_noise.pickle', 'rb') as f:\n",
    "    clf_a, clf_b, X, X_display, y, feature_names, categorical_features, feature_precisions = pickle.load(f)"
   ]
  },
  {
   "cell_type": "code",
   "execution_count": 3,
   "id": "5225b36f-1721-4ecc-8def-4b3f797c811b",
   "metadata": {},
   "outputs": [],
   "source": [
    "comparer = ModelComparer(clf_a, clf_b, feature_names)"
   ]
  },
  {
   "cell_type": "markdown",
   "id": "43e16318-3900-4b1a-95df-76f55b3649e7",
   "metadata": {},
   "source": [
    "# Explanations"
   ]
  },
  {
   "cell_type": "code",
   "execution_count": 4,
   "id": "bbb33346-86f6-417e-b38d-1f3a35ae4233",
   "metadata": {},
   "outputs": [],
   "source": [
    "mclass_diff = comparer.predict_mclass_diff(X)"
   ]
  },
  {
   "cell_type": "code",
   "execution_count": 5,
   "id": "2945fd12-ec60-4bb2-a320-7d5d59ce7414",
   "metadata": {},
   "outputs": [],
   "source": [
    "with open('ground_truth.(False, True).pickle', 'rb') as f:\n",
    "    ground_truth_instance_indices_01, ground_truth_01 = pickle.load(f)\n",
    "with open('ground_truth.(True, False).pickle', 'rb') as f:\n",
    "    ground_truth_instance_indices_10, ground_truth_10 = pickle.load(f)"
   ]
  },
  {
   "cell_type": "code",
   "execution_count": 6,
   "id": "080b6a58-7c14-43ba-b1c5-edd07302042c",
   "metadata": {},
   "outputs": [],
   "source": [
    "global_fidelities = {}\n",
    "local_fidelities = {}\n",
    "complexities = {}"
   ]
  },
  {
   "cell_type": "markdown",
   "id": "6319fd3f-2c5d-485a-b315-fd71a1856792",
   "metadata": {},
   "source": [
    "## Tree with Depth 2"
   ]
  },
  {
   "cell_type": "code",
   "execution_count": 7,
   "id": "2d7be6f0-8ac9-4db1-9b73-ae2985c6da6a",
   "metadata": {},
   "outputs": [
    {
     "name": "stdout",
     "output_type": "stream",
     "text": [
      "CPU times: user 2.33 ms, sys: 1.33 ms, total: 3.66 ms\n",
      "Wall time: 6.23 ms\n"
     ]
    }
   ],
   "source": [
    "%%time\n",
    "model = train_surrogate_tree(X, mclass_diff, max_depth=2)"
   ]
  },
  {
   "cell_type": "code",
   "execution_count": 8,
   "id": "140f47c4-9577-4bfd-ae58-944ed57f08b8",
   "metadata": {},
   "outputs": [
    {
     "name": "stdout",
     "output_type": "stream",
     "text": [
      "                precision    recall  f1-score   support\n",
      "\n",
      "(False, False)       0.91      0.98      0.95       784\n",
      " (False, True)       0.00      0.00      0.00        12\n",
      "  (True, True)       0.89      0.65      0.75       181\n",
      "\n",
      "      accuracy                           0.91       977\n",
      "     macro avg       0.60      0.54      0.57       977\n",
      "  weighted avg       0.90      0.91      0.90       977\n",
      "\n"
     ]
    },
    {
     "name": "stderr",
     "output_type": "stream",
     "text": [
      "Precision and F-score are ill-defined and being set to 0.0 in labels with no predicted samples. Use `zero_division` parameter to control this behavior.\n",
      "Precision and F-score are ill-defined and being set to 0.0 in labels with no predicted samples. Use `zero_division` parameter to control this behavior.\n",
      "Precision and F-score are ill-defined and being set to 0.0 in labels with no predicted samples. Use `zero_division` parameter to control this behavior.\n",
      "Precision and F-score are ill-defined and being set to 0.0 in labels with no predicted samples. Use `zero_division` parameter to control this behavior.\n"
     ]
    },
    {
     "data": {
      "text/html": [
       "<div>\n",
       "<style scoped>\n",
       "    .dataframe tbody tr th:only-of-type {\n",
       "        vertical-align: middle;\n",
       "    }\n",
       "\n",
       "    .dataframe tbody tr th {\n",
       "        vertical-align: top;\n",
       "    }\n",
       "\n",
       "    .dataframe thead th {\n",
       "        text-align: right;\n",
       "    }\n",
       "</style>\n",
       "<table border=\"1\" class=\"dataframe\">\n",
       "  <thead>\n",
       "    <tr style=\"text-align: right;\">\n",
       "      <th></th>\n",
       "      <th>Precision</th>\n",
       "      <th>Recall</th>\n",
       "      <th>F1 Score</th>\n",
       "      <th>Support</th>\n",
       "    </tr>\n",
       "  </thead>\n",
       "  <tbody>\n",
       "    <tr>\n",
       "      <th>(False, False)</th>\n",
       "      <td>0.913609</td>\n",
       "      <td>0.984694</td>\n",
       "      <td>0.947821</td>\n",
       "      <td>784</td>\n",
       "    </tr>\n",
       "    <tr>\n",
       "      <th>(False, True)</th>\n",
       "      <td>0.000000</td>\n",
       "      <td>0.000000</td>\n",
       "      <td>0.000000</td>\n",
       "      <td>12</td>\n",
       "    </tr>\n",
       "    <tr>\n",
       "      <th>(True, True)</th>\n",
       "      <td>0.886364</td>\n",
       "      <td>0.646409</td>\n",
       "      <td>0.747604</td>\n",
       "      <td>181</td>\n",
       "    </tr>\n",
       "  </tbody>\n",
       "</table>\n",
       "</div>"
      ],
      "text/plain": [
       "                Precision    Recall  F1 Score  Support\n",
       "(False, False)   0.913609  0.984694  0.947821      784\n",
       "(False, True)    0.000000  0.000000  0.000000       12\n",
       "(True, True)     0.886364  0.646409  0.747604      181"
      ]
     },
     "execution_count": 8,
     "metadata": {},
     "output_type": "execute_result"
    }
   ],
   "source": [
    "evaluate(model, X, mclass_diff, comparer.class_names);"
   ]
  },
  {
   "cell_type": "markdown",
   "id": "ccd2bc8a-dad6-4f68-9956-fe12a2ee2c19",
   "metadata": {},
   "source": [
    "## Tree with Depth 3"
   ]
  },
  {
   "cell_type": "code",
   "execution_count": 9,
   "id": "f882b696-09e9-4d92-8f40-5d59b15f6d68",
   "metadata": {},
   "outputs": [
    {
     "name": "stdout",
     "output_type": "stream",
     "text": [
      "CPU times: user 2.65 ms, sys: 1.55 ms, total: 4.2 ms\n",
      "Wall time: 7.92 ms\n"
     ]
    }
   ],
   "source": [
    "%%time\n",
    "model = train_surrogate_tree(X, mclass_diff, max_depth=3)"
   ]
  },
  {
   "cell_type": "code",
   "execution_count": 10,
   "id": "2d4352e6-358e-4aef-803d-58a65eb26ab9",
   "metadata": {},
   "outputs": [
    {
     "name": "stdout",
     "output_type": "stream",
     "text": [
      "                precision    recall  f1-score   support\n",
      "\n",
      "(False, False)       0.93      0.99      0.96       784\n",
      " (False, True)       0.00      0.00      0.00        12\n",
      "  (True, True)       0.96      0.72      0.82       181\n",
      "\n",
      "      accuracy                           0.93       977\n",
      "     macro avg       0.63      0.57      0.59       977\n",
      "  weighted avg       0.92      0.93      0.92       977\n",
      "\n"
     ]
    },
    {
     "name": "stderr",
     "output_type": "stream",
     "text": [
      "Precision and F-score are ill-defined and being set to 0.0 in labels with no predicted samples. Use `zero_division` parameter to control this behavior.\n",
      "Precision and F-score are ill-defined and being set to 0.0 in labels with no predicted samples. Use `zero_division` parameter to control this behavior.\n",
      "Precision and F-score are ill-defined and being set to 0.0 in labels with no predicted samples. Use `zero_division` parameter to control this behavior.\n",
      "Precision and F-score are ill-defined and being set to 0.0 in labels with no predicted samples. Use `zero_division` parameter to control this behavior.\n"
     ]
    },
    {
     "data": {
      "text/html": [
       "<div>\n",
       "<style scoped>\n",
       "    .dataframe tbody tr th:only-of-type {\n",
       "        vertical-align: middle;\n",
       "    }\n",
       "\n",
       "    .dataframe tbody tr th {\n",
       "        vertical-align: top;\n",
       "    }\n",
       "\n",
       "    .dataframe thead th {\n",
       "        text-align: right;\n",
       "    }\n",
       "</style>\n",
       "<table border=\"1\" class=\"dataframe\">\n",
       "  <thead>\n",
       "    <tr style=\"text-align: right;\">\n",
       "      <th></th>\n",
       "      <th>Precision</th>\n",
       "      <th>Recall</th>\n",
       "      <th>F1 Score</th>\n",
       "      <th>Support</th>\n",
       "    </tr>\n",
       "  </thead>\n",
       "  <tbody>\n",
       "    <tr>\n",
       "      <th>(False, False)</th>\n",
       "      <td>0.926366</td>\n",
       "      <td>0.994898</td>\n",
       "      <td>0.959410</td>\n",
       "      <td>784</td>\n",
       "    </tr>\n",
       "    <tr>\n",
       "      <th>(False, True)</th>\n",
       "      <td>0.000000</td>\n",
       "      <td>0.000000</td>\n",
       "      <td>0.000000</td>\n",
       "      <td>12</td>\n",
       "    </tr>\n",
       "    <tr>\n",
       "      <th>(True, True)</th>\n",
       "      <td>0.962963</td>\n",
       "      <td>0.718232</td>\n",
       "      <td>0.822785</td>\n",
       "      <td>181</td>\n",
       "    </tr>\n",
       "  </tbody>\n",
       "</table>\n",
       "</div>"
      ],
      "text/plain": [
       "                Precision    Recall  F1 Score  Support\n",
       "(False, False)   0.926366  0.994898  0.959410      784\n",
       "(False, True)    0.000000  0.000000  0.000000       12\n",
       "(True, True)     0.962963  0.718232  0.822785      181"
      ]
     },
     "execution_count": 10,
     "metadata": {},
     "output_type": "execute_result"
    }
   ],
   "source": [
    "evaluate(model, X, mclass_diff, comparer.class_names);"
   ]
  },
  {
   "cell_type": "markdown",
   "id": "c011844f-1539-4ec6-b668-8919d5129eb9",
   "metadata": {},
   "source": [
    "## Tree with Depth 4"
   ]
  },
  {
   "cell_type": "code",
   "execution_count": 11,
   "id": "6b37d040-67c8-4591-b682-e894dd9d7faa",
   "metadata": {},
   "outputs": [
    {
     "name": "stdout",
     "output_type": "stream",
     "text": [
      "CPU times: user 2.77 ms, sys: 1.47 ms, total: 4.24 ms\n",
      "Wall time: 3.01 ms\n"
     ]
    }
   ],
   "source": [
    "%%time\n",
    "model = train_surrogate_tree(X, mclass_diff, max_depth=4)"
   ]
  },
  {
   "cell_type": "code",
   "execution_count": 12,
   "id": "207bca24-531c-4ecd-8a75-77406ef5d48b",
   "metadata": {},
   "outputs": [
    {
     "name": "stdout",
     "output_type": "stream",
     "text": [
      "                precision    recall  f1-score   support\n",
      "\n",
      "(False, False)       0.93      0.99      0.96       784\n",
      " (False, True)       0.50      0.08      0.14        12\n",
      "  (True, True)       0.94      0.73      0.83       181\n",
      "\n",
      "      accuracy                           0.93       977\n",
      "     macro avg       0.79      0.60      0.64       977\n",
      "  weighted avg       0.93      0.93      0.93       977\n",
      "\n"
     ]
    },
    {
     "data": {
      "text/html": [
       "<div>\n",
       "<style scoped>\n",
       "    .dataframe tbody tr th:only-of-type {\n",
       "        vertical-align: middle;\n",
       "    }\n",
       "\n",
       "    .dataframe tbody tr th {\n",
       "        vertical-align: top;\n",
       "    }\n",
       "\n",
       "    .dataframe thead th {\n",
       "        text-align: right;\n",
       "    }\n",
       "</style>\n",
       "<table border=\"1\" class=\"dataframe\">\n",
       "  <thead>\n",
       "    <tr style=\"text-align: right;\">\n",
       "      <th></th>\n",
       "      <th>Precision</th>\n",
       "      <th>Recall</th>\n",
       "      <th>F1 Score</th>\n",
       "      <th>Support</th>\n",
       "    </tr>\n",
       "  </thead>\n",
       "  <tbody>\n",
       "    <tr>\n",
       "      <th>(False, False)</th>\n",
       "      <td>0.934053</td>\n",
       "      <td>0.993622</td>\n",
       "      <td>0.962917</td>\n",
       "      <td>784</td>\n",
       "    </tr>\n",
       "    <tr>\n",
       "      <th>(False, True)</th>\n",
       "      <td>0.500000</td>\n",
       "      <td>0.083333</td>\n",
       "      <td>0.142857</td>\n",
       "      <td>12</td>\n",
       "    </tr>\n",
       "    <tr>\n",
       "      <th>(True, True)</th>\n",
       "      <td>0.943262</td>\n",
       "      <td>0.734807</td>\n",
       "      <td>0.826087</td>\n",
       "      <td>181</td>\n",
       "    </tr>\n",
       "  </tbody>\n",
       "</table>\n",
       "</div>"
      ],
      "text/plain": [
       "                Precision    Recall  F1 Score  Support\n",
       "(False, False)   0.934053  0.993622  0.962917      784\n",
       "(False, True)    0.500000  0.083333  0.142857       12\n",
       "(True, True)     0.943262  0.734807  0.826087      181"
      ]
     },
     "execution_count": 12,
     "metadata": {},
     "output_type": "execute_result"
    }
   ],
   "source": [
    "evaluate(model, X, mclass_diff, comparer.class_names);"
   ]
  },
  {
   "cell_type": "markdown",
   "id": "4c9b3ae4-aa2e-4a3d-83e2-f0dec851329d",
   "metadata": {},
   "source": [
    "## Tree with Depth 5"
   ]
  },
  {
   "cell_type": "code",
   "execution_count": 13,
   "id": "caf3b386-5d12-4771-937e-3e07988e36a7",
   "metadata": {},
   "outputs": [
    {
     "name": "stdout",
     "output_type": "stream",
     "text": [
      "CPU times: user 3.47 ms, sys: 1.67 ms, total: 5.13 ms\n",
      "Wall time: 6.6 ms\n"
     ]
    }
   ],
   "source": [
    "%%time\n",
    "model = train_surrogate_tree(X, mclass_diff, max_depth=5)"
   ]
  },
  {
   "cell_type": "code",
   "execution_count": 14,
   "id": "eda555a3-832f-47ef-a183-a673b1fa3ced",
   "metadata": {},
   "outputs": [
    {
     "name": "stdout",
     "output_type": "stream",
     "text": [
      "                precision    recall  f1-score   support\n",
      "\n",
      "(False, False)       0.94      0.99      0.97       784\n",
      " (False, True)       1.00      0.17      0.29        12\n",
      "  (True, True)       0.95      0.78      0.85       181\n",
      "\n",
      "      accuracy                           0.94       977\n",
      "     macro avg       0.96      0.65      0.70       977\n",
      "  weighted avg       0.94      0.94      0.94       977\n",
      "\n"
     ]
    },
    {
     "data": {
      "text/html": [
       "<div>\n",
       "<style scoped>\n",
       "    .dataframe tbody tr th:only-of-type {\n",
       "        vertical-align: middle;\n",
       "    }\n",
       "\n",
       "    .dataframe tbody tr th {\n",
       "        vertical-align: top;\n",
       "    }\n",
       "\n",
       "    .dataframe thead th {\n",
       "        text-align: right;\n",
       "    }\n",
       "</style>\n",
       "<table border=\"1\" class=\"dataframe\">\n",
       "  <thead>\n",
       "    <tr style=\"text-align: right;\">\n",
       "      <th></th>\n",
       "      <th>Precision</th>\n",
       "      <th>Recall</th>\n",
       "      <th>F1 Score</th>\n",
       "      <th>Support</th>\n",
       "    </tr>\n",
       "  </thead>\n",
       "  <tbody>\n",
       "    <tr>\n",
       "      <th>(False, False)</th>\n",
       "      <td>0.943099</td>\n",
       "      <td>0.993622</td>\n",
       "      <td>0.967702</td>\n",
       "      <td>784</td>\n",
       "    </tr>\n",
       "    <tr>\n",
       "      <th>(False, True)</th>\n",
       "      <td>1.000000</td>\n",
       "      <td>0.166667</td>\n",
       "      <td>0.285714</td>\n",
       "      <td>12</td>\n",
       "    </tr>\n",
       "    <tr>\n",
       "      <th>(True, True)</th>\n",
       "      <td>0.946309</td>\n",
       "      <td>0.779006</td>\n",
       "      <td>0.854545</td>\n",
       "      <td>181</td>\n",
       "    </tr>\n",
       "  </tbody>\n",
       "</table>\n",
       "</div>"
      ],
      "text/plain": [
       "                Precision    Recall  F1 Score  Support\n",
       "(False, False)   0.943099  0.993622  0.967702      784\n",
       "(False, True)    1.000000  0.166667  0.285714       12\n",
       "(True, True)     0.946309  0.779006  0.854545      181"
      ]
     },
     "execution_count": 14,
     "metadata": {},
     "output_type": "execute_result"
    }
   ],
   "source": [
    "evaluate(model, X, mclass_diff, comparer.class_names);"
   ]
  },
  {
   "cell_type": "markdown",
   "id": "26cdbccb-df26-4dd9-b494-5ca745ec71f5",
   "metadata": {},
   "source": [
    "## Tree with Depth 6"
   ]
  },
  {
   "cell_type": "code",
   "execution_count": 15,
   "id": "f0ecd516-dbe3-43da-8c6e-072315a76948",
   "metadata": {},
   "outputs": [
    {
     "name": "stdout",
     "output_type": "stream",
     "text": [
      "CPU times: user 3.58 ms, sys: 1.77 ms, total: 5.35 ms\n",
      "Wall time: 6.41 ms\n"
     ]
    }
   ],
   "source": [
    "%%time\n",
    "model = train_surrogate_tree(X, mclass_diff, max_depth=6)"
   ]
  },
  {
   "cell_type": "code",
   "execution_count": 16,
   "id": "7202a402-bc5b-4133-9873-07147ff01a26",
   "metadata": {},
   "outputs": [
    {
     "name": "stdout",
     "output_type": "stream",
     "text": [
      "                precision    recall  f1-score   support\n",
      "\n",
      "(False, False)       0.98      0.98      0.98       784\n",
      " (False, True)       1.00      0.25      0.40        12\n",
      "  (True, True)       0.88      0.94      0.91       181\n",
      "\n",
      "      accuracy                           0.96       977\n",
      "     macro avg       0.95      0.72      0.76       977\n",
      "  weighted avg       0.96      0.96      0.96       977\n",
      "\n"
     ]
    },
    {
     "data": {
      "text/html": [
       "<div>\n",
       "<style scoped>\n",
       "    .dataframe tbody tr th:only-of-type {\n",
       "        vertical-align: middle;\n",
       "    }\n",
       "\n",
       "    .dataframe tbody tr th {\n",
       "        vertical-align: top;\n",
       "    }\n",
       "\n",
       "    .dataframe thead th {\n",
       "        text-align: right;\n",
       "    }\n",
       "</style>\n",
       "<table border=\"1\" class=\"dataframe\">\n",
       "  <thead>\n",
       "    <tr style=\"text-align: right;\">\n",
       "      <th></th>\n",
       "      <th>Precision</th>\n",
       "      <th>Recall</th>\n",
       "      <th>F1 Score</th>\n",
       "      <th>Support</th>\n",
       "    </tr>\n",
       "  </thead>\n",
       "  <tbody>\n",
       "    <tr>\n",
       "      <th>(False, False)</th>\n",
       "      <td>0.984596</td>\n",
       "      <td>0.978316</td>\n",
       "      <td>0.981446</td>\n",
       "      <td>784</td>\n",
       "    </tr>\n",
       "    <tr>\n",
       "      <th>(False, True)</th>\n",
       "      <td>1.000000</td>\n",
       "      <td>0.250000</td>\n",
       "      <td>0.400000</td>\n",
       "      <td>12</td>\n",
       "    </tr>\n",
       "    <tr>\n",
       "      <th>(True, True)</th>\n",
       "      <td>0.876923</td>\n",
       "      <td>0.944751</td>\n",
       "      <td>0.909574</td>\n",
       "      <td>181</td>\n",
       "    </tr>\n",
       "  </tbody>\n",
       "</table>\n",
       "</div>"
      ],
      "text/plain": [
       "                Precision    Recall  F1 Score  Support\n",
       "(False, False)   0.984596  0.978316  0.981446      784\n",
       "(False, True)    1.000000  0.250000  0.400000       12\n",
       "(True, True)     0.876923  0.944751  0.909574      181"
      ]
     },
     "execution_count": 16,
     "metadata": {},
     "output_type": "execute_result"
    }
   ],
   "source": [
    "evaluate(model, X, mclass_diff, comparer.class_names);"
   ]
  },
  {
   "cell_type": "markdown",
   "id": "6087824c-9f1b-4c6a-ad36-0d69403eb0cd",
   "metadata": {},
   "source": [
    "## Tree with Depth 7"
   ]
  },
  {
   "cell_type": "code",
   "execution_count": 17,
   "id": "0af48fd8-c52e-47e4-aa9d-404f6f2aede5",
   "metadata": {},
   "outputs": [
    {
     "name": "stdout",
     "output_type": "stream",
     "text": [
      "CPU times: user 3.73 ms, sys: 1.95 ms, total: 5.68 ms\n",
      "Wall time: 5.58 ms\n"
     ]
    }
   ],
   "source": [
    "%%time\n",
    "model = train_surrogate_tree(X, mclass_diff, max_depth=7)"
   ]
  },
  {
   "cell_type": "code",
   "execution_count": 18,
   "id": "ffcbd8bf-6c60-455b-b2c7-f143018aa3de",
   "metadata": {},
   "outputs": [
    {
     "name": "stdout",
     "output_type": "stream",
     "text": [
      "                precision    recall  f1-score   support\n",
      "\n",
      "(False, False)       0.99      0.98      0.99       784\n",
      " (False, True)       1.00      0.25      0.40        12\n",
      "  (True, True)       0.90      0.96      0.93       181\n",
      "\n",
      "      accuracy                           0.97       977\n",
      "     macro avg       0.96      0.73      0.77       977\n",
      "  weighted avg       0.97      0.97      0.97       977\n",
      "\n"
     ]
    },
    {
     "data": {
      "text/html": [
       "<div>\n",
       "<style scoped>\n",
       "    .dataframe tbody tr th:only-of-type {\n",
       "        vertical-align: middle;\n",
       "    }\n",
       "\n",
       "    .dataframe tbody tr th {\n",
       "        vertical-align: top;\n",
       "    }\n",
       "\n",
       "    .dataframe thead th {\n",
       "        text-align: right;\n",
       "    }\n",
       "</style>\n",
       "<table border=\"1\" class=\"dataframe\">\n",
       "  <thead>\n",
       "    <tr style=\"text-align: right;\">\n",
       "      <th></th>\n",
       "      <th>Precision</th>\n",
       "      <th>Recall</th>\n",
       "      <th>F1 Score</th>\n",
       "      <th>Support</th>\n",
       "    </tr>\n",
       "  </thead>\n",
       "  <tbody>\n",
       "    <tr>\n",
       "      <th>(False, False)</th>\n",
       "      <td>0.987212</td>\n",
       "      <td>0.984694</td>\n",
       "      <td>0.985951</td>\n",
       "      <td>784</td>\n",
       "    </tr>\n",
       "    <tr>\n",
       "      <th>(False, True)</th>\n",
       "      <td>1.000000</td>\n",
       "      <td>0.250000</td>\n",
       "      <td>0.400000</td>\n",
       "      <td>12</td>\n",
       "    </tr>\n",
       "    <tr>\n",
       "      <th>(True, True)</th>\n",
       "      <td>0.901042</td>\n",
       "      <td>0.955801</td>\n",
       "      <td>0.927614</td>\n",
       "      <td>181</td>\n",
       "    </tr>\n",
       "  </tbody>\n",
       "</table>\n",
       "</div>"
      ],
      "text/plain": [
       "                Precision    Recall  F1 Score  Support\n",
       "(False, False)   0.987212  0.984694  0.985951      784\n",
       "(False, True)    1.000000  0.250000  0.400000       12\n",
       "(True, True)     0.901042  0.955801  0.927614      181"
      ]
     },
     "execution_count": 18,
     "metadata": {},
     "output_type": "execute_result"
    }
   ],
   "source": [
    "evaluate(model, X, mclass_diff, comparer.class_names);"
   ]
  },
  {
   "cell_type": "markdown",
   "id": "bc4eeb44-78ec-4e7d-bceb-a55a07542dcb",
   "metadata": {},
   "source": [
    "## Tree with Depth 8"
   ]
  },
  {
   "cell_type": "code",
   "execution_count": 19,
   "id": "80f278d1-4943-4245-ab4e-926834773153",
   "metadata": {},
   "outputs": [
    {
     "name": "stdout",
     "output_type": "stream",
     "text": [
      "CPU times: user 3.82 ms, sys: 1.93 ms, total: 5.75 ms\n",
      "Wall time: 5.03 ms\n"
     ]
    }
   ],
   "source": [
    "%%time\n",
    "model = train_surrogate_tree(X, mclass_diff, max_depth=8)"
   ]
  },
  {
   "cell_type": "code",
   "execution_count": 20,
   "id": "238a90b6-c68b-4802-a7e8-0781e070d0d9",
   "metadata": {},
   "outputs": [
    {
     "name": "stdout",
     "output_type": "stream",
     "text": [
      "                precision    recall  f1-score   support\n",
      "\n",
      "(False, False)       0.99      0.98      0.99       784\n",
      " (False, True)       0.73      0.67      0.70        12\n",
      "  (True, True)       0.93      0.95      0.94       181\n",
      "\n",
      "      accuracy                           0.97       977\n",
      "     macro avg       0.88      0.87      0.87       977\n",
      "  weighted avg       0.97      0.97      0.97       977\n",
      "\n"
     ]
    },
    {
     "data": {
      "text/html": [
       "<div>\n",
       "<style scoped>\n",
       "    .dataframe tbody tr th:only-of-type {\n",
       "        vertical-align: middle;\n",
       "    }\n",
       "\n",
       "    .dataframe tbody tr th {\n",
       "        vertical-align: top;\n",
       "    }\n",
       "\n",
       "    .dataframe thead th {\n",
       "        text-align: right;\n",
       "    }\n",
       "</style>\n",
       "<table border=\"1\" class=\"dataframe\">\n",
       "  <thead>\n",
       "    <tr style=\"text-align: right;\">\n",
       "      <th></th>\n",
       "      <th>Precision</th>\n",
       "      <th>Recall</th>\n",
       "      <th>F1 Score</th>\n",
       "      <th>Support</th>\n",
       "    </tr>\n",
       "  </thead>\n",
       "  <tbody>\n",
       "    <tr>\n",
       "      <th>(False, False)</th>\n",
       "      <td>0.988476</td>\n",
       "      <td>0.984694</td>\n",
       "      <td>0.986581</td>\n",
       "      <td>784</td>\n",
       "    </tr>\n",
       "    <tr>\n",
       "      <th>(False, True)</th>\n",
       "      <td>0.727273</td>\n",
       "      <td>0.666667</td>\n",
       "      <td>0.695652</td>\n",
       "      <td>12</td>\n",
       "    </tr>\n",
       "    <tr>\n",
       "      <th>(True, True)</th>\n",
       "      <td>0.929730</td>\n",
       "      <td>0.950276</td>\n",
       "      <td>0.939891</td>\n",
       "      <td>181</td>\n",
       "    </tr>\n",
       "  </tbody>\n",
       "</table>\n",
       "</div>"
      ],
      "text/plain": [
       "                Precision    Recall  F1 Score  Support\n",
       "(False, False)   0.988476  0.984694  0.986581      784\n",
       "(False, True)    0.727273  0.666667  0.695652       12\n",
       "(True, True)     0.929730  0.950276  0.939891      181"
      ]
     },
     "execution_count": 20,
     "metadata": {},
     "output_type": "execute_result"
    }
   ],
   "source": [
    "evaluate(model, X, mclass_diff, comparer.class_names);"
   ]
  },
  {
   "cell_type": "markdown",
   "id": "70184191-2a2c-4d86-8dbd-5932b957858f",
   "metadata": {},
   "source": [
    "## Tree with Depth 9"
   ]
  },
  {
   "cell_type": "code",
   "execution_count": 21,
   "id": "0bfeebe2-6eb2-4786-8e64-9975c354242a",
   "metadata": {},
   "outputs": [
    {
     "name": "stdout",
     "output_type": "stream",
     "text": [
      "CPU times: user 3.75 ms, sys: 2.05 ms, total: 5.8 ms\n",
      "Wall time: 6.18 ms\n"
     ]
    }
   ],
   "source": [
    "%%time\n",
    "model = train_surrogate_tree(X, mclass_diff, max_depth=9)"
   ]
  },
  {
   "cell_type": "code",
   "execution_count": 22,
   "id": "365bf9b4-fd30-4cd5-b7b6-c05c046c47ed",
   "metadata": {},
   "outputs": [
    {
     "name": "stdout",
     "output_type": "stream",
     "text": [
      "                precision    recall  f1-score   support\n",
      "\n",
      "(False, False)       0.99      0.99      0.99       784\n",
      " (False, True)       1.00      0.67      0.80        12\n",
      "  (True, True)       0.96      0.97      0.96       181\n",
      "\n",
      "      accuracy                           0.98       977\n",
      "     macro avg       0.98      0.88      0.92       977\n",
      "  weighted avg       0.98      0.98      0.98       977\n",
      "\n"
     ]
    },
    {
     "data": {
      "text/html": [
       "<div>\n",
       "<style scoped>\n",
       "    .dataframe tbody tr th:only-of-type {\n",
       "        vertical-align: middle;\n",
       "    }\n",
       "\n",
       "    .dataframe tbody tr th {\n",
       "        vertical-align: top;\n",
       "    }\n",
       "\n",
       "    .dataframe thead th {\n",
       "        text-align: right;\n",
       "    }\n",
       "</style>\n",
       "<table border=\"1\" class=\"dataframe\">\n",
       "  <thead>\n",
       "    <tr style=\"text-align: right;\">\n",
       "      <th></th>\n",
       "      <th>Precision</th>\n",
       "      <th>Recall</th>\n",
       "      <th>F1 Score</th>\n",
       "      <th>Support</th>\n",
       "    </tr>\n",
       "  </thead>\n",
       "  <tbody>\n",
       "    <tr>\n",
       "      <th>(False, False)</th>\n",
       "      <td>0.991083</td>\n",
       "      <td>0.992347</td>\n",
       "      <td>0.991714</td>\n",
       "      <td>784</td>\n",
       "    </tr>\n",
       "    <tr>\n",
       "      <th>(False, True)</th>\n",
       "      <td>1.000000</td>\n",
       "      <td>0.666667</td>\n",
       "      <td>0.800000</td>\n",
       "      <td>12</td>\n",
       "    </tr>\n",
       "    <tr>\n",
       "      <th>(True, True)</th>\n",
       "      <td>0.956522</td>\n",
       "      <td>0.972376</td>\n",
       "      <td>0.964384</td>\n",
       "      <td>181</td>\n",
       "    </tr>\n",
       "  </tbody>\n",
       "</table>\n",
       "</div>"
      ],
      "text/plain": [
       "                Precision    Recall  F1 Score  Support\n",
       "(False, False)   0.991083  0.992347  0.991714      784\n",
       "(False, True)    1.000000  0.666667  0.800000       12\n",
       "(True, True)     0.956522  0.972376  0.964384      181"
      ]
     },
     "execution_count": 22,
     "metadata": {},
     "output_type": "execute_result"
    }
   ],
   "source": [
    "evaluate(model, X, mclass_diff, comparer.class_names);"
   ]
  },
  {
   "cell_type": "markdown",
   "id": "f24779d6-ead4-461b-b524-ecbf3bd7d11b",
   "metadata": {},
   "source": [
    "## Tree with Depth 10"
   ]
  },
  {
   "cell_type": "code",
   "execution_count": 23,
   "id": "917197a9-f805-436f-b14a-c22ccc9b0436",
   "metadata": {},
   "outputs": [
    {
     "name": "stdout",
     "output_type": "stream",
     "text": [
      "CPU times: user 3.82 ms, sys: 1.42 ms, total: 5.24 ms\n",
      "Wall time: 7.36 ms\n"
     ]
    }
   ],
   "source": [
    "%%time\n",
    "model = train_surrogate_tree(X, mclass_diff, max_depth=10)"
   ]
  },
  {
   "cell_type": "code",
   "execution_count": 24,
   "id": "4bef9a0a-3798-4054-bf11-a9ec51dbefed",
   "metadata": {},
   "outputs": [
    {
     "name": "stdout",
     "output_type": "stream",
     "text": [
      "                precision    recall  f1-score   support\n",
      "\n",
      "(False, False)       1.00      0.99      1.00       784\n",
      " (False, True)       1.00      0.75      0.86        12\n",
      "  (True, True)       0.96      0.99      0.98       181\n",
      "\n",
      "      accuracy                           0.99       977\n",
      "     macro avg       0.99      0.91      0.94       977\n",
      "  weighted avg       0.99      0.99      0.99       977\n",
      "\n"
     ]
    },
    {
     "data": {
      "text/html": [
       "<div>\n",
       "<style scoped>\n",
       "    .dataframe tbody tr th:only-of-type {\n",
       "        vertical-align: middle;\n",
       "    }\n",
       "\n",
       "    .dataframe tbody tr th {\n",
       "        vertical-align: top;\n",
       "    }\n",
       "\n",
       "    .dataframe thead th {\n",
       "        text-align: right;\n",
       "    }\n",
       "</style>\n",
       "<table border=\"1\" class=\"dataframe\">\n",
       "  <thead>\n",
       "    <tr style=\"text-align: right;\">\n",
       "      <th></th>\n",
       "      <th>Precision</th>\n",
       "      <th>Recall</th>\n",
       "      <th>F1 Score</th>\n",
       "      <th>Support</th>\n",
       "    </tr>\n",
       "  </thead>\n",
       "  <tbody>\n",
       "    <tr>\n",
       "      <th>(False, False)</th>\n",
       "      <td>0.997439</td>\n",
       "      <td>0.993622</td>\n",
       "      <td>0.995527</td>\n",
       "      <td>784</td>\n",
       "    </tr>\n",
       "    <tr>\n",
       "      <th>(False, True)</th>\n",
       "      <td>1.000000</td>\n",
       "      <td>0.750000</td>\n",
       "      <td>0.857143</td>\n",
       "      <td>12</td>\n",
       "    </tr>\n",
       "    <tr>\n",
       "      <th>(True, True)</th>\n",
       "      <td>0.962567</td>\n",
       "      <td>0.994475</td>\n",
       "      <td>0.978261</td>\n",
       "      <td>181</td>\n",
       "    </tr>\n",
       "  </tbody>\n",
       "</table>\n",
       "</div>"
      ],
      "text/plain": [
       "                Precision    Recall  F1 Score  Support\n",
       "(False, False)   0.997439  0.993622  0.995527      784\n",
       "(False, True)    1.000000  0.750000  0.857143       12\n",
       "(True, True)     0.962567  0.994475  0.978261      181"
      ]
     },
     "execution_count": 24,
     "metadata": {},
     "output_type": "execute_result"
    }
   ],
   "source": [
    "evaluate(model, X, mclass_diff, comparer.class_names);"
   ]
  },
  {
   "cell_type": "markdown",
   "id": "7f570806-cd8c-43e6-a62c-96d024399bd4",
   "metadata": {},
   "source": [
    "## Tree with Depth 11"
   ]
  },
  {
   "cell_type": "code",
   "execution_count": 25,
   "id": "18a23a69-21ea-45c8-a665-4b9d096f253f",
   "metadata": {},
   "outputs": [
    {
     "name": "stdout",
     "output_type": "stream",
     "text": [
      "CPU times: user 4.45 ms, sys: 2.55 ms, total: 7 ms\n",
      "Wall time: 6.66 ms\n"
     ]
    }
   ],
   "source": [
    "%%time\n",
    "model = train_surrogate_tree(X, mclass_diff, max_depth=11)"
   ]
  },
  {
   "cell_type": "code",
   "execution_count": 26,
   "id": "7fa09118-999f-4e3b-9854-3d297f1744af",
   "metadata": {},
   "outputs": [
    {
     "name": "stdout",
     "output_type": "stream",
     "text": [
      "                precision    recall  f1-score   support\n",
      "\n",
      "(False, False)       1.00      1.00      1.00       784\n",
      " (False, True)       1.00      0.75      0.86        12\n",
      "  (True, True)       0.98      0.99      0.99       181\n",
      "\n",
      "      accuracy                           0.99       977\n",
      "     macro avg       0.99      0.91      0.95       977\n",
      "  weighted avg       0.99      0.99      0.99       977\n",
      "\n"
     ]
    },
    {
     "data": {
      "text/html": [
       "<div>\n",
       "<style scoped>\n",
       "    .dataframe tbody tr th:only-of-type {\n",
       "        vertical-align: middle;\n",
       "    }\n",
       "\n",
       "    .dataframe tbody tr th {\n",
       "        vertical-align: top;\n",
       "    }\n",
       "\n",
       "    .dataframe thead th {\n",
       "        text-align: right;\n",
       "    }\n",
       "</style>\n",
       "<table border=\"1\" class=\"dataframe\">\n",
       "  <thead>\n",
       "    <tr style=\"text-align: right;\">\n",
       "      <th></th>\n",
       "      <th>Precision</th>\n",
       "      <th>Recall</th>\n",
       "      <th>F1 Score</th>\n",
       "      <th>Support</th>\n",
       "    </tr>\n",
       "  </thead>\n",
       "  <tbody>\n",
       "    <tr>\n",
       "      <th>(False, False)</th>\n",
       "      <td>0.997452</td>\n",
       "      <td>0.998724</td>\n",
       "      <td>0.998088</td>\n",
       "      <td>784</td>\n",
       "    </tr>\n",
       "    <tr>\n",
       "      <th>(False, True)</th>\n",
       "      <td>1.000000</td>\n",
       "      <td>0.750000</td>\n",
       "      <td>0.857143</td>\n",
       "      <td>12</td>\n",
       "    </tr>\n",
       "    <tr>\n",
       "      <th>(True, True)</th>\n",
       "      <td>0.983607</td>\n",
       "      <td>0.994475</td>\n",
       "      <td>0.989011</td>\n",
       "      <td>181</td>\n",
       "    </tr>\n",
       "  </tbody>\n",
       "</table>\n",
       "</div>"
      ],
      "text/plain": [
       "                Precision    Recall  F1 Score  Support\n",
       "(False, False)   0.997452  0.998724  0.998088      784\n",
       "(False, True)    1.000000  0.750000  0.857143       12\n",
       "(True, True)     0.983607  0.994475  0.989011      181"
      ]
     },
     "execution_count": 26,
     "metadata": {},
     "output_type": "execute_result"
    }
   ],
   "source": [
    "evaluate(model, X, mclass_diff, comparer.class_names);"
   ]
  },
  {
   "cell_type": "markdown",
   "id": "e87a40e5-ea3f-4aec-948a-84a2c3929b78",
   "metadata": {},
   "source": [
    "## Tree with Depth 12"
   ]
  },
  {
   "cell_type": "code",
   "execution_count": 27,
   "id": "0b5845fd-af66-4b93-bdb3-b06aaee7526e",
   "metadata": {},
   "outputs": [
    {
     "name": "stdout",
     "output_type": "stream",
     "text": [
      "CPU times: user 3.4 ms, sys: 1.79 ms, total: 5.19 ms\n",
      "Wall time: 4.76 ms\n"
     ]
    }
   ],
   "source": [
    "%%time\n",
    "model = train_surrogate_tree(X, mclass_diff, max_depth=12)"
   ]
  },
  {
   "cell_type": "code",
   "execution_count": 28,
   "id": "cc5dd3c4-bf27-4c0f-b078-01de98434ebe",
   "metadata": {},
   "outputs": [
    {
     "name": "stdout",
     "output_type": "stream",
     "text": [
      "                precision    recall  f1-score   support\n",
      "\n",
      "(False, False)       1.00      1.00      1.00       784\n",
      " (False, True)       0.92      0.92      0.92        12\n",
      "  (True, True)       1.00      0.99      1.00       181\n",
      "\n",
      "      accuracy                           1.00       977\n",
      "     macro avg       0.97      0.97      0.97       977\n",
      "  weighted avg       1.00      1.00      1.00       977\n",
      "\n"
     ]
    },
    {
     "data": {
      "text/html": [
       "<div>\n",
       "<style scoped>\n",
       "    .dataframe tbody tr th:only-of-type {\n",
       "        vertical-align: middle;\n",
       "    }\n",
       "\n",
       "    .dataframe tbody tr th {\n",
       "        vertical-align: top;\n",
       "    }\n",
       "\n",
       "    .dataframe thead th {\n",
       "        text-align: right;\n",
       "    }\n",
       "</style>\n",
       "<table border=\"1\" class=\"dataframe\">\n",
       "  <thead>\n",
       "    <tr style=\"text-align: right;\">\n",
       "      <th></th>\n",
       "      <th>Precision</th>\n",
       "      <th>Recall</th>\n",
       "      <th>F1 Score</th>\n",
       "      <th>Support</th>\n",
       "    </tr>\n",
       "  </thead>\n",
       "  <tbody>\n",
       "    <tr>\n",
       "      <th>(False, False)</th>\n",
       "      <td>0.998726</td>\n",
       "      <td>1.000000</td>\n",
       "      <td>0.999363</td>\n",
       "      <td>784</td>\n",
       "    </tr>\n",
       "    <tr>\n",
       "      <th>(False, True)</th>\n",
       "      <td>0.916667</td>\n",
       "      <td>0.916667</td>\n",
       "      <td>0.916667</td>\n",
       "      <td>12</td>\n",
       "    </tr>\n",
       "    <tr>\n",
       "      <th>(True, True)</th>\n",
       "      <td>1.000000</td>\n",
       "      <td>0.994475</td>\n",
       "      <td>0.997230</td>\n",
       "      <td>181</td>\n",
       "    </tr>\n",
       "  </tbody>\n",
       "</table>\n",
       "</div>"
      ],
      "text/plain": [
       "                Precision    Recall  F1 Score  Support\n",
       "(False, False)   0.998726  1.000000  0.999363      784\n",
       "(False, True)    0.916667  0.916667  0.916667       12\n",
       "(True, True)     1.000000  0.994475  0.997230      181"
      ]
     },
     "execution_count": 28,
     "metadata": {},
     "output_type": "execute_result"
    }
   ],
   "source": [
    "evaluate(model, X, mclass_diff, comparer.class_names);"
   ]
  },
  {
   "cell_type": "markdown",
   "id": "2822d389-d129-46fc-9308-7d4b617da93d",
   "metadata": {},
   "source": [
    "## Tree with Depth 13"
   ]
  },
  {
   "cell_type": "code",
   "execution_count": 29,
   "id": "976289c4-f754-49a6-9543-f52cac3851a3",
   "metadata": {},
   "outputs": [
    {
     "name": "stdout",
     "output_type": "stream",
     "text": [
      "CPU times: user 3.49 ms, sys: 1.5 ms, total: 4.99 ms\n",
      "Wall time: 5.15 ms\n"
     ]
    }
   ],
   "source": [
    "%%time\n",
    "max_depth = 13\n",
    "model = train_surrogate_tree(X, mclass_diff, max_depth=max_depth)"
   ]
  },
  {
   "cell_type": "code",
   "execution_count": 30,
   "id": "741fc19e-1278-4649-abe4-b5f8d94817f8",
   "metadata": {},
   "outputs": [
    {
     "name": "stdout",
     "output_type": "stream",
     "text": [
      "                precision    recall  f1-score   support\n",
      "\n",
      "(False, False)       1.00      1.00      1.00       784\n",
      " (False, True)       1.00      1.00      1.00        12\n",
      "  (True, True)       1.00      1.00      1.00       181\n",
      "\n",
      "      accuracy                           1.00       977\n",
      "     macro avg       1.00      1.00      1.00       977\n",
      "  weighted avg       1.00      1.00      1.00       977\n",
      "\n"
     ]
    }
   ],
   "source": [
    "evaluate(model, X, mclass_diff, comparer.class_names);"
   ]
  },
  {
   "cell_type": "code",
   "execution_count": 31,
   "id": "180724e4-ae4c-4346-a091-0877c7a21ae0",
   "metadata": {},
   "outputs": [
    {
     "data": {
      "image/png": "[encoded data removed]",
      "text/plain": [
       "<Figure size 360x432 with 1 Axes>"
      ]
     },
     "metadata": {
      "needs_background": "light"
     },
     "output_type": "display_data"
    }
   ],
   "source": [
    "feature_importances, feature_order = get_feature_importances(model)\n",
    "plot_feature_importances(feature_names, feature_importances, feature_order, figsize=(5,6))"
   ]
  },
  {
   "cell_type": "code",
   "execution_count": 32,
   "id": "0515e8ec-2e83-4b47-96a3-ed925f25c0fc",
   "metadata": {},
   "outputs": [
    {
     "name": "stdout",
     "output_type": "stream",
     "text": [
      "1. Age > 59.0 and 9.5 < `Education-Num` <= 12.5 and Occupation <= 13.5 and Relationship > 3.5 and `Capital Gain` <= 5095.5 and 37.5 < `Hours per week` <= 42.5 => (False, True) [0, 3, 0]\n",
      "2. 42.5 < Age <= 59.0 and 2.5 < Workclass <= 5.5 and 9.5 < `Education-Num` <= 12.5 and Occupation <= 3.5 and Relationship > 3.5 and `Capital Gain` <= 5095.5 and 37.5 < `Hours per week` <= 41.5 => (False, True) [0, 2, 0]\n",
      "3. 36.5 < Age <= 37.5 and `Education-Num` > 12.5 and Occupation > 4.0 and Relationship > 3.5 and 31.0 < `Hours per week` <= 50.0 and Country > 14.0 => (False, True) [0, 1, 0]\n",
      "4. 27.0 < Age <= 31.5 and `Education-Num` > 13.5 and Occupation > 3.5 and Relationship > 3.5 => (False, True) [0, 1, 0]\n",
      "5. 27.0 < Age <= 31.5 and 12.5 < `Education-Num` <= 13.5 and 6.0 < Occupation <= 9.0 and Relationship > 3.5 => (False, True) [0, 1, 0]\n",
      "6. 46.5 < Age <= 50.5 and Workclass > 4.5 and `Education-Num` <= 9.5 and Relationship > 3.5 and `Capital Gain` <= 2878.0 and `Capital Loss` <= 1779.5 and `Hours per week` <= 52.5 => (False, True) [0, 1, 0]\n",
      "7. 49.5 < Age <= 50.5 and Workclass <= 4.5 and `Education-Num` <= 9.5 and 3.5 < Occupation <= 5.0 and Relationship > 3.5 and `Capital Gain` <= 2878.0 and `Capital Loss` <= 1779.5 and `Hours per week` <= 52.5 => (False, True) [0, 1, 0]\n",
      "8. `Education-Num` > 11.5 and Relationship <= 3.5 and 5192.0 < `Capital Gain` <= 7731.5 and `Hours per week` <= 42.5 => (False, True) [0, 1, 0]\n",
      "9. `Education-Num` > 14.5 and `Marital Status` > 4.5 and Relationship <= 3.5 and `Capital Gain` <= 5192.0 => (False, True) [0, 1, 0]\n"
     ]
    }
   ],
   "source": [
    "constraints, rules, class_occurences, labels, instance_indices_per_rule =\\\n",
    "    extract_rules(model, feature_names, comparer.difference_classes, X, mclass_diff)\n",
    "print_rules(rules, class_occurences, comparer.class_names, labels)"
   ]
  },
  {
   "cell_type": "markdown",
   "id": "52c8f2a6-fd07-479f-b397-74f544fb16e6",
   "metadata": {},
   "source": [
    "### Evaluation"
   ]
  },
  {
   "cell_type": "code",
   "execution_count": 33,
   "id": "bf8beb8b-668c-4980-9332-2e54bacaa459",
   "metadata": {},
   "outputs": [],
   "source": [
    "constraints_01 = [constraint for constraint, label in zip(constraints, labels) if label == comparer.check_class('(False, True)')[0]]"
   ]
  },
  {
   "cell_type": "code",
   "execution_count": 34,
   "id": "873e94eb-8c78-46d3-8563-171c53459caf",
   "metadata": {},
   "outputs": [],
   "source": [
    "instance_indices_per_rule_01 = [instance_indices for instance_indices, label in zip(instance_indices_per_rule, labels) if label == comparer.check_class('(False, True)')[0]]"
   ]
  },
  {
   "cell_type": "markdown",
   "id": "dff309aa-f0c3-462e-9ba4-b094ab85c546",
   "metadata": {},
   "source": [
    "#### Global Fidelity"
   ]
  },
  {
   "cell_type": "code",
   "execution_count": 35,
   "id": "df5ee99b-fe4b-499d-b735-9ff48f893c56",
   "metadata": {},
   "outputs": [
    {
     "name": "stdout",
     "output_type": "stream",
     "text": [
      "                precision    recall  f1-score   support\n",
      "\n",
      "(False, False)       1.00      1.00      1.00       784\n",
      " (False, True)       1.00      1.00      1.00        12\n",
      "  (True, True)       1.00      1.00      1.00       181\n",
      "\n",
      "      accuracy                           1.00       977\n",
      "     macro avg       1.00      1.00      1.00       977\n",
      "  weighted avg       1.00      1.00      1.00       977\n",
      "\n"
     ]
    }
   ],
   "source": [
    "global_fidelities[max_depth] = evaluate(model, X, mclass_diff, comparer.class_names)"
   ]
  },
  {
   "cell_type": "markdown",
   "id": "9a67585e-ffd1-41cb-b9bf-22682f18e7cb",
   "metadata": {},
   "source": [
    "#### Counterfactual Fidelity Error"
   ]
  },
  {
   "cell_type": "code",
   "execution_count": 36,
   "id": "749d9d19-faa4-42dc-981e-4f3ad0dc317b",
   "metadata": {},
   "outputs": [
    {
     "name": "stderr",
     "output_type": "stream",
     "text": [
      "invalid value encountered in true_divide\n"
     ]
    }
   ],
   "source": [
    "errors, statistics = evaluate_counterfactual_fidelity(comparer, ground_truth_instance_indices_01,\n",
    "                                                      ground_truth_01, instance_indices_per_rule_01,\n",
    "                                                      constraints_01)"
   ]
  },
  {
   "cell_type": "code",
   "execution_count": 37,
   "id": "34bc1b4e-2f01-4b40-a913-94caf3c503ec",
   "metadata": {},
   "outputs": [
    {
     "data": {
      "text/html": [
       "<div>\n",
       "<style scoped>\n",
       "    .dataframe tbody tr th:only-of-type {\n",
       "        vertical-align: middle;\n",
       "    }\n",
       "\n",
       "    .dataframe tbody tr th {\n",
       "        vertical-align: top;\n",
       "    }\n",
       "\n",
       "    .dataframe thead th {\n",
       "        text-align: right;\n",
       "    }\n",
       "</style>\n",
       "<table border=\"1\" class=\"dataframe\">\n",
       "  <thead>\n",
       "    <tr style=\"text-align: right;\">\n",
       "      <th></th>\n",
       "      <th>RMSE</th>\n",
       "      <th>BMR</th>\n",
       "      <th>BAR</th>\n",
       "    </tr>\n",
       "  </thead>\n",
       "  <tbody>\n",
       "    <tr>\n",
       "      <th>Age</th>\n",
       "      <td>8.347243</td>\n",
       "      <td>0.291667</td>\n",
       "      <td>0.0</td>\n",
       "    </tr>\n",
       "    <tr>\n",
       "      <th>Workclass</th>\n",
       "      <td>1.707825</td>\n",
       "      <td>0.700000</td>\n",
       "      <td>0.0</td>\n",
       "    </tr>\n",
       "    <tr>\n",
       "      <th>Education-Num</th>\n",
       "      <td>0.600925</td>\n",
       "      <td>0.217391</td>\n",
       "      <td>0.0</td>\n",
       "    </tr>\n",
       "    <tr>\n",
       "      <th>Marital Status</th>\n",
       "      <td>NaN</td>\n",
       "      <td>1.000000</td>\n",
       "      <td>1.0</td>\n",
       "    </tr>\n",
       "    <tr>\n",
       "      <th>Occupation</th>\n",
       "      <td>5.614510</td>\n",
       "      <td>0.521739</td>\n",
       "      <td>0.0</td>\n",
       "    </tr>\n",
       "    <tr>\n",
       "      <th>Relationship</th>\n",
       "      <td>1.500000</td>\n",
       "      <td>0.368421</td>\n",
       "      <td>0.0</td>\n",
       "    </tr>\n",
       "    <tr>\n",
       "      <th>Race</th>\n",
       "      <td>NaN</td>\n",
       "      <td>1.000000</td>\n",
       "      <td>NaN</td>\n",
       "    </tr>\n",
       "    <tr>\n",
       "      <th>Sex</th>\n",
       "      <td>NaN</td>\n",
       "      <td>1.000000</td>\n",
       "      <td>NaN</td>\n",
       "    </tr>\n",
       "    <tr>\n",
       "      <th>Capital Gain</th>\n",
       "      <td>4119.923100</td>\n",
       "      <td>0.230769</td>\n",
       "      <td>0.0</td>\n",
       "    </tr>\n",
       "    <tr>\n",
       "      <th>Capital Loss</th>\n",
       "      <td>1048.500000</td>\n",
       "      <td>0.833333</td>\n",
       "      <td>0.0</td>\n",
       "    </tr>\n",
       "    <tr>\n",
       "      <th>Hours per week</th>\n",
       "      <td>5.355682</td>\n",
       "      <td>0.375000</td>\n",
       "      <td>0.0</td>\n",
       "    </tr>\n",
       "    <tr>\n",
       "      <th>Country</th>\n",
       "      <td>12.000000</td>\n",
       "      <td>0.909091</td>\n",
       "      <td>0.0</td>\n",
       "    </tr>\n",
       "  </tbody>\n",
       "</table>\n",
       "</div>"
      ],
      "text/plain": [
       "                       RMSE       BMR  BAR\n",
       "Age                8.347243  0.291667  0.0\n",
       "Workclass          1.707825  0.700000  0.0\n",
       "Education-Num      0.600925  0.217391  0.0\n",
       "Marital Status          NaN  1.000000  1.0\n",
       "Occupation         5.614510  0.521739  0.0\n",
       "Relationship       1.500000  0.368421  0.0\n",
       "Race                    NaN  1.000000  NaN\n",
       "Sex                     NaN  1.000000  NaN\n",
       "Capital Gain    4119.923100  0.230769  0.0\n",
       "Capital Loss    1048.500000  0.833333  0.0\n",
       "Hours per week     5.355682  0.375000  0.0\n",
       "Country           12.000000  0.909091  0.0"
      ]
     },
     "execution_count": 37,
     "metadata": {},
     "output_type": "execute_result"
    }
   ],
   "source": [
    "local_fidelities[(max_depth, '(False, True)')] = statistics\n",
    "statistics"
   ]
  },
  {
   "cell_type": "code",
   "execution_count": 38,
   "id": "fc6b50a6-d5d8-46ac-912d-097600d35216",
   "metadata": {},
   "outputs": [
    {
     "data": {
      "text/html": [
       "<div>\n",
       "<style scoped>\n",
       "    .dataframe tbody tr th:only-of-type {\n",
       "        vertical-align: middle;\n",
       "    }\n",
       "\n",
       "    .dataframe tbody tr th {\n",
       "        vertical-align: top;\n",
       "    }\n",
       "\n",
       "    .dataframe thead th {\n",
       "        text-align: right;\n",
       "    }\n",
       "</style>\n",
       "<table border=\"1\" class=\"dataframe\">\n",
       "  <thead>\n",
       "    <tr style=\"text-align: right;\">\n",
       "      <th></th>\n",
       "      <th></th>\n",
       "      <th>Age</th>\n",
       "      <th>Workclass</th>\n",
       "      <th>Education-Num</th>\n",
       "      <th>Marital Status</th>\n",
       "      <th>Occupation</th>\n",
       "      <th>Relationship</th>\n",
       "      <th>Race</th>\n",
       "      <th>Sex</th>\n",
       "      <th>Capital Gain</th>\n",
       "      <th>Capital Loss</th>\n",
       "      <th>Hours per week</th>\n",
       "      <th>Country</th>\n",
       "    </tr>\n",
       "  </thead>\n",
       "  <tbody>\n",
       "    <tr>\n",
       "      <th rowspan=\"2\" valign=\"top\">701</th>\n",
       "      <th>lower</th>\n",
       "      <td>24.0</td>\n",
       "      <td>NaN</td>\n",
       "      <td>0.5</td>\n",
       "      <td>NaN</td>\n",
       "      <td>NaN</td>\n",
       "      <td>0.5</td>\n",
       "      <td>NaN</td>\n",
       "      <td>NaN</td>\n",
       "      <td>NaN</td>\n",
       "      <td>NaN</td>\n",
       "      <td>-1.5</td>\n",
       "      <td>NaN</td>\n",
       "    </tr>\n",
       "    <tr>\n",
       "      <th>upper</th>\n",
       "      <td>NaN</td>\n",
       "      <td>NaN</td>\n",
       "      <td>0.5</td>\n",
       "      <td>NaN</td>\n",
       "      <td>10.5</td>\n",
       "      <td>NaN</td>\n",
       "      <td>NaN</td>\n",
       "      <td>NaN</td>\n",
       "      <td>5039.5</td>\n",
       "      <td>NaN</td>\n",
       "      <td>1.5</td>\n",
       "      <td>NaN</td>\n",
       "    </tr>\n",
       "    <tr>\n",
       "      <th rowspan=\"2\" valign=\"top\">948</th>\n",
       "      <th>lower</th>\n",
       "      <td>16.0</td>\n",
       "      <td>NaN</td>\n",
       "      <td>0.5</td>\n",
       "      <td>NaN</td>\n",
       "      <td>NaN</td>\n",
       "      <td>0.5</td>\n",
       "      <td>NaN</td>\n",
       "      <td>NaN</td>\n",
       "      <td>NaN</td>\n",
       "      <td>NaN</td>\n",
       "      <td>-1.5</td>\n",
       "      <td>NaN</td>\n",
       "    </tr>\n",
       "    <tr>\n",
       "      <th>upper</th>\n",
       "      <td>NaN</td>\n",
       "      <td>NaN</td>\n",
       "      <td>0.5</td>\n",
       "      <td>NaN</td>\n",
       "      <td>10.5</td>\n",
       "      <td>NaN</td>\n",
       "      <td>NaN</td>\n",
       "      <td>NaN</td>\n",
       "      <td>5039.5</td>\n",
       "      <td>NaN</td>\n",
       "      <td>1.5</td>\n",
       "      <td>NaN</td>\n",
       "    </tr>\n",
       "    <tr>\n",
       "      <th rowspan=\"2\" valign=\"top\">961</th>\n",
       "      <th>lower</th>\n",
       "      <td>-2.0</td>\n",
       "      <td>NaN</td>\n",
       "      <td>0.5</td>\n",
       "      <td>NaN</td>\n",
       "      <td>NaN</td>\n",
       "      <td>0.5</td>\n",
       "      <td>NaN</td>\n",
       "      <td>NaN</td>\n",
       "      <td>NaN</td>\n",
       "      <td>NaN</td>\n",
       "      <td>-1.5</td>\n",
       "      <td>NaN</td>\n",
       "    </tr>\n",
       "    <tr>\n",
       "      <th>upper</th>\n",
       "      <td>NaN</td>\n",
       "      <td>NaN</td>\n",
       "      <td>0.5</td>\n",
       "      <td>NaN</td>\n",
       "      <td>9.5</td>\n",
       "      <td>NaN</td>\n",
       "      <td>NaN</td>\n",
       "      <td>NaN</td>\n",
       "      <td>5039.5</td>\n",
       "      <td>NaN</td>\n",
       "      <td>1.5</td>\n",
       "      <td>NaN</td>\n",
       "    </tr>\n",
       "    <tr>\n",
       "      <th rowspan=\"2\" valign=\"top\">64</th>\n",
       "      <th>lower</th>\n",
       "      <td>-0.5</td>\n",
       "      <td>1.5</td>\n",
       "      <td>0.5</td>\n",
       "      <td>NaN</td>\n",
       "      <td>NaN</td>\n",
       "      <td>0.5</td>\n",
       "      <td>NaN</td>\n",
       "      <td>NaN</td>\n",
       "      <td>NaN</td>\n",
       "      <td>NaN</td>\n",
       "      <td>-1.5</td>\n",
       "      <td>NaN</td>\n",
       "    </tr>\n",
       "    <tr>\n",
       "      <th>upper</th>\n",
       "      <td>-2.0</td>\n",
       "      <td>0.5</td>\n",
       "      <td>0.5</td>\n",
       "      <td>NaN</td>\n",
       "      <td>0.5</td>\n",
       "      <td>NaN</td>\n",
       "      <td>NaN</td>\n",
       "      <td>NaN</td>\n",
       "      <td>5039.5</td>\n",
       "      <td>NaN</td>\n",
       "      <td>0.5</td>\n",
       "      <td>NaN</td>\n",
       "    </tr>\n",
       "    <tr>\n",
       "      <th rowspan=\"2\" valign=\"top\">406</th>\n",
       "      <th>lower</th>\n",
       "      <td>-0.5</td>\n",
       "      <td>1.5</td>\n",
       "      <td>0.5</td>\n",
       "      <td>NaN</td>\n",
       "      <td>NaN</td>\n",
       "      <td>0.5</td>\n",
       "      <td>NaN</td>\n",
       "      <td>NaN</td>\n",
       "      <td>NaN</td>\n",
       "      <td>NaN</td>\n",
       "      <td>-1.5</td>\n",
       "      <td>NaN</td>\n",
       "    </tr>\n",
       "    <tr>\n",
       "      <th>upper</th>\n",
       "      <td>-2.0</td>\n",
       "      <td>0.5</td>\n",
       "      <td>0.5</td>\n",
       "      <td>NaN</td>\n",
       "      <td>0.5</td>\n",
       "      <td>NaN</td>\n",
       "      <td>NaN</td>\n",
       "      <td>NaN</td>\n",
       "      <td>5039.5</td>\n",
       "      <td>NaN</td>\n",
       "      <td>0.5</td>\n",
       "      <td>NaN</td>\n",
       "    </tr>\n",
       "    <tr>\n",
       "      <th rowspan=\"2\" valign=\"top\">70</th>\n",
       "      <th>lower</th>\n",
       "      <td>3.5</td>\n",
       "      <td>NaN</td>\n",
       "      <td>0.5</td>\n",
       "      <td>NaN</td>\n",
       "      <td>0.0</td>\n",
       "      <td>0.5</td>\n",
       "      <td>NaN</td>\n",
       "      <td>NaN</td>\n",
       "      <td>NaN</td>\n",
       "      <td>NaN</td>\n",
       "      <td>-8.0</td>\n",
       "      <td>12.0</td>\n",
       "    </tr>\n",
       "    <tr>\n",
       "      <th>upper</th>\n",
       "      <td>-5.5</td>\n",
       "      <td>NaN</td>\n",
       "      <td>NaN</td>\n",
       "      <td>NaN</td>\n",
       "      <td>NaN</td>\n",
       "      <td>NaN</td>\n",
       "      <td>NaN</td>\n",
       "      <td>NaN</td>\n",
       "      <td>NaN</td>\n",
       "      <td>NaN</td>\n",
       "      <td>9.0</td>\n",
       "      <td>NaN</td>\n",
       "    </tr>\n",
       "    <tr>\n",
       "      <th rowspan=\"2\" valign=\"top\">883</th>\n",
       "      <th>lower</th>\n",
       "      <td>0.0</td>\n",
       "      <td>NaN</td>\n",
       "      <td>0.5</td>\n",
       "      <td>NaN</td>\n",
       "      <td>-5.5</td>\n",
       "      <td>0.5</td>\n",
       "      <td>NaN</td>\n",
       "      <td>NaN</td>\n",
       "      <td>NaN</td>\n",
       "      <td>NaN</td>\n",
       "      <td>NaN</td>\n",
       "      <td>NaN</td>\n",
       "    </tr>\n",
       "    <tr>\n",
       "      <th>upper</th>\n",
       "      <td>2.5</td>\n",
       "      <td>NaN</td>\n",
       "      <td>NaN</td>\n",
       "      <td>NaN</td>\n",
       "      <td>NaN</td>\n",
       "      <td>NaN</td>\n",
       "      <td>NaN</td>\n",
       "      <td>NaN</td>\n",
       "      <td>NaN</td>\n",
       "      <td>NaN</td>\n",
       "      <td>NaN</td>\n",
       "      <td>NaN</td>\n",
       "    </tr>\n",
       "    <tr>\n",
       "      <th rowspan=\"2\" valign=\"top\">925</th>\n",
       "      <th>lower</th>\n",
       "      <td>-2.0</td>\n",
       "      <td>NaN</td>\n",
       "      <td>0.5</td>\n",
       "      <td>NaN</td>\n",
       "      <td>2.0</td>\n",
       "      <td>-0.5</td>\n",
       "      <td>NaN</td>\n",
       "      <td>NaN</td>\n",
       "      <td>NaN</td>\n",
       "      <td>NaN</td>\n",
       "      <td>NaN</td>\n",
       "      <td>NaN</td>\n",
       "    </tr>\n",
       "    <tr>\n",
       "      <th>upper</th>\n",
       "      <td>-3.5</td>\n",
       "      <td>NaN</td>\n",
       "      <td>-0.5</td>\n",
       "      <td>NaN</td>\n",
       "      <td>0.0</td>\n",
       "      <td>NaN</td>\n",
       "      <td>NaN</td>\n",
       "      <td>NaN</td>\n",
       "      <td>NaN</td>\n",
       "      <td>NaN</td>\n",
       "      <td>NaN</td>\n",
       "      <td>NaN</td>\n",
       "    </tr>\n",
       "    <tr>\n",
       "      <th rowspan=\"2\" valign=\"top\">484</th>\n",
       "      <th>lower</th>\n",
       "      <td>3.5</td>\n",
       "      <td>3.5</td>\n",
       "      <td>NaN</td>\n",
       "      <td>NaN</td>\n",
       "      <td>NaN</td>\n",
       "      <td>0.5</td>\n",
       "      <td>NaN</td>\n",
       "      <td>NaN</td>\n",
       "      <td>NaN</td>\n",
       "      <td>NaN</td>\n",
       "      <td>NaN</td>\n",
       "      <td>NaN</td>\n",
       "    </tr>\n",
       "    <tr>\n",
       "      <th>upper</th>\n",
       "      <td>-10.5</td>\n",
       "      <td>NaN</td>\n",
       "      <td>0.5</td>\n",
       "      <td>NaN</td>\n",
       "      <td>NaN</td>\n",
       "      <td>NaN</td>\n",
       "      <td>NaN</td>\n",
       "      <td>NaN</td>\n",
       "      <td>2822.0</td>\n",
       "      <td>1048.5</td>\n",
       "      <td>11.5</td>\n",
       "      <td>NaN</td>\n",
       "    </tr>\n",
       "    <tr>\n",
       "      <th rowspan=\"2\" valign=\"top\">744</th>\n",
       "      <th>lower</th>\n",
       "      <td>6.5</td>\n",
       "      <td>NaN</td>\n",
       "      <td>NaN</td>\n",
       "      <td>NaN</td>\n",
       "      <td>0.5</td>\n",
       "      <td>0.5</td>\n",
       "      <td>NaN</td>\n",
       "      <td>NaN</td>\n",
       "      <td>NaN</td>\n",
       "      <td>NaN</td>\n",
       "      <td>NaN</td>\n",
       "      <td>NaN</td>\n",
       "    </tr>\n",
       "    <tr>\n",
       "      <th>upper</th>\n",
       "      <td>-10.5</td>\n",
       "      <td>-0.5</td>\n",
       "      <td>0.5</td>\n",
       "      <td>NaN</td>\n",
       "      <td>1.0</td>\n",
       "      <td>NaN</td>\n",
       "      <td>NaN</td>\n",
       "      <td>NaN</td>\n",
       "      <td>2822.0</td>\n",
       "      <td>1048.5</td>\n",
       "      <td>11.5</td>\n",
       "      <td>NaN</td>\n",
       "    </tr>\n",
       "    <tr>\n",
       "      <th rowspan=\"2\" valign=\"top\">558</th>\n",
       "      <th>lower</th>\n",
       "      <td>NaN</td>\n",
       "      <td>NaN</td>\n",
       "      <td>-1.5</td>\n",
       "      <td>NaN</td>\n",
       "      <td>NaN</td>\n",
       "      <td>NaN</td>\n",
       "      <td>NaN</td>\n",
       "      <td>NaN</td>\n",
       "      <td>-124.0</td>\n",
       "      <td>NaN</td>\n",
       "      <td>NaN</td>\n",
       "      <td>NaN</td>\n",
       "    </tr>\n",
       "    <tr>\n",
       "      <th>upper</th>\n",
       "      <td>NaN</td>\n",
       "      <td>NaN</td>\n",
       "      <td>NaN</td>\n",
       "      <td>NaN</td>\n",
       "      <td>NaN</td>\n",
       "      <td>3.5</td>\n",
       "      <td>NaN</td>\n",
       "      <td>NaN</td>\n",
       "      <td>658.5</td>\n",
       "      <td>NaN</td>\n",
       "      <td>1.5</td>\n",
       "      <td>NaN</td>\n",
       "    </tr>\n",
       "    <tr>\n",
       "      <th rowspan=\"2\" valign=\"top\">531</th>\n",
       "      <th>lower</th>\n",
       "      <td>NaN</td>\n",
       "      <td>NaN</td>\n",
       "      <td>0.5</td>\n",
       "      <td>NaN</td>\n",
       "      <td>NaN</td>\n",
       "      <td>NaN</td>\n",
       "      <td>NaN</td>\n",
       "      <td>NaN</td>\n",
       "      <td>NaN</td>\n",
       "      <td>NaN</td>\n",
       "      <td>NaN</td>\n",
       "      <td>NaN</td>\n",
       "    </tr>\n",
       "    <tr>\n",
       "      <th>upper</th>\n",
       "      <td>NaN</td>\n",
       "      <td>NaN</td>\n",
       "      <td>NaN</td>\n",
       "      <td>NaN</td>\n",
       "      <td>NaN</td>\n",
       "      <td>3.5</td>\n",
       "      <td>NaN</td>\n",
       "      <td>NaN</td>\n",
       "      <td>5136.0</td>\n",
       "      <td>NaN</td>\n",
       "      <td>NaN</td>\n",
       "      <td>NaN</td>\n",
       "    </tr>\n",
       "  </tbody>\n",
       "</table>\n",
       "</div>"
      ],
      "text/plain": [
       "            Age  Workclass  Education-Num  Marital Status  Occupation  \\\n",
       "701 lower  24.0        NaN            0.5             NaN         NaN   \n",
       "    upper   NaN        NaN            0.5             NaN        10.5   \n",
       "948 lower  16.0        NaN            0.5             NaN         NaN   \n",
       "    upper   NaN        NaN            0.5             NaN        10.5   \n",
       "961 lower  -2.0        NaN            0.5             NaN         NaN   \n",
       "    upper   NaN        NaN            0.5             NaN         9.5   \n",
       "64  lower  -0.5        1.5            0.5             NaN         NaN   \n",
       "    upper  -2.0        0.5            0.5             NaN         0.5   \n",
       "406 lower  -0.5        1.5            0.5             NaN         NaN   \n",
       "    upper  -2.0        0.5            0.5             NaN         0.5   \n",
       "70  lower   3.5        NaN            0.5             NaN         0.0   \n",
       "    upper  -5.5        NaN            NaN             NaN         NaN   \n",
       "883 lower   0.0        NaN            0.5             NaN        -5.5   \n",
       "    upper   2.5        NaN            NaN             NaN         NaN   \n",
       "925 lower  -2.0        NaN            0.5             NaN         2.0   \n",
       "    upper  -3.5        NaN           -0.5             NaN         0.0   \n",
       "484 lower   3.5        3.5            NaN             NaN         NaN   \n",
       "    upper -10.5        NaN            0.5             NaN         NaN   \n",
       "744 lower   6.5        NaN            NaN             NaN         0.5   \n",
       "    upper -10.5       -0.5            0.5             NaN         1.0   \n",
       "558 lower   NaN        NaN           -1.5             NaN         NaN   \n",
       "    upper   NaN        NaN            NaN             NaN         NaN   \n",
       "531 lower   NaN        NaN            0.5             NaN         NaN   \n",
       "    upper   NaN        NaN            NaN             NaN         NaN   \n",
       "\n",
       "           Relationship  Race  Sex  Capital Gain  Capital Loss  \\\n",
       "701 lower           0.5   NaN  NaN           NaN           NaN   \n",
       "    upper           NaN   NaN  NaN        5039.5           NaN   \n",
       "948 lower           0.5   NaN  NaN           NaN           NaN   \n",
       "    upper           NaN   NaN  NaN        5039.5           NaN   \n",
       "961 lower           0.5   NaN  NaN           NaN           NaN   \n",
       "    upper           NaN   NaN  NaN        5039.5           NaN   \n",
       "64  lower           0.5   NaN  NaN           NaN           NaN   \n",
       "    upper           NaN   NaN  NaN        5039.5           NaN   \n",
       "406 lower           0.5   NaN  NaN           NaN           NaN   \n",
       "    upper           NaN   NaN  NaN        5039.5           NaN   \n",
       "70  lower           0.5   NaN  NaN           NaN           NaN   \n",
       "    upper           NaN   NaN  NaN           NaN           NaN   \n",
       "883 lower           0.5   NaN  NaN           NaN           NaN   \n",
       "    upper           NaN   NaN  NaN           NaN           NaN   \n",
       "925 lower          -0.5   NaN  NaN           NaN           NaN   \n",
       "    upper           NaN   NaN  NaN           NaN           NaN   \n",
       "484 lower           0.5   NaN  NaN           NaN           NaN   \n",
       "    upper           NaN   NaN  NaN        2822.0        1048.5   \n",
       "744 lower           0.5   NaN  NaN           NaN           NaN   \n",
       "    upper           NaN   NaN  NaN        2822.0        1048.5   \n",
       "558 lower           NaN   NaN  NaN        -124.0           NaN   \n",
       "    upper           3.5   NaN  NaN         658.5           NaN   \n",
       "531 lower           NaN   NaN  NaN           NaN           NaN   \n",
       "    upper           3.5   NaN  NaN        5136.0           NaN   \n",
       "\n",
       "           Hours per week  Country  \n",
       "701 lower            -1.5      NaN  \n",
       "    upper             1.5      NaN  \n",
       "948 lower            -1.5      NaN  \n",
       "    upper             1.5      NaN  \n",
       "961 lower            -1.5      NaN  \n",
       "    upper             1.5      NaN  \n",
       "64  lower            -1.5      NaN  \n",
       "    upper             0.5      NaN  \n",
       "406 lower            -1.5      NaN  \n",
       "    upper             0.5      NaN  \n",
       "70  lower            -8.0     12.0  \n",
       "    upper             9.0      NaN  \n",
       "883 lower             NaN      NaN  \n",
       "    upper             NaN      NaN  \n",
       "925 lower             NaN      NaN  \n",
       "    upper             NaN      NaN  \n",
       "484 lower             NaN      NaN  \n",
       "    upper            11.5      NaN  \n",
       "744 lower             NaN      NaN  \n",
       "    upper            11.5      NaN  \n",
       "558 lower             NaN      NaN  \n",
       "    upper             1.5      NaN  \n",
       "531 lower             NaN      NaN  \n",
       "    upper             NaN      NaN  "
      ]
     },
     "execution_count": 38,
     "metadata": {},
     "output_type": "execute_result"
    }
   ],
   "source": [
    "errors"
   ]
  },
  {
   "cell_type": "code",
   "execution_count": 39,
   "id": "e228be91-a85e-4827-bf6b-c16843c6a570",
   "metadata": {},
   "outputs": [
    {
     "data": {
      "text/plain": [
       "array([6])"
      ]
     },
     "execution_count": 39,
     "metadata": {},
     "output_type": "execute_result"
    }
   ],
   "source": [
    "RuleClassifier(feature_names, rules).apply(X[[484], :])"
   ]
  },
  {
   "cell_type": "code",
   "execution_count": 40,
   "id": "db5313f5-d057-47b2-b889-db28e93a9296",
   "metadata": {},
   "outputs": [
    {
     "data": {
      "text/plain": [
       "'46.5 < Age <= 50.5 and Workclass > 4.5 and `Education-Num` <= 9.5 and Relationship > 3.5 and `Capital Gain` <= 2878.0 and `Capital Loss` <= 1779.5 and `Hours per week` <= 52.5'"
      ]
     },
     "execution_count": 40,
     "metadata": {},
     "output_type": "execute_result"
    }
   ],
   "source": [
    "rules[6-1]"
   ]
  },
  {
   "cell_type": "code",
   "execution_count": 41,
   "id": "9f1393d2-f6b2-4835-968f-a524be5f3267",
   "metadata": {},
   "outputs": [
    {
     "data": {
      "text/plain": [
       "array(['(False, True)'], dtype='<U14')"
      ]
     },
     "execution_count": 41,
     "metadata": {},
     "output_type": "execute_result"
    }
   ],
   "source": [
    "X_test = X[[484], :]\n",
    "comparer.class_names[comparer.predict_mclass_diff(X_test)]"
   ]
  },
  {
   "cell_type": "code",
   "execution_count": 42,
   "id": "a02c865a-fde2-4f55-8a3e-14d43b6be857",
   "metadata": {},
   "outputs": [
    {
     "data": {
      "text/plain": [
       "array([40.])"
      ]
     },
     "execution_count": 42,
     "metadata": {},
     "output_type": "execute_result"
    }
   ],
   "source": [
    "X_test[:, comparer.check_feature('Hours per week')[0]]"
   ]
  },
  {
   "cell_type": "code",
   "execution_count": 43,
   "id": "78f0a5f7-ed66-4d86-bb3a-ec57e456cdd7",
   "metadata": {},
   "outputs": [
    {
     "data": {
      "text/plain": [
       "array(['(True, True)'], dtype='<U14')"
      ]
     },
     "execution_count": 43,
     "metadata": {},
     "output_type": "execute_result"
    }
   ],
   "source": [
    "X_test[:, comparer.check_feature('Hours per week')[0]] = 45\n",
    "comparer.class_names[comparer.predict_mclass_diff(X_test)]"
   ]
  },
  {
   "cell_type": "markdown",
   "id": "eba200ee-1d2c-4f00-b772-4a4d5d2818bd",
   "metadata": {},
   "source": [
    "#### Complexity"
   ]
  },
  {
   "cell_type": "code",
   "execution_count": 44,
   "id": "54cb2db9-a221-4a91-95eb-0d3d0a99469d",
   "metadata": {},
   "outputs": [
    {
     "data": {
      "text/plain": [
       "Rules           9\n",
       "Constraints    66\n",
       "dtype: int64"
      ]
     },
     "execution_count": 44,
     "metadata": {},
     "output_type": "execute_result"
    }
   ],
   "source": [
    "res = get_complexity(constraints_01)\n",
    "complexities[(max_depth, '(False, True)')] = res\n",
    "res"
   ]
  },
  {
   "cell_type": "markdown",
   "id": "ab05e3e3-34e8-4101-acdc-c33cb94200a2",
   "metadata": {},
   "source": [
    "#### Stability"
   ]
  },
  {
   "cell_type": "markdown",
   "id": "04cc41e6-7efa-40bf-a364-5d667f96eae3",
   "metadata": {},
   "source": [
    "Saving results for comparison in baseline.test notebook"
   ]
  },
  {
   "cell_type": "code",
   "execution_count": 45,
   "id": "63a16d7e-9227-4bf1-beef-61924b5ec5f7",
   "metadata": {},
   "outputs": [],
   "source": [
    "with open('explanation-baseline-orig.pickle', 'wb') as f:\n",
    "    pickle.dump((constraints_01, instance_indices_per_rule_01), f)"
   ]
  },
  {
   "cell_type": "markdown",
   "id": "977b068e-6a68-4054-bd84-6ce1b8db0411",
   "metadata": {},
   "source": [
    "# Summary"
   ]
  },
  {
   "cell_type": "code",
   "execution_count": 46,
   "id": "69c761fb-6373-4f19-806b-75e94af0f0a4",
   "metadata": {},
   "outputs": [],
   "source": [
    "def map_index(index):\n",
    "    class_, depth = index[0], index[1]\n",
    "    if depth == 13:\n",
    "        level = 'local'\n",
    "    else:\n",
    "        level = None\n",
    "    return (class_, level) if len(index) == 2 else (class_, level, index[2])"
   ]
  },
  {
   "cell_type": "markdown",
   "id": "c66c3036-110b-4c9d-a73c-fb589828ebd9",
   "metadata": {},
   "source": [
    "## Global Fidelity"
   ]
  },
  {
   "cell_type": "code",
   "execution_count": 47,
   "id": "0db1371f-6ce6-46d5-9f8b-f2066c105bd1",
   "metadata": {},
   "outputs": [
    {
     "data": {
      "text/html": [
       "<div>\n",
       "<style scoped>\n",
       "    .dataframe tbody tr th:only-of-type {\n",
       "        vertical-align: middle;\n",
       "    }\n",
       "\n",
       "    .dataframe tbody tr th {\n",
       "        vertical-align: top;\n",
       "    }\n",
       "\n",
       "    .dataframe thead th {\n",
       "        text-align: right;\n",
       "    }\n",
       "</style>\n",
       "<table border=\"1\" class=\"dataframe\">\n",
       "  <thead>\n",
       "    <tr style=\"text-align: right;\">\n",
       "      <th></th>\n",
       "      <th></th>\n",
       "      <th>Precision</th>\n",
       "      <th>Recall</th>\n",
       "      <th>F1 Score</th>\n",
       "      <th>Support</th>\n",
       "    </tr>\n",
       "    <tr>\n",
       "      <th>class</th>\n",
       "      <th>depth</th>\n",
       "      <th></th>\n",
       "      <th></th>\n",
       "      <th></th>\n",
       "      <th></th>\n",
       "    </tr>\n",
       "  </thead>\n",
       "  <tbody>\n",
       "    <tr>\n",
       "      <th>(False, True)</th>\n",
       "      <th>13</th>\n",
       "      <td>1.0</td>\n",
       "      <td>1.0</td>\n",
       "      <td>1.0</td>\n",
       "      <td>12</td>\n",
       "    </tr>\n",
       "  </tbody>\n",
       "</table>\n",
       "</div>"
      ],
      "text/plain": [
       "                     Precision  Recall  F1 Score  Support\n",
       "class         depth                                      \n",
       "(False, True) 13           1.0     1.0       1.0       12"
      ]
     },
     "execution_count": 47,
     "metadata": {},
     "output_type": "execute_result"
    }
   ],
   "source": [
    "global_fidelity = pd.concat(global_fidelities.values(), keys=global_fidelities.keys(), names=('depth', 'class'))\n",
    "global_fidelity = global_fidelity[np.in1d(global_fidelity.index.get_level_values('class'), comparer.difference_class_names)]\n",
    "global_fidelity = global_fidelity.reorder_levels(['class', 'depth']).sort_index()\n",
    "global_fidelity"
   ]
  },
  {
   "cell_type": "markdown",
   "id": "003793d2-c9f4-4938-9256-cc8ccf386cc7",
   "metadata": {},
   "source": [
    "## Local Fidelity"
   ]
  },
  {
   "cell_type": "code",
   "execution_count": 48,
   "id": "111fff0d-0db4-4114-a189-7ffd72ebc79c",
   "metadata": {},
   "outputs": [
    {
     "data": {
      "text/html": [
       "<div>\n",
       "<style scoped>\n",
       "    .dataframe tbody tr th:only-of-type {\n",
       "        vertical-align: middle;\n",
       "    }\n",
       "\n",
       "    .dataframe tbody tr th {\n",
       "        vertical-align: top;\n",
       "    }\n",
       "\n",
       "    .dataframe thead th {\n",
       "        text-align: right;\n",
       "    }\n",
       "</style>\n",
       "<table border=\"1\" class=\"dataframe\">\n",
       "  <thead>\n",
       "    <tr style=\"text-align: right;\">\n",
       "      <th></th>\n",
       "      <th></th>\n",
       "      <th></th>\n",
       "      <th>RMSE</th>\n",
       "      <th>BMR</th>\n",
       "      <th>BAR</th>\n",
       "    </tr>\n",
       "    <tr>\n",
       "      <th>class</th>\n",
       "      <th>depth</th>\n",
       "      <th>feature</th>\n",
       "      <th></th>\n",
       "      <th></th>\n",
       "      <th></th>\n",
       "    </tr>\n",
       "  </thead>\n",
       "  <tbody>\n",
       "    <tr>\n",
       "      <th rowspan=\"12\" valign=\"top\">(False, True)</th>\n",
       "      <th rowspan=\"12\" valign=\"top\">13</th>\n",
       "      <th>Age</th>\n",
       "      <td>8.347243</td>\n",
       "      <td>0.291667</td>\n",
       "      <td>0.0</td>\n",
       "    </tr>\n",
       "    <tr>\n",
       "      <th>Capital Gain</th>\n",
       "      <td>4119.923100</td>\n",
       "      <td>0.230769</td>\n",
       "      <td>0.0</td>\n",
       "    </tr>\n",
       "    <tr>\n",
       "      <th>Capital Loss</th>\n",
       "      <td>1048.500000</td>\n",
       "      <td>0.833333</td>\n",
       "      <td>0.0</td>\n",
       "    </tr>\n",
       "    <tr>\n",
       "      <th>Country</th>\n",
       "      <td>12.000000</td>\n",
       "      <td>0.909091</td>\n",
       "      <td>0.0</td>\n",
       "    </tr>\n",
       "    <tr>\n",
       "      <th>Education-Num</th>\n",
       "      <td>0.600925</td>\n",
       "      <td>0.217391</td>\n",
       "      <td>0.0</td>\n",
       "    </tr>\n",
       "    <tr>\n",
       "      <th>Hours per week</th>\n",
       "      <td>5.355682</td>\n",
       "      <td>0.375000</td>\n",
       "      <td>0.0</td>\n",
       "    </tr>\n",
       "    <tr>\n",
       "      <th>Marital Status</th>\n",
       "      <td>NaN</td>\n",
       "      <td>1.000000</td>\n",
       "      <td>1.0</td>\n",
       "    </tr>\n",
       "    <tr>\n",
       "      <th>Occupation</th>\n",
       "      <td>5.614510</td>\n",
       "      <td>0.521739</td>\n",
       "      <td>0.0</td>\n",
       "    </tr>\n",
       "    <tr>\n",
       "      <th>Race</th>\n",
       "      <td>NaN</td>\n",
       "      <td>1.000000</td>\n",
       "      <td>NaN</td>\n",
       "    </tr>\n",
       "    <tr>\n",
       "      <th>Relationship</th>\n",
       "      <td>1.500000</td>\n",
       "      <td>0.368421</td>\n",
       "      <td>0.0</td>\n",
       "    </tr>\n",
       "    <tr>\n",
       "      <th>Sex</th>\n",
       "      <td>NaN</td>\n",
       "      <td>1.000000</td>\n",
       "      <td>NaN</td>\n",
       "    </tr>\n",
       "    <tr>\n",
       "      <th>Workclass</th>\n",
       "      <td>1.707825</td>\n",
       "      <td>0.700000</td>\n",
       "      <td>0.0</td>\n",
       "    </tr>\n",
       "  </tbody>\n",
       "</table>\n",
       "</div>"
      ],
      "text/plain": [
       "                                           RMSE       BMR  BAR\n",
       "class         depth feature                                   \n",
       "(False, True) 13    Age                8.347243  0.291667  0.0\n",
       "                    Capital Gain    4119.923100  0.230769  0.0\n",
       "                    Capital Loss    1048.500000  0.833333  0.0\n",
       "                    Country           12.000000  0.909091  0.0\n",
       "                    Education-Num      0.600925  0.217391  0.0\n",
       "                    Hours per week     5.355682  0.375000  0.0\n",
       "                    Marital Status          NaN  1.000000  1.0\n",
       "                    Occupation         5.614510  0.521739  0.0\n",
       "                    Race                    NaN  1.000000  NaN\n",
       "                    Relationship       1.500000  0.368421  0.0\n",
       "                    Sex                     NaN  1.000000  NaN\n",
       "                    Workclass          1.707825  0.700000  0.0"
      ]
     },
     "execution_count": 48,
     "metadata": {},
     "output_type": "execute_result"
    }
   ],
   "source": [
    "local_fidelity = pd.concat(local_fidelities.values(), keys=local_fidelities.keys(), names=('depth', 'class', 'feature'))\n",
    "local_fidelity = local_fidelity.reorder_levels(['class', 'depth', 'feature']).sort_index()\n",
    "local_fidelity"
   ]
  },
  {
   "cell_type": "markdown",
   "id": "0431005f-fc62-4c4d-8e29-7cf303ecd5e3",
   "metadata": {},
   "source": [
    "## Complexity"
   ]
  },
  {
   "cell_type": "code",
   "execution_count": 49,
   "id": "2fd93bc1-e190-4ea3-b136-bfdac4eef2e6",
   "metadata": {},
   "outputs": [
    {
     "data": {
      "text/html": [
       "<div>\n",
       "<style scoped>\n",
       "    .dataframe tbody tr th:only-of-type {\n",
       "        vertical-align: middle;\n",
       "    }\n",
       "\n",
       "    .dataframe tbody tr th {\n",
       "        vertical-align: top;\n",
       "    }\n",
       "\n",
       "    .dataframe thead th {\n",
       "        text-align: right;\n",
       "    }\n",
       "</style>\n",
       "<table border=\"1\" class=\"dataframe\">\n",
       "  <thead>\n",
       "    <tr style=\"text-align: right;\">\n",
       "      <th></th>\n",
       "      <th></th>\n",
       "      <th>Rules</th>\n",
       "      <th>Constraints</th>\n",
       "    </tr>\n",
       "    <tr>\n",
       "      <th>class</th>\n",
       "      <th>depth</th>\n",
       "      <th></th>\n",
       "      <th></th>\n",
       "    </tr>\n",
       "  </thead>\n",
       "  <tbody>\n",
       "    <tr>\n",
       "      <th>(False, True)</th>\n",
       "      <th>13</th>\n",
       "      <td>9</td>\n",
       "      <td>66</td>\n",
       "    </tr>\n",
       "  </tbody>\n",
       "</table>\n",
       "</div>"
      ],
      "text/plain": [
       "                     Rules  Constraints\n",
       "class         depth                    \n",
       "(False, True) 13         9           66"
      ]
     },
     "execution_count": 49,
     "metadata": {},
     "output_type": "execute_result"
    }
   ],
   "source": [
    "complexity = pd.concat(complexities.values(), axis=1, keys=complexities.keys(), names=('depth', 'class')).T\n",
    "complexity = complexity.reorder_levels(['class', 'depth']).sort_index()\n",
    "complexity"
   ]
  },
  {
   "cell_type": "markdown",
   "id": "34982e19-b44d-40f3-832f-9593b11deb68",
   "metadata": {},
   "source": [
    "## Generation Time"
   ]
  },
  {
   "cell_type": "markdown",
   "id": "27e3f784-8b04-49a1-9340-83f29e129333",
   "metadata": {},
   "source": [
    "<1s"
   ]
  },
  {
   "cell_type": "code",
   "execution_count": 50,
   "id": "c4b7d598-e5b8-49cf-99ed-6fc8a24be652",
   "metadata": {},
   "outputs": [],
   "source": [
    "global_fidelity.index = global_fidelity.index.map(map_index)\n",
    "global_fidelity = global_fidelity[global_fidelity.index.get_level_values('depth').notnull()]\n",
    "global_fidelity.index.rename(['class', 'level'], inplace=True)\n",
    "\n",
    "local_fidelity.index = local_fidelity.index.map(map_index)\n",
    "local_fidelity = local_fidelity[local_fidelity.index.get_level_values('depth').notnull()]\n",
    "local_fidelity.index.rename(['class', 'level', 'feature'], inplace=True)\n",
    "\n",
    "complexity.index = complexity.index.map(map_index)\n",
    "complexity = complexity[complexity.index.get_level_values('depth').notnull()]\n",
    "complexity.index.rename(['class', 'level'], inplace=True)\n",
    "\n",
    "with open('results.baseline.pickle', 'wb') as f:\n",
    "    pickle.dump((global_fidelity, local_fidelity, complexity), f)"
   ]
  }
 ],
 "metadata": {
  "kernelspec": {
   "display_name": "Python 3",
   "language": "python",
   "name": "python3"
  },
  "language_info": {
   "codemirror_mode": {
    "name": "ipython",
    "version": 3
   },
   "file_extension": ".py",
   "mimetype": "text/x-python",
   "name": "python",
   "nbconvert_exporter": "python",
   "pygments_lexer": "ipython3",
   "version": "3.9.10"
  }
 },
 "nbformat": 4,
 "nbformat_minor": 5
}
