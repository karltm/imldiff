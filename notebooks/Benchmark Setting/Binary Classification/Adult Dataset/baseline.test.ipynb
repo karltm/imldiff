{
 "cells": [
  {
   "cell_type": "markdown",
   "id": "f02cd7da-30ea-43af-8c04-b41ab5b41085",
   "metadata": {},
   "source": [
    "Comparison of the rules extracted from a tree with parameter maximum depth of 9:\n",
    "- rule 1 (node 29/29): equal\n",
    "- rule 2 (node 37/37): equal\n",
    "- rule 3 (node 31/31): equal\n",
    "- rule 4 (node 20/20): equal\n",
    "- rule 5 (node 16/16): equal\n",
    "- rule 6 (node 11/10): Hours per week $\\leq 42.5$ instead of Country $>4.5$\n",
    "- rule 7 (node 41/41): equal\n",
    "- rule 8 (node 46/46): equal"
   ]
  },
  {
   "cell_type": "code",
   "execution_count": 2,
   "id": "133ecd63-8d18-4463-8084-3952338e4cbb",
   "metadata": {},
   "outputs": [],
   "source": [
    "import pandas as pd\n",
    "import numpy as np\n",
    "import scipy as sp\n",
    "import pickle\n",
    "from comparers import ModelComparer\n",
    "import matplotlib.pyplot as plt\n",
    "from IPython.display import display\n",
    "from sklearn.metrics import classification_report\n",
    "from util import RuleClassifier, find_counterfactuals, counterfactuals_to_constraint_matrix,\\\n",
    "                 evaluate_counterfactual_fidelity, print_complexity, calc_constraint_error\n",
    "from surrogate_tree import train_surrogate_tree, tree_to_rules, plot_surrogate_tree,\\\n",
    "                 get_feature_importances, plot_feature_importances, plot_tree_leafs_for_class,\\\n",
    "                 tree_to_constraint_matrix, constraint_matrix_to_rules, extract_rules, print_rules,\\\n",
    "                 evaluate"
   ]
  },
  {
   "cell_type": "code",
   "execution_count": 3,
   "id": "2f7ee4e3-f345-465f-a9f0-71772b2df958",
   "metadata": {},
   "outputs": [],
   "source": [
    "with open('task_with_noise.pickle', 'rb') as f:\n",
    "    clf_a, clf_b, X, X_display, y, feature_names, categorical_features, feature_precisions = pickle.load(f)"
   ]
  },
  {
   "cell_type": "code",
   "execution_count": 4,
   "id": "5225b36f-1721-4ecc-8def-4b3f797c811b",
   "metadata": {},
   "outputs": [],
   "source": [
    "comparer = ModelComparer(clf_a, clf_b, feature_names)"
   ]
  },
  {
   "cell_type": "markdown",
   "id": "bc50d705-05a5-4d83-86db-356fd970dfed",
   "metadata": {},
   "source": [
    "# Explanations"
   ]
  },
  {
   "cell_type": "code",
   "execution_count": 5,
   "id": "bbb33346-86f6-417e-b38d-1f3a35ae4233",
   "metadata": {},
   "outputs": [],
   "source": [
    "mclass_diff = comparer.predict_mclass_diff(X)"
   ]
  },
  {
   "cell_type": "code",
   "execution_count": 6,
   "id": "6b4a44f3-5f4c-4051-9bca-3a318aad3333",
   "metadata": {},
   "outputs": [],
   "source": [
    "with open('ground_truth.(False, True).pickle', 'rb') as f:\n",
    "    ground_truth_instance_indices_01, ground_truth_01 = pickle.load(f)\n",
    "with open('ground_truth.(True, False).pickle', 'rb') as f:\n",
    "    ground_truth_instance_indices_10, ground_truth_10 = pickle.load(f)"
   ]
  },
  {
   "cell_type": "markdown",
   "id": "c988665d-3259-4ee5-9edd-327ff619775f",
   "metadata": {},
   "source": [
    "## Tree with Depth 13"
   ]
  },
  {
   "cell_type": "code",
   "execution_count": 7,
   "id": "8683737f-abb8-4105-b302-6a4ca21d773a",
   "metadata": {},
   "outputs": [
    {
     "name": "stdout",
     "output_type": "stream",
     "text": [
      "CPU times: user 2.29 ms, sys: 164 µs, total: 2.46 ms\n",
      "Wall time: 2.48 ms\n"
     ]
    }
   ],
   "source": [
    "%%time\n",
    "model = train_surrogate_tree(X, mclass_diff, max_depth=13)"
   ]
  },
  {
   "cell_type": "code",
   "execution_count": 8,
   "id": "87d94d76-d018-4e7d-9f12-efe95413cd77",
   "metadata": {},
   "outputs": [
    {
     "name": "stdout",
     "output_type": "stream",
     "text": [
      "                precision    recall  f1-score   support\n",
      "\n",
      "(False, False)       1.00      1.00      1.00       786\n",
      " (False, True)       0.92      1.00      0.96        12\n",
      "  (True, True)       1.00      0.99      1.00       179\n",
      "\n",
      "      accuracy                           1.00       977\n",
      "     macro avg       0.97      1.00      0.99       977\n",
      "  weighted avg       1.00      1.00      1.00       977\n",
      "\n"
     ]
    }
   ],
   "source": [
    "evaluate(model, X, mclass_diff, comparer.class_names)"
   ]
  },
  {
   "cell_type": "code",
   "execution_count": 9,
   "id": "8057b921-a33e-4d79-a46a-7621eb9c2076",
   "metadata": {},
   "outputs": [
    {
     "data": {
      "image/png": "[encoded data removed]",
      "text/plain": [
       "<Figure size 360x432 with 1 Axes>"
      ]
     },
     "metadata": {
      "needs_background": "light"
     },
     "output_type": "display_data"
    }
   ],
   "source": [
    "feature_importances, feature_order = get_feature_importances(model)\n",
    "plot_feature_importances(feature_names, feature_importances, feature_order, figsize=(5,6))"
   ]
  },
  {
   "cell_type": "code",
   "execution_count": 10,
   "id": "d8e109af-5fde-4b48-96a2-3899fd6ede77",
   "metadata": {},
   "outputs": [
    {
     "name": "stdout",
     "output_type": "stream",
     "text": [
      "1. Age > 59.0 and 9.5 < `Education-Num` <= 12.5 and Occupation <= 13.5 and Relationship > 3.5 and `Capital Gain` <= 5095.5 and 37.5 < `Hours per week` <= 42.5 => (False, True) [0, 3, 0]\n",
      "2. 42.5 < Age <= 59.0 and Workclass <= 5.5 and 9.5 < `Education-Num` <= 12.5 and 2.0 < Occupation <= 13.5 and Relationship > 3.5 and `Capital Gain` <= 5095.5 and `Capital Loss` <= 0.5 and 37.5 < `Hours per week` <= 41.5 => (False, True) [0, 2, 1]\n",
      "3. 36.5 < Age <= 37.5 and Workclass > 3.0 and `Education-Num` > 12.5 and Relationship > 3.5 and 31.0 < `Hours per week` <= 50.0 and Country > 14.0 => (False, True) [0, 1, 0]\n",
      "4. 27.0 < Age <= 31.5 and `Education-Num` > 13.5 and Occupation > 3.5 and Relationship > 3.5 => (False, True) [0, 1, 0]\n",
      "5. 29.0 < Age <= 31.5 and 12.5 < `Education-Num` <= 13.5 and 3.5 < Occupation <= 9.0 and Relationship > 3.5 and `Hours per week` <= 42.5 => (False, True) [0, 1, 0]\n",
      "6. 46.5 < Age <= 50.5 and Workclass > 4.5 and `Education-Num` <= 9.5 and Relationship > 3.5 and `Capital Gain` <= 2878.0 and `Capital Loss` <= 1780.0 and `Hours per week` <= 52.5 => (False, True) [0, 1, 0]\n",
      "7. 46.5 < Age <= 50.5 and Workclass <= 4.5 and `Education-Num` <= 9.5 and 3.5 < Occupation <= 5.0 and Relationship > 3.5 and `Capital Gain` <= 2878.0 and `Capital Loss` <= 1780.0 and `Hours per week` <= 52.5 => (False, True) [0, 1, 0]\n",
      "8. Relationship <= 3.5 and 6673.0 < `Capital Gain` <= 7731.5 and `Capital Loss` <= 0.5 => (False, True) [0, 1, 0]\n",
      "9. Age > 58.5 and `Education-Num` > 14.5 and Relationship <= 3.5 and `Capital Gain` <= 5192.0 => (False, True) [0, 1, 0]\n"
     ]
    }
   ],
   "source": [
    "constraints, rules, class_occurences, labels, instance_indices_per_rule =\\\n",
    "    extract_rules(model, feature_names, comparer.difference_classes, X, mclass_diff)\n",
    "print_rules(rules, class_occurences, comparer.class_names, labels)"
   ]
  },
  {
   "cell_type": "markdown",
   "id": "808ca7b0-b251-448e-82e6-d420fb60594c",
   "metadata": {},
   "source": [
    "### Evaluation"
   ]
  },
  {
   "cell_type": "code",
   "execution_count": 11,
   "id": "9853d0aa-3bc8-461a-9102-c270199936cf",
   "metadata": {},
   "outputs": [],
   "source": [
    "constraints_01 = [constraint for constraint, label in zip(constraints, labels) if label == comparer.check_class('(False, True)')[0]]"
   ]
  },
  {
   "cell_type": "code",
   "execution_count": 12,
   "id": "606da6bf-bc17-4a5c-8821-7e4cefa6826d",
   "metadata": {},
   "outputs": [],
   "source": [
    "instance_indices_per_rule_01 = [instance_indices for instance_indices, label in zip(instance_indices_per_rule, labels) if label == comparer.check_class('(False, True)')[0]]"
   ]
  },
  {
   "cell_type": "markdown",
   "id": "897c75de-12bc-4a11-bc77-bd7c867c7e50",
   "metadata": {},
   "source": [
    "#### Global Fidelity"
   ]
  },
  {
   "cell_type": "code",
   "execution_count": 13,
   "id": "1be55e61-7f05-426a-8823-245b00e02b70",
   "metadata": {},
   "outputs": [
    {
     "name": "stdout",
     "output_type": "stream",
     "text": [
      "                precision    recall  f1-score   support\n",
      "\n",
      "(False, False)       1.00      1.00      1.00       786\n",
      " (False, True)       0.92      1.00      0.96        12\n",
      "  (True, True)       1.00      0.99      1.00       179\n",
      "\n",
      "      accuracy                           1.00       977\n",
      "     macro avg       0.97      1.00      0.99       977\n",
      "  weighted avg       1.00      1.00      1.00       977\n",
      "\n"
     ]
    }
   ],
   "source": [
    "evaluate(model, X, mclass_diff, comparer.class_names)"
   ]
  },
  {
   "cell_type": "markdown",
   "id": "dcd615f5-19fb-4a95-828f-2daea95f7473",
   "metadata": {},
   "source": [
    "#### Counterfactual Fidelity Error"
   ]
  },
  {
   "cell_type": "code",
   "execution_count": 14,
   "id": "08f9fecf-79e6-4973-9866-efa27b6e3d35",
   "metadata": {},
   "outputs": [
    {
     "name": "stderr",
     "output_type": "stream",
     "text": [
      "invalid value encountered in true_divide\n"
     ]
    },
    {
     "data": {
      "text/plain": [
       "(            Age  Workclass  Education-Num  Marital Status  Occupation  \\\n",
       " 701 lower  24.0        NaN            0.5             NaN         NaN   \n",
       "     upper   NaN        NaN            0.5             NaN        10.5   \n",
       " 948 lower  16.0        NaN            0.5             NaN         NaN   \n",
       "     upper   NaN        NaN            0.5             NaN        10.5   \n",
       " 961 lower  -2.0        NaN            0.5             NaN         NaN   \n",
       "     upper   NaN        NaN            0.5             NaN         9.5   \n",
       " 64  lower  -0.5        NaN            0.5             NaN         2.0   \n",
       "     upper  -2.0        0.5            0.5             NaN        10.5   \n",
       " 406 lower  -0.5        NaN            0.5             NaN         2.0   \n",
       "     upper  -2.0        0.5            0.5             NaN        10.5   \n",
       " 70  lower   3.5        2.0            0.5             NaN         NaN   \n",
       "     upper  -5.5        NaN            NaN             NaN         NaN   \n",
       " 883 lower   0.0        NaN            0.5             NaN        -5.5   \n",
       "     upper   2.5        NaN            NaN             NaN         NaN   \n",
       " 925 lower   0.0        NaN            0.5             NaN        -0.5   \n",
       "     upper  -3.5        NaN           -0.5             NaN         0.0   \n",
       " 484 lower   3.5        3.5            NaN             NaN         NaN   \n",
       "     upper -10.5        NaN            0.5             NaN         NaN   \n",
       " 744 lower   3.5        NaN            NaN             NaN         0.5   \n",
       "     upper -10.5       -0.5            0.5             NaN         1.0   \n",
       " 558 lower   NaN        NaN            NaN             NaN         NaN   \n",
       "     upper   NaN        NaN            NaN             NaN         NaN   \n",
       " 531 lower  19.5        NaN            0.5             NaN         NaN   \n",
       "     upper   NaN        NaN            NaN             NaN         NaN   \n",
       " \n",
       "            Relationship  Race  Sex  Capital Gain  Capital Loss  \\\n",
       " 701 lower           0.5   NaN  NaN           NaN           NaN   \n",
       "     upper           NaN   NaN  NaN        5039.5           NaN   \n",
       " 948 lower           0.5   NaN  NaN           NaN           NaN   \n",
       "     upper           NaN   NaN  NaN        5039.5           NaN   \n",
       " 961 lower           0.5   NaN  NaN           NaN           NaN   \n",
       "     upper           NaN   NaN  NaN        5039.5           NaN   \n",
       " 64  lower           0.5   NaN  NaN           NaN           NaN   \n",
       "     upper           NaN   NaN  NaN        5039.5        -730.5   \n",
       " 406 lower           0.5   NaN  NaN           NaN           NaN   \n",
       "     upper           NaN   NaN  NaN        5039.5        -730.5   \n",
       " 70  lower           0.5   NaN  NaN           NaN           NaN   \n",
       "     upper           NaN   NaN  NaN           NaN           NaN   \n",
       " 883 lower           0.5   NaN  NaN           NaN           NaN   \n",
       "     upper           NaN   NaN  NaN           NaN           NaN   \n",
       " 925 lower          -0.5   NaN  NaN           NaN           NaN   \n",
       "     upper           NaN   NaN  NaN           NaN           NaN   \n",
       " 484 lower           0.5   NaN  NaN           NaN           NaN   \n",
       "     upper           NaN   NaN  NaN        2822.0        1049.0   \n",
       " 744 lower           0.5   NaN  NaN           NaN           NaN   \n",
       "     upper           NaN   NaN  NaN        2822.0        1049.0   \n",
       " 558 lower           NaN   NaN  NaN        1357.0           NaN   \n",
       "     upper           3.5   NaN  NaN         658.5        -730.5   \n",
       " 531 lower           NaN   NaN  NaN           NaN           NaN   \n",
       "     upper           3.5   NaN  NaN        5136.0           NaN   \n",
       " \n",
       "            Hours per week  Country  \n",
       " 701 lower            -1.5      NaN  \n",
       "     upper             1.5      NaN  \n",
       " 948 lower            -1.5      NaN  \n",
       "     upper             1.5      NaN  \n",
       " 961 lower            -1.5      NaN  \n",
       "     upper             1.5      NaN  \n",
       " 64  lower            -1.5      NaN  \n",
       "     upper             0.5      NaN  \n",
       " 406 lower            -1.5      NaN  \n",
       "     upper             0.5      NaN  \n",
       " 70  lower            -8.0     12.0  \n",
       "     upper             9.0      NaN  \n",
       " 883 lower             NaN      NaN  \n",
       "     upper             NaN      NaN  \n",
       " 925 lower             NaN      NaN  \n",
       "     upper             1.5      NaN  \n",
       " 484 lower             NaN      NaN  \n",
       "     upper            11.5      NaN  \n",
       " 744 lower             NaN      NaN  \n",
       "     upper            11.5      NaN  \n",
       " 558 lower             NaN      NaN  \n",
       "     upper             NaN      NaN  \n",
       " 531 lower             NaN      NaN  \n",
       "     upper             NaN      NaN  ,\n",
       " Age                  9.221804\n",
       " Workclass            1.843909\n",
       " Education-Num        0.500000\n",
       " Marital Status            NaN\n",
       " Occupation           6.898067\n",
       " Relationship         1.500000\n",
       " Race                      NaN\n",
       " Sex                       NaN\n",
       " Capital Gain      4142.025308\n",
       " Capital Loss       871.973939\n",
       " Hours per week       5.355682\n",
       " Country             12.000000\n",
       " dtype: float64,\n",
       " Age               0.250000\n",
       " Workclass         0.750000\n",
       " Education-Num     0.260870\n",
       " Marital Status    1.000000\n",
       " Occupation        0.478261\n",
       " Relationship      0.368421\n",
       " Race              1.000000\n",
       " Sex               1.000000\n",
       " Capital Gain      0.230769\n",
       " Capital Loss      0.583333\n",
       " Hours per week    0.375000\n",
       " Country           0.909091\n",
       " dtype: float64,\n",
       " Age               0.0\n",
       " Workclass         0.0\n",
       " Education-Num     0.0\n",
       " Marital Status    NaN\n",
       " Occupation        0.0\n",
       " Relationship      0.0\n",
       " Race              NaN\n",
       " Sex               NaN\n",
       " Capital Gain      0.0\n",
       " Capital Loss      0.0\n",
       " Hours per week    0.0\n",
       " Country           0.0\n",
       " dtype: float64)"
      ]
     },
     "execution_count": 14,
     "metadata": {},
     "output_type": "execute_result"
    }
   ],
   "source": [
    "evaluate_counterfactual_fidelity(comparer, ground_truth_instance_indices_01, ground_truth_01, instance_indices_per_rule_01, constraints_01)"
   ]
  },
  {
   "cell_type": "markdown",
   "id": "0d82dcd1-d98d-47a0-83bd-eb5d5b9b1964",
   "metadata": {},
   "source": [
    "#### Complexity"
   ]
  },
  {
   "cell_type": "code",
   "execution_count": 15,
   "id": "aaa0f56a-17d1-4c23-9fac-7477480ea54d",
   "metadata": {},
   "outputs": [
    {
     "name": "stdout",
     "output_type": "stream",
     "text": [
      "Number of rules: 9\n",
      "Number of constraints: 67 (7.4 per rule)\n"
     ]
    }
   ],
   "source": [
    "print_complexity(constraints_01)"
   ]
  },
  {
   "cell_type": "markdown",
   "id": "b0fd0085-5656-498f-b07e-cd7a96f8bdb6",
   "metadata": {},
   "source": [
    "#### Stability"
   ]
  },
  {
   "cell_type": "code",
   "execution_count": 16,
   "id": "355f415a-f6c6-491a-be35-26e8659eec26",
   "metadata": {},
   "outputs": [],
   "source": [
    "with open('explanation-baseline-orig.pickle', 'rb') as f:\n",
    "    constraints_01_orig, instance_indices_per_rule_01_orig = pickle.load(f)"
   ]
  },
  {
   "cell_type": "markdown",
   "id": "9f5bcf28-68e2-4718-a5f8-369767a8d8f3",
   "metadata": {},
   "source": [
    "1:1 mapping is possible."
   ]
  },
  {
   "cell_type": "code",
   "execution_count": 23,
   "id": "8ceb9ddd-77ba-4c30-b894-76cf8ca4ca6f",
   "metadata": {},
   "outputs": [
    {
     "name": "stdout",
     "output_type": "stream",
     "text": [
      "rule 1:\n",
      "1    3\n",
      "Name: test, dtype: int64\n",
      "rule 2:\n",
      "2    2\n",
      "Name: test, dtype: int64\n",
      "rule 3:\n",
      "3    1\n",
      "Name: test, dtype: int64\n",
      "rule 4:\n",
      "4    1\n",
      "Name: test, dtype: int64\n",
      "rule 5:\n",
      "5    1\n",
      "Name: test, dtype: int64\n",
      "rule 6:\n",
      "6    1\n",
      "Name: test, dtype: int64\n",
      "rule 7:\n",
      "7    1\n",
      "Name: test, dtype: int64\n",
      "rule 8:\n",
      "8    1\n",
      "Name: test, dtype: int64\n",
      "rule 9:\n",
      "9    1\n",
      "Name: test, dtype: int64\n"
     ]
    }
   ],
   "source": [
    "indices = np.where(comparer.predict_mclass_diff(X) == 1)[0]\n",
    "mapping_data = pd.DataFrame(columns=indices, index=['original', 'test'], data=[\n",
    "    RuleClassifier(feature_names, constraint_matrix_to_rules(constraints_01_orig, feature_names)).apply(X[indices]),\n",
    "    RuleClassifier(feature_names, rules).apply(X[indices])]).T\n",
    "mask = ~np.any(mapping_data == 0, 1)\n",
    "mapping_data = mapping_data[mask]\n",
    "for orig_rule_id in np.unique(mapping_data['original']):\n",
    "    print(f'rule {int(orig_rule_id)}:')\n",
    "    print(mapping_data.loc[mapping_data['original'] == orig_rule_id, 'test'].value_counts())"
   ]
  },
  {
   "cell_type": "code",
   "execution_count": 18,
   "id": "85446225-9bff-48f4-8c43-d921d2dfd43d",
   "metadata": {},
   "outputs": [
    {
     "name": "stderr",
     "output_type": "stream",
     "text": [
      "invalid value encountered in true_divide\n",
      "invalid value encountered in true_divide\n"
     ]
    }
   ],
   "source": [
    "errors, rmse, boundary_miss_rate, boundary_add_rate = \\\n",
    "    calc_constraint_error(feature_names, constraints_01_orig, constraints_01)"
   ]
  },
  {
   "cell_type": "code",
   "execution_count": 19,
   "id": "131c524a-f53b-455b-8515-789a1daaa922",
   "metadata": {},
   "outputs": [
    {
     "data": {
      "text/plain": [
       "Age               0.554700\n",
       "Workclass         0.000000\n",
       "Education-Num     0.000000\n",
       "Marital Status         NaN\n",
       "Occupation        3.895969\n",
       "Relationship      0.000000\n",
       "Race                   NaN\n",
       "Sex                    NaN\n",
       "Capital Gain      0.000000\n",
       "Capital Loss      0.500000\n",
       "Hours per week    0.000000\n",
       "Country           0.000000\n",
       "dtype: float64"
      ]
     },
     "execution_count": 19,
     "metadata": {},
     "output_type": "execute_result"
    }
   ],
   "source": [
    "rmse"
   ]
  },
  {
   "cell_type": "code",
   "execution_count": 20,
   "id": "11f7a966-c78d-4ea5-b824-f23ded423eb9",
   "metadata": {},
   "outputs": [
    {
     "data": {
      "text/plain": [
       "Age               0.000\n",
       "Workclass         0.400\n",
       "Education-Num     0.000\n",
       "Marital Status    1.000\n",
       "Occupation        0.125\n",
       "Relationship      0.000\n",
       "Race                NaN\n",
       "Sex                 NaN\n",
       "Capital Gain      0.000\n",
       "Capital Loss      0.000\n",
       "Hours per week    0.000\n",
       "Country           0.000\n",
       "dtype: float64"
      ]
     },
     "execution_count": 20,
     "metadata": {},
     "output_type": "execute_result"
    }
   ],
   "source": [
    "boundary_miss_rate"
   ]
  },
  {
   "cell_type": "code",
   "execution_count": 21,
   "id": "48d79316-f7c3-424f-8933-ae8cb84b5da9",
   "metadata": {},
   "outputs": [
    {
     "data": {
      "text/plain": [
       "Age               0.071429\n",
       "Workclass         0.250000\n",
       "Education-Num     0.000000\n",
       "Marital Status         NaN\n",
       "Occupation        0.125000\n",
       "Relationship      0.000000\n",
       "Race                   NaN\n",
       "Sex                    NaN\n",
       "Capital Gain      0.000000\n",
       "Capital Loss      0.500000\n",
       "Hours per week    0.111111\n",
       "Country           0.000000\n",
       "dtype: float64"
      ]
     },
     "execution_count": 21,
     "metadata": {},
     "output_type": "execute_result"
    }
   ],
   "source": [
    "boundary_add_rate"
   ]
  },
  {
   "cell_type": "code",
   "execution_count": 22,
   "id": "e7e06f6a-933a-4e31-b7ac-34a33cc79304",
   "metadata": {},
   "outputs": [
    {
     "data": {
      "text/html": [
       "<div>\n",
       "<style scoped>\n",
       "    .dataframe tbody tr th:only-of-type {\n",
       "        vertical-align: middle;\n",
       "    }\n",
       "\n",
       "    .dataframe tbody tr th {\n",
       "        vertical-align: top;\n",
       "    }\n",
       "\n",
       "    .dataframe thead th {\n",
       "        text-align: right;\n",
       "    }\n",
       "</style>\n",
       "<table border=\"1\" class=\"dataframe\">\n",
       "  <thead>\n",
       "    <tr style=\"text-align: right;\">\n",
       "      <th></th>\n",
       "      <th></th>\n",
       "      <th>Age</th>\n",
       "      <th>Workclass</th>\n",
       "      <th>Education-Num</th>\n",
       "      <th>Marital Status</th>\n",
       "      <th>Occupation</th>\n",
       "      <th>Relationship</th>\n",
       "      <th>Race</th>\n",
       "      <th>Sex</th>\n",
       "      <th>Capital Gain</th>\n",
       "      <th>Capital Loss</th>\n",
       "      <th>Hours per week</th>\n",
       "      <th>Country</th>\n",
       "    </tr>\n",
       "  </thead>\n",
       "  <tbody>\n",
       "    <tr>\n",
       "      <th rowspan=\"2\" valign=\"top\">1</th>\n",
       "      <th>lower</th>\n",
       "      <td>0.0</td>\n",
       "      <td>NaN</td>\n",
       "      <td>0.0</td>\n",
       "      <td>NaN</td>\n",
       "      <td>NaN</td>\n",
       "      <td>0.0</td>\n",
       "      <td>NaN</td>\n",
       "      <td>NaN</td>\n",
       "      <td>NaN</td>\n",
       "      <td>NaN</td>\n",
       "      <td>0.0</td>\n",
       "      <td>NaN</td>\n",
       "    </tr>\n",
       "    <tr>\n",
       "      <th>upper</th>\n",
       "      <td>NaN</td>\n",
       "      <td>NaN</td>\n",
       "      <td>0.0</td>\n",
       "      <td>NaN</td>\n",
       "      <td>0.0</td>\n",
       "      <td>NaN</td>\n",
       "      <td>NaN</td>\n",
       "      <td>NaN</td>\n",
       "      <td>0.0</td>\n",
       "      <td>NaN</td>\n",
       "      <td>0.0</td>\n",
       "      <td>NaN</td>\n",
       "    </tr>\n",
       "    <tr>\n",
       "      <th rowspan=\"2\" valign=\"top\">2</th>\n",
       "      <th>lower</th>\n",
       "      <td>0.0</td>\n",
       "      <td>NaN</td>\n",
       "      <td>0.0</td>\n",
       "      <td>NaN</td>\n",
       "      <td>NaN</td>\n",
       "      <td>0.0</td>\n",
       "      <td>NaN</td>\n",
       "      <td>NaN</td>\n",
       "      <td>NaN</td>\n",
       "      <td>NaN</td>\n",
       "      <td>0.0</td>\n",
       "      <td>NaN</td>\n",
       "    </tr>\n",
       "    <tr>\n",
       "      <th>upper</th>\n",
       "      <td>0.0</td>\n",
       "      <td>0.0</td>\n",
       "      <td>0.0</td>\n",
       "      <td>NaN</td>\n",
       "      <td>10.0</td>\n",
       "      <td>NaN</td>\n",
       "      <td>NaN</td>\n",
       "      <td>NaN</td>\n",
       "      <td>0.0</td>\n",
       "      <td>NaN</td>\n",
       "      <td>0.0</td>\n",
       "      <td>NaN</td>\n",
       "    </tr>\n",
       "    <tr>\n",
       "      <th rowspan=\"2\" valign=\"top\">3</th>\n",
       "      <th>lower</th>\n",
       "      <td>0.0</td>\n",
       "      <td>NaN</td>\n",
       "      <td>0.0</td>\n",
       "      <td>NaN</td>\n",
       "      <td>NaN</td>\n",
       "      <td>0.0</td>\n",
       "      <td>NaN</td>\n",
       "      <td>NaN</td>\n",
       "      <td>NaN</td>\n",
       "      <td>NaN</td>\n",
       "      <td>0.0</td>\n",
       "      <td>0.0</td>\n",
       "    </tr>\n",
       "    <tr>\n",
       "      <th>upper</th>\n",
       "      <td>0.0</td>\n",
       "      <td>NaN</td>\n",
       "      <td>NaN</td>\n",
       "      <td>NaN</td>\n",
       "      <td>NaN</td>\n",
       "      <td>NaN</td>\n",
       "      <td>NaN</td>\n",
       "      <td>NaN</td>\n",
       "      <td>NaN</td>\n",
       "      <td>NaN</td>\n",
       "      <td>0.0</td>\n",
       "      <td>NaN</td>\n",
       "    </tr>\n",
       "    <tr>\n",
       "      <th rowspan=\"2\" valign=\"top\">4</th>\n",
       "      <th>lower</th>\n",
       "      <td>0.0</td>\n",
       "      <td>NaN</td>\n",
       "      <td>0.0</td>\n",
       "      <td>NaN</td>\n",
       "      <td>0.0</td>\n",
       "      <td>0.0</td>\n",
       "      <td>NaN</td>\n",
       "      <td>NaN</td>\n",
       "      <td>NaN</td>\n",
       "      <td>NaN</td>\n",
       "      <td>NaN</td>\n",
       "      <td>NaN</td>\n",
       "    </tr>\n",
       "    <tr>\n",
       "      <th>upper</th>\n",
       "      <td>0.0</td>\n",
       "      <td>NaN</td>\n",
       "      <td>NaN</td>\n",
       "      <td>NaN</td>\n",
       "      <td>NaN</td>\n",
       "      <td>NaN</td>\n",
       "      <td>NaN</td>\n",
       "      <td>NaN</td>\n",
       "      <td>NaN</td>\n",
       "      <td>NaN</td>\n",
       "      <td>NaN</td>\n",
       "      <td>NaN</td>\n",
       "    </tr>\n",
       "    <tr>\n",
       "      <th rowspan=\"2\" valign=\"top\">5</th>\n",
       "      <th>lower</th>\n",
       "      <td>2.0</td>\n",
       "      <td>NaN</td>\n",
       "      <td>0.0</td>\n",
       "      <td>NaN</td>\n",
       "      <td>-2.5</td>\n",
       "      <td>0.0</td>\n",
       "      <td>NaN</td>\n",
       "      <td>NaN</td>\n",
       "      <td>NaN</td>\n",
       "      <td>NaN</td>\n",
       "      <td>NaN</td>\n",
       "      <td>NaN</td>\n",
       "    </tr>\n",
       "    <tr>\n",
       "      <th>upper</th>\n",
       "      <td>0.0</td>\n",
       "      <td>NaN</td>\n",
       "      <td>0.0</td>\n",
       "      <td>NaN</td>\n",
       "      <td>0.0</td>\n",
       "      <td>NaN</td>\n",
       "      <td>NaN</td>\n",
       "      <td>NaN</td>\n",
       "      <td>NaN</td>\n",
       "      <td>NaN</td>\n",
       "      <td>NaN</td>\n",
       "      <td>NaN</td>\n",
       "    </tr>\n",
       "    <tr>\n",
       "      <th rowspan=\"2\" valign=\"top\">6</th>\n",
       "      <th>lower</th>\n",
       "      <td>0.0</td>\n",
       "      <td>0.0</td>\n",
       "      <td>NaN</td>\n",
       "      <td>NaN</td>\n",
       "      <td>NaN</td>\n",
       "      <td>0.0</td>\n",
       "      <td>NaN</td>\n",
       "      <td>NaN</td>\n",
       "      <td>NaN</td>\n",
       "      <td>NaN</td>\n",
       "      <td>NaN</td>\n",
       "      <td>NaN</td>\n",
       "    </tr>\n",
       "    <tr>\n",
       "      <th>upper</th>\n",
       "      <td>0.0</td>\n",
       "      <td>NaN</td>\n",
       "      <td>0.0</td>\n",
       "      <td>NaN</td>\n",
       "      <td>NaN</td>\n",
       "      <td>NaN</td>\n",
       "      <td>NaN</td>\n",
       "      <td>NaN</td>\n",
       "      <td>0.0</td>\n",
       "      <td>0.5</td>\n",
       "      <td>0.0</td>\n",
       "      <td>NaN</td>\n",
       "    </tr>\n",
       "    <tr>\n",
       "      <th rowspan=\"2\" valign=\"top\">7</th>\n",
       "      <th>lower</th>\n",
       "      <td>0.0</td>\n",
       "      <td>NaN</td>\n",
       "      <td>NaN</td>\n",
       "      <td>NaN</td>\n",
       "      <td>0.0</td>\n",
       "      <td>0.0</td>\n",
       "      <td>NaN</td>\n",
       "      <td>NaN</td>\n",
       "      <td>NaN</td>\n",
       "      <td>NaN</td>\n",
       "      <td>NaN</td>\n",
       "      <td>NaN</td>\n",
       "    </tr>\n",
       "    <tr>\n",
       "      <th>upper</th>\n",
       "      <td>0.0</td>\n",
       "      <td>0.0</td>\n",
       "      <td>0.0</td>\n",
       "      <td>NaN</td>\n",
       "      <td>0.0</td>\n",
       "      <td>NaN</td>\n",
       "      <td>NaN</td>\n",
       "      <td>NaN</td>\n",
       "      <td>0.0</td>\n",
       "      <td>0.5</td>\n",
       "      <td>0.0</td>\n",
       "      <td>NaN</td>\n",
       "    </tr>\n",
       "    <tr>\n",
       "      <th rowspan=\"2\" valign=\"top\">8</th>\n",
       "      <th>lower</th>\n",
       "      <td>NaN</td>\n",
       "      <td>NaN</td>\n",
       "      <td>NaN</td>\n",
       "      <td>NaN</td>\n",
       "      <td>NaN</td>\n",
       "      <td>NaN</td>\n",
       "      <td>NaN</td>\n",
       "      <td>NaN</td>\n",
       "      <td>0.0</td>\n",
       "      <td>NaN</td>\n",
       "      <td>NaN</td>\n",
       "      <td>NaN</td>\n",
       "    </tr>\n",
       "    <tr>\n",
       "      <th>upper</th>\n",
       "      <td>NaN</td>\n",
       "      <td>NaN</td>\n",
       "      <td>NaN</td>\n",
       "      <td>NaN</td>\n",
       "      <td>NaN</td>\n",
       "      <td>0.0</td>\n",
       "      <td>NaN</td>\n",
       "      <td>NaN</td>\n",
       "      <td>0.0</td>\n",
       "      <td>NaN</td>\n",
       "      <td>NaN</td>\n",
       "      <td>NaN</td>\n",
       "    </tr>\n",
       "    <tr>\n",
       "      <th rowspan=\"2\" valign=\"top\">9</th>\n",
       "      <th>lower</th>\n",
       "      <td>NaN</td>\n",
       "      <td>NaN</td>\n",
       "      <td>0.0</td>\n",
       "      <td>NaN</td>\n",
       "      <td>NaN</td>\n",
       "      <td>NaN</td>\n",
       "      <td>NaN</td>\n",
       "      <td>NaN</td>\n",
       "      <td>NaN</td>\n",
       "      <td>NaN</td>\n",
       "      <td>NaN</td>\n",
       "      <td>NaN</td>\n",
       "    </tr>\n",
       "    <tr>\n",
       "      <th>upper</th>\n",
       "      <td>NaN</td>\n",
       "      <td>NaN</td>\n",
       "      <td>NaN</td>\n",
       "      <td>NaN</td>\n",
       "      <td>NaN</td>\n",
       "      <td>0.0</td>\n",
       "      <td>NaN</td>\n",
       "      <td>NaN</td>\n",
       "      <td>0.0</td>\n",
       "      <td>NaN</td>\n",
       "      <td>NaN</td>\n",
       "      <td>NaN</td>\n",
       "    </tr>\n",
       "  </tbody>\n",
       "</table>\n",
       "</div>"
      ],
      "text/plain": [
       "         Age  Workclass  Education-Num  Marital Status  Occupation  \\\n",
       "1 lower  0.0        NaN            0.0             NaN         NaN   \n",
       "  upper  NaN        NaN            0.0             NaN         0.0   \n",
       "2 lower  0.0        NaN            0.0             NaN         NaN   \n",
       "  upper  0.0        0.0            0.0             NaN        10.0   \n",
       "3 lower  0.0        NaN            0.0             NaN         NaN   \n",
       "  upper  0.0        NaN            NaN             NaN         NaN   \n",
       "4 lower  0.0        NaN            0.0             NaN         0.0   \n",
       "  upper  0.0        NaN            NaN             NaN         NaN   \n",
       "5 lower  2.0        NaN            0.0             NaN        -2.5   \n",
       "  upper  0.0        NaN            0.0             NaN         0.0   \n",
       "6 lower  0.0        0.0            NaN             NaN         NaN   \n",
       "  upper  0.0        NaN            0.0             NaN         NaN   \n",
       "7 lower  0.0        NaN            NaN             NaN         0.0   \n",
       "  upper  0.0        0.0            0.0             NaN         0.0   \n",
       "8 lower  NaN        NaN            NaN             NaN         NaN   \n",
       "  upper  NaN        NaN            NaN             NaN         NaN   \n",
       "9 lower  NaN        NaN            0.0             NaN         NaN   \n",
       "  upper  NaN        NaN            NaN             NaN         NaN   \n",
       "\n",
       "         Relationship  Race  Sex  Capital Gain  Capital Loss  Hours per week  \\\n",
       "1 lower           0.0   NaN  NaN           NaN           NaN             0.0   \n",
       "  upper           NaN   NaN  NaN           0.0           NaN             0.0   \n",
       "2 lower           0.0   NaN  NaN           NaN           NaN             0.0   \n",
       "  upper           NaN   NaN  NaN           0.0           NaN             0.0   \n",
       "3 lower           0.0   NaN  NaN           NaN           NaN             0.0   \n",
       "  upper           NaN   NaN  NaN           NaN           NaN             0.0   \n",
       "4 lower           0.0   NaN  NaN           NaN           NaN             NaN   \n",
       "  upper           NaN   NaN  NaN           NaN           NaN             NaN   \n",
       "5 lower           0.0   NaN  NaN           NaN           NaN             NaN   \n",
       "  upper           NaN   NaN  NaN           NaN           NaN             NaN   \n",
       "6 lower           0.0   NaN  NaN           NaN           NaN             NaN   \n",
       "  upper           NaN   NaN  NaN           0.0           0.5             0.0   \n",
       "7 lower           0.0   NaN  NaN           NaN           NaN             NaN   \n",
       "  upper           NaN   NaN  NaN           0.0           0.5             0.0   \n",
       "8 lower           NaN   NaN  NaN           0.0           NaN             NaN   \n",
       "  upper           0.0   NaN  NaN           0.0           NaN             NaN   \n",
       "9 lower           NaN   NaN  NaN           NaN           NaN             NaN   \n",
       "  upper           0.0   NaN  NaN           0.0           NaN             NaN   \n",
       "\n",
       "         Country  \n",
       "1 lower      NaN  \n",
       "  upper      NaN  \n",
       "2 lower      NaN  \n",
       "  upper      NaN  \n",
       "3 lower      0.0  \n",
       "  upper      NaN  \n",
       "4 lower      NaN  \n",
       "  upper      NaN  \n",
       "5 lower      NaN  \n",
       "  upper      NaN  \n",
       "6 lower      NaN  \n",
       "  upper      NaN  \n",
       "7 lower      NaN  \n",
       "  upper      NaN  \n",
       "8 lower      NaN  \n",
       "  upper      NaN  \n",
       "9 lower      NaN  \n",
       "  upper      NaN  "
      ]
     },
     "execution_count": 22,
     "metadata": {},
     "output_type": "execute_result"
    }
   ],
   "source": [
    "errors"
   ]
  },
  {
   "cell_type": "code",
   "execution_count": null,
   "id": "79bae34c-a07e-4fce-b75f-18d52ba29651",
   "metadata": {},
   "outputs": [],
   "source": []
  }
 ],
 "metadata": {
  "kernelspec": {
   "display_name": "Python 3",
   "language": "python",
   "name": "python3"
  },
  "language_info": {
   "codemirror_mode": {
    "name": "ipython",
    "version": 3
   },
   "file_extension": ".py",
   "mimetype": "text/x-python",
   "name": "python",
   "nbconvert_exporter": "python",
   "pygments_lexer": "ipython3",
   "version": "3.9.10"
  }
 },
 "nbformat": 4,
 "nbformat_minor": 5
}
