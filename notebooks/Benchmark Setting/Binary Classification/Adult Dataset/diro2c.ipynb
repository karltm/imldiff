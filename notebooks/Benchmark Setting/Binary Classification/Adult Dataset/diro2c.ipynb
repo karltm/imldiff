{
 "cells": [
  {
   "cell_type": "markdown",
   "id": "62c4ce28-2f84-45fe-8bd4-41a61d6e7413",
   "metadata": {},
   "source": [
    "General optimizations:\n",
    "- Diro2C generation algorithm could take into account possible values for categorical features or integer features\n",
    "- scikit-learn Decision tree implementation does not support categorical values, they are currently only approximated by converting them to numbers. Look into alternative implementations or encode values\n",
    "- it would be better for the understanding, to see how rules evolve with increasing max depth. I used unix diff for that\n",
    "- general rule for determining, how far to increase max depth parameter"
   ]
  },
  {
   "cell_type": "code",
   "execution_count": 17,
   "id": "0a0a4da5-d31e-43ca-923d-4b1b8068dc27",
   "metadata": {},
   "outputs": [],
   "source": [
    "import matplotlib.pyplot as plt\n",
    "import pickle\n",
    "import numpy as np\n",
    "import pandas as pd\n",
    "from comparers import ModelComparer, plot_decision_boundary\n",
    "from diro2c_wrapper import WrappedDiro2C, train_surrogate_tree, plot_surrogate_tree,\\\n",
    "                           extract_rules, print_rules, evaluate_generated_data,\\\n",
    "                           evaluate, plot_tree_leafs_2d, plot_diro2c_2d, get_surrogate_tree,\\\n",
    "                           get_feature_importances, plot_feature_importances, set_generated_data,\\\n",
    "                           search_max_depth_parameter\n",
    "from util import RuleClassifier, evaluate_counterfactual_fidelity, get_complexity, constraint_matrix_to_rules\n",
    "from sklearn.model_selection import train_test_split\n",
    "from sklearn.metrics import classification_report\n",
    "import os\n",
    "from datetime import datetime"
   ]
  },
  {
   "cell_type": "code",
   "execution_count": 2,
   "id": "aac6874f-229c-4a5a-b1e3-1df3f2087fe4",
   "metadata": {},
   "outputs": [],
   "source": [
    "with open('task_without_noise.pickle', 'rb') as f:\n",
    "    clf_a, clf_b, X, X_display, y, feature_names, categorical_features, feature_precisions = pickle.load(f)"
   ]
  },
  {
   "cell_type": "code",
   "execution_count": 3,
   "id": "0d8a1e50-f223-469e-a37c-7faf08abd155",
   "metadata": {},
   "outputs": [],
   "source": [
    "comparer = ModelComparer(clf_a, clf_b, feature_names)"
   ]
  },
  {
   "cell_type": "markdown",
   "id": "bd9f5bd0-578c-4929-acff-bd0603c6e152",
   "metadata": {},
   "source": [
    "# Explanations"
   ]
  },
  {
   "cell_type": "code",
   "execution_count": 4,
   "id": "e4c10e88-d560-458d-9463-ad0d9c8c8bd4",
   "metadata": {},
   "outputs": [],
   "source": [
    "mclass_diff = comparer.predict_mclass_diff(X)"
   ]
  },
  {
   "cell_type": "code",
   "execution_count": 86,
   "id": "e09f2778-ebef-4623-ad5b-e54fc74413e9",
   "metadata": {},
   "outputs": [],
   "source": [
    "global_fidelities = {}\n",
    "local_fidelities = {}\n",
    "complexities = {}"
   ]
  },
  {
   "cell_type": "markdown",
   "id": "5f56dcf9-b3d1-4127-8696-b603ba393e1e",
   "metadata": {},
   "source": [
    "## $(False, True)$"
   ]
  },
  {
   "cell_type": "code",
   "execution_count": 6,
   "id": "9178b93b-07d5-46bc-a5f7-f2d85e8d11ae",
   "metadata": {},
   "outputs": [],
   "source": [
    "focus_class = '(False, True)'\n",
    "focus_class_idx = list(comparer.class_names).index(focus_class)\n",
    "y_true = mclass_diff == focus_class_idx"
   ]
  },
  {
   "cell_type": "code",
   "execution_count": 7,
   "id": "9eb53a57-6ba3-425d-a1c2-719b21f3c860",
   "metadata": {},
   "outputs": [],
   "source": [
    "explainer = WrappedDiro2C(X, comparer, focus_class)"
   ]
  },
  {
   "cell_type": "markdown",
   "id": "8a29d8ed-d396-414d-bcab-e36b157eced3",
   "metadata": {},
   "source": [
    "Let's first check how long it takes to generate a data set for a single instance:"
   ]
  },
  {
   "cell_type": "code",
   "execution_count": 13,
   "id": "0f2b30a7-a6cd-4388-afea-a3dcea1448b3",
   "metadata": {
    "tags": []
   },
   "outputs": [
    {
     "name": "stdout",
     "output_type": "stream",
     "text": [
      "CPU times: user 11min 29s, sys: 37.7 s, total: 12min 7s\n",
      "Wall time: 3min 31s\n"
     ]
    }
   ],
   "source": [
    "%%time\n",
    "_ = explainer.generate_local_explanation(idx_explain=0)"
   ]
  },
  {
   "cell_type": "code",
   "execution_count": 14,
   "id": "ac5150e3-1c35-4bf8-9e9f-c8d1856871e3",
   "metadata": {},
   "outputs": [
    {
     "data": {
      "text/plain": [
       "57.26305555555555"
      ]
     },
     "execution_count": 14,
     "metadata": {},
     "output_type": "execute_result"
    }
   ],
   "source": [
    "((3*60 + 31) * len(X))/60/60"
   ]
  },
  {
   "cell_type": "code",
   "execution_count": 11,
   "id": "c0990554-6701-42a9-93bc-c33c2adf4ae9",
   "metadata": {
    "tags": []
   },
   "outputs": [
    {
     "name": "stdout",
     "output_type": "stream",
     "text": [
      "CPU times: user 1min 6s, sys: 4.77 s, total: 1min 11s\n",
      "Wall time: 21 s\n"
     ]
    }
   ],
   "source": [
    "%%time\n",
    "_ = explainer.generate_local_explanation(idx_explain=0, gn_population_size=500)"
   ]
  },
  {
   "cell_type": "code",
   "execution_count": 12,
   "id": "a7f53f74-807b-4990-91fa-5f950f301087",
   "metadata": {},
   "outputs": [
    {
     "data": {
      "text/plain": [
       "5.699166666666667"
      ]
     },
     "execution_count": 12,
     "metadata": {},
     "output_type": "execute_result"
    }
   ],
   "source": [
    "(21 * len(X))/60/60"
   ]
  },
  {
   "cell_type": "markdown",
   "id": "5081f4a1-81f3-4b81-adae-67a2149ab721",
   "metadata": {},
   "source": [
    "Even with a reduced population size parameter it still would take more than 5 hours to generate data sets for all instances. I'll use a different approach, where the final data set is built from the merged generated data sets created for only the instances classified differently, but with the default population size parameter. This way, I expect the algorithm to generate instances near to the already known differences."
   ]
  },
  {
   "cell_type": "code",
   "execution_count": 9,
   "id": "58143f26-2cae-42d9-8b24-4c5a016bef8c",
   "metadata": {},
   "outputs": [],
   "source": [
    "instance_indices = np.arange(len(X))"
   ]
  },
  {
   "cell_type": "code",
   "execution_count": 14,
   "id": "6e99305c-cd84-43d5-993c-df6fdb8de5b0",
   "metadata": {},
   "outputs": [],
   "source": [
    "try:\n",
    "    os.mkdir('diro2c-datasets')\n",
    "except FileExistsError:\n",
    "    pass"
   ]
  },
  {
   "cell_type": "code",
   "execution_count": 22,
   "id": "ab870c99-c451-41ae-92ae-741659abcf3e",
   "metadata": {
    "collapsed": true,
    "jupyter": {
     "outputs_hidden": true
    },
    "tags": []
   },
   "outputs": [
    {
     "name": "stdout",
     "output_type": "stream",
     "text": [
      "0... 0:03:33.349520\n",
      "1... 0:07:18.898019\n",
      "2... 0:11:09.452534\n",
      "3... 0:15:04.549423\n",
      "4... 0:18:55.328720\n",
      "5... 0:22:33.628496\n",
      "6... 0:26:30.837308\n",
      "7... 0:30:14.146966\n",
      "8... 0:33:38.735274\n",
      "9... 0:37:03.115946\n",
      "10... 0:40:23.465602\n",
      "11... 0:43:47.299845\n",
      "12... 0:47:12.685789\n",
      "13... 0:50:41.682704\n",
      "14... 0:54:10.193997\n",
      "15... 0:57:34.932407\n",
      "16... 1:01:02.576799\n",
      "17... 1:04:30.016211\n",
      "18... 1:07:57.764176\n",
      "19... 1:11:23.972110\n",
      "20... 1:14:57.362369\n",
      "21... 1:18:45.840911\n",
      "22... 1:22:50.108421\n",
      "23... 1:26:36.614533\n",
      "24... 1:30:26.144743\n",
      "25... 1:34:21.132817\n",
      "26... 1:38:06.270724\n",
      "27... 1:42:04.179484\n",
      "28... 1:45:58.523548\n",
      "29... 1:50:02.230184\n",
      "30... 1:54:37.003711\n",
      "31... 1:58:31.307680\n",
      "32... 2:02:10.284902\n",
      "33... 2:06:19.751943\n",
      "34... 2:10:18.823240\n",
      "35... 2:14:04.913860\n",
      "36... 2:17:58.149432\n",
      "37... 2:21:53.375469\n",
      "38... 2:25:37.961293\n",
      "39... 2:29:25.738737\n",
      "40... 2:34:03.230550\n",
      "41... 2:37:54.577780\n",
      "42... 2:41:16.038997\n",
      "43... 2:44:37.820869\n",
      "44... 2:47:58.353511\n",
      "45... 2:51:18.055754\n",
      "46... 2:54:38.453437\n",
      "47... 2:57:59.278634\n",
      "48... 3:01:20.733798\n",
      "49... 3:04:42.633908\n",
      "50... 3:08:05.275369\n",
      "51... 3:11:26.910840\n",
      "52... 3:15:11.862281\n",
      "53... 3:19:34.899161\n",
      "54... 3:24:17.460814\n",
      "55... 3:28:48.122544\n",
      "56... 3:32:58.427726\n",
      "57... 3:37:02.482893\n",
      "58... 3:41:01.964140\n",
      "59... 3:45:25.052673\n",
      "60... 3:49:27.981083\n",
      "61... 3:53:19.725734\n",
      "62... 3:56:57.675244\n",
      "63... 4:01:02.303026\n",
      "64... 4:05:01.632298\n",
      "65... 4:09:13.463850\n",
      "66... 4:13:09.975017\n",
      "67... 4:17:14.103502\n",
      "68... 4:21:14.328637\n",
      "69... 4:25:25.863757\n",
      "70... 4:29:50.896622\n",
      "71... 4:33:39.180570\n",
      "72... 4:37:08.754079\n",
      "73... 4:40:38.142074\n",
      "74... 4:44:03.461006\n",
      "75... 4:47:30.055141\n",
      "76... 4:51:49.714509\n",
      "77... 4:55:21.796425\n",
      "78... 4:59:21.206959\n",
      "79... 5:02:41.904210\n",
      "80... 5:06:14.055806\n",
      "81... 5:09:59.851821\n",
      "82... 5:13:25.271990\n",
      "83... 5:16:48.940894\n",
      "84... 5:20:40.676847\n",
      "85... 5:24:18.974644\n",
      "86... 5:27:42.432799\n",
      "87... 5:31:04.227710\n",
      "88... 5:34:25.762507\n",
      "89... 5:37:47.402351\n",
      "90... 5:41:15.997627\n",
      "91... 5:44:38.891453\n",
      "92... 5:48:00.233816\n",
      "93... 5:51:25.055775\n",
      "94... 5:54:47.726031\n",
      "95... 5:58:14.110214\n",
      "96... 6:01:52.471046\n",
      "97... 6:05:33.191237\n",
      "98... 6:09:05.021089\n",
      "99... 6:12:33.996461\n",
      "100... 6:16:00.788929\n",
      "101... 6:19:25.917170\n",
      "102... 6:22:52.208316\n",
      "103... 6:26:18.864301\n",
      "104... 6:29:47.549010\n",
      "105... 6:33:08.706954\n",
      "106... 6:36:29.661785\n",
      "107... 6:39:54.575039\n",
      "108... 6:43:23.698672\n",
      "109... 6:48:08.498785\n",
      "110... 6:51:36.067323\n",
      "111... 6:55:01.292388\n",
      "112... 6:58:26.705467\n",
      "113... 7:01:54.948330\n",
      "114... 7:05:31.338734\n",
      "115... 7:09:01.834517\n",
      "116... 7:12:50.396081\n",
      "117... 7:16:58.936442\n",
      "118... 7:20:52.594022\n",
      "119... 7:24:47.468998\n",
      "120... 7:28:44.006597\n",
      "121... 7:32:49.452388\n",
      "122... 7:36:36.748007\n",
      "123... 7:40:23.754936\n",
      "124... 7:44:26.698272\n",
      "125... 7:48:15.924427\n",
      "126... 7:52:17.070205\n",
      "127... 7:56:27.101267\n",
      "128... 8:00:03.411419\n",
      "129... 8:03:26.153756\n",
      "130... 8:06:50.316620\n",
      "131... 8:10:12.980367\n",
      "132... 8:13:38.516714\n",
      "133... 8:17:01.963554\n",
      "134... 8:20:25.385989\n",
      "135... 8:23:49.301791\n",
      "136... 8:27:14.866854\n",
      "137... 8:30:38.577800\n",
      "138... 8:34:03.508029\n",
      "139... 8:37:27.502227\n",
      "140... 8:40:50.668060\n",
      "141... 8:44:16.139332\n",
      "142... 8:47:41.355899\n",
      "143... 8:51:05.381008\n",
      "144... 8:54:28.751897\n",
      "145... 8:57:53.558630\n",
      "146... 9:01:17.936279\n",
      "147... 9:04:43.836575\n",
      "148... 9:08:10.217512\n",
      "149... 9:11:32.966605\n",
      "150... 9:14:58.705934\n",
      "151... 9:18:19.296162\n",
      "152... 9:21:40.544907\n",
      "153... 9:25:01.524361\n",
      "154... 9:28:22.293440\n",
      "155... 9:31:42.635262\n",
      "156... 9:35:04.468504\n",
      "157... 9:38:26.000318\n",
      "158... 9:41:47.859079\n",
      "159... 9:45:10.867866\n",
      "160... 9:48:31.034240\n",
      "161... 9:51:55.445269\n",
      "162... 9:55:14.863550\n",
      "163... 9:58:38.549644\n",
      "164... 10:02:00.022682\n",
      "165... 10:05:20.070786\n",
      "166... 10:10:06.775550\n",
      "167... 10:13:52.310416\n",
      "168... 10:17:32.876848\n",
      "169... 10:21:19.065201\n",
      "170... 10:24:59.523494\n",
      "171... 10:28:40.854499\n",
      "172... 10:32:23.112580\n",
      "173... 10:36:03.023270\n",
      "174... 10:39:42.631973\n",
      "175... 10:43:23.827550\n",
      "176... 10:47:03.108126\n",
      "177... 10:50:50.927923\n",
      "178... 10:54:25.132257\n",
      "179... 10:57:43.799522\n",
      "180... 11:01:03.528706\n",
      "181... 11:04:22.915764\n",
      "182... 11:07:43.493989\n",
      "183... 11:11:03.056059\n",
      "184... 11:14:23.194241\n",
      "185... 11:17:42.086339\n",
      "186... 11:21:01.229220\n",
      "187... 11:24:27.132041\n",
      "188... 11:27:44.790483\n",
      "189... 11:31:02.475745\n",
      "190... 11:34:19.362081\n",
      "191... 11:37:35.991599\n",
      "192... 11:40:53.920883\n",
      "193... 11:44:13.296784\n",
      "194... 11:47:30.691221\n",
      "195... 11:50:53.146372\n",
      "196... 11:54:09.924647\n",
      "197... 11:57:27.432623\n",
      "198... 12:00:44.449292\n",
      "199... 12:04:02.650624\n",
      "200... 12:07:22.878140\n",
      "201... 12:10:41.589342\n",
      "202... 12:13:59.431178\n",
      "203... 12:17:15.038336\n",
      "204... 12:20:32.446353\n",
      "205... 12:23:51.818928\n",
      "206... 12:27:09.095702\n",
      "207... 12:30:27.166198\n",
      "208... 12:33:46.087500\n",
      "209... 12:37:02.600552\n",
      "210... 12:40:19.858813\n",
      "211... 12:43:37.073258\n",
      "212... 12:46:54.816180\n",
      "213... 12:50:11.639148\n",
      "214... 12:53:30.288435\n",
      "215... 12:56:50.178607\n",
      "216... 13:00:07.380037\n",
      "217... 13:03:25.216922\n",
      "218... 13:06:42.963731\n",
      "219... 13:10:04.623156\n",
      "220... 13:13:23.676044\n",
      "221... 13:16:41.462696\n",
      "222... 13:20:00.293357\n",
      "223... 13:23:17.448394\n",
      "224... 13:26:36.817911\n",
      "225... 13:29:54.366008\n",
      "226... 13:33:12.662943\n",
      "227... 13:36:32.147717\n",
      "228... 13:39:50.076787\n",
      "229... 13:43:06.599198\n",
      "230... 13:46:24.934780\n",
      "231... 13:49:43.991965\n",
      "232... 13:53:05.307678\n",
      "233... 13:56:28.859336\n",
      "234... 13:59:45.891257\n",
      "235... 14:03:03.745060\n",
      "236... 14:06:22.169626\n",
      "237... 14:09:39.445747\n",
      "238... 14:12:57.249367\n",
      "239... 14:16:15.203833\n",
      "240... 14:19:31.810963\n",
      "241... 14:22:49.930854\n",
      "242... 14:26:08.297925\n",
      "243... 14:29:26.883222\n",
      "244... 14:32:44.363627\n",
      "245... 14:36:01.336122\n",
      "246... 14:39:17.727494\n",
      "247... 14:42:35.680942\n",
      "248... 14:45:53.440247\n",
      "249... 14:49:12.388515\n",
      "250... 14:52:30.692444\n",
      "251... 14:55:47.993622\n",
      "252... 14:59:07.314079\n",
      "253... 15:02:29.176539\n",
      "254... 15:05:45.435771\n",
      "255... 15:09:05.080601\n",
      "256... 15:12:21.247971\n",
      "257... 15:15:38.427464\n",
      "258... 15:18:55.175953\n",
      "259... 15:22:12.934884\n",
      "260... 15:25:31.453558\n",
      "261... 15:28:49.883434\n",
      "262... 15:32:08.074978\n",
      "263... 15:35:23.789318\n",
      "264... 15:38:40.477466\n",
      "265... 15:41:57.894683\n",
      "266... 15:45:15.874284\n",
      "267... 15:48:33.616549\n",
      "268... 15:51:52.027009\n",
      "269... 15:55:07.810004\n",
      "270... 15:58:27.741169\n",
      "271... 16:01:50.758150\n",
      "272... 16:05:08.752025\n",
      "273... 16:08:27.055137\n",
      "274... 16:11:44.277190\n",
      "275... 16:15:04.077521\n",
      "276... 16:18:21.101830\n",
      "277... 16:21:38.266614\n",
      "278... 16:24:56.921061\n",
      "279... 16:28:14.092267\n",
      "280... 16:31:32.503933\n",
      "281... 16:34:51.790951\n",
      "282... 16:38:07.983968\n",
      "283... 16:41:26.040239\n",
      "284... 16:44:43.861060\n",
      "285... 16:48:02.167281\n",
      "286... 16:51:19.917342\n",
      "287... 16:54:36.683157\n",
      "288... 16:57:54.107295\n",
      "289... 17:01:16.216478\n",
      "290... 17:04:36.782243\n",
      "291... 17:07:55.204150\n",
      "292... 17:11:12.266135\n",
      "293... 17:14:30.455370\n",
      "294... 17:17:46.965347\n",
      "295... 17:21:04.960495\n",
      "296... 17:24:26.213195\n",
      "297... 17:27:43.934305\n",
      "298... 17:31:01.615638\n",
      "299... 17:34:19.219751\n",
      "300... 17:37:35.769314\n",
      "301... 17:40:54.459616\n",
      "302... 17:44:13.793491\n",
      "303... 17:47:32.423747\n",
      "304... 17:50:50.854721\n",
      "305... 17:54:08.164250\n",
      "306... 17:57:25.667332\n",
      "307... 18:00:45.047375\n",
      "308... 18:04:02.368475\n",
      "309... 18:07:24.597441\n",
      "310... 18:10:43.930928\n",
      "311... 18:14:00.271418\n",
      "312... 18:17:17.966342\n",
      "313... 18:20:36.377493\n",
      "314... 18:23:53.812552\n",
      "315... 18:27:13.408495\n",
      "316... 18:30:31.665265\n",
      "317... 18:33:48.462151\n",
      "318... 18:37:04.809187\n",
      "319... 18:40:26.934437\n",
      "320... 18:43:46.365370\n",
      "321... 18:47:03.787695\n",
      "322... 18:50:22.404240\n",
      "323... 18:53:38.483879\n",
      "324... 18:56:56.151138\n",
      "325... 19:00:14.944566\n",
      "326... 19:03:35.286468\n",
      "327... 19:06:53.313459\n",
      "328... 19:10:17.357163\n",
      "329... 19:13:33.084554\n",
      "330... 19:16:50.001131\n",
      "331... 19:20:06.701898\n",
      "332... 19:23:22.961115\n",
      "333... 19:26:41.877594\n",
      "334... 19:29:57.552286\n",
      "335... 19:33:14.023831\n",
      "336... 19:36:31.875346\n",
      "337... 19:39:49.693393\n",
      "338... 19:43:07.108534\n",
      "339... 19:46:23.637005\n",
      "340... 19:49:40.283454\n",
      "341... 19:52:59.579995\n",
      "342... 19:56:17.259835\n",
      "343... 19:59:33.660828\n",
      "344... 20:02:49.469503\n",
      "345... 20:06:09.864145\n",
      "346... 20:09:31.808879\n",
      "347... 20:12:50.263660\n",
      "348... 20:16:11.065627\n",
      "349... 20:20:06.871047\n",
      "350... 20:23:30.744401\n",
      "351... 20:26:50.558984\n",
      "352... 20:30:12.930857\n",
      "353... 20:33:34.270394\n",
      "354... 20:36:54.261987\n",
      "355... 20:40:15.002510\n",
      "356... 20:43:34.914254\n",
      "357... 20:46:56.641865\n",
      "358... 20:50:15.794057\n",
      "359... 20:53:34.337814\n",
      "360... 20:56:53.231015\n",
      "361... 21:00:10.839379\n",
      "362... 21:03:30.019016\n",
      "363... 21:06:52.711413\n",
      "364... 21:10:22.304650\n",
      "365... 21:13:42.984182\n",
      "366... 21:17:02.891780\n",
      "367... 21:20:21.792440\n",
      "368... 21:23:40.321131\n",
      "369... 21:27:00.849314\n",
      "370... 21:30:21.980014\n",
      "371... 21:33:42.504374\n",
      "372... 21:37:01.508804\n",
      "373... 21:40:21.378210\n",
      "374... 21:43:42.219912\n",
      "375... 21:47:00.957435\n",
      "376... 21:50:21.744425\n",
      "377... 21:53:44.227703\n",
      "378... 21:57:05.734318\n",
      "379... 22:00:25.767540\n",
      "380... 22:03:46.475038\n",
      "381... 22:07:09.372208\n",
      "382... 22:10:33.389302\n",
      "383... 22:13:52.558752\n",
      "384... 22:17:12.443413\n",
      "385... 22:20:30.489003\n",
      "386... 22:23:51.136142\n",
      "387... 22:27:10.972884\n",
      "388... 22:30:32.158054\n",
      "389... 22:33:52.627509\n",
      "390... 22:37:12.983910\n",
      "391... 22:40:32.781468\n",
      "392... 22:43:53.040308\n",
      "393... 22:47:11.391342\n",
      "394... 22:50:32.064922\n",
      "395... 22:53:52.951681\n",
      "396... 22:57:13.158130\n",
      "397... 23:00:33.988314\n",
      "398... 23:03:55.623565\n",
      "399... 23:07:15.616208\n",
      "400... 23:10:37.345038\n",
      "401... 23:14:04.384460\n",
      "402... 23:17:24.611163\n",
      "403... 23:20:42.888387\n",
      "404... 23:24:02.614972\n",
      "405... 23:27:21.296596\n",
      "406... 23:30:42.217993\n",
      "407... 23:34:01.137082\n",
      "408... 23:37:19.633619\n",
      "409... 23:40:41.665538\n",
      "410... 23:44:00.631488\n",
      "411... 23:47:21.378637\n",
      "412... 23:50:42.260252\n",
      "413... 23:54:02.772241\n",
      "414... 23:57:21.384347\n",
      "415... 1 day, 0:00:42.016097\n",
      "416... 1 day, 0:04:02.585688\n",
      "417... 1 day, 0:07:24.084892\n",
      "418... 1 day, 0:10:45.236285\n",
      "419... 1 day, 0:14:05.263718\n",
      "420... 1 day, 0:17:27.639423\n",
      "421... 1 day, 0:20:46.944436\n",
      "422... 1 day, 0:24:08.082040\n",
      "423... 1 day, 0:27:28.268556\n",
      "424... 1 day, 0:30:48.451240\n",
      "425... 1 day, 0:34:20.884608\n",
      "426... "
     ]
    },
    {
     "ename": "KeyboardInterrupt",
     "evalue": "",
     "output_type": "error",
     "traceback": [
      "\u001b[0;31m---------------------------------------------------------------------------\u001b[0m",
      "\u001b[0;31mKeyboardInterrupt\u001b[0m                         Traceback (most recent call last)",
      "\u001b[0;32m<timed exec>\u001b[0m in \u001b[0;36m<module>\u001b[0;34m\u001b[0m\n",
      "\u001b[0;32m~/dev/imldiff/imldiff/diro2c_wrapper.py\u001b[0m in \u001b[0;36mgenerate_local_explanation\u001b[0;34m(self, idx_explain, gn_population_size)\u001b[0m\n\u001b[1;32m     47\u001b[0m \u001b[0;34m\u001b[0m\u001b[0m\n\u001b[1;32m     48\u001b[0m     \u001b[0;32mdef\u001b[0m \u001b[0mgenerate_local_explanation\u001b[0m\u001b[0;34m(\u001b[0m\u001b[0mself\u001b[0m\u001b[0;34m,\u001b[0m \u001b[0midx_explain\u001b[0m\u001b[0;34m,\u001b[0m \u001b[0mgn_population_size\u001b[0m\u001b[0;34m=\u001b[0m\u001b[0;36m5000\u001b[0m\u001b[0;34m)\u001b[0m\u001b[0;34m:\u001b[0m\u001b[0;34m\u001b[0m\u001b[0;34m\u001b[0m\u001b[0m\n\u001b[0;32m---> 49\u001b[0;31m         return self._generate_explanation(neighbor_generator.get_modified_genetic_neighborhood, gn_population_size,\n\u001b[0m\u001b[1;32m     50\u001b[0m                                           idx_explain)\n\u001b[1;32m     51\u001b[0m \u001b[0;34m\u001b[0m\u001b[0m\n",
      "\u001b[0;32m~/dev/imldiff/imldiff/diro2c_wrapper.py\u001b[0m in \u001b[0;36m_generate_explanation\u001b[0;34m(self, generation_func, gn_population_size, idx_explain)\u001b[0m\n\u001b[1;32m     55\u001b[0m \u001b[0;34m\u001b[0m\u001b[0m\n\u001b[1;32m     56\u001b[0m     \u001b[0;32mdef\u001b[0m \u001b[0m_generate_explanation\u001b[0m\u001b[0;34m(\u001b[0m\u001b[0mself\u001b[0m\u001b[0;34m,\u001b[0m \u001b[0mgeneration_func\u001b[0m\u001b[0;34m,\u001b[0m \u001b[0mgn_population_size\u001b[0m\u001b[0;34m,\u001b[0m \u001b[0midx_explain\u001b[0m\u001b[0;34m=\u001b[0m\u001b[0;36m0\u001b[0m\u001b[0;34m)\u001b[0m\u001b[0;34m:\u001b[0m\u001b[0;34m\u001b[0m\u001b[0;34m\u001b[0m\u001b[0m\n\u001b[0;32m---> 57\u001b[0;31m         return diro2c.recognize_diff(idx_explain, self.X, self.dataset, self.clf_a, self.clf_b, self.method,\n\u001b[0m\u001b[1;32m     58\u001b[0m                                      generation_func, gn_population_size=gn_population_size)\n\u001b[1;32m     59\u001b[0m \u001b[0;34m\u001b[0m\u001b[0m\n",
      "\u001b[0;32m~/dev/imldiff/diro2c/diro2c.py\u001b[0m in \u001b[0;36mrecognize_diff\u001b[0;34m(idx_instance_to_rec_diff, X_to_recognize_diff, dataset, blackbox1, blackbox2, diff_classifier_method, data_generation_function, discrete_use_probabilities, continuous_function_estimation, dtc_max_depth, gn_population_size)\u001b[0m\n\u001b[1;32m     44\u001b[0m     \u001b[0;31m# Modified Genetic Neighborhood\u001b[0m\u001b[0;34m\u001b[0m\u001b[0;34m\u001b[0m\u001b[0m\n\u001b[1;32m     45\u001b[0m     \u001b[0;32melif\u001b[0m \u001b[0mdata_generation_function\u001b[0m \u001b[0;32mis\u001b[0m \u001b[0mneighbor_generator\u001b[0m\u001b[0;34m.\u001b[0m\u001b[0mget_modified_genetic_neighborhood\u001b[0m\u001b[0;34m:\u001b[0m\u001b[0;34m\u001b[0m\u001b[0;34m\u001b[0m\u001b[0m\n\u001b[0;32m---> 46\u001b[0;31m         dict_dataset_diff = data_generation_function(\n\u001b[0m\u001b[1;32m     47\u001b[0m             x, blackbox1, blackbox2, dataset, Z_to_rec_diff, diff_classifier_method, population_size=gn_population_size)\n\u001b[1;32m     48\u001b[0m     \u001b[0;31m# Global Random Data and Modified Genetic Neighborhood\u001b[0m\u001b[0;34m\u001b[0m\u001b[0;34m\u001b[0m\u001b[0m\n",
      "\u001b[0;32m~/dev/imldiff/diro2c/data_generation/neighborhood_generation/neighbor_generator.py\u001b[0m in \u001b[0;36mget_modified_genetic_neighborhood\u001b[0;34m(x, blackbox1, blackbox2, dataset, X_to_recognize_diff, diff_classifier_method, neigtype, population_size, max_steps, is_unique)\u001b[0m\n\u001b[1;32m     80\u001b[0m                               cdist=normalized_euclidean_distance)\n\u001b[1;32m     81\u001b[0m \u001b[0;34m\u001b[0m\u001b[0m\n\u001b[0;32m---> 82\u001b[0;31m     Z = generate_modified_data(x, feature_values, blackbox1, blackbox2, diff_classifier_method, discrete_no_class, continuous, class_name, idx_features,\n\u001b[0m\u001b[1;32m     83\u001b[0m                                \u001b[0mdistance_function\u001b[0m\u001b[0;34m,\u001b[0m \u001b[0mneigtype\u001b[0m\u001b[0;34m=\u001b[0m\u001b[0mneigtype\u001b[0m\u001b[0;34m,\u001b[0m \u001b[0mpopulation_size\u001b[0m\u001b[0;34m=\u001b[0m\u001b[0mpopulation_size\u001b[0m\u001b[0;34m,\u001b[0m \u001b[0mhalloffame_ratio\u001b[0m\u001b[0;34m=\u001b[0m\u001b[0;36m0.1\u001b[0m\u001b[0;34m,\u001b[0m\u001b[0;34m\u001b[0m\u001b[0;34m\u001b[0m\u001b[0m\n\u001b[1;32m     84\u001b[0m                                alpha1=0.5, alpha2=0.5, eta1=1.0, eta2=0.0,  tournsize=3, cxpb=0.5, mutpb=0.2, ngen=10, return_logbook=False, max_steps=max_steps, is_unique=is_unique)\n",
      "\u001b[0;32m~/dev/imldiff/diro2c/data_generation/neighborhood_generation/modified_gpdatagenerator.py\u001b[0m in \u001b[0;36mgenerate_modified_data\u001b[0;34m(x, feature_values, bb1, bb2, diff_classifier_method, discrete, continuous, class_name, idx_features, distance_function, neigtype, population_size, halloffame_ratio, alpha1, alpha2, eta1, eta2, tournsize, cxpb, mutpb, ngen, return_logbook, max_steps, is_unique)\u001b[0m\n\u001b[1;32m    203\u001b[0m                                         \u001b[0mpopulation_size\u001b[0m\u001b[0;34m=\u001b[0m\u001b[0msize_sso\u001b[0m\u001b[0;34m*\u001b[0m\u001b[0mi\u001b[0m\u001b[0;34m,\u001b[0m \u001b[0malpha1\u001b[0m\u001b[0;34m=\u001b[0m\u001b[0malpha1\u001b[0m\u001b[0;34m,\u001b[0m \u001b[0malpha2\u001b[0m\u001b[0;34m=\u001b[0m\u001b[0malpha2\u001b[0m\u001b[0;34m,\u001b[0m \u001b[0meta\u001b[0m\u001b[0;34m=\u001b[0m\u001b[0meta1\u001b[0m\u001b[0;34m,\u001b[0m \u001b[0mmutpb\u001b[0m\u001b[0;34m=\u001b[0m\u001b[0mmutpb\u001b[0m\u001b[0;34m,\u001b[0m\u001b[0;34m\u001b[0m\u001b[0;34m\u001b[0m\u001b[0m\n\u001b[1;32m    204\u001b[0m                                         tournsize=tournsize)\n\u001b[0;32m--> 205\u001b[0;31m             population, halloffame, logbook = fit(toolbox_sso, population_size=size_sso, halloffame_ratio=halloffame_ratio,\n\u001b[0m\u001b[1;32m    206\u001b[0m                                                   cxpb=cxpb, mutpb=mutpb, ngen=ngen, verbose=False)\n\u001b[1;32m    207\u001b[0m \u001b[0;34m\u001b[0m\u001b[0m\n",
      "\u001b[0;32m~/dev/imldiff/diro2c/data_generation/neighborhood_generation/modified_gpdatagenerator.py\u001b[0m in \u001b[0;36mfit\u001b[0;34m(toolbox, population_size, halloffame_ratio, cxpb, mutpb, ngen, verbose)\u001b[0m\n\u001b[1;32m    150\u001b[0m     \u001b[0mstats\u001b[0m\u001b[0;34m.\u001b[0m\u001b[0mregister\u001b[0m\u001b[0;34m(\u001b[0m\u001b[0;34m\"max\"\u001b[0m\u001b[0;34m,\u001b[0m \u001b[0mnp\u001b[0m\u001b[0;34m.\u001b[0m\u001b[0mmax\u001b[0m\u001b[0;34m)\u001b[0m\u001b[0;34m\u001b[0m\u001b[0;34m\u001b[0m\u001b[0m\n\u001b[1;32m    151\u001b[0m \u001b[0;34m\u001b[0m\u001b[0m\n\u001b[0;32m--> 152\u001b[0;31m     population, logbook = algorithms.eaSimple(population, toolbox, cxpb=cxpb, mutpb=mutpb, ngen=ngen,\n\u001b[0m\u001b[1;32m    153\u001b[0m                                               stats=stats, halloffame=halloffame, verbose=verbose)\n\u001b[1;32m    154\u001b[0m \u001b[0;34m\u001b[0m\u001b[0m\n",
      "\u001b[0;32m~/Dev/imldiff/.venv/lib/python3.9/site-packages/deap/algorithms.py\u001b[0m in \u001b[0;36meaSimple\u001b[0;34m(population, toolbox, cxpb, mutpb, ngen, stats, halloffame, verbose)\u001b[0m\n\u001b[1;32m    171\u001b[0m         \u001b[0minvalid_ind\u001b[0m \u001b[0;34m=\u001b[0m \u001b[0;34m[\u001b[0m\u001b[0mind\u001b[0m \u001b[0;32mfor\u001b[0m \u001b[0mind\u001b[0m \u001b[0;32min\u001b[0m \u001b[0moffspring\u001b[0m \u001b[0;32mif\u001b[0m \u001b[0;32mnot\u001b[0m \u001b[0mind\u001b[0m\u001b[0;34m.\u001b[0m\u001b[0mfitness\u001b[0m\u001b[0;34m.\u001b[0m\u001b[0mvalid\u001b[0m\u001b[0;34m]\u001b[0m\u001b[0;34m\u001b[0m\u001b[0;34m\u001b[0m\u001b[0m\n\u001b[1;32m    172\u001b[0m         \u001b[0mfitnesses\u001b[0m \u001b[0;34m=\u001b[0m \u001b[0mtoolbox\u001b[0m\u001b[0;34m.\u001b[0m\u001b[0mmap\u001b[0m\u001b[0;34m(\u001b[0m\u001b[0mtoolbox\u001b[0m\u001b[0;34m.\u001b[0m\u001b[0mevaluate\u001b[0m\u001b[0;34m,\u001b[0m \u001b[0minvalid_ind\u001b[0m\u001b[0;34m)\u001b[0m\u001b[0;34m\u001b[0m\u001b[0;34m\u001b[0m\u001b[0m\n\u001b[0;32m--> 173\u001b[0;31m         \u001b[0;32mfor\u001b[0m \u001b[0mind\u001b[0m\u001b[0;34m,\u001b[0m \u001b[0mfit\u001b[0m \u001b[0;32min\u001b[0m \u001b[0mzip\u001b[0m\u001b[0;34m(\u001b[0m\u001b[0minvalid_ind\u001b[0m\u001b[0;34m,\u001b[0m \u001b[0mfitnesses\u001b[0m\u001b[0;34m)\u001b[0m\u001b[0;34m:\u001b[0m\u001b[0;34m\u001b[0m\u001b[0;34m\u001b[0m\u001b[0m\n\u001b[0m\u001b[1;32m    174\u001b[0m             \u001b[0mind\u001b[0m\u001b[0;34m.\u001b[0m\u001b[0mfitness\u001b[0m\u001b[0;34m.\u001b[0m\u001b[0mvalues\u001b[0m \u001b[0;34m=\u001b[0m \u001b[0mfit\u001b[0m\u001b[0;34m\u001b[0m\u001b[0;34m\u001b[0m\u001b[0m\n\u001b[1;32m    175\u001b[0m \u001b[0;34m\u001b[0m\u001b[0m\n",
      "\u001b[0;32m~/dev/imldiff/diro2c/data_generation/neighborhood_generation/modified_gpdatagenerator.py\u001b[0m in \u001b[0;36mfitness_sso\u001b[0;34m(x0, bb1, bb2, diff_classifier_method, alpha1, alpha2, eta, discrete, continuous, class_name, idx_features, distance_function, x1)\u001b[0m\n\u001b[1;32m     41\u001b[0m     \u001b[0mrecord_similarity\u001b[0m \u001b[0;34m=\u001b[0m \u001b[0;36m0.0\u001b[0m \u001b[0;32mif\u001b[0m \u001b[0msim_ratio\u001b[0m \u001b[0;34m>=\u001b[0m \u001b[0meta\u001b[0m \u001b[0;32melse\u001b[0m \u001b[0msim_ratio\u001b[0m\u001b[0;34m\u001b[0m\u001b[0;34m\u001b[0m\u001b[0m\n\u001b[1;32m     42\u001b[0m \u001b[0;34m\u001b[0m\u001b[0m\n\u001b[0;32m---> 43\u001b[0;31m     y0 = bb1.predict(np.asarray(x1).reshape(\n\u001b[0m\u001b[1;32m     44\u001b[0m         1, -1))[0]\n\u001b[1;32m     45\u001b[0m     y1 = bb2.predict(np.asarray(x1).reshape(\n",
      "\u001b[0;32m~/dev/imldiff/imldiff/util.py\u001b[0m in \u001b[0;36mpredict\u001b[0;34m(self, X)\u001b[0m\n\u001b[1;32m    230\u001b[0m     \u001b[0;32mdef\u001b[0m \u001b[0mpredict\u001b[0m\u001b[0;34m(\u001b[0m\u001b[0mself\u001b[0m\u001b[0;34m,\u001b[0m \u001b[0mX\u001b[0m\u001b[0;34m)\u001b[0m\u001b[0;34m:\u001b[0m\u001b[0;34m\u001b[0m\u001b[0;34m\u001b[0m\u001b[0m\n\u001b[1;32m    231\u001b[0m         \u001b[0;32mreturn\u001b[0m \u001b[0;34m(\u001b[0m\u001b[0mself\u001b[0m\u001b[0;34m.\u001b[0m\u001b[0mcomparer\u001b[0m\u001b[0;34m.\u001b[0m\u001b[0mclf_a\u001b[0m\u001b[0;34m.\u001b[0m\u001b[0mpredict\u001b[0m\u001b[0;34m(\u001b[0m\u001b[0mX\u001b[0m\u001b[0;34m)\u001b[0m \u001b[0;34m==\u001b[0m \u001b[0mself\u001b[0m\u001b[0;34m.\u001b[0m\u001b[0mlabel_explain_a\u001b[0m\u001b[0;34m)\u001b[0m \u001b[0;34m&\u001b[0m\u001b[0;31m \u001b[0m\u001b[0;31m\\\u001b[0m\u001b[0;34m\u001b[0m\u001b[0;34m\u001b[0m\u001b[0m\n\u001b[0;32m--> 232\u001b[0;31m                \u001b[0;34m(\u001b[0m\u001b[0mself\u001b[0m\u001b[0;34m.\u001b[0m\u001b[0mcomparer\u001b[0m\u001b[0;34m.\u001b[0m\u001b[0mclf_b\u001b[0m\u001b[0;34m.\u001b[0m\u001b[0mpredict\u001b[0m\u001b[0;34m(\u001b[0m\u001b[0mX\u001b[0m\u001b[0;34m)\u001b[0m \u001b[0;34m==\u001b[0m \u001b[0mself\u001b[0m\u001b[0;34m.\u001b[0m\u001b[0mlabel_explain_b\u001b[0m\u001b[0;34m)\u001b[0m\u001b[0;34m\u001b[0m\u001b[0;34m\u001b[0m\u001b[0m\n\u001b[0m\u001b[1;32m    233\u001b[0m \u001b[0;34m\u001b[0m\u001b[0m\n\u001b[1;32m    234\u001b[0m \u001b[0;34m\u001b[0m\u001b[0m\n",
      "\u001b[0;32m~/Dev/imldiff/.venv/lib/python3.9/site-packages/xgboost/sklearn.py\u001b[0m in \u001b[0;36mpredict\u001b[0;34m(self, X, output_margin, ntree_limit, validate_features, base_margin, iteration_range)\u001b[0m\n\u001b[1;32m   1207\u001b[0m         \u001b[0miteration_range\u001b[0m\u001b[0;34m:\u001b[0m \u001b[0mOptional\u001b[0m\u001b[0;34m[\u001b[0m\u001b[0mTuple\u001b[0m\u001b[0;34m[\u001b[0m\u001b[0mint\u001b[0m\u001b[0;34m,\u001b[0m \u001b[0mint\u001b[0m\u001b[0;34m]\u001b[0m\u001b[0;34m]\u001b[0m \u001b[0;34m=\u001b[0m \u001b[0;32mNone\u001b[0m\u001b[0;34m,\u001b[0m\u001b[0;34m\u001b[0m\u001b[0;34m\u001b[0m\u001b[0m\n\u001b[1;32m   1208\u001b[0m     ):\n\u001b[0;32m-> 1209\u001b[0;31m         class_probs = super().predict(\n\u001b[0m\u001b[1;32m   1210\u001b[0m             \u001b[0mX\u001b[0m\u001b[0;34m=\u001b[0m\u001b[0mX\u001b[0m\u001b[0;34m,\u001b[0m\u001b[0;34m\u001b[0m\u001b[0;34m\u001b[0m\u001b[0m\n\u001b[1;32m   1211\u001b[0m             \u001b[0moutput_margin\u001b[0m\u001b[0;34m=\u001b[0m\u001b[0moutput_margin\u001b[0m\u001b[0;34m,\u001b[0m\u001b[0;34m\u001b[0m\u001b[0;34m\u001b[0m\u001b[0m\n",
      "\u001b[0;32m~/Dev/imldiff/.venv/lib/python3.9/site-packages/xgboost/sklearn.py\u001b[0m in \u001b[0;36mpredict\u001b[0;34m(self, X, output_margin, ntree_limit, validate_features, base_margin, iteration_range)\u001b[0m\n\u001b[1;32m    818\u001b[0m         \u001b[0;32mif\u001b[0m \u001b[0mself\u001b[0m\u001b[0;34m.\u001b[0m\u001b[0m_can_use_inplace_predict\u001b[0m\u001b[0;34m(\u001b[0m\u001b[0;34m)\u001b[0m\u001b[0;34m:\u001b[0m\u001b[0;34m\u001b[0m\u001b[0;34m\u001b[0m\u001b[0m\n\u001b[1;32m    819\u001b[0m             \u001b[0;32mtry\u001b[0m\u001b[0;34m:\u001b[0m\u001b[0;34m\u001b[0m\u001b[0;34m\u001b[0m\u001b[0m\n\u001b[0;32m--> 820\u001b[0;31m                 predts = self.get_booster().inplace_predict(\n\u001b[0m\u001b[1;32m    821\u001b[0m                     \u001b[0mdata\u001b[0m\u001b[0;34m=\u001b[0m\u001b[0mX\u001b[0m\u001b[0;34m,\u001b[0m\u001b[0;34m\u001b[0m\u001b[0;34m\u001b[0m\u001b[0m\n\u001b[1;32m    822\u001b[0m                     \u001b[0miteration_range\u001b[0m\u001b[0;34m=\u001b[0m\u001b[0miteration_range\u001b[0m\u001b[0;34m,\u001b[0m\u001b[0;34m\u001b[0m\u001b[0;34m\u001b[0m\u001b[0m\n",
      "\u001b[0;32m~/Dev/imldiff/.venv/lib/python3.9/site-packages/xgboost/core.py\u001b[0m in \u001b[0;36minplace_predict\u001b[0;34m(self, data, iteration_range, predict_type, missing, validate_features, base_margin, strict_shape)\u001b[0m\n\u001b[1;32m   1845\u001b[0m             \u001b[0mdata\u001b[0m \u001b[0;34m=\u001b[0m \u001b[0m_maybe_np_slice\u001b[0m\u001b[0;34m(\u001b[0m\u001b[0mdata\u001b[0m\u001b[0;34m,\u001b[0m \u001b[0mdata\u001b[0m\u001b[0;34m.\u001b[0m\u001b[0mdtype\u001b[0m\u001b[0;34m)\u001b[0m\u001b[0;34m\u001b[0m\u001b[0;34m\u001b[0m\u001b[0m\n\u001b[1;32m   1846\u001b[0m             _check_call(\n\u001b[0;32m-> 1847\u001b[0;31m                 _LIB.XGBoosterPredictFromDense(\n\u001b[0m\u001b[1;32m   1848\u001b[0m                     \u001b[0mself\u001b[0m\u001b[0;34m.\u001b[0m\u001b[0mhandle\u001b[0m\u001b[0;34m,\u001b[0m\u001b[0;34m\u001b[0m\u001b[0;34m\u001b[0m\u001b[0m\n\u001b[1;32m   1849\u001b[0m                     \u001b[0m_array_interface\u001b[0m\u001b[0;34m(\u001b[0m\u001b[0mdata\u001b[0m\u001b[0;34m)\u001b[0m\u001b[0;34m,\u001b[0m\u001b[0;34m\u001b[0m\u001b[0;34m\u001b[0m\u001b[0m\n",
      "\u001b[0;31mKeyboardInterrupt\u001b[0m: "
     ]
    }
   ],
   "source": [
    "%%time\n",
    "started = datetime.now()\n",
    "for instance_idx in instance_indices:\n",
    "    print(str(instance_idx), end='... ')\n",
    "    explanation = explainer.generate_local_explanation(instance_idx)\n",
    "    with open(f'./diro2c-datasets/{focus_class}.{instance_idx}.pickle', 'wb') as f:\n",
    "        pickle.dump(explanation, f)\n",
    "    print(datetime.now() - started)"
   ]
  },
  {
   "cell_type": "code",
   "execution_count": 24,
   "id": "25e27c3f-30cd-4532-82cf-6d94cb6dd831",
   "metadata": {},
   "outputs": [],
   "source": [
    "explanations = []\n",
    "for instance_idx in instance_indices:\n",
    "    with open(f'./diro2c-datasets/{focus_class}.{instance_idx}.pickle', 'rb') as f:\n",
    "        explanation = pickle.load(f)\n",
    "    explanations.append(explanation)"
   ]
  },
  {
   "cell_type": "code",
   "execution_count": 25,
   "id": "7358c910-9a71-4238-82cb-cf9f17da584d",
   "metadata": {},
   "outputs": [],
   "source": [
    "with open(f'ground_truth.{focus_class}.pickle', 'rb') as f:\n",
    "    ground_truth_instance_indices, ground_truth = pickle.load(f)"
   ]
  },
  {
   "cell_type": "code",
   "execution_count": 26,
   "id": "f1ff6131-a156-47de-87cf-6703ecd5c729",
   "metadata": {},
   "outputs": [],
   "source": [
    "X_explain = np.concatenate([explanation['binary_diff_classifer']['evaluation_info']['X']\n",
    "                            for explanation in explanations])\n",
    "y_explain = np.concatenate([explanation['binary_diff_classifer']['evaluation_info']['y']\n",
    "                            for explanation in explanations])"
   ]
  },
  {
   "cell_type": "code",
   "execution_count": 130,
   "id": "4f4913ef-83c7-4327-9db6-b8a6ae9abe9a",
   "metadata": {},
   "outputs": [
    {
     "data": {
      "text/plain": [
       "1023461"
      ]
     },
     "execution_count": 130,
     "metadata": {},
     "output_type": "execute_result"
    }
   ],
   "source": [
    "len(X_explain)"
   ]
  },
  {
   "cell_type": "code",
   "execution_count": 27,
   "id": "92abb348-e05b-4e90-bd74-bd9cbf147d1d",
   "metadata": {},
   "outputs": [],
   "source": [
    "explanation = explanations[0]\n",
    "set_generated_data(explanation, X_explain, y_explain)"
   ]
  },
  {
   "cell_type": "code",
   "execution_count": 29,
   "id": "85370a6f-89a2-4d12-bb7a-e26c996a643e",
   "metadata": {},
   "outputs": [
    {
     "name": "stderr",
     "output_type": "stream",
     "text": [
      "Use subset (sliced data) of np.ndarray is not recommended because it will generate extra copies and increase memory consumption\n"
     ]
    },
    {
     "data": {
      "image/png": "[encoded data removed]",
      "text/plain": [
       "<Figure size 432x288 with 2 Axes>"
      ]
     },
     "metadata": {
      "needs_background": "light"
     },
     "output_type": "display_data"
    }
   ],
   "source": [
    "comparer.plot_confusion_matrix(X_explain)\n",
    "plt.savefig('adult-cf-diro2c.pdf')"
   ]
  },
  {
   "cell_type": "code",
   "execution_count": 30,
   "id": "7e52e043-11dc-4386-a6e3-bdd10ed274f4",
   "metadata": {
    "tags": []
   },
   "outputs": [
    {
     "data": {
      "image/png": "[encoded data removed]",
      "text/plain": [
       "<Figure size 504x504 with 1 Axes>"
      ]
     },
     "metadata": {
      "needs_background": "light"
     },
     "output_type": "display_data"
    }
   ],
   "source": [
    "plot_diro2c_2d(explanation, 'Relationship', 'Hours per week')"
   ]
  },
  {
   "cell_type": "markdown",
   "id": "c6907434-e090-4748-925e-ea5b9cc63dcc",
   "metadata": {},
   "source": [
    "### Find Optimal Solution"
   ]
  },
  {
   "cell_type": "code",
   "execution_count": 31,
   "id": "06e511f0-30e9-40d1-a170-41b801fdf903",
   "metadata": {},
   "outputs": [
    {
     "name": "stdout",
     "output_type": "stream",
     "text": [
      "CPU times: user 2min 40s, sys: 1.52 s, total: 2min 42s\n",
      "Wall time: 2min 52s\n"
     ]
    }
   ],
   "source": [
    "%%time\n",
    "metrics = search_max_depth_parameter(explanation, X, y_true=y_true, start=2, stop=20)"
   ]
  },
  {
   "cell_type": "code",
   "execution_count": 129,
   "id": "8561dd8c-9f44-4052-b76e-0272fb10f9a8",
   "metadata": {},
   "outputs": [
    {
     "data": {
      "image/png": "[encoded data removed]",
      "text/plain": [
       "<Figure size 432x288 with 1 Axes>"
      ]
     },
     "metadata": {
      "needs_background": "light"
     },
     "output_type": "display_data"
    }
   ],
   "source": [
    "df = metrics.reset_index()\n",
    "ax = df.plot(kind='scatter', x='index', y='precision', label='precision', color='r', alpha=0.5)\n",
    "df.plot(kind='scatter', x='index', y='recall', label='recall', color='b', alpha=0.5, ax=ax)\n",
    "plt.xlabel('max_depth')\n",
    "plt.ylabel('score')\n",
    "plt.xticks([i for i in range(1, 21) if i%2 != 1])\n",
    "plt.savefig('adult-diro2c-pr-curve.pdf')"
   ]
  },
  {
   "cell_type": "markdown",
   "id": "fbde7f3a-8655-4f84-ad7b-cc276a6a84c2",
   "metadata": {},
   "source": [
    "- setting 4 has 75\\% recall and a slightly better precision than setting 3, although not perfect it will serve as the global explanation\n",
    "- setting 8 is the lowest where recall is perfect. it will serve as the local explanations\n",
    "- setting 16 has perfect recall and a precision of over 50\\%\n",
    "- setting 20 has both recall and precision perfect"
   ]
  },
  {
   "cell_type": "code",
   "execution_count": 36,
   "id": "4e3055f3-ffdd-4601-b36f-816cce0e8273",
   "metadata": {},
   "outputs": [
    {
     "data": {
      "text/html": [
       "<div>\n",
       "<style scoped>\n",
       "    .dataframe tbody tr th:only-of-type {\n",
       "        vertical-align: middle;\n",
       "    }\n",
       "\n",
       "    .dataframe tbody tr th {\n",
       "        vertical-align: top;\n",
       "    }\n",
       "\n",
       "    .dataframe thead th {\n",
       "        text-align: right;\n",
       "    }\n",
       "</style>\n",
       "<table border=\"1\" class=\"dataframe\">\n",
       "  <thead>\n",
       "    <tr style=\"text-align: right;\">\n",
       "      <th></th>\n",
       "      <th>precision</th>\n",
       "      <th>recall</th>\n",
       "      <th>rules</th>\n",
       "      <th>constraints</th>\n",
       "    </tr>\n",
       "  </thead>\n",
       "  <tbody>\n",
       "    <tr>\n",
       "      <th>2</th>\n",
       "      <td>0.071429</td>\n",
       "      <td>0.083333</td>\n",
       "      <td>1</td>\n",
       "      <td>2</td>\n",
       "    </tr>\n",
       "    <tr>\n",
       "      <th>3</th>\n",
       "      <td>0.066176</td>\n",
       "      <td>0.750000</td>\n",
       "      <td>2</td>\n",
       "      <td>6</td>\n",
       "    </tr>\n",
       "    <tr>\n",
       "      <th>4</th>\n",
       "      <td>0.076923</td>\n",
       "      <td>0.750000</td>\n",
       "      <td>2</td>\n",
       "      <td>8</td>\n",
       "    </tr>\n",
       "    <tr>\n",
       "      <th>5</th>\n",
       "      <td>0.095652</td>\n",
       "      <td>0.916667</td>\n",
       "      <td>3</td>\n",
       "      <td>15</td>\n",
       "    </tr>\n",
       "    <tr>\n",
       "      <th>6</th>\n",
       "      <td>0.101852</td>\n",
       "      <td>0.916667</td>\n",
       "      <td>3</td>\n",
       "      <td>18</td>\n",
       "    </tr>\n",
       "    <tr>\n",
       "      <th>7</th>\n",
       "      <td>0.114583</td>\n",
       "      <td>0.916667</td>\n",
       "      <td>3</td>\n",
       "      <td>20</td>\n",
       "    </tr>\n",
       "    <tr>\n",
       "      <th>8</th>\n",
       "      <td>0.160000</td>\n",
       "      <td>1.000000</td>\n",
       "      <td>4</td>\n",
       "      <td>29</td>\n",
       "    </tr>\n",
       "    <tr>\n",
       "      <th>9</th>\n",
       "      <td>0.148649</td>\n",
       "      <td>0.916667</td>\n",
       "      <td>4</td>\n",
       "      <td>33</td>\n",
       "    </tr>\n",
       "    <tr>\n",
       "      <th>10</th>\n",
       "      <td>0.161765</td>\n",
       "      <td>0.916667</td>\n",
       "      <td>4</td>\n",
       "      <td>35</td>\n",
       "    </tr>\n",
       "    <tr>\n",
       "      <th>11</th>\n",
       "      <td>0.275000</td>\n",
       "      <td>0.916667</td>\n",
       "      <td>4</td>\n",
       "      <td>36</td>\n",
       "    </tr>\n",
       "    <tr>\n",
       "      <th>12</th>\n",
       "      <td>0.275000</td>\n",
       "      <td>0.916667</td>\n",
       "      <td>5</td>\n",
       "      <td>47</td>\n",
       "    </tr>\n",
       "    <tr>\n",
       "      <th>13</th>\n",
       "      <td>0.282051</td>\n",
       "      <td>0.916667</td>\n",
       "      <td>6</td>\n",
       "      <td>60</td>\n",
       "    </tr>\n",
       "    <tr>\n",
       "      <th>14</th>\n",
       "      <td>0.423077</td>\n",
       "      <td>0.916667</td>\n",
       "      <td>6</td>\n",
       "      <td>62</td>\n",
       "    </tr>\n",
       "    <tr>\n",
       "      <th>15</th>\n",
       "      <td>0.550000</td>\n",
       "      <td>0.916667</td>\n",
       "      <td>6</td>\n",
       "      <td>64</td>\n",
       "    </tr>\n",
       "    <tr>\n",
       "      <th>16</th>\n",
       "      <td>0.545455</td>\n",
       "      <td>1.000000</td>\n",
       "      <td>8</td>\n",
       "      <td>88</td>\n",
       "    </tr>\n",
       "    <tr>\n",
       "      <th>17</th>\n",
       "      <td>0.705882</td>\n",
       "      <td>1.000000</td>\n",
       "      <td>8</td>\n",
       "      <td>93</td>\n",
       "    </tr>\n",
       "    <tr>\n",
       "      <th>18</th>\n",
       "      <td>0.857143</td>\n",
       "      <td>1.000000</td>\n",
       "      <td>9</td>\n",
       "      <td>108</td>\n",
       "    </tr>\n",
       "    <tr>\n",
       "      <th>19</th>\n",
       "      <td>0.923077</td>\n",
       "      <td>1.000000</td>\n",
       "      <td>9</td>\n",
       "      <td>114</td>\n",
       "    </tr>\n",
       "    <tr>\n",
       "      <th>20</th>\n",
       "      <td>1.000000</td>\n",
       "      <td>1.000000</td>\n",
       "      <td>9</td>\n",
       "      <td>118</td>\n",
       "    </tr>\n",
       "  </tbody>\n",
       "</table>\n",
       "</div>"
      ],
      "text/plain": [
       "    precision    recall  rules  constraints\n",
       "2    0.071429  0.083333      1            2\n",
       "3    0.066176  0.750000      2            6\n",
       "4    0.076923  0.750000      2            8\n",
       "5    0.095652  0.916667      3           15\n",
       "6    0.101852  0.916667      3           18\n",
       "7    0.114583  0.916667      3           20\n",
       "8    0.160000  1.000000      4           29\n",
       "9    0.148649  0.916667      4           33\n",
       "10   0.161765  0.916667      4           35\n",
       "11   0.275000  0.916667      4           36\n",
       "12   0.275000  0.916667      5           47\n",
       "13   0.282051  0.916667      6           60\n",
       "14   0.423077  0.916667      6           62\n",
       "15   0.550000  0.916667      6           64\n",
       "16   0.545455  1.000000      8           88\n",
       "17   0.705882  1.000000      8           93\n",
       "18   0.857143  1.000000      9          108\n",
       "19   0.923077  1.000000      9          114\n",
       "20   1.000000  1.000000      9          118"
      ]
     },
     "execution_count": 36,
     "metadata": {},
     "output_type": "execute_result"
    }
   ],
   "source": [
    "metrics"
   ]
  },
  {
   "cell_type": "markdown",
   "id": "dc5519ed-0ba8-445d-9093-d40ff92b67b2",
   "metadata": {},
   "source": [
    "### Tree with depth 4 (Global Explanation)"
   ]
  },
  {
   "cell_type": "code",
   "execution_count": 87,
   "id": "8261456b-1274-472b-a35e-ece5d8f2d71c",
   "metadata": {},
   "outputs": [
    {
     "name": "stdout",
     "output_type": "stream",
     "text": [
      "CPU times: user 2.27 s, sys: 64.6 ms, total: 2.33 s\n",
      "Wall time: 2.42 s\n"
     ]
    }
   ],
   "source": [
    "%%time\n",
    "max_depth = 4\n",
    "train_surrogate_tree(explanation, max_depth=max_depth)"
   ]
  },
  {
   "cell_type": "code",
   "execution_count": 88,
   "id": "cddaaf50-5ee6-44a7-82f8-1deba7905983",
   "metadata": {},
   "outputs": [
    {
     "name": "stdout",
     "output_type": "stream",
     "text": [
      "              precision    recall  f1-score   support\n",
      "\n",
      "           0       0.95      0.87      0.91    785783\n",
      "           1       0.67      0.85      0.75    237678\n",
      "\n",
      "    accuracy                           0.87   1023461\n",
      "   macro avg       0.81      0.86      0.83   1023461\n",
      "weighted avg       0.89      0.87      0.87   1023461\n",
      "\n"
     ]
    }
   ],
   "source": [
    "evaluate_generated_data(explanation)"
   ]
  },
  {
   "cell_type": "code",
   "execution_count": 89,
   "id": "12bef09e-e095-45db-9361-00883c431c95",
   "metadata": {},
   "outputs": [
    {
     "name": "stdout",
     "output_type": "stream",
     "text": [
      "              precision    recall  f1-score   support\n",
      "\n",
      "           0       1.00      0.88      0.94       965\n",
      "           1       0.07      0.75      0.14        12\n",
      "\n",
      "    accuracy                           0.88       977\n",
      "   macro avg       0.54      0.82      0.54       977\n",
      "weighted avg       0.99      0.88      0.93       977\n",
      "\n"
     ]
    }
   ],
   "source": [
    "evaluate(explanation, X, y_true);"
   ]
  },
  {
   "cell_type": "code",
   "execution_count": 90,
   "id": "fd1f825c-46d9-4166-a0ab-0d0d42569d4d",
   "metadata": {},
   "outputs": [
    {
     "data": {
      "image/png": "[encoded data removed]",
      "text/plain": [
       "<Figure size 360x360 with 1 Axes>"
      ]
     },
     "metadata": {
      "needs_background": "light"
     },
     "output_type": "display_data"
    }
   ],
   "source": [
    "feature_importances, feature_order = get_feature_importances(explanation)\n",
    "plot_feature_importances(explanation, feature_importances, feature_order, figsize=(5, 5))"
   ]
  },
  {
   "cell_type": "code",
   "execution_count": 91,
   "id": "29c25770-8c06-4db3-a45f-1d162069805e",
   "metadata": {},
   "outputs": [
    {
     "data": {
      "text/plain": [
       "4"
      ]
     },
     "execution_count": 91,
     "metadata": {},
     "output_type": "execute_result"
    }
   ],
   "source": [
    "y = (y_true).astype(int)\n",
    "constraints, rules, class_occurences, instance_indices_per_rule = extract_rules(explanation, X, y)\n",
    "len(rules)"
   ]
  },
  {
   "cell_type": "code",
   "execution_count": 92,
   "id": "286f194f-ca43-449b-a484-fea60dae15c3",
   "metadata": {},
   "outputs": [
    {
     "data": {
      "text/plain": [
       "64     1\n",
       "70     1\n",
       "406    1\n",
       "484    0\n",
       "531    3\n",
       "558    0\n",
       "701    1\n",
       "744    0\n",
       "883    1\n",
       "925    1\n",
       "948    1\n",
       "961    1\n",
       "dtype: int64"
      ]
     },
     "execution_count": 92,
     "metadata": {},
     "output_type": "execute_result"
    }
   ],
   "source": [
    "indices = np.where(y_true)[0]\n",
    "pred_rules = pd.Series(RuleClassifier(feature_names, rules).apply(X[indices]), index=indices)\n",
    "pred_rules"
   ]
  },
  {
   "cell_type": "code",
   "execution_count": 93,
   "id": "9ddfa767-2488-4123-8e3a-f2b3134c24e5",
   "metadata": {},
   "outputs": [],
   "source": [
    "constraints, rules, class_occurences, instance_indices_per_rule = \\\n",
    "    zip(*[el for i, el in enumerate(zip(constraints, rules, class_occurences, instance_indices_per_rule), 1)\n",
    "           if i in np.unique(pred_rules)])"
   ]
  },
  {
   "cell_type": "code",
   "execution_count": 102,
   "id": "57ed5d35-d5e1-49a3-b775-79041b9ce2db",
   "metadata": {},
   "outputs": [
    {
     "name": "stdout",
     "output_type": "stream",
     "text": [
      "\\item $30 < \\mathit{Hoursperweek} \\leq 41 \\land \\mathit{Relationship} > 3 \\land \\mathit{EducationNum} > 9$ [91662, 166008]\n",
      "\\item $\\mathit{Hoursperweek} > 39 \\land \\mathit{Relationship} \\leq 3 \\land \\mathit{EducationNum} > 15 \\land \\mathit{CapitalGain} \\leq 5121$ [4016, 9217]\n"
     ]
    }
   ],
   "source": [
    "rules = constraint_matrix_to_rules(constraints, feature_names, feature_order, feature_precisions, latex=True)\n",
    "for rule, class_occurences in zip(rules, class_occurences):\n",
    "    print(f'\\item ${rule}$ {class_occurences.astype(int).tolist()}')"
   ]
  },
  {
   "cell_type": "markdown",
   "id": "311fce30-36b0-4ab9-b565-d1c3b51f9136",
   "metadata": {},
   "source": [
    "#### Evaluation"
   ]
  },
  {
   "cell_type": "markdown",
   "id": "9dafa65b-f13c-4912-84e4-518c5c613dc1",
   "metadata": {},
   "source": [
    "##### Global Fidelity"
   ]
  },
  {
   "cell_type": "code",
   "execution_count": 103,
   "id": "ac8c0ee9-18ac-4f89-87c1-339d9d5a76b6",
   "metadata": {},
   "outputs": [
    {
     "name": "stdout",
     "output_type": "stream",
     "text": [
      "              precision    recall  f1-score   support\n",
      "\n",
      "           0       1.00      0.88      0.94       965\n",
      "           1       0.07      0.75      0.14        12\n",
      "\n",
      "    accuracy                           0.88       977\n",
      "   macro avg       0.54      0.82      0.54       977\n",
      "weighted avg       0.99      0.88      0.93       977\n",
      "\n"
     ]
    }
   ],
   "source": [
    "global_fidelities[(max_depth, focus_class)] = evaluate(explanation, X, y_true)"
   ]
  },
  {
   "cell_type": "markdown",
   "id": "3384e169-342c-487d-b319-76c1e880d8cc",
   "metadata": {},
   "source": [
    "##### Counterfactual Fidelity Error"
   ]
  },
  {
   "cell_type": "code",
   "execution_count": 104,
   "id": "e3f833f0-6f17-4e95-946d-9e3fbf05d04f",
   "metadata": {},
   "outputs": [
    {
     "name": "stderr",
     "output_type": "stream",
     "text": [
      "invalid value encountered in true_divide\n"
     ]
    }
   ],
   "source": [
    "errors, statistics = evaluate_counterfactual_fidelity(comparer, ground_truth_instance_indices,\n",
    "                                                      ground_truth, instance_indices_per_rule,\n",
    "                                                      constraints)"
   ]
  },
  {
   "cell_type": "code",
   "execution_count": 105,
   "id": "a6f8aaee-b7e8-4ee8-9530-86ae6d50c303",
   "metadata": {},
   "outputs": [
    {
     "data": {
      "text/html": [
       "<div>\n",
       "<style scoped>\n",
       "    .dataframe tbody tr th:only-of-type {\n",
       "        vertical-align: middle;\n",
       "    }\n",
       "\n",
       "    .dataframe tbody tr th {\n",
       "        vertical-align: top;\n",
       "    }\n",
       "\n",
       "    .dataframe thead th {\n",
       "        text-align: right;\n",
       "    }\n",
       "</style>\n",
       "<table border=\"1\" class=\"dataframe\">\n",
       "  <thead>\n",
       "    <tr style=\"text-align: right;\">\n",
       "      <th></th>\n",
       "      <th>RMSE</th>\n",
       "      <th>BMR</th>\n",
       "      <th>BAR</th>\n",
       "    </tr>\n",
       "  </thead>\n",
       "  <tbody>\n",
       "    <tr>\n",
       "      <th>Age</th>\n",
       "      <td>NaN</td>\n",
       "      <td>1.000000</td>\n",
       "      <td>NaN</td>\n",
       "    </tr>\n",
       "    <tr>\n",
       "      <th>Workclass</th>\n",
       "      <td>NaN</td>\n",
       "      <td>1.000000</td>\n",
       "      <td>NaN</td>\n",
       "    </tr>\n",
       "    <tr>\n",
       "      <th>Education-Num</th>\n",
       "      <td>1.827362</td>\n",
       "      <td>0.470588</td>\n",
       "      <td>0.0</td>\n",
       "    </tr>\n",
       "    <tr>\n",
       "      <th>Marital Status</th>\n",
       "      <td>NaN</td>\n",
       "      <td>1.000000</td>\n",
       "      <td>NaN</td>\n",
       "    </tr>\n",
       "    <tr>\n",
       "      <th>Occupation</th>\n",
       "      <td>NaN</td>\n",
       "      <td>1.000000</td>\n",
       "      <td>NaN</td>\n",
       "    </tr>\n",
       "    <tr>\n",
       "      <th>Relationship</th>\n",
       "      <td>1.157557</td>\n",
       "      <td>0.357143</td>\n",
       "      <td>0.0</td>\n",
       "    </tr>\n",
       "    <tr>\n",
       "      <th>Race</th>\n",
       "      <td>NaN</td>\n",
       "      <td>1.000000</td>\n",
       "      <td>NaN</td>\n",
       "    </tr>\n",
       "    <tr>\n",
       "      <th>Sex</th>\n",
       "      <td>NaN</td>\n",
       "      <td>1.000000</td>\n",
       "      <td>NaN</td>\n",
       "    </tr>\n",
       "    <tr>\n",
       "      <th>Capital Gain</th>\n",
       "      <td>5064.550049</td>\n",
       "      <td>0.888889</td>\n",
       "      <td>0.0</td>\n",
       "    </tr>\n",
       "    <tr>\n",
       "      <th>Capital Loss</th>\n",
       "      <td>NaN</td>\n",
       "      <td>1.000000</td>\n",
       "      <td>NaN</td>\n",
       "    </tr>\n",
       "    <tr>\n",
       "      <th>Hours per week</th>\n",
       "      <td>6.516664</td>\n",
       "      <td>0.055556</td>\n",
       "      <td>0.0</td>\n",
       "    </tr>\n",
       "    <tr>\n",
       "      <th>Country</th>\n",
       "      <td>NaN</td>\n",
       "      <td>1.000000</td>\n",
       "      <td>NaN</td>\n",
       "    </tr>\n",
       "  </tbody>\n",
       "</table>\n",
       "</div>"
      ],
      "text/plain": [
       "                       RMSE       BMR  BAR\n",
       "Age                     NaN  1.000000  NaN\n",
       "Workclass               NaN  1.000000  NaN\n",
       "Education-Num      1.827362  0.470588  0.0\n",
       "Marital Status          NaN  1.000000  NaN\n",
       "Occupation              NaN  1.000000  NaN\n",
       "Relationship       1.157557  0.357143  0.0\n",
       "Race                    NaN  1.000000  NaN\n",
       "Sex                     NaN  1.000000  NaN\n",
       "Capital Gain    5064.550049  0.888889  0.0\n",
       "Capital Loss            NaN  1.000000  NaN\n",
       "Hours per week     6.516664  0.055556  0.0\n",
       "Country                 NaN  1.000000  NaN"
      ]
     },
     "execution_count": 105,
     "metadata": {},
     "output_type": "execute_result"
    }
   ],
   "source": [
    "local_fidelities[(max_depth, focus_class)] = statistics\n",
    "statistics"
   ]
  },
  {
   "cell_type": "markdown",
   "id": "702ef5b8-fdd8-4c3e-8a34-b4305a1c631c",
   "metadata": {},
   "source": [
    "##### Complexity"
   ]
  },
  {
   "cell_type": "code",
   "execution_count": 106,
   "id": "ee632014-917a-4d17-b79a-d9f212b529fb",
   "metadata": {},
   "outputs": [
    {
     "data": {
      "text/plain": [
       "Rules          2\n",
       "Constraints    8\n",
       "dtype: int64"
      ]
     },
     "execution_count": 106,
     "metadata": {},
     "output_type": "execute_result"
    }
   ],
   "source": [
    "res = get_complexity(constraints)\n",
    "complexities[(max_depth, focus_class)] = res\n",
    "res"
   ]
  },
  {
   "cell_type": "markdown",
   "id": "5f0215a9-c596-46e6-a58e-227db3f29f48",
   "metadata": {},
   "source": [
    "### Tree with depth 8"
   ]
  },
  {
   "cell_type": "code",
   "execution_count": 107,
   "id": "3facd422-dda1-45f3-807b-47bea3bbb183",
   "metadata": {},
   "outputs": [
    {
     "name": "stdout",
     "output_type": "stream",
     "text": [
      "CPU times: user 4.16 s, sys: 76.7 ms, total: 4.23 s\n",
      "Wall time: 4.43 s\n"
     ]
    }
   ],
   "source": [
    "%%time\n",
    "max_depth = 8\n",
    "train_surrogate_tree(explanation, max_depth=max_depth)"
   ]
  },
  {
   "cell_type": "code",
   "execution_count": 108,
   "id": "838ba09e-cad4-4abc-a3e7-45f069703986",
   "metadata": {},
   "outputs": [
    {
     "name": "stdout",
     "output_type": "stream",
     "text": [
      "              precision    recall  f1-score   support\n",
      "\n",
      "           0       0.98      0.90      0.94    785783\n",
      "           1       0.74      0.95      0.83    237678\n",
      "\n",
      "    accuracy                           0.91   1023461\n",
      "   macro avg       0.86      0.92      0.88   1023461\n",
      "weighted avg       0.93      0.91      0.91   1023461\n",
      "\n"
     ]
    }
   ],
   "source": [
    "evaluate_generated_data(explanation)"
   ]
  },
  {
   "cell_type": "code",
   "execution_count": 109,
   "id": "8578bdfa-17ef-43f3-972a-8a06ccc0d3b8",
   "metadata": {},
   "outputs": [
    {
     "name": "stdout",
     "output_type": "stream",
     "text": [
      "              precision    recall  f1-score   support\n",
      "\n",
      "           0       1.00      0.91      0.95       965\n",
      "           1       0.12      1.00      0.22        12\n",
      "\n",
      "    accuracy                           0.91       977\n",
      "   macro avg       0.56      0.96      0.59       977\n",
      "weighted avg       0.99      0.91      0.94       977\n",
      "\n"
     ]
    }
   ],
   "source": [
    "evaluate(explanation, X, y_true);"
   ]
  },
  {
   "cell_type": "code",
   "execution_count": 110,
   "id": "aea6b38a-109b-4ef4-aaf2-29bea85498b9",
   "metadata": {},
   "outputs": [
    {
     "data": {
      "image/png": "[encoded data removed]",
      "text/plain": [
       "<Figure size 360x360 with 1 Axes>"
      ]
     },
     "metadata": {
      "needs_background": "light"
     },
     "output_type": "display_data"
    }
   ],
   "source": [
    "feature_importances, feature_order = get_feature_importances(explanation)\n",
    "plot_feature_importances(explanation, feature_importances, feature_order, figsize=(5, 5))"
   ]
  },
  {
   "cell_type": "code",
   "execution_count": 111,
   "id": "d5333026-3dcc-46b7-a902-3bbc49ef9f9b",
   "metadata": {},
   "outputs": [
    {
     "data": {
      "text/plain": [
       "75"
      ]
     },
     "execution_count": 111,
     "metadata": {},
     "output_type": "execute_result"
    }
   ],
   "source": [
    "y = (y_true).astype(int)\n",
    "constraints, rules, class_occurences, instance_indices_per_rule = extract_rules(explanation, X, y)\n",
    "len(rules)"
   ]
  },
  {
   "cell_type": "code",
   "execution_count": 112,
   "id": "3e6d4e7e-1361-424a-9821-78523ed71358",
   "metadata": {},
   "outputs": [
    {
     "data": {
      "text/plain": [
       "64     1\n",
       "70     1\n",
       "406    1\n",
       "484    4\n",
       "531    5\n",
       "558    8\n",
       "701    1\n",
       "744    4\n",
       "883    1\n",
       "925    1\n",
       "948    1\n",
       "961    1\n",
       "dtype: int64"
      ]
     },
     "execution_count": 112,
     "metadata": {},
     "output_type": "execute_result"
    }
   ],
   "source": [
    "indices = np.where(y_true)[0]\n",
    "pred_rules = pd.Series(RuleClassifier(feature_names, rules).apply(X[indices]), index=indices)\n",
    "pred_rules"
   ]
  },
  {
   "cell_type": "code",
   "execution_count": 113,
   "id": "75a0b913-a487-495a-9794-e357ae17d3a0",
   "metadata": {},
   "outputs": [],
   "source": [
    "constraints, rules, class_occurences, instance_indices_per_rule = \\\n",
    "    zip(*[el for i, el in enumerate(zip(constraints, rules, class_occurences, instance_indices_per_rule), 1)\n",
    "           if i in np.unique(pred_rules)])"
   ]
  },
  {
   "cell_type": "code",
   "execution_count": 114,
   "id": "d9ab1837-57a0-48aa-a25f-379956088c50",
   "metadata": {},
   "outputs": [
    {
     "name": "stdout",
     "output_type": "stream",
     "text": [
      "\\item $39 < \\mathit{Hoursperweek} \\leq 41 \\land \\mathit{Relationship} > 3 \\land \\mathit{EducationNum} > 9 \\land \\mathit{CapitalGain} \\leq 6703 \\land \\mathit{Age} > 27 \\land \\mathit{CapitalLoss} \\leq 1568$ [52709, 139421]\n",
      "\\item $36 < \\mathit{Hoursperweek} \\leq 41 \\land \\mathit{Relationship} > 3 \\land \\mathit{EducationNum} \\leq 9 \\land \\mathit{Age} > 41 \\land 4 < \\mathit{Occupation} \\leq 5 \\land \\mathit{Workclass} \\leq 6$ [1337, 10364]\n",
      "\\item $39 < \\mathit{Hoursperweek} \\leq 48 \\land \\mathit{Relationship} \\leq 3 \\land \\mathit{EducationNum} > 15 \\land \\mathit{CapitalGain} \\leq 3 \\land \\mathit{Age} > 34 \\land \\mathit{Sex} > 1$ [666, 8001]\n",
      "\\item $34 < \\mathit{Hoursperweek} \\leq 44 \\land \\mathit{Relationship} \\leq 3 \\land \\mathit{EducationNum} > 12 \\land 5121 < \\mathit{CapitalGain} \\leq 10535 \\land \\mathit{Age} > 21$ [1567, 2708]\n"
     ]
    }
   ],
   "source": [
    "rules = constraint_matrix_to_rules(constraints, feature_names, feature_order, feature_precisions, latex=True)\n",
    "for rule, class_occurences in zip(rules, class_occurences):\n",
    "    print(f'\\item ${rule}$ {class_occurences.astype(int).tolist()}')"
   ]
  },
  {
   "cell_type": "markdown",
   "id": "641a26ce-384b-46a0-b78c-11a9f7f5eca8",
   "metadata": {},
   "source": [
    "#### Evaluation"
   ]
  },
  {
   "cell_type": "markdown",
   "id": "15e12a66-4beb-4b24-8350-0a4671f69334",
   "metadata": {},
   "source": [
    "##### Global Fidelity"
   ]
  },
  {
   "cell_type": "code",
   "execution_count": 115,
   "id": "b158e5e7-29c9-494a-aaa1-ebc65140864c",
   "metadata": {},
   "outputs": [
    {
     "name": "stdout",
     "output_type": "stream",
     "text": [
      "              precision    recall  f1-score   support\n",
      "\n",
      "           0       1.00      0.91      0.95       965\n",
      "           1       0.12      1.00      0.22        12\n",
      "\n",
      "    accuracy                           0.91       977\n",
      "   macro avg       0.56      0.96      0.59       977\n",
      "weighted avg       0.99      0.91      0.94       977\n",
      "\n"
     ]
    }
   ],
   "source": [
    "global_fidelities[(max_depth, focus_class)] = evaluate(explanation, X, y_true)"
   ]
  },
  {
   "cell_type": "markdown",
   "id": "e5dcdbbf-e839-4868-a1ea-b746f514f0f3",
   "metadata": {},
   "source": [
    "##### Counterfactual Fidelity Error"
   ]
  },
  {
   "cell_type": "code",
   "execution_count": 116,
   "id": "ae6e99da-2912-4264-9e5e-2d0617401935",
   "metadata": {},
   "outputs": [
    {
     "name": "stderr",
     "output_type": "stream",
     "text": [
      "invalid value encountered in true_divide\n"
     ]
    }
   ],
   "source": [
    "errors, statistics = evaluate_counterfactual_fidelity(comparer, ground_truth_instance_indices,\n",
    "                                                      ground_truth, instance_indices_per_rule,\n",
    "                                                      constraints)"
   ]
  },
  {
   "cell_type": "code",
   "execution_count": 117,
   "id": "eeb1526c-399c-4680-8f44-0eb60213f40e",
   "metadata": {},
   "outputs": [
    {
     "data": {
      "text/html": [
       "<div>\n",
       "<style scoped>\n",
       "    .dataframe tbody tr th:only-of-type {\n",
       "        vertical-align: middle;\n",
       "    }\n",
       "\n",
       "    .dataframe tbody tr th {\n",
       "        vertical-align: top;\n",
       "    }\n",
       "\n",
       "    .dataframe thead th {\n",
       "        text-align: right;\n",
       "    }\n",
       "</style>\n",
       "<table border=\"1\" class=\"dataframe\">\n",
       "  <thead>\n",
       "    <tr style=\"text-align: right;\">\n",
       "      <th></th>\n",
       "      <th>RMSE</th>\n",
       "      <th>BMR</th>\n",
       "      <th>BAR</th>\n",
       "    </tr>\n",
       "  </thead>\n",
       "  <tbody>\n",
       "    <tr>\n",
       "      <th>Age</th>\n",
       "      <td>13.599005</td>\n",
       "      <td>0.500000</td>\n",
       "      <td>0.0</td>\n",
       "    </tr>\n",
       "    <tr>\n",
       "      <th>Workclass</th>\n",
       "      <td>0.753305</td>\n",
       "      <td>0.904762</td>\n",
       "      <td>0.0</td>\n",
       "    </tr>\n",
       "    <tr>\n",
       "      <th>Education-Num</th>\n",
       "      <td>1.611775</td>\n",
       "      <td>0.478261</td>\n",
       "      <td>0.0</td>\n",
       "    </tr>\n",
       "    <tr>\n",
       "      <th>Marital Status</th>\n",
       "      <td>NaN</td>\n",
       "      <td>1.000000</td>\n",
       "      <td>NaN</td>\n",
       "    </tr>\n",
       "    <tr>\n",
       "      <th>Occupation</th>\n",
       "      <td>0.525991</td>\n",
       "      <td>0.826087</td>\n",
       "      <td>0.0</td>\n",
       "    </tr>\n",
       "    <tr>\n",
       "      <th>Relationship</th>\n",
       "      <td>1.014025</td>\n",
       "      <td>0.368421</td>\n",
       "      <td>0.0</td>\n",
       "    </tr>\n",
       "    <tr>\n",
       "      <th>Race</th>\n",
       "      <td>NaN</td>\n",
       "      <td>1.000000</td>\n",
       "      <td>NaN</td>\n",
       "    </tr>\n",
       "    <tr>\n",
       "      <th>Sex</th>\n",
       "      <td>0.505911</td>\n",
       "      <td>0.900000</td>\n",
       "      <td>0.0</td>\n",
       "    </tr>\n",
       "    <tr>\n",
       "      <th>Capital Gain</th>\n",
       "      <td>5777.988874</td>\n",
       "      <td>0.153846</td>\n",
       "      <td>0.0</td>\n",
       "    </tr>\n",
       "    <tr>\n",
       "      <th>Capital Loss</th>\n",
       "      <td>727.338724</td>\n",
       "      <td>0.333333</td>\n",
       "      <td>0.0</td>\n",
       "    </tr>\n",
       "    <tr>\n",
       "      <th>Hours per week</th>\n",
       "      <td>2.138994</td>\n",
       "      <td>0.000000</td>\n",
       "      <td>0.0</td>\n",
       "    </tr>\n",
       "    <tr>\n",
       "      <th>Country</th>\n",
       "      <td>NaN</td>\n",
       "      <td>1.000000</td>\n",
       "      <td>NaN</td>\n",
       "    </tr>\n",
       "  </tbody>\n",
       "</table>\n",
       "</div>"
      ],
      "text/plain": [
       "                       RMSE       BMR  BAR\n",
       "Age               13.599005  0.500000  0.0\n",
       "Workclass          0.753305  0.904762  0.0\n",
       "Education-Num      1.611775  0.478261  0.0\n",
       "Marital Status          NaN  1.000000  NaN\n",
       "Occupation         0.525991  0.826087  0.0\n",
       "Relationship       1.014025  0.368421  0.0\n",
       "Race                    NaN  1.000000  NaN\n",
       "Sex                0.505911  0.900000  0.0\n",
       "Capital Gain    5777.988874  0.153846  0.0\n",
       "Capital Loss     727.338724  0.333333  0.0\n",
       "Hours per week     2.138994  0.000000  0.0\n",
       "Country                 NaN  1.000000  NaN"
      ]
     },
     "execution_count": 117,
     "metadata": {},
     "output_type": "execute_result"
    }
   ],
   "source": [
    "local_fidelities[(max_depth, focus_class)] = statistics\n",
    "statistics"
   ]
  },
  {
   "cell_type": "markdown",
   "id": "8ac5a0bc-b88b-4a94-acdb-23d109ad0dde",
   "metadata": {},
   "source": [
    "##### Complexity"
   ]
  },
  {
   "cell_type": "code",
   "execution_count": 118,
   "id": "42c55b30-5bb4-44df-b3b1-048cea071ce0",
   "metadata": {},
   "outputs": [
    {
     "data": {
      "text/plain": [
       "Rules           4\n",
       "Constraints    29\n",
       "dtype: int64"
      ]
     },
     "execution_count": 118,
     "metadata": {},
     "output_type": "execute_result"
    }
   ],
   "source": [
    "res = get_complexity(constraints)\n",
    "complexities[(max_depth, focus_class)] = res\n",
    "res"
   ]
  },
  {
   "cell_type": "markdown",
   "id": "30647974-2567-4261-8b81-e9262a61b784",
   "metadata": {},
   "source": [
    "# Summary"
   ]
  },
  {
   "cell_type": "code",
   "execution_count": 119,
   "id": "4d742a77-bd49-463a-bef4-48b6314585f6",
   "metadata": {},
   "outputs": [],
   "source": [
    "def map_index(index):\n",
    "    class_, depth = index[0], index[1]\n",
    "    if depth == 4:\n",
    "        level = 'global'\n",
    "    elif depth == 8:\n",
    "        level = 'local'\n",
    "    else:\n",
    "        level = None\n",
    "    return (class_, level) if len(index) == 2 else (class_, level, index[2])"
   ]
  },
  {
   "cell_type": "markdown",
   "id": "581889e4-d965-499f-99b8-f1ac86531028",
   "metadata": {},
   "source": [
    "## Global Fidelity"
   ]
  },
  {
   "cell_type": "code",
   "execution_count": 120,
   "id": "128ffddb-be19-4a1e-8397-77773007d15a",
   "metadata": {},
   "outputs": [
    {
     "data": {
      "text/html": [
       "<div>\n",
       "<style scoped>\n",
       "    .dataframe tbody tr th:only-of-type {\n",
       "        vertical-align: middle;\n",
       "    }\n",
       "\n",
       "    .dataframe tbody tr th {\n",
       "        vertical-align: top;\n",
       "    }\n",
       "\n",
       "    .dataframe thead th {\n",
       "        text-align: right;\n",
       "    }\n",
       "</style>\n",
       "<table border=\"1\" class=\"dataframe\">\n",
       "  <thead>\n",
       "    <tr style=\"text-align: right;\">\n",
       "      <th></th>\n",
       "      <th></th>\n",
       "      <th>Precision</th>\n",
       "      <th>Recall</th>\n",
       "      <th>F1 Score</th>\n",
       "      <th>Support</th>\n",
       "    </tr>\n",
       "    <tr>\n",
       "      <th>class</th>\n",
       "      <th>depth</th>\n",
       "      <th></th>\n",
       "      <th></th>\n",
       "      <th></th>\n",
       "      <th></th>\n",
       "    </tr>\n",
       "  </thead>\n",
       "  <tbody>\n",
       "    <tr>\n",
       "      <th rowspan=\"2\" valign=\"top\">(False, True)</th>\n",
       "      <th>4</th>\n",
       "      <td>0.074380</td>\n",
       "      <td>0.75</td>\n",
       "      <td>0.135338</td>\n",
       "      <td>12</td>\n",
       "    </tr>\n",
       "    <tr>\n",
       "      <th>8</th>\n",
       "      <td>0.122449</td>\n",
       "      <td>1.00</td>\n",
       "      <td>0.218182</td>\n",
       "      <td>12</td>\n",
       "    </tr>\n",
       "  </tbody>\n",
       "</table>\n",
       "</div>"
      ],
      "text/plain": [
       "                     Precision  Recall  F1 Score  Support\n",
       "class         depth                                      \n",
       "(False, True) 4       0.074380    0.75  0.135338       12\n",
       "              8       0.122449    1.00  0.218182       12"
      ]
     },
     "execution_count": 120,
     "metadata": {},
     "output_type": "execute_result"
    }
   ],
   "source": [
    "global_fidelity = pd.concat(global_fidelities.values(), keys=global_fidelities.keys(), names=('depth', 'class'))\n",
    "global_fidelity = global_fidelity[global_fidelity.index.get_level_values(2).astype(int) == 1]\n",
    "global_fidelity.index = global_fidelity.index.droplevel(2)\n",
    "global_fidelity = global_fidelity.reorder_levels(['class', 'depth']).sort_index()\n",
    "global_fidelity"
   ]
  },
  {
   "cell_type": "markdown",
   "id": "4543049f-107f-4496-9808-1f28460af512",
   "metadata": {},
   "source": [
    "## Local Fidelity"
   ]
  },
  {
   "cell_type": "code",
   "execution_count": 121,
   "id": "652bead7-cc72-4365-a9df-550091a62cca",
   "metadata": {},
   "outputs": [
    {
     "data": {
      "text/html": [
       "<div>\n",
       "<style scoped>\n",
       "    .dataframe tbody tr th:only-of-type {\n",
       "        vertical-align: middle;\n",
       "    }\n",
       "\n",
       "    .dataframe tbody tr th {\n",
       "        vertical-align: top;\n",
       "    }\n",
       "\n",
       "    .dataframe thead th {\n",
       "        text-align: right;\n",
       "    }\n",
       "</style>\n",
       "<table border=\"1\" class=\"dataframe\">\n",
       "  <thead>\n",
       "    <tr style=\"text-align: right;\">\n",
       "      <th></th>\n",
       "      <th></th>\n",
       "      <th></th>\n",
       "      <th>RMSE</th>\n",
       "      <th>BMR</th>\n",
       "      <th>BAR</th>\n",
       "    </tr>\n",
       "    <tr>\n",
       "      <th>class</th>\n",
       "      <th>depth</th>\n",
       "      <th>feature</th>\n",
       "      <th></th>\n",
       "      <th></th>\n",
       "      <th></th>\n",
       "    </tr>\n",
       "  </thead>\n",
       "  <tbody>\n",
       "    <tr>\n",
       "      <th rowspan=\"24\" valign=\"top\">(False, True)</th>\n",
       "      <th rowspan=\"12\" valign=\"top\">4</th>\n",
       "      <th>Age</th>\n",
       "      <td>NaN</td>\n",
       "      <td>1.000000</td>\n",
       "      <td>NaN</td>\n",
       "    </tr>\n",
       "    <tr>\n",
       "      <th>Capital Gain</th>\n",
       "      <td>5064.550049</td>\n",
       "      <td>0.888889</td>\n",
       "      <td>0.0</td>\n",
       "    </tr>\n",
       "    <tr>\n",
       "      <th>Capital Loss</th>\n",
       "      <td>NaN</td>\n",
       "      <td>1.000000</td>\n",
       "      <td>NaN</td>\n",
       "    </tr>\n",
       "    <tr>\n",
       "      <th>Country</th>\n",
       "      <td>NaN</td>\n",
       "      <td>1.000000</td>\n",
       "      <td>NaN</td>\n",
       "    </tr>\n",
       "    <tr>\n",
       "      <th>Education-Num</th>\n",
       "      <td>1.827362</td>\n",
       "      <td>0.470588</td>\n",
       "      <td>0.0</td>\n",
       "    </tr>\n",
       "    <tr>\n",
       "      <th>Hours per week</th>\n",
       "      <td>6.516664</td>\n",
       "      <td>0.055556</td>\n",
       "      <td>0.0</td>\n",
       "    </tr>\n",
       "    <tr>\n",
       "      <th>Marital Status</th>\n",
       "      <td>NaN</td>\n",
       "      <td>1.000000</td>\n",
       "      <td>NaN</td>\n",
       "    </tr>\n",
       "    <tr>\n",
       "      <th>Occupation</th>\n",
       "      <td>NaN</td>\n",
       "      <td>1.000000</td>\n",
       "      <td>NaN</td>\n",
       "    </tr>\n",
       "    <tr>\n",
       "      <th>Race</th>\n",
       "      <td>NaN</td>\n",
       "      <td>1.000000</td>\n",
       "      <td>NaN</td>\n",
       "    </tr>\n",
       "    <tr>\n",
       "      <th>Relationship</th>\n",
       "      <td>1.157557</td>\n",
       "      <td>0.357143</td>\n",
       "      <td>0.0</td>\n",
       "    </tr>\n",
       "    <tr>\n",
       "      <th>Sex</th>\n",
       "      <td>NaN</td>\n",
       "      <td>1.000000</td>\n",
       "      <td>NaN</td>\n",
       "    </tr>\n",
       "    <tr>\n",
       "      <th>Workclass</th>\n",
       "      <td>NaN</td>\n",
       "      <td>1.000000</td>\n",
       "      <td>NaN</td>\n",
       "    </tr>\n",
       "    <tr>\n",
       "      <th rowspan=\"12\" valign=\"top\">8</th>\n",
       "      <th>Age</th>\n",
       "      <td>13.599005</td>\n",
       "      <td>0.500000</td>\n",
       "      <td>0.0</td>\n",
       "    </tr>\n",
       "    <tr>\n",
       "      <th>Capital Gain</th>\n",
       "      <td>5777.988874</td>\n",
       "      <td>0.153846</td>\n",
       "      <td>0.0</td>\n",
       "    </tr>\n",
       "    <tr>\n",
       "      <th>Capital Loss</th>\n",
       "      <td>727.338724</td>\n",
       "      <td>0.333333</td>\n",
       "      <td>0.0</td>\n",
       "    </tr>\n",
       "    <tr>\n",
       "      <th>Country</th>\n",
       "      <td>NaN</td>\n",
       "      <td>1.000000</td>\n",
       "      <td>NaN</td>\n",
       "    </tr>\n",
       "    <tr>\n",
       "      <th>Education-Num</th>\n",
       "      <td>1.611775</td>\n",
       "      <td>0.478261</td>\n",
       "      <td>0.0</td>\n",
       "    </tr>\n",
       "    <tr>\n",
       "      <th>Hours per week</th>\n",
       "      <td>2.138994</td>\n",
       "      <td>0.000000</td>\n",
       "      <td>0.0</td>\n",
       "    </tr>\n",
       "    <tr>\n",
       "      <th>Marital Status</th>\n",
       "      <td>NaN</td>\n",
       "      <td>1.000000</td>\n",
       "      <td>NaN</td>\n",
       "    </tr>\n",
       "    <tr>\n",
       "      <th>Occupation</th>\n",
       "      <td>0.525991</td>\n",
       "      <td>0.826087</td>\n",
       "      <td>0.0</td>\n",
       "    </tr>\n",
       "    <tr>\n",
       "      <th>Race</th>\n",
       "      <td>NaN</td>\n",
       "      <td>1.000000</td>\n",
       "      <td>NaN</td>\n",
       "    </tr>\n",
       "    <tr>\n",
       "      <th>Relationship</th>\n",
       "      <td>1.014025</td>\n",
       "      <td>0.368421</td>\n",
       "      <td>0.0</td>\n",
       "    </tr>\n",
       "    <tr>\n",
       "      <th>Sex</th>\n",
       "      <td>0.505911</td>\n",
       "      <td>0.900000</td>\n",
       "      <td>0.0</td>\n",
       "    </tr>\n",
       "    <tr>\n",
       "      <th>Workclass</th>\n",
       "      <td>0.753305</td>\n",
       "      <td>0.904762</td>\n",
       "      <td>0.0</td>\n",
       "    </tr>\n",
       "  </tbody>\n",
       "</table>\n",
       "</div>"
      ],
      "text/plain": [
       "                                           RMSE       BMR  BAR\n",
       "class         depth feature                                   \n",
       "(False, True) 4     Age                     NaN  1.000000  NaN\n",
       "                    Capital Gain    5064.550049  0.888889  0.0\n",
       "                    Capital Loss            NaN  1.000000  NaN\n",
       "                    Country                 NaN  1.000000  NaN\n",
       "                    Education-Num      1.827362  0.470588  0.0\n",
       "                    Hours per week     6.516664  0.055556  0.0\n",
       "                    Marital Status          NaN  1.000000  NaN\n",
       "                    Occupation              NaN  1.000000  NaN\n",
       "                    Race                    NaN  1.000000  NaN\n",
       "                    Relationship       1.157557  0.357143  0.0\n",
       "                    Sex                     NaN  1.000000  NaN\n",
       "                    Workclass               NaN  1.000000  NaN\n",
       "              8     Age               13.599005  0.500000  0.0\n",
       "                    Capital Gain    5777.988874  0.153846  0.0\n",
       "                    Capital Loss     727.338724  0.333333  0.0\n",
       "                    Country                 NaN  1.000000  NaN\n",
       "                    Education-Num      1.611775  0.478261  0.0\n",
       "                    Hours per week     2.138994  0.000000  0.0\n",
       "                    Marital Status          NaN  1.000000  NaN\n",
       "                    Occupation         0.525991  0.826087  0.0\n",
       "                    Race                    NaN  1.000000  NaN\n",
       "                    Relationship       1.014025  0.368421  0.0\n",
       "                    Sex                0.505911  0.900000  0.0\n",
       "                    Workclass          0.753305  0.904762  0.0"
      ]
     },
     "execution_count": 121,
     "metadata": {},
     "output_type": "execute_result"
    }
   ],
   "source": [
    "local_fidelity = pd.concat(local_fidelities.values(), keys=local_fidelities.keys(), names=('depth', 'class', 'feature'))\n",
    "local_fidelity = local_fidelity.reorder_levels(['class', 'depth', 'feature']).sort_index()\n",
    "local_fidelity"
   ]
  },
  {
   "cell_type": "markdown",
   "id": "fac94e57-7b7b-4072-8768-1f7f20fa3c97",
   "metadata": {},
   "source": [
    "## Complexity"
   ]
  },
  {
   "cell_type": "code",
   "execution_count": 122,
   "id": "e721816d-0f96-4943-addc-0a531f50d9cd",
   "metadata": {},
   "outputs": [
    {
     "data": {
      "text/html": [
       "<div>\n",
       "<style scoped>\n",
       "    .dataframe tbody tr th:only-of-type {\n",
       "        vertical-align: middle;\n",
       "    }\n",
       "\n",
       "    .dataframe tbody tr th {\n",
       "        vertical-align: top;\n",
       "    }\n",
       "\n",
       "    .dataframe thead th {\n",
       "        text-align: right;\n",
       "    }\n",
       "</style>\n",
       "<table border=\"1\" class=\"dataframe\">\n",
       "  <thead>\n",
       "    <tr style=\"text-align: right;\">\n",
       "      <th></th>\n",
       "      <th></th>\n",
       "      <th>Rules</th>\n",
       "      <th>Constraints</th>\n",
       "    </tr>\n",
       "    <tr>\n",
       "      <th>class</th>\n",
       "      <th>depth</th>\n",
       "      <th></th>\n",
       "      <th></th>\n",
       "    </tr>\n",
       "  </thead>\n",
       "  <tbody>\n",
       "    <tr>\n",
       "      <th rowspan=\"2\" valign=\"top\">(False, True)</th>\n",
       "      <th>4</th>\n",
       "      <td>2</td>\n",
       "      <td>8</td>\n",
       "    </tr>\n",
       "    <tr>\n",
       "      <th>8</th>\n",
       "      <td>4</td>\n",
       "      <td>29</td>\n",
       "    </tr>\n",
       "  </tbody>\n",
       "</table>\n",
       "</div>"
      ],
      "text/plain": [
       "                     Rules  Constraints\n",
       "class         depth                    \n",
       "(False, True) 4          2            8\n",
       "              8          4           29"
      ]
     },
     "execution_count": 122,
     "metadata": {},
     "output_type": "execute_result"
    }
   ],
   "source": [
    "complexity = pd.concat(complexities.values(), axis=1, keys=complexities.keys(), names=('depth', 'class')).T\n",
    "complexity = complexity.reorder_levels(['class', 'depth']).sort_index()\n",
    "complexity"
   ]
  },
  {
   "cell_type": "markdown",
   "id": "95dcf810-18dd-4cd9-bdc7-420a7dd2c51d",
   "metadata": {},
   "source": [
    "## Generation Time"
   ]
  },
  {
   "cell_type": "markdown",
   "id": "16021732-6cbd-403b-bc45-ff5e52362701",
   "metadata": {},
   "source": [
    "Since the data set generation was run on three machines to speed up the process, I can only project from the time the part run on this machine took:"
   ]
  },
  {
   "cell_type": "code",
   "execution_count": 123,
   "id": "951cb113-af26-411d-83e5-8bbbd36f7e3f",
   "metadata": {},
   "outputs": [
    {
     "data": {
      "text/plain": [
       "56.35460354720917"
      ]
     },
     "execution_count": 123,
     "metadata": {},
     "output_type": "execute_result"
    }
   ],
   "source": [
    "minutes_per_explanation = (24*60+34+20/60)/426\n",
    "total_minutes = minutes_per_explanation * len(X)\n",
    "total_minutes/60"
   ]
  },
  {
   "cell_type": "code",
   "execution_count": 124,
   "id": "4b0dbc4a-3f66-43ae-90b5-39b6e7e59cd5",
   "metadata": {},
   "outputs": [],
   "source": [
    "global_fidelity.index = global_fidelity.index.map(map_index)\n",
    "global_fidelity = global_fidelity[global_fidelity.index.get_level_values('depth').notnull()]\n",
    "global_fidelity.index.rename(['class', 'level'], inplace=True)\n",
    "\n",
    "local_fidelity.index = local_fidelity.index.map(map_index)\n",
    "local_fidelity = local_fidelity[local_fidelity.index.get_level_values('depth').notnull()]\n",
    "local_fidelity.index.rename(['class', 'level', 'feature'], inplace=True)\n",
    "\n",
    "complexity.index = complexity.index.map(map_index)\n",
    "complexity = complexity[complexity.index.get_level_values('depth').notnull()]\n",
    "complexity.index.rename(['class', 'level'], inplace=True)\n",
    "\n",
    "with open('results.soa.pickle', 'wb') as f:\n",
    "    pickle.dump((global_fidelity, local_fidelity, complexity), f)"
   ]
  },
  {
   "cell_type": "code",
   "execution_count": null,
   "id": "221480bd-ce45-42e1-8a18-a680d67d21be",
   "metadata": {},
   "outputs": [],
   "source": []
  }
 ],
 "metadata": {
  "kernelspec": {
   "display_name": "Python 3",
   "language": "python",
   "name": "python3"
  },
  "language_info": {
   "codemirror_mode": {
    "name": "ipython",
    "version": 3
   },
   "file_extension": ".py",
   "mimetype": "text/x-python",
   "name": "python",
   "nbconvert_exporter": "python",
   "pygments_lexer": "ipython3",
   "version": "3.9.10"
  }
 },
 "nbformat": 4,
 "nbformat_minor": 5
}
