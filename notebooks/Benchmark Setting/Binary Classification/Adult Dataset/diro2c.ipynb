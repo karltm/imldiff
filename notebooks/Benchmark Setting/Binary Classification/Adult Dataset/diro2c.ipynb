{
 "cells": [
  {
   "cell_type": "markdown",
   "id": "62c4ce28-2f84-45fe-8bd4-41a61d6e7413",
   "metadata": {},
   "source": [
    "General optimizations:\n",
    "- Diro2C generation algorithm could take into account possible values for categorical features or integer features\n",
    "- scikit-learn Decision tree implementation does not support categorical values, they are currently only approximated by converting them to numbers. Look into alternative implementations or encode values\n",
    "- it would be better for the understanding, to see how rules evolve with increasing max depth. I used unix diff for that\n",
    "- general rule for determining, how far to increase max depth parameter"
   ]
  },
  {
   "cell_type": "code",
   "execution_count": 13,
   "id": "0a0a4da5-d31e-43ca-923d-4b1b8068dc27",
   "metadata": {},
   "outputs": [],
   "source": [
    "import matplotlib.pyplot as plt\n",
    "import pickle\n",
    "import numpy as np\n",
    "import pandas as pd\n",
    "from comparers import ModelComparer, plot_decision_boundary\n",
    "from diro2c_wrapper import WrappedDiro2C, train_surrogate_tree, plot_surrogate_tree,\\\n",
    "                           extract_rules, print_rules, evaluate_generated_data,\\\n",
    "                           evaluate, plot_tree_leafs_2d, plot_diro2c_2d, get_surrogate_tree,\\\n",
    "                           get_feature_importances, plot_feature_importances, set_generated_data,\\\n",
    "                           search_max_depth_parameter\n",
    "from util import RuleClassifier, evaluate_counterfactual_fidelity, print_complexity\n",
    "from sklearn.model_selection import train_test_split\n",
    "from sklearn.metrics import classification_report"
   ]
  },
  {
   "cell_type": "code",
   "execution_count": 2,
   "id": "aac6874f-229c-4a5a-b1e3-1df3f2087fe4",
   "metadata": {},
   "outputs": [],
   "source": [
    "with open('task_without_noise.pickle', 'rb') as f:\n",
    "    clf_a, clf_b, X, X_display, y, feature_names, categorical_features, feature_precisions = pickle.load(f)"
   ]
  },
  {
   "cell_type": "code",
   "execution_count": 3,
   "id": "0d8a1e50-f223-469e-a37c-7faf08abd155",
   "metadata": {},
   "outputs": [],
   "source": [
    "comparer = ModelComparer(clf_a, clf_b, feature_names)"
   ]
  },
  {
   "cell_type": "markdown",
   "id": "bd9f5bd0-578c-4929-acff-bd0603c6e152",
   "metadata": {},
   "source": [
    "# Explanations"
   ]
  },
  {
   "cell_type": "code",
   "execution_count": 4,
   "id": "e4c10e88-d560-458d-9463-ad0d9c8c8bd4",
   "metadata": {},
   "outputs": [],
   "source": [
    "mclass_diff = comparer.predict_mclass_diff(X)"
   ]
  },
  {
   "cell_type": "markdown",
   "id": "5f56dcf9-b3d1-4127-8696-b603ba393e1e",
   "metadata": {},
   "source": [
    "## $(False, True)$"
   ]
  },
  {
   "cell_type": "code",
   "execution_count": 5,
   "id": "9178b93b-07d5-46bc-a5f7-f2d85e8d11ae",
   "metadata": {},
   "outputs": [],
   "source": [
    "focus_class = '(False, True)'\n",
    "focus_class_idx = list(comparer.class_names).index(focus_class)\n",
    "y_true = mclass_diff == focus_class_idx"
   ]
  },
  {
   "cell_type": "code",
   "execution_count": 6,
   "id": "9eb53a57-6ba3-425d-a1c2-719b21f3c860",
   "metadata": {},
   "outputs": [],
   "source": [
    "explainer = WrappedDiro2C(X, comparer, focus_class)"
   ]
  },
  {
   "cell_type": "markdown",
   "id": "8a29d8ed-d396-414d-bcab-e36b157eced3",
   "metadata": {},
   "source": [
    "Let's first check how long it takes to generate a data set for a single instance:"
   ]
  },
  {
   "cell_type": "code",
   "execution_count": 13,
   "id": "0f2b30a7-a6cd-4388-afea-a3dcea1448b3",
   "metadata": {
    "tags": []
   },
   "outputs": [
    {
     "name": "stdout",
     "output_type": "stream",
     "text": [
      "CPU times: user 11min 29s, sys: 37.7 s, total: 12min 7s\n",
      "Wall time: 3min 31s\n"
     ]
    }
   ],
   "source": [
    "%%time\n",
    "_ = explainer.generate_local_explanation(idx_explain=0)"
   ]
  },
  {
   "cell_type": "code",
   "execution_count": 14,
   "id": "ac5150e3-1c35-4bf8-9e9f-c8d1856871e3",
   "metadata": {},
   "outputs": [
    {
     "data": {
      "text/plain": [
       "57.26305555555555"
      ]
     },
     "execution_count": 14,
     "metadata": {},
     "output_type": "execute_result"
    }
   ],
   "source": [
    "((3*60 + 31) * len(X))/60/60"
   ]
  },
  {
   "cell_type": "code",
   "execution_count": 11,
   "id": "c0990554-6701-42a9-93bc-c33c2adf4ae9",
   "metadata": {
    "tags": []
   },
   "outputs": [
    {
     "name": "stdout",
     "output_type": "stream",
     "text": [
      "CPU times: user 1min 6s, sys: 4.77 s, total: 1min 11s\n",
      "Wall time: 21 s\n"
     ]
    }
   ],
   "source": [
    "%%time\n",
    "_ = explainer.generate_local_explanation(idx_explain=0, gn_population_size=500)"
   ]
  },
  {
   "cell_type": "code",
   "execution_count": 12,
   "id": "a7f53f74-807b-4990-91fa-5f950f301087",
   "metadata": {},
   "outputs": [
    {
     "data": {
      "text/plain": [
       "5.699166666666667"
      ]
     },
     "execution_count": 12,
     "metadata": {},
     "output_type": "execute_result"
    }
   ],
   "source": [
    "(21 * len(X))/60/60"
   ]
  },
  {
   "cell_type": "markdown",
   "id": "5081f4a1-81f3-4b81-adae-67a2149ab721",
   "metadata": {},
   "source": [
    "Even with a reduced population size parameter it still would take more than 5 hours to generate data sets for all instances. I'll use a different approach, where the final data set is built from the merged generated data sets created for only the instances classified differently, but with the default population size parameter. This way, I expect the algorithm to generate instances near to the already known differences."
   ]
  },
  {
   "cell_type": "code",
   "execution_count": 7,
   "id": "d6796e84-4c31-4a81-94c4-a9d0e308085a",
   "metadata": {},
   "outputs": [],
   "source": [
    "instance_indices = np.where(y_true)[0]"
   ]
  },
  {
   "cell_type": "code",
   "execution_count": 8,
   "id": "32c922e2-eb1e-4150-9a29-18d548a3fc35",
   "metadata": {},
   "outputs": [
    {
     "name": "stdout",
     "output_type": "stream",
     "text": [
      "1/12\n",
      "2/12\n",
      "3/12\n",
      "4/12\n",
      "5/12\n",
      "6/12\n",
      "7/12\n",
      "8/12\n",
      "9/12\n",
      "10/12\n",
      "11/12\n",
      "12/12\n",
      "CPU times: user 2h 14min 22s, sys: 7min 21s, total: 2h 21min 44s\n",
      "Wall time: 40min 33s\n"
     ]
    }
   ],
   "source": [
    "%%time\n",
    "explanations = []\n",
    "for i, instance_idx in enumerate(instance_indices, 1):\n",
    "    print(f'{i}/{len(instance_indices)}')\n",
    "    explanation = explainer.generate_local_explanation(instance_idx)\n",
    "    explanations.append(explanation)\n",
    "with open(f'diro2c.{focus_class}.pickle', 'wb') as f:\n",
    "    pickle.dump((explainer, explanations), f, pickle.HIGHEST_PROTOCOL)"
   ]
  },
  {
   "cell_type": "code",
   "execution_count": 6,
   "id": "dfb83ff2-5148-41a6-9a57-3f19bdbae691",
   "metadata": {},
   "outputs": [],
   "source": [
    "with open(f'diro2c.{focus_class}.pickle', 'rb') as f:\n",
    "    explainer, explanations = pickle.load(f)"
   ]
  },
  {
   "cell_type": "code",
   "execution_count": 7,
   "id": "7358c910-9a71-4238-82cb-cf9f17da584d",
   "metadata": {},
   "outputs": [],
   "source": [
    "with open(f'ground_truth.{focus_class}.pickle', 'rb') as f:\n",
    "    ground_truth_instance_indices, ground_truth = pickle.load(f)"
   ]
  },
  {
   "cell_type": "code",
   "execution_count": 8,
   "id": "f1ff6131-a156-47de-87cf-6703ecd5c729",
   "metadata": {},
   "outputs": [],
   "source": [
    "X_explain = np.concatenate([explanation['binary_diff_classifer']['evaluation_info']['X']\n",
    "                            for explanation in explanations])\n",
    "y_explain = np.concatenate([explanation['binary_diff_classifer']['evaluation_info']['y']\n",
    "                            for explanation in explanations])"
   ]
  },
  {
   "cell_type": "code",
   "execution_count": 9,
   "id": "92abb348-e05b-4e90-bd74-bd9cbf147d1d",
   "metadata": {},
   "outputs": [],
   "source": [
    "explanation = explanations[0]\n",
    "set_generated_data(explanation, X_explain, y_explain)"
   ]
  },
  {
   "cell_type": "code",
   "execution_count": 10,
   "id": "85370a6f-89a2-4d12-bb7a-e26c996a643e",
   "metadata": {},
   "outputs": [
    {
     "name": "stderr",
     "output_type": "stream",
     "text": [
      "Use subset (sliced data) of np.ndarray is not recommended because it will generate extra copies and increase memory consumption\n"
     ]
    },
    {
     "data": {
      "image/png": "[encoded data removed]",
      "text/plain": [
       "<Figure size 432x288 with 2 Axes>"
      ]
     },
     "metadata": {
      "needs_background": "light"
     },
     "output_type": "display_data"
    }
   ],
   "source": [
    "comparer.plot_confusion_matrix(X_explain)"
   ]
  },
  {
   "cell_type": "code",
   "execution_count": 11,
   "id": "7e52e043-11dc-4386-a6e3-bdd10ed274f4",
   "metadata": {
    "tags": []
   },
   "outputs": [
    {
     "data": {
      "image/png": "[encoded data removed]",
      "text/plain": [
       "<Figure size 504x504 with 1 Axes>"
      ]
     },
     "metadata": {
      "needs_background": "light"
     },
     "output_type": "display_data"
    }
   ],
   "source": [
    "plot_diro2c_2d(explanation, 'Relationship', 'Hours per week')"
   ]
  },
  {
   "cell_type": "markdown",
   "id": "c6907434-e090-4748-925e-ea5b9cc63dcc",
   "metadata": {},
   "source": [
    "### Find Optimal Solution"
   ]
  },
  {
   "cell_type": "code",
   "execution_count": 14,
   "id": "06e511f0-30e9-40d1-a170-41b801fdf903",
   "metadata": {},
   "outputs": [
    {
     "name": "stdout",
     "output_type": "stream",
     "text": [
      "CPU times: user 23.9 s, sys: 239 ms, total: 24.2 s\n",
      "Wall time: 25.9 s\n"
     ]
    }
   ],
   "source": [
    "%%time\n",
    "metrics = search_max_depth_parameter(explanation, X, y_true=y_true)"
   ]
  },
  {
   "cell_type": "code",
   "execution_count": 15,
   "id": "8561dd8c-9f44-4052-b76e-0272fb10f9a8",
   "metadata": {},
   "outputs": [
    {
     "data": {
      "image/png": "[encoded data removed]",
      "text/plain": [
       "<Figure size 432x288 with 1 Axes>"
      ]
     },
     "metadata": {
      "needs_background": "light"
     },
     "output_type": "display_data"
    }
   ],
   "source": [
    "metrics.loc[:, ('precision', 'recall')].plot();"
   ]
  },
  {
   "cell_type": "markdown",
   "id": "1b5d8c6d-df55-4d50-bd48-6310b5a625d2",
   "metadata": {},
   "source": [
    "Parameter setting 4 is the one with the highest precision among the settings that achieve perfect recall and have a low number of rules (2). It will serve as the global explanation.\n",
    "\n",
    "For the local explanations, we could go as far as max depth 16, which yields seven rules and has 80\\% precision. But 95 constraints in total are not human-friendly. Precision increases steeply for the first time up to max depth 12, which consists of four rules and 45 constraints."
   ]
  },
  {
   "cell_type": "code",
   "execution_count": 87,
   "id": "6ed8c27b-2748-42d5-b33d-95141b5fc4a6",
   "metadata": {},
   "outputs": [
    {
     "data": {
      "text/html": [
       "<div>\n",
       "<style scoped>\n",
       "    .dataframe tbody tr th:only-of-type {\n",
       "        vertical-align: middle;\n",
       "    }\n",
       "\n",
       "    .dataframe tbody tr th {\n",
       "        vertical-align: top;\n",
       "    }\n",
       "\n",
       "    .dataframe thead th {\n",
       "        text-align: right;\n",
       "    }\n",
       "</style>\n",
       "<table border=\"1\" class=\"dataframe\">\n",
       "  <thead>\n",
       "    <tr style=\"text-align: right;\">\n",
       "      <th></th>\n",
       "      <th>precision</th>\n",
       "      <th>recall</th>\n",
       "      <th>rules</th>\n",
       "      <th>constraints</th>\n",
       "    </tr>\n",
       "  </thead>\n",
       "  <tbody>\n",
       "    <tr>\n",
       "      <th>3</th>\n",
       "      <td>0.018987</td>\n",
       "      <td>1.0</td>\n",
       "      <td>2</td>\n",
       "      <td>6</td>\n",
       "    </tr>\n",
       "    <tr>\n",
       "      <th>4</th>\n",
       "      <td>0.023211</td>\n",
       "      <td>1.0</td>\n",
       "      <td>2</td>\n",
       "      <td>8</td>\n",
       "    </tr>\n",
       "    <tr>\n",
       "      <th>6</th>\n",
       "      <td>0.029630</td>\n",
       "      <td>1.0</td>\n",
       "      <td>3</td>\n",
       "      <td>16</td>\n",
       "    </tr>\n",
       "    <tr>\n",
       "      <th>7</th>\n",
       "      <td>0.038217</td>\n",
       "      <td>1.0</td>\n",
       "      <td>3</td>\n",
       "      <td>19</td>\n",
       "    </tr>\n",
       "    <tr>\n",
       "      <th>8</th>\n",
       "      <td>0.083916</td>\n",
       "      <td>1.0</td>\n",
       "      <td>3</td>\n",
       "      <td>22</td>\n",
       "    </tr>\n",
       "    <tr>\n",
       "      <th>9</th>\n",
       "      <td>0.098361</td>\n",
       "      <td>1.0</td>\n",
       "      <td>3</td>\n",
       "      <td>25</td>\n",
       "    </tr>\n",
       "    <tr>\n",
       "      <th>10</th>\n",
       "      <td>0.098361</td>\n",
       "      <td>1.0</td>\n",
       "      <td>4</td>\n",
       "      <td>38</td>\n",
       "    </tr>\n",
       "    <tr>\n",
       "      <th>11</th>\n",
       "      <td>0.166667</td>\n",
       "      <td>1.0</td>\n",
       "      <td>4</td>\n",
       "      <td>41</td>\n",
       "    </tr>\n",
       "    <tr>\n",
       "      <th>12</th>\n",
       "      <td>0.300000</td>\n",
       "      <td>1.0</td>\n",
       "      <td>4</td>\n",
       "      <td>45</td>\n",
       "    </tr>\n",
       "    <tr>\n",
       "      <th>13</th>\n",
       "      <td>0.375000</td>\n",
       "      <td>1.0</td>\n",
       "      <td>4</td>\n",
       "      <td>48</td>\n",
       "    </tr>\n",
       "    <tr>\n",
       "      <th>14</th>\n",
       "      <td>0.387097</td>\n",
       "      <td>1.0</td>\n",
       "      <td>5</td>\n",
       "      <td>63</td>\n",
       "    </tr>\n",
       "    <tr>\n",
       "      <th>15</th>\n",
       "      <td>0.500000</td>\n",
       "      <td>1.0</td>\n",
       "      <td>7</td>\n",
       "      <td>92</td>\n",
       "    </tr>\n",
       "    <tr>\n",
       "      <th>16</th>\n",
       "      <td>0.800000</td>\n",
       "      <td>1.0</td>\n",
       "      <td>7</td>\n",
       "      <td>95</td>\n",
       "    </tr>\n",
       "    <tr>\n",
       "      <th>17</th>\n",
       "      <td>0.800000</td>\n",
       "      <td>1.0</td>\n",
       "      <td>7</td>\n",
       "      <td>99</td>\n",
       "    </tr>\n",
       "  </tbody>\n",
       "</table>\n",
       "</div>"
      ],
      "text/plain": [
       "    precision  recall  rules  constraints\n",
       "3    0.018987     1.0      2            6\n",
       "4    0.023211     1.0      2            8\n",
       "6    0.029630     1.0      3           16\n",
       "7    0.038217     1.0      3           19\n",
       "8    0.083916     1.0      3           22\n",
       "9    0.098361     1.0      3           25\n",
       "10   0.098361     1.0      4           38\n",
       "11   0.166667     1.0      4           41\n",
       "12   0.300000     1.0      4           45\n",
       "13   0.375000     1.0      4           48\n",
       "14   0.387097     1.0      5           63\n",
       "15   0.500000     1.0      7           92\n",
       "16   0.800000     1.0      7           95\n",
       "17   0.800000     1.0      7           99"
      ]
     },
     "execution_count": 87,
     "metadata": {},
     "output_type": "execute_result"
    }
   ],
   "source": [
    "metrics[(metrics['recall'] > 0.99) & (metrics['rules'] <= 7)]"
   ]
  },
  {
   "cell_type": "markdown",
   "id": "dc5519ed-0ba8-445d-9093-d40ff92b67b2",
   "metadata": {},
   "source": [
    "### Global Explanations"
   ]
  },
  {
   "cell_type": "code",
   "execution_count": 118,
   "id": "8261456b-1274-472b-a35e-ece5d8f2d71c",
   "metadata": {},
   "outputs": [
    {
     "name": "stdout",
     "output_type": "stream",
     "text": [
      "CPU times: user 19 ms, sys: 2.09 ms, total: 21 ms\n",
      "Wall time: 25.5 ms\n"
     ]
    }
   ],
   "source": [
    "%%time\n",
    "train_surrogate_tree(explanation, max_depth=4)"
   ]
  },
  {
   "cell_type": "code",
   "execution_count": 119,
   "id": "cddaaf50-5ee6-44a7-82f8-1deba7905983",
   "metadata": {},
   "outputs": [
    {
     "name": "stdout",
     "output_type": "stream",
     "text": [
      "              precision    recall  f1-score   support\n",
      "\n",
      "           0       0.93      0.69      0.79      7944\n",
      "           1       0.64      0.91      0.75      4797\n",
      "\n",
      "    accuracy                           0.77     12741\n",
      "   macro avg       0.78      0.80      0.77     12741\n",
      "weighted avg       0.82      0.77      0.77     12741\n",
      "\n"
     ]
    }
   ],
   "source": [
    "evaluate_generated_data(explanation)"
   ]
  },
  {
   "cell_type": "code",
   "execution_count": 120,
   "id": "12bef09e-e095-45db-9361-00883c431c95",
   "metadata": {},
   "outputs": [
    {
     "name": "stdout",
     "output_type": "stream",
     "text": [
      "              precision    recall  f1-score   support\n",
      "\n",
      "           0       1.00      0.48      0.64       965\n",
      "           1       0.02      1.00      0.05        12\n",
      "\n",
      "    accuracy                           0.48       977\n",
      "   macro avg       0.51      0.74      0.34       977\n",
      "weighted avg       0.99      0.48      0.64       977\n",
      "\n"
     ]
    }
   ],
   "source": [
    "evaluate(explanation, X, y_true)"
   ]
  },
  {
   "cell_type": "code",
   "execution_count": 121,
   "id": "fd1f825c-46d9-4166-a0ab-0d0d42569d4d",
   "metadata": {},
   "outputs": [
    {
     "data": {
      "image/png": "[encoded data removed]",
      "text/plain": [
       "<Figure size 360x360 with 1 Axes>"
      ]
     },
     "metadata": {
      "needs_background": "light"
     },
     "output_type": "display_data"
    }
   ],
   "source": [
    "feature_importances, feature_order = get_feature_importances(explanation)\n",
    "plot_feature_importances(explanation, feature_importances, feature_order, figsize=(5, 5))"
   ]
  },
  {
   "cell_type": "code",
   "execution_count": 122,
   "id": "29c25770-8c06-4db3-a45f-1d162069805e",
   "metadata": {},
   "outputs": [
    {
     "data": {
      "text/plain": [
       "4"
      ]
     },
     "execution_count": 122,
     "metadata": {},
     "output_type": "execute_result"
    }
   ],
   "source": [
    "y = (y_true).astype(int)\n",
    "constraints, rules, class_occurences, instance_indices_per_rule = extract_rules(explanation, X, y)\n",
    "len(rules)"
   ]
  },
  {
   "cell_type": "markdown",
   "id": "ae57d885-2025-468b-8560-ec445bb0296b",
   "metadata": {},
   "source": [
    "Rule 1 explains all instances classified $(False, True)$ of the original data set, except #925, which is explained by rule 2."
   ]
  },
  {
   "cell_type": "code",
   "execution_count": 123,
   "id": "286f194f-ca43-449b-a484-fea60dae15c3",
   "metadata": {},
   "outputs": [
    {
     "data": {
      "text/plain": [
       "64     1\n",
       "70     1\n",
       "406    1\n",
       "484    1\n",
       "531    1\n",
       "558    1\n",
       "701    1\n",
       "744    1\n",
       "883    1\n",
       "925    2\n",
       "948    1\n",
       "961    1\n",
       "dtype: int64"
      ]
     },
     "execution_count": 123,
     "metadata": {},
     "output_type": "execute_result"
    }
   ],
   "source": [
    "indices = np.where(y_true)[0]\n",
    "pred_rules = pd.Series(RuleClassifier(feature_names, rules).apply(X[indices]), index=indices)\n",
    "pred_rules"
   ]
  },
  {
   "cell_type": "code",
   "execution_count": 124,
   "id": "9ddfa767-2488-4123-8e3a-f2b3134c24e5",
   "metadata": {},
   "outputs": [],
   "source": [
    "constraints, rules, class_occurences, instance_indices_per_rule = \\\n",
    "    zip(*[el for i, el in enumerate(zip(constraints, rules, class_occurences, instance_indices_per_rule), 1)\n",
    "           if i in np.unique(pred_rules)])"
   ]
  },
  {
   "cell_type": "code",
   "execution_count": 125,
   "id": "d6ee38cd-de96-4669-947b-17922be43fde",
   "metadata": {},
   "outputs": [
    {
     "name": "stdout",
     "output_type": "stream",
     "text": [
      "1. Relationship <= 4.402771711349487 and Race > 3.5443339347839355 and Sex > 0.649721771478653 and `Hours per week` > 39.67813491821289 [2387, 3942]\n",
      "2. `Marital Status` <= 2.47591769695282 and Relationship > 4.765960454940796 and Race > 3.481161594390869 and Sex <= 0.649721771478653 [84, 375]\n"
     ]
    }
   ],
   "source": [
    "print_rules(rules, class_occurences)"
   ]
  },
  {
   "cell_type": "markdown",
   "id": "311fce30-36b0-4ab9-b565-d1c3b51f9136",
   "metadata": {},
   "source": [
    "#### Evaluation"
   ]
  },
  {
   "cell_type": "markdown",
   "id": "9dafa65b-f13c-4912-84e4-518c5c613dc1",
   "metadata": {},
   "source": [
    "##### Global Fidelity"
   ]
  },
  {
   "cell_type": "code",
   "execution_count": 126,
   "id": "35248a1a-5509-43f1-9f97-1c7b3d7f7f66",
   "metadata": {},
   "outputs": [
    {
     "name": "stdout",
     "output_type": "stream",
     "text": [
      "              precision    recall  f1-score   support\n",
      "\n",
      "           0       1.00      0.48      0.64       965\n",
      "           1       0.02      1.00      0.05        12\n",
      "\n",
      "    accuracy                           0.48       977\n",
      "   macro avg       0.51      0.74      0.34       977\n",
      "weighted avg       0.99      0.48      0.64       977\n",
      "\n"
     ]
    }
   ],
   "source": [
    "evaluate(explanation, X, y_true)"
   ]
  },
  {
   "cell_type": "markdown",
   "id": "3384e169-342c-487d-b319-76c1e880d8cc",
   "metadata": {},
   "source": [
    "##### Counterfactual Fidelity Error"
   ]
  },
  {
   "cell_type": "code",
   "execution_count": 127,
   "id": "2afe382b-cf5a-4174-a523-d143c1012e52",
   "metadata": {},
   "outputs": [
    {
     "name": "stderr",
     "output_type": "stream",
     "text": [
      "invalid value encountered in true_divide\n"
     ]
    }
   ],
   "source": [
    "errors, rmse, boundary_miss_rate, boundary_add_rate = \\\n",
    "    evaluate_counterfactual_fidelity(comparer, ground_truth_instance_indices, ground_truth, instance_indices_per_rule, constraints)"
   ]
  },
  {
   "cell_type": "code",
   "execution_count": 128,
   "id": "9de6631b-e64b-4547-9d00-6cbec86376d4",
   "metadata": {},
   "outputs": [
    {
     "data": {
      "text/plain": [
       "Age                    NaN\n",
       "Workclass              NaN\n",
       "Education-Num          NaN\n",
       "Marital Status    0.475918\n",
       "Occupation             NaN\n",
       "Relationship      2.012239\n",
       "Race              2.324163\n",
       "Sex               0.649722\n",
       "Capital Gain           NaN\n",
       "Capital Loss           NaN\n",
       "Hours per week    0.678135\n",
       "Country                NaN\n",
       "dtype: float64"
      ]
     },
     "execution_count": 128,
     "metadata": {},
     "output_type": "execute_result"
    }
   ],
   "source": [
    "rmse"
   ]
  },
  {
   "cell_type": "code",
   "execution_count": 129,
   "id": "e7ffe619-6d11-4513-ae8a-286eeebef811",
   "metadata": {},
   "outputs": [
    {
     "data": {
      "text/plain": [
       "Age               1.000000\n",
       "Workclass         1.000000\n",
       "Education-Num     1.000000\n",
       "Marital Status    0.916667\n",
       "Occupation        1.000000\n",
       "Relationship      0.473684\n",
       "Race              0.000000\n",
       "Sex               0.000000\n",
       "Capital Gain      1.000000\n",
       "Capital Loss      1.000000\n",
       "Hours per week    0.541667\n",
       "Country           1.000000\n",
       "dtype: float64"
      ]
     },
     "execution_count": 129,
     "metadata": {},
     "output_type": "execute_result"
    }
   ],
   "source": [
    "boundary_miss_rate"
   ]
  },
  {
   "cell_type": "code",
   "execution_count": 130,
   "id": "97964fc6-57a7-4dd1-934f-3966a840bddf",
   "metadata": {},
   "outputs": [
    {
     "data": {
      "text/plain": [
       "Age                    NaN\n",
       "Workclass              NaN\n",
       "Education-Num          NaN\n",
       "Marital Status    0.000000\n",
       "Occupation             NaN\n",
       "Relationship      0.166667\n",
       "Race              0.000000\n",
       "Sex               0.250000\n",
       "Capital Gain           NaN\n",
       "Capital Loss           NaN\n",
       "Hours per week    0.000000\n",
       "Country                NaN\n",
       "dtype: float64"
      ]
     },
     "execution_count": 130,
     "metadata": {},
     "output_type": "execute_result"
    }
   ],
   "source": [
    "boundary_add_rate"
   ]
  },
  {
   "cell_type": "markdown",
   "id": "702ef5b8-fdd8-4c3e-8a34-b4305a1c631c",
   "metadata": {},
   "source": [
    "##### Complexity"
   ]
  },
  {
   "cell_type": "code",
   "execution_count": 131,
   "id": "1a6e55ac-fc02-4ac2-b8e4-eb3843a87948",
   "metadata": {},
   "outputs": [
    {
     "name": "stdout",
     "output_type": "stream",
     "text": [
      "Number of rules: 2\n",
      "Number of constraints: 8 (4.0 per rule)\n"
     ]
    }
   ],
   "source": [
    "print_complexity(constraints)"
   ]
  },
  {
   "cell_type": "markdown",
   "id": "9f22447a-319c-4b95-8fd6-682a9061f6cb",
   "metadata": {},
   "source": [
    "##### Stability"
   ]
  },
  {
   "cell_type": "code",
   "execution_count": 132,
   "id": "5c4494b6-592b-4388-a707-562d610d1657",
   "metadata": {},
   "outputs": [],
   "source": [
    "with open('explanation-diro2c-orig-01-global.pickle', 'wb') as f:\n",
    "    pickle.dump((rules, constraints, instance_indices_per_rule), f)"
   ]
  },
  {
   "cell_type": "markdown",
   "id": "5f0215a9-c596-46e6-a58e-227db3f29f48",
   "metadata": {},
   "source": [
    "### Local Explanations"
   ]
  },
  {
   "cell_type": "code",
   "execution_count": 133,
   "id": "3facd422-dda1-45f3-807b-47bea3bbb183",
   "metadata": {},
   "outputs": [
    {
     "name": "stdout",
     "output_type": "stream",
     "text": [
      "CPU times: user 47.6 ms, sys: 2.75 ms, total: 50.4 ms\n",
      "Wall time: 56.5 ms\n"
     ]
    }
   ],
   "source": [
    "%%time\n",
    "train_surrogate_tree(explanation, max_depth=12)"
   ]
  },
  {
   "cell_type": "code",
   "execution_count": 134,
   "id": "838ba09e-cad4-4abc-a3e7-45f069703986",
   "metadata": {},
   "outputs": [
    {
     "name": "stdout",
     "output_type": "stream",
     "text": [
      "              precision    recall  f1-score   support\n",
      "\n",
      "           0       0.98      0.96      0.97      7944\n",
      "           1       0.93      0.96      0.95      4797\n",
      "\n",
      "    accuracy                           0.96     12741\n",
      "   macro avg       0.95      0.96      0.96     12741\n",
      "weighted avg       0.96      0.96      0.96     12741\n",
      "\n"
     ]
    }
   ],
   "source": [
    "evaluate_generated_data(explanation)"
   ]
  },
  {
   "cell_type": "code",
   "execution_count": 135,
   "id": "8578bdfa-17ef-43f3-972a-8a06ccc0d3b8",
   "metadata": {},
   "outputs": [
    {
     "name": "stdout",
     "output_type": "stream",
     "text": [
      "              precision    recall  f1-score   support\n",
      "\n",
      "           0       1.00      0.90      0.95       965\n",
      "           1       0.11      1.00      0.20        12\n",
      "\n",
      "    accuracy                           0.90       977\n",
      "   macro avg       0.56      0.95      0.57       977\n",
      "weighted avg       0.99      0.90      0.94       977\n",
      "\n"
     ]
    }
   ],
   "source": [
    "evaluate(explanation, X, y_true)"
   ]
  },
  {
   "cell_type": "code",
   "execution_count": 136,
   "id": "aea6b38a-109b-4ef4-aaf2-29bea85498b9",
   "metadata": {},
   "outputs": [
    {
     "data": {
      "image/png": "[encoded data removed]",
      "text/plain": [
       "<Figure size 360x360 with 1 Axes>"
      ]
     },
     "metadata": {
      "needs_background": "light"
     },
     "output_type": "display_data"
    }
   ],
   "source": [
    "feature_importances, feature_order = get_feature_importances(explanation)\n",
    "plot_feature_importances(explanation, feature_importances, feature_order, figsize=(5, 5))"
   ]
  },
  {
   "cell_type": "code",
   "execution_count": 137,
   "id": "d5333026-3dcc-46b7-a902-3bbc49ef9f9b",
   "metadata": {},
   "outputs": [
    {
     "data": {
      "text/plain": [
       "156"
      ]
     },
     "execution_count": 137,
     "metadata": {},
     "output_type": "execute_result"
    }
   ],
   "source": [
    "y = (y_true).astype(int)\n",
    "constraints, rules, class_occurences, instance_indices_per_rule = extract_rules(explanation, X, y)\n",
    "len(rules)"
   ]
  },
  {
   "cell_type": "markdown",
   "id": "78347b9d-c806-4704-9210-e35b00639bb8",
   "metadata": {},
   "source": [
    "Rule 1 explains all instances classified $(False, True)$ of the original data set, except #925, which is explained by rule 2."
   ]
  },
  {
   "cell_type": "code",
   "execution_count": 138,
   "id": "3e6d4e7e-1361-424a-9821-78523ed71358",
   "metadata": {},
   "outputs": [
    {
     "data": {
      "text/plain": [
       "64     1\n",
       "70     2\n",
       "406    1\n",
       "484    1\n",
       "531    3\n",
       "558    3\n",
       "701    1\n",
       "744    1\n",
       "883    2\n",
       "925    4\n",
       "948    1\n",
       "961    1\n",
       "dtype: int64"
      ]
     },
     "execution_count": 138,
     "metadata": {},
     "output_type": "execute_result"
    }
   ],
   "source": [
    "indices = np.where(y_true)[0]\n",
    "pred_rules = pd.Series(RuleClassifier(feature_names, rules).apply(X[indices]), index=indices)\n",
    "pred_rules"
   ]
  },
  {
   "cell_type": "code",
   "execution_count": 139,
   "id": "75a0b913-a487-495a-9794-e357ae17d3a0",
   "metadata": {},
   "outputs": [],
   "source": [
    "constraints, rules, class_occurences, instance_indices_per_rule = \\\n",
    "    zip(*[el for i, el in enumerate(zip(constraints, rules, class_occurences, instance_indices_per_rule), 1)\n",
    "           if i in np.unique(pred_rules)])"
   ]
  },
  {
   "cell_type": "code",
   "execution_count": 140,
   "id": "60f1ab4a-d71e-418d-bd73-523abb9c8f23",
   "metadata": {},
   "outputs": [
    {
     "name": "stdout",
     "output_type": "stream",
     "text": [
      "1. Age > 44.64775276184082 and Workclass <= 5.149443626403809 and 8.688964366912842 < `Education-Num` <= 12.533215522766113 and `Marital Status` <= 2.5048539638519287 and Occupation <= 4.317143678665161 and 3.7380428314208984 < Relationship <= 4.402771711349487 and Race > 3.5443339347839355 and Sex > 0.649721771478653 and 39.67813491821289 < `Hours per week` <= 41.526845932006836 [236, 2434]\n",
      "2. Age > 27.72172451019287 and Workclass <= 5.149443626403809 and `Education-Num` > 12.502001285552979 and `Marital Status` <= 2.5048539638519287 and Occupation > 4.317143678665161 and 3.7380428314208984 < Relationship <= 4.402771711349487 and Race > 3.5443339347839355 and Sex > 0.649721771478653 and 39.67813491821289 < `Hours per week` <= 41.526845932006836 [65, 671]\n",
      "3. Age > 37.10478210449219 and Workclass <= 5.409208297729492 and `Education-Num` > 13.928133964538574 and `Marital Status` <= 5.873736619949341 and Occupation > 9.492910385131836 and Relationship <= 0.5058151483535767 and Race > 3.5443339347839355 and Sex > 0.649721771478653 and 39.67813491821289 < `Hours per week` <= 41.58660697937012 [27, 686]\n",
      "4. 29.5 < Age <= 36.36866760253906 and `Education-Num` > 12.237961292266846 and `Marital Status` <= 2.47591769695282 and Occupation > 3.0 and Relationship > 4.765960454940796 and Race > 3.481161594390869 and Sex <= 0.649721771478653 and `Capital Gain` <= 2983.7509765625 and 39.46254920959473 < `Hours per week` <= 50.37029457092285 and Country > 38.573923110961914 [0, 352]\n"
     ]
    }
   ],
   "source": [
    "print_rules(rules, class_occurences)"
   ]
  },
  {
   "cell_type": "markdown",
   "id": "641a26ce-384b-46a0-b78c-11a9f7f5eca8",
   "metadata": {},
   "source": [
    "#### Evaluation"
   ]
  },
  {
   "cell_type": "markdown",
   "id": "15e12a66-4beb-4b24-8350-0a4671f69334",
   "metadata": {},
   "source": [
    "##### Global Fidelity"
   ]
  },
  {
   "cell_type": "code",
   "execution_count": 141,
   "id": "cdc4f73e-3538-4b11-a281-7bb37be43a21",
   "metadata": {},
   "outputs": [
    {
     "name": "stdout",
     "output_type": "stream",
     "text": [
      "              precision    recall  f1-score   support\n",
      "\n",
      "           0       1.00      0.90      0.95       965\n",
      "           1       0.11      1.00      0.20        12\n",
      "\n",
      "    accuracy                           0.90       977\n",
      "   macro avg       0.56      0.95      0.57       977\n",
      "weighted avg       0.99      0.90      0.94       977\n",
      "\n"
     ]
    }
   ],
   "source": [
    "evaluate(explanation, X, y_true)"
   ]
  },
  {
   "cell_type": "markdown",
   "id": "e5dcdbbf-e839-4868-a1ea-b746f514f0f3",
   "metadata": {},
   "source": [
    "##### Counterfactual Fidelity Error"
   ]
  },
  {
   "cell_type": "code",
   "execution_count": 142,
   "id": "6873ace3-3825-4b6e-a17d-1fa4d2b1322e",
   "metadata": {},
   "outputs": [
    {
     "name": "stderr",
     "output_type": "stream",
     "text": [
      "invalid value encountered in true_divide\n"
     ]
    }
   ],
   "source": [
    "errors, rmse, boundary_miss_rate, boundary_add_rate = \\\n",
    "    evaluate_counterfactual_fidelity(comparer, ground_truth_instance_indices, ground_truth, instance_indices_per_rule, constraints)"
   ]
  },
  {
   "cell_type": "code",
   "execution_count": 143,
   "id": "2f5d08cc-71a6-4992-a3e4-788ea5522cd2",
   "metadata": {},
   "outputs": [
    {
     "data": {
      "text/plain": [
       "Age                  5.611577\n",
       "Workclass            0.220723\n",
       "Education-Num        1.240652\n",
       "Marital Status       0.579354\n",
       "Occupation           1.600959\n",
       "Relationship         0.612859\n",
       "Race                 2.324163\n",
       "Sex                  0.649722\n",
       "Capital Gain      2927.750977\n",
       "Capital Loss              NaN\n",
       "Hours per week       2.002719\n",
       "Country              0.573923\n",
       "dtype: float64"
      ]
     },
     "execution_count": 143,
     "metadata": {},
     "output_type": "execute_result"
    }
   ],
   "source": [
    "rmse"
   ]
  },
  {
   "cell_type": "code",
   "execution_count": 144,
   "id": "e34728ca-ae58-4745-8a84-07644af832fe",
   "metadata": {},
   "outputs": [
    {
     "data": {
      "text/plain": [
       "Age               0.458333\n",
       "Workclass         0.450000\n",
       "Education-Num     0.173913\n",
       "Marital Status    0.000000\n",
       "Occupation        0.478261\n",
       "Relationship      0.000000\n",
       "Race              0.000000\n",
       "Sex               0.000000\n",
       "Capital Gain      0.923077\n",
       "Capital Loss      1.000000\n",
       "Hours per week    0.000000\n",
       "Country           0.909091\n",
       "dtype: float64"
      ]
     },
     "execution_count": 144,
     "metadata": {},
     "output_type": "execute_result"
    }
   ],
   "source": [
    "boundary_miss_rate"
   ]
  },
  {
   "cell_type": "code",
   "execution_count": 145,
   "id": "75b31289-434c-4312-95a9-44b2d3449e9c",
   "metadata": {},
   "outputs": [
    {
     "data": {
      "text/plain": [
       "Age               0.000000\n",
       "Workclass         0.000000\n",
       "Education-Num     0.000000\n",
       "Marital Status    0.000000\n",
       "Occupation        0.000000\n",
       "Relationship      0.095238\n",
       "Race              0.000000\n",
       "Sex               0.250000\n",
       "Capital Gain      0.000000\n",
       "Capital Loss           NaN\n",
       "Hours per week    0.000000\n",
       "Country           0.000000\n",
       "dtype: float64"
      ]
     },
     "execution_count": 145,
     "metadata": {},
     "output_type": "execute_result"
    }
   ],
   "source": [
    "boundary_add_rate"
   ]
  },
  {
   "cell_type": "markdown",
   "id": "8ac5a0bc-b88b-4a94-acdb-23d109ad0dde",
   "metadata": {},
   "source": [
    "##### Complexity"
   ]
  },
  {
   "cell_type": "code",
   "execution_count": 146,
   "id": "593a45b7-0711-47e1-b4cc-f910e5ac4cc9",
   "metadata": {},
   "outputs": [
    {
     "name": "stdout",
     "output_type": "stream",
     "text": [
      "Number of rules: 4\n",
      "Number of constraints: 45 (11.2 per rule)\n"
     ]
    }
   ],
   "source": [
    "print_complexity(constraints)"
   ]
  },
  {
   "cell_type": "markdown",
   "id": "3bbe0e45-58e0-4958-b068-71db7efa4f20",
   "metadata": {},
   "source": [
    "##### Stability"
   ]
  },
  {
   "cell_type": "code",
   "execution_count": 147,
   "id": "ef5d1746-d508-42bf-a967-8f92cd8c4d50",
   "metadata": {},
   "outputs": [],
   "source": [
    "with open('explanation-diro2c-orig-01-local.pickle', 'wb') as f:\n",
    "    pickle.dump((rules, constraints, instance_indices_per_rule), f)"
   ]
  }
 ],
 "metadata": {
  "kernelspec": {
   "display_name": "Python 3",
   "language": "python",
   "name": "python3"
  },
  "language_info": {
   "codemirror_mode": {
    "name": "ipython",
    "version": 3
   },
   "file_extension": ".py",
   "mimetype": "text/x-python",
   "name": "python",
   "nbconvert_exporter": "python",
   "pygments_lexer": "ipython3",
   "version": "3.9.10"
  }
 },
 "nbformat": 4,
 "nbformat_minor": 5
}
