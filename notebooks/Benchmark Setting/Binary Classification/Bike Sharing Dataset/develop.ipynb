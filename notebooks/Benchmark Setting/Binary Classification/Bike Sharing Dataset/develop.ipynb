{
 "cells": [
  {
   "cell_type": "code",
   "execution_count": 1,
   "id": "5f24177d-a139-4f78-8118-1f1d29b6686b",
   "metadata": {},
   "outputs": [],
   "source": [
    "import pandas as pd\n",
    "import numpy as np\n",
    "import scipy as sp\n",
    "from datetime import datetime\n",
    "import xgboost\n",
    "from sklearn.metrics import classification_report\n",
    "from sklearn.model_selection import StratifiedKFold, train_test_split\n",
    "from helper_models import LogProbabilityMixin"
   ]
  },
  {
   "cell_type": "markdown",
   "id": "0529104e-ea0e-49c4-8582-daf6ee5d30d8",
   "metadata": {},
   "source": [
    "XGBoost prints many warnings, that are safe to ignore:"
   ]
  },
  {
   "cell_type": "code",
   "execution_count": 2,
   "id": "8a66c5c0-2f95-484c-9976-ba3dc761debe",
   "metadata": {
    "tags": []
   },
   "outputs": [],
   "source": [
    "import warnings\n",
    "warnings.filterwarnings(action='ignore', category=UserWarning)"
   ]
  },
  {
   "cell_type": "code",
   "execution_count": 3,
   "id": "c9c45fbd-47d6-40f8-b269-f7f28e457f75",
   "metadata": {
    "tags": []
   },
   "outputs": [
    {
     "data": {
      "text/html": [
       "<div>\n",
       "<style scoped>\n",
       "    .dataframe tbody tr th:only-of-type {\n",
       "        vertical-align: middle;\n",
       "    }\n",
       "\n",
       "    .dataframe tbody tr th {\n",
       "        vertical-align: top;\n",
       "    }\n",
       "\n",
       "    .dataframe thead th {\n",
       "        text-align: right;\n",
       "    }\n",
       "</style>\n",
       "<table border=\"1\" class=\"dataframe\">\n",
       "  <thead>\n",
       "    <tr style=\"text-align: right;\">\n",
       "      <th></th>\n",
       "      <th>instant</th>\n",
       "      <th>dteday</th>\n",
       "      <th>season</th>\n",
       "      <th>yr</th>\n",
       "      <th>mnth</th>\n",
       "      <th>holiday</th>\n",
       "      <th>weekday</th>\n",
       "      <th>workingday</th>\n",
       "      <th>weathersit</th>\n",
       "      <th>temp</th>\n",
       "      <th>atemp</th>\n",
       "      <th>hum</th>\n",
       "      <th>windspeed</th>\n",
       "      <th>casual</th>\n",
       "      <th>registered</th>\n",
       "      <th>cnt</th>\n",
       "    </tr>\n",
       "  </thead>\n",
       "  <tbody>\n",
       "    <tr>\n",
       "      <th>0</th>\n",
       "      <td>1</td>\n",
       "      <td>2011-01-01</td>\n",
       "      <td>1</td>\n",
       "      <td>0</td>\n",
       "      <td>1</td>\n",
       "      <td>0</td>\n",
       "      <td>6</td>\n",
       "      <td>0</td>\n",
       "      <td>2</td>\n",
       "      <td>0.344167</td>\n",
       "      <td>0.363625</td>\n",
       "      <td>0.805833</td>\n",
       "      <td>0.160446</td>\n",
       "      <td>331</td>\n",
       "      <td>654</td>\n",
       "      <td>985</td>\n",
       "    </tr>\n",
       "    <tr>\n",
       "      <th>1</th>\n",
       "      <td>2</td>\n",
       "      <td>2011-01-02</td>\n",
       "      <td>1</td>\n",
       "      <td>0</td>\n",
       "      <td>1</td>\n",
       "      <td>0</td>\n",
       "      <td>0</td>\n",
       "      <td>0</td>\n",
       "      <td>2</td>\n",
       "      <td>0.363478</td>\n",
       "      <td>0.353739</td>\n",
       "      <td>0.696087</td>\n",
       "      <td>0.248539</td>\n",
       "      <td>131</td>\n",
       "      <td>670</td>\n",
       "      <td>801</td>\n",
       "    </tr>\n",
       "    <tr>\n",
       "      <th>2</th>\n",
       "      <td>3</td>\n",
       "      <td>2011-01-03</td>\n",
       "      <td>1</td>\n",
       "      <td>0</td>\n",
       "      <td>1</td>\n",
       "      <td>0</td>\n",
       "      <td>1</td>\n",
       "      <td>1</td>\n",
       "      <td>1</td>\n",
       "      <td>0.196364</td>\n",
       "      <td>0.189405</td>\n",
       "      <td>0.437273</td>\n",
       "      <td>0.248309</td>\n",
       "      <td>120</td>\n",
       "      <td>1229</td>\n",
       "      <td>1349</td>\n",
       "    </tr>\n",
       "    <tr>\n",
       "      <th>3</th>\n",
       "      <td>4</td>\n",
       "      <td>2011-01-04</td>\n",
       "      <td>1</td>\n",
       "      <td>0</td>\n",
       "      <td>1</td>\n",
       "      <td>0</td>\n",
       "      <td>2</td>\n",
       "      <td>1</td>\n",
       "      <td>1</td>\n",
       "      <td>0.200000</td>\n",
       "      <td>0.212122</td>\n",
       "      <td>0.590435</td>\n",
       "      <td>0.160296</td>\n",
       "      <td>108</td>\n",
       "      <td>1454</td>\n",
       "      <td>1562</td>\n",
       "    </tr>\n",
       "    <tr>\n",
       "      <th>4</th>\n",
       "      <td>5</td>\n",
       "      <td>2011-01-05</td>\n",
       "      <td>1</td>\n",
       "      <td>0</td>\n",
       "      <td>1</td>\n",
       "      <td>0</td>\n",
       "      <td>3</td>\n",
       "      <td>1</td>\n",
       "      <td>1</td>\n",
       "      <td>0.226957</td>\n",
       "      <td>0.229270</td>\n",
       "      <td>0.436957</td>\n",
       "      <td>0.186900</td>\n",
       "      <td>82</td>\n",
       "      <td>1518</td>\n",
       "      <td>1600</td>\n",
       "    </tr>\n",
       "    <tr>\n",
       "      <th>...</th>\n",
       "      <td>...</td>\n",
       "      <td>...</td>\n",
       "      <td>...</td>\n",
       "      <td>...</td>\n",
       "      <td>...</td>\n",
       "      <td>...</td>\n",
       "      <td>...</td>\n",
       "      <td>...</td>\n",
       "      <td>...</td>\n",
       "      <td>...</td>\n",
       "      <td>...</td>\n",
       "      <td>...</td>\n",
       "      <td>...</td>\n",
       "      <td>...</td>\n",
       "      <td>...</td>\n",
       "      <td>...</td>\n",
       "    </tr>\n",
       "    <tr>\n",
       "      <th>726</th>\n",
       "      <td>727</td>\n",
       "      <td>2012-12-27</td>\n",
       "      <td>1</td>\n",
       "      <td>1</td>\n",
       "      <td>12</td>\n",
       "      <td>0</td>\n",
       "      <td>4</td>\n",
       "      <td>1</td>\n",
       "      <td>2</td>\n",
       "      <td>0.254167</td>\n",
       "      <td>0.226642</td>\n",
       "      <td>0.652917</td>\n",
       "      <td>0.350133</td>\n",
       "      <td>247</td>\n",
       "      <td>1867</td>\n",
       "      <td>2114</td>\n",
       "    </tr>\n",
       "    <tr>\n",
       "      <th>727</th>\n",
       "      <td>728</td>\n",
       "      <td>2012-12-28</td>\n",
       "      <td>1</td>\n",
       "      <td>1</td>\n",
       "      <td>12</td>\n",
       "      <td>0</td>\n",
       "      <td>5</td>\n",
       "      <td>1</td>\n",
       "      <td>2</td>\n",
       "      <td>0.253333</td>\n",
       "      <td>0.255046</td>\n",
       "      <td>0.590000</td>\n",
       "      <td>0.155471</td>\n",
       "      <td>644</td>\n",
       "      <td>2451</td>\n",
       "      <td>3095</td>\n",
       "    </tr>\n",
       "    <tr>\n",
       "      <th>728</th>\n",
       "      <td>729</td>\n",
       "      <td>2012-12-29</td>\n",
       "      <td>1</td>\n",
       "      <td>1</td>\n",
       "      <td>12</td>\n",
       "      <td>0</td>\n",
       "      <td>6</td>\n",
       "      <td>0</td>\n",
       "      <td>2</td>\n",
       "      <td>0.253333</td>\n",
       "      <td>0.242400</td>\n",
       "      <td>0.752917</td>\n",
       "      <td>0.124383</td>\n",
       "      <td>159</td>\n",
       "      <td>1182</td>\n",
       "      <td>1341</td>\n",
       "    </tr>\n",
       "    <tr>\n",
       "      <th>729</th>\n",
       "      <td>730</td>\n",
       "      <td>2012-12-30</td>\n",
       "      <td>1</td>\n",
       "      <td>1</td>\n",
       "      <td>12</td>\n",
       "      <td>0</td>\n",
       "      <td>0</td>\n",
       "      <td>0</td>\n",
       "      <td>1</td>\n",
       "      <td>0.255833</td>\n",
       "      <td>0.231700</td>\n",
       "      <td>0.483333</td>\n",
       "      <td>0.350754</td>\n",
       "      <td>364</td>\n",
       "      <td>1432</td>\n",
       "      <td>1796</td>\n",
       "    </tr>\n",
       "    <tr>\n",
       "      <th>730</th>\n",
       "      <td>731</td>\n",
       "      <td>2012-12-31</td>\n",
       "      <td>1</td>\n",
       "      <td>1</td>\n",
       "      <td>12</td>\n",
       "      <td>0</td>\n",
       "      <td>1</td>\n",
       "      <td>1</td>\n",
       "      <td>2</td>\n",
       "      <td>0.215833</td>\n",
       "      <td>0.223487</td>\n",
       "      <td>0.577500</td>\n",
       "      <td>0.154846</td>\n",
       "      <td>439</td>\n",
       "      <td>2290</td>\n",
       "      <td>2729</td>\n",
       "    </tr>\n",
       "  </tbody>\n",
       "</table>\n",
       "<p>731 rows × 16 columns</p>\n",
       "</div>"
      ],
      "text/plain": [
       "     instant     dteday  season  yr  mnth  holiday  weekday  workingday  \\\n",
       "0          1 2011-01-01       1   0     1        0        6           0   \n",
       "1          2 2011-01-02       1   0     1        0        0           0   \n",
       "2          3 2011-01-03       1   0     1        0        1           1   \n",
       "3          4 2011-01-04       1   0     1        0        2           1   \n",
       "4          5 2011-01-05       1   0     1        0        3           1   \n",
       "..       ...        ...     ...  ..   ...      ...      ...         ...   \n",
       "726      727 2012-12-27       1   1    12        0        4           1   \n",
       "727      728 2012-12-28       1   1    12        0        5           1   \n",
       "728      729 2012-12-29       1   1    12        0        6           0   \n",
       "729      730 2012-12-30       1   1    12        0        0           0   \n",
       "730      731 2012-12-31       1   1    12        0        1           1   \n",
       "\n",
       "     weathersit      temp     atemp       hum  windspeed  casual  registered  \\\n",
       "0             2  0.344167  0.363625  0.805833   0.160446     331         654   \n",
       "1             2  0.363478  0.353739  0.696087   0.248539     131         670   \n",
       "2             1  0.196364  0.189405  0.437273   0.248309     120        1229   \n",
       "3             1  0.200000  0.212122  0.590435   0.160296     108        1454   \n",
       "4             1  0.226957  0.229270  0.436957   0.186900      82        1518   \n",
       "..          ...       ...       ...       ...        ...     ...         ...   \n",
       "726           2  0.254167  0.226642  0.652917   0.350133     247        1867   \n",
       "727           2  0.253333  0.255046  0.590000   0.155471     644        2451   \n",
       "728           2  0.253333  0.242400  0.752917   0.124383     159        1182   \n",
       "729           1  0.255833  0.231700  0.483333   0.350754     364        1432   \n",
       "730           2  0.215833  0.223487  0.577500   0.154846     439        2290   \n",
       "\n",
       "      cnt  \n",
       "0     985  \n",
       "1     801  \n",
       "2    1349  \n",
       "3    1562  \n",
       "4    1600  \n",
       "..    ...  \n",
       "726  2114  \n",
       "727  3095  \n",
       "728  1341  \n",
       "729  1796  \n",
       "730  2729  \n",
       "\n",
       "[731 rows x 16 columns]"
      ]
     },
     "execution_count": 3,
     "metadata": {},
     "output_type": "execute_result"
    }
   ],
   "source": [
    "df = pd.read_csv('day.csv', parse_dates=['dteday'])\n",
    "df"
   ]
  },
  {
   "cell_type": "markdown",
   "id": "9eaf934d-86fb-4e46-be55-cda2f5eb7555",
   "metadata": {},
   "source": [
    "For this research, I simplify the regression problem to a binary classification problem: To predict, whether the bike share count is above a certain threshold."
   ]
  },
  {
   "cell_type": "code",
   "execution_count": 4,
   "id": "1cb6e7fb-9504-4637-82f8-284466c22551",
   "metadata": {},
   "outputs": [],
   "source": [
    "is_over_threshold = df['cnt'] > 4500"
   ]
  },
  {
   "cell_type": "markdown",
   "id": "7483a08e-73ee-45b0-ba5a-f507c98a56f9",
   "metadata": {},
   "source": [
    "In order to make use of the unique properties of this dataset and investigate the suitability for analysing data drift, I split it in two parts: classifier A is trained on data of year 2011 and classifier B on data of year 2012. This dataset is well known for its characteristic that bike sharing became more popular over time."
   ]
  },
  {
   "cell_type": "code",
   "execution_count": 5,
   "id": "9edc0f38-32d2-4043-8157-6f3fc185c66c",
   "metadata": {},
   "outputs": [],
   "source": [
    "is_part1 = df['dteday'] < datetime(2012, 1, 1)"
   ]
  },
  {
   "cell_type": "code",
   "execution_count": 6,
   "id": "bb058e5d-cccd-4654-90c6-b5166f90fed5",
   "metadata": {},
   "outputs": [
    {
     "data": {
      "text/plain": [
       "<AxesSubplot:xlabel='dteday', ylabel='cnt'>"
      ]
     },
     "execution_count": 6,
     "metadata": {},
     "output_type": "execute_result"
    },
    {
     "data": {
      "image/png": "[encoded data removed]",
      "text/plain": [
       "<Figure size 432x288 with 1 Axes>"
      ]
     },
     "metadata": {
      "needs_background": "light"
     },
     "output_type": "display_data"
    }
   ],
   "source": [
    "color = np.repeat('b', df.shape[0])\n",
    "color[is_over_threshold] = 'r'\n",
    "color\n",
    "df.plot(x='dteday', y='cnt', kind='scatter', color=color)"
   ]
  },
  {
   "cell_type": "markdown",
   "id": "73c4917a-ee91-405b-8673-e3749956767f",
   "metadata": {},
   "source": [
    "I chose the threshold manually to yield similarly unbalanced training datasets."
   ]
  },
  {
   "cell_type": "code",
   "execution_count": 7,
   "id": "6199e5eb-f304-4255-b275-a98257838a6b",
   "metadata": {},
   "outputs": [
    {
     "data": {
      "text/plain": [
       "102"
      ]
     },
     "execution_count": 7,
     "metadata": {},
     "output_type": "execute_result"
    }
   ],
   "source": [
    "np.sum(is_over_threshold[is_part1])"
   ]
  },
  {
   "cell_type": "code",
   "execution_count": 8,
   "id": "14b690a4-0c73-41a4-a9c8-1299e65cee4c",
   "metadata": {},
   "outputs": [
    {
     "data": {
      "text/plain": [
       "263"
      ]
     },
     "execution_count": 8,
     "metadata": {},
     "output_type": "execute_result"
    }
   ],
   "source": [
    "np.sum(~is_over_threshold[is_part1])"
   ]
  },
  {
   "cell_type": "code",
   "execution_count": 9,
   "id": "63db6675-3a7a-4ca6-8ec7-7bd95bb13e23",
   "metadata": {},
   "outputs": [
    {
     "data": {
      "text/plain": [
       "270"
      ]
     },
     "execution_count": 9,
     "metadata": {},
     "output_type": "execute_result"
    }
   ],
   "source": [
    "np.sum(is_over_threshold[~is_part1])"
   ]
  },
  {
   "cell_type": "code",
   "execution_count": 10,
   "id": "bb3a7eaa-82a5-4e66-897c-d018227f2f3c",
   "metadata": {},
   "outputs": [
    {
     "data": {
      "text/plain": [
       "96"
      ]
     },
     "execution_count": 10,
     "metadata": {},
     "output_type": "execute_result"
    }
   ],
   "source": [
    "np.sum(~is_over_threshold[~is_part1])"
   ]
  },
  {
   "cell_type": "markdown",
   "id": "94f9659d-247b-4b41-a1f2-04f879716761",
   "metadata": {},
   "source": [
    "I also remove the features yr and dteday from the dataset, because it doesn't contain usable information for the tasks."
   ]
  },
  {
   "cell_type": "code",
   "execution_count": 11,
   "id": "bd657e09-f61c-4161-bfed-2fb8922cd270",
   "metadata": {},
   "outputs": [],
   "source": [
    "feature_names = ['season', 'mnth', 'holiday', 'weekday', 'workingday',\n",
    "                 'weathersit', 'temp', 'atemp', 'hum', 'windspeed']\n",
    "X = df.loc[:, feature_names]\n",
    "y = is_over_threshold.astype(int)"
   ]
  },
  {
   "cell_type": "code",
   "execution_count": 12,
   "id": "3b97e218-673b-4b97-bd6e-78a29d989310",
   "metadata": {},
   "outputs": [],
   "source": [
    "X_train1 = X[is_part1]\n",
    "y_train1 = y[is_part1]\n",
    "X_train2 = X[~is_part1]\n",
    "y_train2 = y[~is_part1]"
   ]
  },
  {
   "cell_type": "code",
   "execution_count": 13,
   "id": "49d721b2-c718-45fc-9e8f-03f833f27695",
   "metadata": {},
   "outputs": [],
   "source": [
    "class XGBClassifierWithLogProbaPredict(xgboost.XGBClassifier, LogProbabilityMixin):\n",
    "    pass"
   ]
  },
  {
   "cell_type": "code",
   "execution_count": 14,
   "id": "b162a8b5-7199-4f67-9b30-cbb5a8cf052b",
   "metadata": {},
   "outputs": [],
   "source": [
    "def make_classifier(X, y):\n",
    "    X_train, X_test, y_train, y_test = train_test_split(X, y, test_size=0.2, stratify=y, random_state=0)\n",
    "    skf = StratifiedKFold(n_splits=10)\n",
    "    best_score = 0\n",
    "    for train_index, test_index in skf.split(X_train, y_train):\n",
    "        clf = XGBClassifierWithLogProbaPredict(n_jobs=4, use_label_encoder=False, eval_metric='logloss')\n",
    "        clf.fit(X.iloc[train_index], y.iloc[train_index])\n",
    "        score = clf.score(X.iloc[test_index], y.iloc[test_index])\n",
    "        if score > best_score:\n",
    "            best_clf, best_score = clf, score\n",
    "        print(score)\n",
    "    print(classification_report(y_test, best_clf.predict(X_test)))\n",
    "    return best_clf"
   ]
  },
  {
   "cell_type": "code",
   "execution_count": 15,
   "id": "54a06365-a1c3-480c-9706-9e503a4d6086",
   "metadata": {},
   "outputs": [
    {
     "name": "stdout",
     "output_type": "stream",
     "text": [
      "1.0\n",
      "1.0\n",
      "0.9310344827586207\n",
      "0.896551724137931\n",
      "0.7241379310344828\n",
      "0.7241379310344828\n",
      "0.7931034482758621\n",
      "0.6896551724137931\n",
      "0.7586206896551724\n",
      "0.6896551724137931\n",
      "              precision    recall  f1-score   support\n",
      "\n",
      "           0       1.00      0.96      0.98        53\n",
      "           1       0.91      1.00      0.95        20\n",
      "\n",
      "    accuracy                           0.97        73\n",
      "   macro avg       0.95      0.98      0.97        73\n",
      "weighted avg       0.98      0.97      0.97        73\n",
      "\n",
      "CPU times: user 2.76 s, sys: 132 ms, total: 2.89 s\n",
      "Wall time: 964 ms\n"
     ]
    }
   ],
   "source": [
    "%%time\n",
    "clf_a = make_classifier(X_train1, y_train1)"
   ]
  },
  {
   "cell_type": "code",
   "execution_count": 16,
   "id": "30e8d54c-753d-4eb3-880a-b10f4428075e",
   "metadata": {},
   "outputs": [
    {
     "name": "stdout",
     "output_type": "stream",
     "text": [
      "0.9666666666666667\n",
      "0.9\n",
      "0.8620689655172413\n",
      "0.8275862068965517\n",
      "0.896551724137931\n",
      "0.9655172413793104\n",
      "0.9655172413793104\n",
      "0.9655172413793104\n",
      "0.9310344827586207\n",
      "0.896551724137931\n",
      "              precision    recall  f1-score   support\n",
      "\n",
      "           0       0.95      0.95      0.95        19\n",
      "           1       0.98      0.98      0.98        55\n",
      "\n",
      "    accuracy                           0.97        74\n",
      "   macro avg       0.96      0.96      0.96        74\n",
      "weighted avg       0.97      0.97      0.97        74\n",
      "\n",
      "CPU times: user 2.26 s, sys: 139 ms, total: 2.4 s\n",
      "Wall time: 874 ms\n"
     ]
    }
   ],
   "source": [
    "%%time\n",
    "clf_b = make_classifier(X_train2, y_train2)"
   ]
  },
  {
   "cell_type": "code",
   "execution_count": 17,
   "id": "6154c489-c5aa-4d7e-8e5d-905785999b7f",
   "metadata": {},
   "outputs": [
    {
     "name": "stdout",
     "output_type": "stream",
     "text": [
      "              precision    recall  f1-score   support\n",
      "\n",
      "           0       0.40      1.00      0.57        96\n",
      "           1       1.00      0.46      0.63       270\n",
      "\n",
      "    accuracy                           0.60       366\n",
      "   macro avg       0.70      0.73      0.60       366\n",
      "weighted avg       0.84      0.60      0.61       366\n",
      "\n"
     ]
    }
   ],
   "source": [
    "print(classification_report(y_train2, clf_a.predict(X_train2)))"
   ]
  },
  {
   "cell_type": "code",
   "execution_count": null,
   "id": "96c6716b-3322-46e2-a5c1-56d635e13aa9",
   "metadata": {},
   "outputs": [],
   "source": []
  }
 ],
 "metadata": {
  "kernelspec": {
   "display_name": "Python 3",
   "language": "python",
   "name": "python3"
  },
  "language_info": {
   "codemirror_mode": {
    "name": "ipython",
    "version": 3
   },
   "file_extension": ".py",
   "mimetype": "text/x-python",
   "name": "python",
   "nbconvert_exporter": "python",
   "pygments_lexer": "ipython3",
   "version": "3.9.7"
  }
 },
 "nbformat": 4,
 "nbformat_minor": 5
}
