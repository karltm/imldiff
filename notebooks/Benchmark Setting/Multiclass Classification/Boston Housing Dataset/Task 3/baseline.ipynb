{
 "cells": [
  {
   "cell_type": "code",
   "execution_count": 1,
   "id": "0d0567ad-b2d3-4c70-99f9-cbbf8ba34f26",
   "metadata": {},
   "outputs": [],
   "source": [
    "import pandas as pd\n",
    "import numpy as np\n",
    "import scipy as sp\n",
    "from datetime import datetime\n",
    "import pickle\n",
    "from comparers import ModelComparer\n",
    "import matplotlib.pyplot as plt\n",
    "from IPython.display import display\n",
    "from util import RuleClassifier, find_counterfactuals, counterfactuals_to_constraint_matrix,\\\n",
    "                 evaluate_counterfactual_fidelity, get_complexity\n",
    "from surrogate_tree import train_surrogate_tree, tree_to_rules, plot_surrogate_tree,\\\n",
    "                 get_feature_importances, plot_feature_importances, plot_tree_leafs_for_class,\\\n",
    "                 tree_to_constraint_matrix, constraint_matrix_to_rules, extract_rules, print_rules,\\\n",
    "                 evaluate, search_max_depth_parameter\n",
    "from tasks.boston_housing import make_task3 as make_task"
   ]
  },
  {
   "cell_type": "code",
   "execution_count": 2,
   "id": "d016e30a-0630-4928-99e4-f564cbda6ea3",
   "metadata": {},
   "outputs": [
    {
     "name": "stderr",
     "output_type": "stream",
     "text": [
      "Trying to unpickle estimator LabelBinarizer from version 0.24.1 when using version 0.24.2. This might lead to breaking code or invalid results. Use at your own risk.\n",
      "Trying to unpickle estimator MLPClassifier from version 0.24.1 when using version 0.24.2. This might lead to breaking code or invalid results. Use at your own risk.\n"
     ]
    }
   ],
   "source": [
    "clf_a, clf_b, X, y, feature_names, categorical_features, feature_precisions = make_task()\n",
    "comparer = ModelComparer(clf_a, clf_b, feature_names)"
   ]
  },
  {
   "cell_type": "markdown",
   "id": "f6962e63-b0cd-4418-8f91-08256b225eba",
   "metadata": {},
   "source": [
    "# Explanations"
   ]
  },
  {
   "cell_type": "code",
   "execution_count": 3,
   "id": "55d5383f-12a6-4970-b6b8-4e98ea815e1f",
   "metadata": {},
   "outputs": [],
   "source": [
    "mclass_diff = comparer.predict_mclass_diff(X)"
   ]
  },
  {
   "cell_type": "code",
   "execution_count": 4,
   "id": "8ce2911f-0c2f-442e-b618-4285a10e0bab",
   "metadata": {},
   "outputs": [],
   "source": [
    "ground_truth_per_class = {}\n",
    "for label in comparer.difference_class_names:\n",
    "    with open(f'ground_truth.{label}.pickle', 'rb') as f:\n",
    "        ground_truth_per_class[label] = pickle.load(f)"
   ]
  },
  {
   "cell_type": "code",
   "execution_count": 5,
   "id": "2f8c5513-bacf-4cf6-a8be-66ab28dc5c64",
   "metadata": {},
   "outputs": [],
   "source": [
    "global_fidelities = {}\n",
    "local_fidelities = {}\n",
    "complexities = {}"
   ]
  },
  {
   "cell_type": "markdown",
   "id": "ba83678c-8195-4556-9be2-08e6d5ae1c82",
   "metadata": {},
   "source": [
    "## Find Optimal Solution"
   ]
  },
  {
   "cell_type": "code",
   "execution_count": 6,
   "id": "d85fb21c-f995-4337-b1fb-0a50a4121d15",
   "metadata": {},
   "outputs": [
    {
     "name": "stderr",
     "output_type": "stream",
     "text": [
      "Precision and F-score are ill-defined and being set to 0.0 in labels with no predicted samples. Use `zero_division` parameter to control this behavior.\n",
      "Precision and F-score are ill-defined and being set to 0.0 in labels with no predicted samples. Use `zero_division` parameter to control this behavior.\n",
      "Precision and F-score are ill-defined and being set to 0.0 in labels with no predicted samples. Use `zero_division` parameter to control this behavior.\n"
     ]
    },
    {
     "name": "stdout",
     "output_type": "stream",
     "text": [
      "CPU times: user 240 ms, sys: 7.63 ms, total: 248 ms\n",
      "Wall time: 262 ms\n"
     ]
    }
   ],
   "source": [
    "%%time\n",
    "metrics = search_max_depth_parameter(X, mclass_diff, feature_names, comparer.class_names, comparer.difference_classes, start=2, stop=20)"
   ]
  },
  {
   "cell_type": "markdown",
   "id": "9b9cbe55-60bc-469e-bbc8-4a509538d072",
   "metadata": {},
   "source": []
  },
  {
   "cell_type": "code",
   "execution_count": 7,
   "id": "8d436839-9219-45fc-8817-8d95dd83c626",
   "metadata": {},
   "outputs": [
    {
     "data": {
      "image/png": "[encoded data removed]",
      "text/plain": [
       "<Figure size 1080x288 with 3 Axes>"
      ]
     },
     "metadata": {
      "needs_background": "light"
     },
     "output_type": "display_data"
    }
   ],
   "source": [
    "fig, axs = plt.subplots(ncols=3, sharex='all', sharey='all', figsize=(3*5, 4))\n",
    "for label, ax in zip(np.unique(metrics['label']), axs):\n",
    "    show_legend = ax == axs[-1]\n",
    "    df = metrics.loc[metrics['label'] == label, :].reset_index()\n",
    "    df.plot(kind='scatter', x='index', y='precision', label='precision', color='r', alpha=0.5, legend=show_legend, ax=ax)\n",
    "    df.plot(kind='scatter', x='index', y='recall', label='recall', color='b', alpha=0.5, legend=show_legend, ax=ax)\n",
    "    ax.set_xlabel('max_depth')\n",
    "    ax.set_ylabel('score')\n",
    "    ax.set_title(comparer.class_names[label])\n",
    "    plt.subplots_adjust(wspace=.0, hspace=.0)\n",
    "plt.savefig('boston-baseline-pr-curve.pdf')"
   ]
  },
  {
   "cell_type": "code",
   "execution_count": 8,
   "id": "497d9346-b19f-403f-8103-2f5d0494359b",
   "metadata": {},
   "outputs": [],
   "source": [
    "df = metrics.copy()\n",
    "df['label'] = comparer.class_names[metrics['label']]"
   ]
  },
  {
   "cell_type": "markdown",
   "id": "63120c3e-2cad-4e42-8cad-0e226e07bd29",
   "metadata": {},
   "source": [
    "- global explanation: setting 4\n",
    "- local explanation: setting 8, which has equal precision and recall as setting 7, but fewer constraints"
   ]
  },
  {
   "cell_type": "code",
   "execution_count": 9,
   "id": "1346962c-7c59-4cc4-8f82-f17be1437a98",
   "metadata": {},
   "outputs": [
    {
     "data": {
      "text/html": [
       "<div>\n",
       "<style scoped>\n",
       "    .dataframe tbody tr th:only-of-type {\n",
       "        vertical-align: middle;\n",
       "    }\n",
       "\n",
       "    .dataframe tbody tr th {\n",
       "        vertical-align: top;\n",
       "    }\n",
       "\n",
       "    .dataframe thead th {\n",
       "        text-align: right;\n",
       "    }\n",
       "</style>\n",
       "<table border=\"1\" class=\"dataframe\">\n",
       "  <thead>\n",
       "    <tr style=\"text-align: right;\">\n",
       "      <th></th>\n",
       "      <th>label</th>\n",
       "      <th>precision</th>\n",
       "      <th>recall</th>\n",
       "      <th>rules</th>\n",
       "      <th>constraints</th>\n",
       "    </tr>\n",
       "  </thead>\n",
       "  <tbody>\n",
       "    <tr>\n",
       "      <th>3</th>\n",
       "      <td>(0, 1)</td>\n",
       "      <td>0.600000</td>\n",
       "      <td>0.230769</td>\n",
       "      <td>1</td>\n",
       "      <td>3</td>\n",
       "    </tr>\n",
       "    <tr>\n",
       "      <th>4</th>\n",
       "      <td>(0, 1)</td>\n",
       "      <td>0.833333</td>\n",
       "      <td>0.384615</td>\n",
       "      <td>2</td>\n",
       "      <td>7</td>\n",
       "    </tr>\n",
       "    <tr>\n",
       "      <th>5</th>\n",
       "      <td>(0, 1)</td>\n",
       "      <td>0.846154</td>\n",
       "      <td>0.846154</td>\n",
       "      <td>4</td>\n",
       "      <td>16</td>\n",
       "    </tr>\n",
       "    <tr>\n",
       "      <th>6</th>\n",
       "      <td>(0, 1)</td>\n",
       "      <td>1.000000</td>\n",
       "      <td>0.923077</td>\n",
       "      <td>5</td>\n",
       "      <td>22</td>\n",
       "    </tr>\n",
       "    <tr>\n",
       "      <th>7</th>\n",
       "      <td>(0, 1)</td>\n",
       "      <td>1.000000</td>\n",
       "      <td>0.923077</td>\n",
       "      <td>5</td>\n",
       "      <td>20</td>\n",
       "    </tr>\n",
       "    <tr>\n",
       "      <th>8</th>\n",
       "      <td>(0, 1)</td>\n",
       "      <td>1.000000</td>\n",
       "      <td>1.000000</td>\n",
       "      <td>6</td>\n",
       "      <td>29</td>\n",
       "    </tr>\n",
       "    <tr>\n",
       "      <th>9</th>\n",
       "      <td>(0, 1)</td>\n",
       "      <td>1.000000</td>\n",
       "      <td>1.000000</td>\n",
       "      <td>6</td>\n",
       "      <td>28</td>\n",
       "    </tr>\n",
       "  </tbody>\n",
       "</table>\n",
       "</div>"
      ],
      "text/plain": [
       "    label  precision    recall  rules  constraints\n",
       "3  (0, 1)   0.600000  0.230769      1            3\n",
       "4  (0, 1)   0.833333  0.384615      2            7\n",
       "5  (0, 1)   0.846154  0.846154      4           16\n",
       "6  (0, 1)   1.000000  0.923077      5           22\n",
       "7  (0, 1)   1.000000  0.923077      5           20\n",
       "8  (0, 1)   1.000000  1.000000      6           29\n",
       "9  (0, 1)   1.000000  1.000000      6           28"
      ]
     },
     "execution_count": 9,
     "metadata": {},
     "output_type": "execute_result"
    }
   ],
   "source": [
    "df[df['label'] == '(0, 1)']"
   ]
  },
  {
   "cell_type": "markdown",
   "id": "8cc47dd4-0f7d-41d1-97e1-abfedf8d1095",
   "metadata": {},
   "source": [
    "- global/local explanation: setting 5"
   ]
  },
  {
   "cell_type": "code",
   "execution_count": 10,
   "id": "0b3d8718-cfce-4054-8340-bfcaa6940ac5",
   "metadata": {},
   "outputs": [
    {
     "data": {
      "text/html": [
       "<div>\n",
       "<style scoped>\n",
       "    .dataframe tbody tr th:only-of-type {\n",
       "        vertical-align: middle;\n",
       "    }\n",
       "\n",
       "    .dataframe tbody tr th {\n",
       "        vertical-align: top;\n",
       "    }\n",
       "\n",
       "    .dataframe thead th {\n",
       "        text-align: right;\n",
       "    }\n",
       "</style>\n",
       "<table border=\"1\" class=\"dataframe\">\n",
       "  <thead>\n",
       "    <tr style=\"text-align: right;\">\n",
       "      <th></th>\n",
       "      <th>label</th>\n",
       "      <th>precision</th>\n",
       "      <th>recall</th>\n",
       "      <th>rules</th>\n",
       "      <th>constraints</th>\n",
       "    </tr>\n",
       "  </thead>\n",
       "  <tbody>\n",
       "    <tr>\n",
       "      <th>5</th>\n",
       "      <td>(1, 2)</td>\n",
       "      <td>1.0</td>\n",
       "      <td>1.0</td>\n",
       "      <td>1</td>\n",
       "      <td>4</td>\n",
       "    </tr>\n",
       "    <tr>\n",
       "      <th>6</th>\n",
       "      <td>(1, 2)</td>\n",
       "      <td>1.0</td>\n",
       "      <td>1.0</td>\n",
       "      <td>1</td>\n",
       "      <td>4</td>\n",
       "    </tr>\n",
       "    <tr>\n",
       "      <th>7</th>\n",
       "      <td>(1, 2)</td>\n",
       "      <td>1.0</td>\n",
       "      <td>1.0</td>\n",
       "      <td>1</td>\n",
       "      <td>4</td>\n",
       "    </tr>\n",
       "    <tr>\n",
       "      <th>8</th>\n",
       "      <td>(1, 2)</td>\n",
       "      <td>1.0</td>\n",
       "      <td>1.0</td>\n",
       "      <td>1</td>\n",
       "      <td>4</td>\n",
       "    </tr>\n",
       "    <tr>\n",
       "      <th>9</th>\n",
       "      <td>(1, 2)</td>\n",
       "      <td>1.0</td>\n",
       "      <td>1.0</td>\n",
       "      <td>1</td>\n",
       "      <td>4</td>\n",
       "    </tr>\n",
       "  </tbody>\n",
       "</table>\n",
       "</div>"
      ],
      "text/plain": [
       "    label  precision  recall  rules  constraints\n",
       "5  (1, 2)        1.0     1.0      1            4\n",
       "6  (1, 2)        1.0     1.0      1            4\n",
       "7  (1, 2)        1.0     1.0      1            4\n",
       "8  (1, 2)        1.0     1.0      1            4\n",
       "9  (1, 2)        1.0     1.0      1            4"
      ]
     },
     "execution_count": 10,
     "metadata": {},
     "output_type": "execute_result"
    }
   ],
   "source": [
    "df[df['label'] == '(1, 2)']"
   ]
  },
  {
   "cell_type": "markdown",
   "id": "86aca363-dc3b-4eb9-9d0d-9b8e697befca",
   "metadata": {},
   "source": [
    "- global/local explanation: setting 4"
   ]
  },
  {
   "cell_type": "code",
   "execution_count": 11,
   "id": "b79908ec-35b0-44aa-9ab2-00fb54991c88",
   "metadata": {},
   "outputs": [
    {
     "data": {
      "text/html": [
       "<div>\n",
       "<style scoped>\n",
       "    .dataframe tbody tr th:only-of-type {\n",
       "        vertical-align: middle;\n",
       "    }\n",
       "\n",
       "    .dataframe tbody tr th {\n",
       "        vertical-align: top;\n",
       "    }\n",
       "\n",
       "    .dataframe thead th {\n",
       "        text-align: right;\n",
       "    }\n",
       "</style>\n",
       "<table border=\"1\" class=\"dataframe\">\n",
       "  <thead>\n",
       "    <tr style=\"text-align: right;\">\n",
       "      <th></th>\n",
       "      <th>label</th>\n",
       "      <th>precision</th>\n",
       "      <th>recall</th>\n",
       "      <th>rules</th>\n",
       "      <th>constraints</th>\n",
       "    </tr>\n",
       "  </thead>\n",
       "  <tbody>\n",
       "    <tr>\n",
       "      <th>4</th>\n",
       "      <td>(2, 1)</td>\n",
       "      <td>0.75</td>\n",
       "      <td>1.0</td>\n",
       "      <td>2</td>\n",
       "      <td>7</td>\n",
       "    </tr>\n",
       "    <tr>\n",
       "      <th>5</th>\n",
       "      <td>(2, 1)</td>\n",
       "      <td>1.00</td>\n",
       "      <td>1.0</td>\n",
       "      <td>2</td>\n",
       "      <td>8</td>\n",
       "    </tr>\n",
       "    <tr>\n",
       "      <th>6</th>\n",
       "      <td>(2, 1)</td>\n",
       "      <td>1.00</td>\n",
       "      <td>1.0</td>\n",
       "      <td>2</td>\n",
       "      <td>9</td>\n",
       "    </tr>\n",
       "    <tr>\n",
       "      <th>7</th>\n",
       "      <td>(2, 1)</td>\n",
       "      <td>1.00</td>\n",
       "      <td>1.0</td>\n",
       "      <td>2</td>\n",
       "      <td>9</td>\n",
       "    </tr>\n",
       "    <tr>\n",
       "      <th>8</th>\n",
       "      <td>(2, 1)</td>\n",
       "      <td>1.00</td>\n",
       "      <td>1.0</td>\n",
       "      <td>2</td>\n",
       "      <td>9</td>\n",
       "    </tr>\n",
       "    <tr>\n",
       "      <th>9</th>\n",
       "      <td>(2, 1)</td>\n",
       "      <td>1.00</td>\n",
       "      <td>1.0</td>\n",
       "      <td>2</td>\n",
       "      <td>8</td>\n",
       "    </tr>\n",
       "  </tbody>\n",
       "</table>\n",
       "</div>"
      ],
      "text/plain": [
       "    label  precision  recall  rules  constraints\n",
       "4  (2, 1)       0.75     1.0      2            7\n",
       "5  (2, 1)       1.00     1.0      2            8\n",
       "6  (2, 1)       1.00     1.0      2            9\n",
       "7  (2, 1)       1.00     1.0      2            9\n",
       "8  (2, 1)       1.00     1.0      2            9\n",
       "9  (2, 1)       1.00     1.0      2            8"
      ]
     },
     "execution_count": 11,
     "metadata": {},
     "output_type": "execute_result"
    }
   ],
   "source": [
    "df[df['label'] == '(2, 1)']"
   ]
  },
  {
   "cell_type": "markdown",
   "id": "836ed32a-1a95-43ee-b721-40e6d9123a62",
   "metadata": {},
   "source": [
    "## Tree with Depth 4"
   ]
  },
  {
   "cell_type": "code",
   "execution_count": 12,
   "id": "424d8248-5edb-482f-84d1-9cca4fa46da4",
   "metadata": {},
   "outputs": [
    {
     "name": "stdout",
     "output_type": "stream",
     "text": [
      "CPU times: user 9.36 ms, sys: 1.88 ms, total: 11.2 ms\n",
      "Wall time: 14.8 ms\n"
     ]
    },
    {
     "name": "stderr",
     "output_type": "stream",
     "text": [
      "Precision and F-score are ill-defined and being set to 0.0 in labels with no predicted samples. Use `zero_division` parameter to control this behavior.\n"
     ]
    },
    {
     "data": {
      "text/html": [
       "<div>\n",
       "<style scoped>\n",
       "    .dataframe tbody tr th:only-of-type {\n",
       "        vertical-align: middle;\n",
       "    }\n",
       "\n",
       "    .dataframe tbody tr th {\n",
       "        vertical-align: top;\n",
       "    }\n",
       "\n",
       "    .dataframe thead th {\n",
       "        text-align: right;\n",
       "    }\n",
       "</style>\n",
       "<table border=\"1\" class=\"dataframe\">\n",
       "  <thead>\n",
       "    <tr style=\"text-align: right;\">\n",
       "      <th></th>\n",
       "      <th>Precision</th>\n",
       "      <th>Recall</th>\n",
       "      <th>F1 Score</th>\n",
       "      <th>Support</th>\n",
       "    </tr>\n",
       "  </thead>\n",
       "  <tbody>\n",
       "    <tr>\n",
       "      <th>(0, 0)</th>\n",
       "      <td>0.925000</td>\n",
       "      <td>0.973684</td>\n",
       "      <td>0.948718</td>\n",
       "      <td>76</td>\n",
       "    </tr>\n",
       "    <tr>\n",
       "      <th>(0, 1)</th>\n",
       "      <td>0.833333</td>\n",
       "      <td>0.384615</td>\n",
       "      <td>0.526316</td>\n",
       "      <td>13</td>\n",
       "    </tr>\n",
       "    <tr>\n",
       "      <th>(1, 1)</th>\n",
       "      <td>0.904762</td>\n",
       "      <td>0.982759</td>\n",
       "      <td>0.942149</td>\n",
       "      <td>58</td>\n",
       "    </tr>\n",
       "    <tr>\n",
       "      <th>(1, 2)</th>\n",
       "      <td>0.000000</td>\n",
       "      <td>0.000000</td>\n",
       "      <td>0.000000</td>\n",
       "      <td>1</td>\n",
       "    </tr>\n",
       "    <tr>\n",
       "      <th>(2, 1)</th>\n",
       "      <td>0.750000</td>\n",
       "      <td>1.000000</td>\n",
       "      <td>0.857143</td>\n",
       "      <td>3</td>\n",
       "    </tr>\n",
       "    <tr>\n",
       "      <th>(2, 2)</th>\n",
       "      <td>1.000000</td>\n",
       "      <td>0.978947</td>\n",
       "      <td>0.989362</td>\n",
       "      <td>95</td>\n",
       "    </tr>\n",
       "  </tbody>\n",
       "</table>\n",
       "</div>"
      ],
      "text/plain": [
       "        Precision    Recall  F1 Score  Support\n",
       "(0, 0)   0.925000  0.973684  0.948718       76\n",
       "(0, 1)   0.833333  0.384615  0.526316       13\n",
       "(1, 1)   0.904762  0.982759  0.942149       58\n",
       "(1, 2)   0.000000  0.000000  0.000000        1\n",
       "(2, 1)   0.750000  1.000000  0.857143        3\n",
       "(2, 2)   1.000000  0.978947  0.989362       95"
      ]
     },
     "execution_count": 12,
     "metadata": {},
     "output_type": "execute_result"
    }
   ],
   "source": [
    "%%time\n",
    "max_depth = 4\n",
    "model = train_surrogate_tree(X, mclass_diff, max_depth=max_depth)\n",
    "evaluate(model, X, mclass_diff, comparer.class_names);"
   ]
  },
  {
   "cell_type": "code",
   "execution_count": 13,
   "id": "1f78508a-271a-43b8-9552-7e032625aa2a",
   "metadata": {},
   "outputs": [
    {
     "data": {
      "image/png": "[encoded data removed]",
      "text/plain": [
       "<Figure size 360x360 with 1 Axes>"
      ]
     },
     "metadata": {
      "needs_background": "light"
     },
     "output_type": "display_data"
    }
   ],
   "source": [
    "feature_importances, feature_order = get_feature_importances(model)\n",
    "plot_feature_importances(feature_names, feature_importances, feature_order, figsize=(5, 5))"
   ]
  },
  {
   "cell_type": "code",
   "execution_count": 14,
   "id": "f9a783cc-72e0-4c74-b972-c88f9857f4f4",
   "metadata": {},
   "outputs": [],
   "source": [
    "constraints, rules, class_occurences, labels, instance_indices_per_rule =\\\n",
    "    extract_rules(model, feature_names, comparer.difference_classes, X, mclass_diff)"
   ]
  },
  {
   "cell_type": "code",
   "execution_count": 15,
   "id": "195d92cb-4ece-4c98-bc19-84f38d9e1773",
   "metadata": {},
   "outputs": [],
   "source": [
    "rules = constraint_matrix_to_rules(constraints, feature_names, feature_order, feature_precisions, latex=True)"
   ]
  },
  {
   "cell_type": "code",
   "execution_count": 16,
   "id": "18be924c-cbc4-4556-9fa0-95cc9380b67c",
   "metadata": {},
   "outputs": [
    {
     "name": "stdout",
     "output_type": "stream",
     "text": [
      "\\item $9.48 < \\mathit{LSTAT} \\leq 12.61 \\land \\mathit{NOX} > 0.59 \\land \\mathit{INDUS} > 18.84$ [0, 3, 0, 0, 0, 0]\n",
      "\\item $\\mathit{LSTAT} > 17.52 \\land \\mathit{NOX} \\leq 0.59 \\land \\mathit{PTRATIO} > 20.60$ [1, 2, 0, 0, 0, 0]\n"
     ]
    }
   ],
   "source": [
    "for label, rule, class_occurences_part in zip(labels, rules, class_occurences):\n",
    "    if comparer.class_names[label] == '(0, 1)':\n",
    "        print(f'\\item ${rule}$ {class_occurences_part.astype(int).tolist()}')"
   ]
  },
  {
   "cell_type": "code",
   "execution_count": 17,
   "id": "390f362c-7048-463d-85ca-7c34bac8aeaa",
   "metadata": {},
   "outputs": [
    {
     "name": "stdout",
     "output_type": "stream",
     "text": [
      "\\item $\\mathit{LSTAT} \\leq 9.48 \\land \\mathit{RM} \\leq 6.62 \\land \\mathit{RAD} > 6.00 \\land \\mathit{DIS} > 1.48$ [0, 0, 0, 0, 2, 1]\n",
      "\\item $\\mathit{LSTAT} \\leq 9.48 \\land \\mathit{RM} > 6.62 \\land \\mathit{CRIM} > 0 \\land \\mathit{PTRATIO} > 20.60$ [0, 0, 0, 0, 1, 0]\n"
     ]
    }
   ],
   "source": [
    "for label, rule, class_occurences_part in zip(labels, rules, class_occurences):\n",
    "    if comparer.class_names[label] == '(2, 1)':\n",
    "        print(f'\\item ${rule}$ {class_occurences_part.astype(int).tolist()}')"
   ]
  },
  {
   "cell_type": "markdown",
   "id": "4b453c5b-93ab-41c3-b20f-d2e1ea2a9545",
   "metadata": {},
   "source": [
    "### Evaluation"
   ]
  },
  {
   "cell_type": "markdown",
   "id": "f5b72ff9-5c72-41f6-8c48-7ba707ea539e",
   "metadata": {},
   "source": [
    "#### Global Fidelity"
   ]
  },
  {
   "cell_type": "code",
   "execution_count": 18,
   "id": "b7d3d2e3-1cbe-4745-ac5b-916ddfd51a02",
   "metadata": {},
   "outputs": [
    {
     "name": "stderr",
     "output_type": "stream",
     "text": [
      "Precision and F-score are ill-defined and being set to 0.0 in labels with no predicted samples. Use `zero_division` parameter to control this behavior.\n"
     ]
    },
    {
     "data": {
      "text/html": [
       "<div>\n",
       "<style scoped>\n",
       "    .dataframe tbody tr th:only-of-type {\n",
       "        vertical-align: middle;\n",
       "    }\n",
       "\n",
       "    .dataframe tbody tr th {\n",
       "        vertical-align: top;\n",
       "    }\n",
       "\n",
       "    .dataframe thead th {\n",
       "        text-align: right;\n",
       "    }\n",
       "</style>\n",
       "<table border=\"1\" class=\"dataframe\">\n",
       "  <thead>\n",
       "    <tr style=\"text-align: right;\">\n",
       "      <th></th>\n",
       "      <th>Precision</th>\n",
       "      <th>Recall</th>\n",
       "      <th>F1 Score</th>\n",
       "      <th>Support</th>\n",
       "    </tr>\n",
       "  </thead>\n",
       "  <tbody>\n",
       "    <tr>\n",
       "      <th>(0, 0)</th>\n",
       "      <td>0.925000</td>\n",
       "      <td>0.973684</td>\n",
       "      <td>0.948718</td>\n",
       "      <td>76</td>\n",
       "    </tr>\n",
       "    <tr>\n",
       "      <th>(0, 1)</th>\n",
       "      <td>0.833333</td>\n",
       "      <td>0.384615</td>\n",
       "      <td>0.526316</td>\n",
       "      <td>13</td>\n",
       "    </tr>\n",
       "    <tr>\n",
       "      <th>(1, 1)</th>\n",
       "      <td>0.904762</td>\n",
       "      <td>0.982759</td>\n",
       "      <td>0.942149</td>\n",
       "      <td>58</td>\n",
       "    </tr>\n",
       "    <tr>\n",
       "      <th>(1, 2)</th>\n",
       "      <td>0.000000</td>\n",
       "      <td>0.000000</td>\n",
       "      <td>0.000000</td>\n",
       "      <td>1</td>\n",
       "    </tr>\n",
       "    <tr>\n",
       "      <th>(2, 1)</th>\n",
       "      <td>0.750000</td>\n",
       "      <td>1.000000</td>\n",
       "      <td>0.857143</td>\n",
       "      <td>3</td>\n",
       "    </tr>\n",
       "    <tr>\n",
       "      <th>(2, 2)</th>\n",
       "      <td>1.000000</td>\n",
       "      <td>0.978947</td>\n",
       "      <td>0.989362</td>\n",
       "      <td>95</td>\n",
       "    </tr>\n",
       "  </tbody>\n",
       "</table>\n",
       "</div>"
      ],
      "text/plain": [
       "        Precision    Recall  F1 Score  Support\n",
       "(0, 0)   0.925000  0.973684  0.948718       76\n",
       "(0, 1)   0.833333  0.384615  0.526316       13\n",
       "(1, 1)   0.904762  0.982759  0.942149       58\n",
       "(1, 2)   0.000000  0.000000  0.000000        1\n",
       "(2, 1)   0.750000  1.000000  0.857143        3\n",
       "(2, 2)   1.000000  0.978947  0.989362       95"
      ]
     },
     "execution_count": 18,
     "metadata": {},
     "output_type": "execute_result"
    }
   ],
   "source": [
    "scores = evaluate(model, X, mclass_diff, comparer.class_names)\n",
    "global_fidelities[max_depth] = scores\n",
    "scores"
   ]
  },
  {
   "cell_type": "markdown",
   "id": "39037cb4-5e69-42b8-b7e4-2ca8c3bd3245",
   "metadata": {},
   "source": [
    "#### Counterfactual Fidelity Error"
   ]
  },
  {
   "cell_type": "markdown",
   "id": "61215be3-1c76-46ad-9ab3-98b1dc425475",
   "metadata": {},
   "source": [
    "##### (0, 1)"
   ]
  },
  {
   "cell_type": "code",
   "execution_count": 19,
   "id": "e1360ab3-5aac-4036-b873-69bf2c5b0bfa",
   "metadata": {},
   "outputs": [],
   "source": [
    "focus_class_idx, focus_class = comparer.check_class('(0, 1)')\n",
    "ground_truth_instance_indices, ground_truth = ground_truth_per_class[focus_class]\n",
    "constraints_focus, rules_focus, class_occurences_focus, instance_indices_per_rule_focus =\\\n",
    "    zip(*[(constraint, rule, class_occurences, instance_indices)\n",
    "     for constraint, rule, class_occurences, label, instance_indices\n",
    "     in zip(constraints, rules, class_occurences, labels, instance_indices_per_rule)\n",
    "     if label == focus_class_idx])"
   ]
  },
  {
   "cell_type": "code",
   "execution_count": 20,
   "id": "ad8d91d5-c951-49de-ad18-02d3c460055a",
   "metadata": {},
   "outputs": [
    {
     "name": "stderr",
     "output_type": "stream",
     "text": [
      "invalid value encountered in true_divide\n",
      "invalid value encountered in true_divide\n"
     ]
    }
   ],
   "source": [
    "errors, statistics = evaluate_counterfactual_fidelity(comparer, ground_truth_instance_indices,\n",
    "                                                      ground_truth, instance_indices_per_rule_focus,\n",
    "                                                      constraints_focus)"
   ]
  },
  {
   "cell_type": "code",
   "execution_count": 21,
   "id": "01fa821b-5feb-49f7-8189-8a8bbd8cd429",
   "metadata": {},
   "outputs": [
    {
     "data": {
      "text/html": [
       "<div>\n",
       "<style scoped>\n",
       "    .dataframe tbody tr th:only-of-type {\n",
       "        vertical-align: middle;\n",
       "    }\n",
       "\n",
       "    .dataframe tbody tr th {\n",
       "        vertical-align: top;\n",
       "    }\n",
       "\n",
       "    .dataframe thead th {\n",
       "        text-align: right;\n",
       "    }\n",
       "</style>\n",
       "<table border=\"1\" class=\"dataframe\">\n",
       "  <thead>\n",
       "    <tr style=\"text-align: right;\">\n",
       "      <th></th>\n",
       "      <th>RMSE</th>\n",
       "      <th>BMR</th>\n",
       "      <th>BAR</th>\n",
       "    </tr>\n",
       "  </thead>\n",
       "  <tbody>\n",
       "    <tr>\n",
       "      <th>CRIM</th>\n",
       "      <td>NaN</td>\n",
       "      <td>1.000000</td>\n",
       "      <td>NaN</td>\n",
       "    </tr>\n",
       "    <tr>\n",
       "      <th>ZN</th>\n",
       "      <td>NaN</td>\n",
       "      <td>1.000000</td>\n",
       "      <td>NaN</td>\n",
       "    </tr>\n",
       "    <tr>\n",
       "      <th>INDUS</th>\n",
       "      <td>4.985777</td>\n",
       "      <td>0.500000</td>\n",
       "      <td>0.0</td>\n",
       "    </tr>\n",
       "    <tr>\n",
       "      <th>NOX</th>\n",
       "      <td>NaN</td>\n",
       "      <td>NaN</td>\n",
       "      <td>1.0</td>\n",
       "    </tr>\n",
       "    <tr>\n",
       "      <th>RM</th>\n",
       "      <td>NaN</td>\n",
       "      <td>1.000000</td>\n",
       "      <td>NaN</td>\n",
       "    </tr>\n",
       "    <tr>\n",
       "      <th>AGE</th>\n",
       "      <td>NaN</td>\n",
       "      <td>1.000000</td>\n",
       "      <td>NaN</td>\n",
       "    </tr>\n",
       "    <tr>\n",
       "      <th>DIS</th>\n",
       "      <td>NaN</td>\n",
       "      <td>1.000000</td>\n",
       "      <td>NaN</td>\n",
       "    </tr>\n",
       "    <tr>\n",
       "      <th>RAD</th>\n",
       "      <td>NaN</td>\n",
       "      <td>1.000000</td>\n",
       "      <td>NaN</td>\n",
       "    </tr>\n",
       "    <tr>\n",
       "      <th>TAX</th>\n",
       "      <td>NaN</td>\n",
       "      <td>1.000000</td>\n",
       "      <td>NaN</td>\n",
       "    </tr>\n",
       "    <tr>\n",
       "      <th>PTRATIO</th>\n",
       "      <td>0.374834</td>\n",
       "      <td>0.666667</td>\n",
       "      <td>0.0</td>\n",
       "    </tr>\n",
       "    <tr>\n",
       "      <th>LSTAT</th>\n",
       "      <td>0.776577</td>\n",
       "      <td>0.200000</td>\n",
       "      <td>0.0</td>\n",
       "    </tr>\n",
       "  </tbody>\n",
       "</table>\n",
       "</div>"
      ],
      "text/plain": [
       "             RMSE       BMR  BAR\n",
       "CRIM          NaN  1.000000  NaN\n",
       "ZN            NaN  1.000000  NaN\n",
       "INDUS    4.985777  0.500000  0.0\n",
       "NOX           NaN       NaN  1.0\n",
       "RM            NaN  1.000000  NaN\n",
       "AGE           NaN  1.000000  NaN\n",
       "DIS           NaN  1.000000  NaN\n",
       "RAD           NaN  1.000000  NaN\n",
       "TAX           NaN  1.000000  NaN\n",
       "PTRATIO  0.374834  0.666667  0.0\n",
       "LSTAT    0.776577  0.200000  0.0"
      ]
     },
     "execution_count": 21,
     "metadata": {},
     "output_type": "execute_result"
    }
   ],
   "source": [
    "local_fidelities[(max_depth, focus_class)] = statistics\n",
    "statistics"
   ]
  },
  {
   "cell_type": "markdown",
   "id": "0653ef1c-44c2-4b88-aa10-ff7448db2dad",
   "metadata": {},
   "source": [
    "##### (2, 1)"
   ]
  },
  {
   "cell_type": "code",
   "execution_count": 22,
   "id": "bb57849e-218d-4a93-a236-993aa81bcc62",
   "metadata": {},
   "outputs": [],
   "source": [
    "focus_class_idx, focus_class = comparer.check_class('(2, 1)')\n",
    "ground_truth_instance_indices, ground_truth = ground_truth_per_class[focus_class]\n",
    "constraints_focus, rules_focus, class_occurences_focus, instance_indices_per_rule_focus =\\\n",
    "    zip(*[(constraint, rule, class_occurences, instance_indices)\n",
    "     for constraint, rule, class_occurences, label, instance_indices\n",
    "     in zip(constraints, rules, class_occurences, labels, instance_indices_per_rule)\n",
    "     if label == focus_class_idx])"
   ]
  },
  {
   "cell_type": "code",
   "execution_count": 23,
   "id": "f33a8e29-f683-4d9b-a317-255ba21c7c33",
   "metadata": {},
   "outputs": [
    {
     "name": "stderr",
     "output_type": "stream",
     "text": [
      "invalid value encountered in true_divide\n",
      "invalid value encountered in true_divide\n"
     ]
    }
   ],
   "source": [
    "errors, statistics = evaluate_counterfactual_fidelity(comparer, ground_truth_instance_indices,\n",
    "                                                      ground_truth, instance_indices_per_rule_focus,\n",
    "                                                      constraints_focus)"
   ]
  },
  {
   "cell_type": "code",
   "execution_count": 24,
   "id": "df236c3b-d026-4ac3-abda-0e7093ed36d8",
   "metadata": {},
   "outputs": [
    {
     "data": {
      "text/html": [
       "<div>\n",
       "<style scoped>\n",
       "    .dataframe tbody tr th:only-of-type {\n",
       "        vertical-align: middle;\n",
       "    }\n",
       "\n",
       "    .dataframe tbody tr th {\n",
       "        vertical-align: top;\n",
       "    }\n",
       "\n",
       "    .dataframe thead th {\n",
       "        text-align: right;\n",
       "    }\n",
       "</style>\n",
       "<table border=\"1\" class=\"dataframe\">\n",
       "  <thead>\n",
       "    <tr style=\"text-align: right;\">\n",
       "      <th></th>\n",
       "      <th>RMSE</th>\n",
       "      <th>BMR</th>\n",
       "      <th>BAR</th>\n",
       "    </tr>\n",
       "  </thead>\n",
       "  <tbody>\n",
       "    <tr>\n",
       "      <th>CRIM</th>\n",
       "      <td>NaN</td>\n",
       "      <td>1.0</td>\n",
       "      <td>1.0</td>\n",
       "    </tr>\n",
       "    <tr>\n",
       "      <th>ZN</th>\n",
       "      <td>NaN</td>\n",
       "      <td>1.0</td>\n",
       "      <td>NaN</td>\n",
       "    </tr>\n",
       "    <tr>\n",
       "      <th>INDUS</th>\n",
       "      <td>NaN</td>\n",
       "      <td>1.0</td>\n",
       "      <td>NaN</td>\n",
       "    </tr>\n",
       "    <tr>\n",
       "      <th>NOX</th>\n",
       "      <td>NaN</td>\n",
       "      <td>NaN</td>\n",
       "      <td>NaN</td>\n",
       "    </tr>\n",
       "    <tr>\n",
       "      <th>RM</th>\n",
       "      <td>1.361463</td>\n",
       "      <td>0.4</td>\n",
       "      <td>0.0</td>\n",
       "    </tr>\n",
       "    <tr>\n",
       "      <th>AGE</th>\n",
       "      <td>NaN</td>\n",
       "      <td>1.0</td>\n",
       "      <td>NaN</td>\n",
       "    </tr>\n",
       "    <tr>\n",
       "      <th>DIS</th>\n",
       "      <td>1.137869</td>\n",
       "      <td>0.8</td>\n",
       "      <td>0.5</td>\n",
       "    </tr>\n",
       "    <tr>\n",
       "      <th>RAD</th>\n",
       "      <td>11.720004</td>\n",
       "      <td>0.5</td>\n",
       "      <td>0.0</td>\n",
       "    </tr>\n",
       "    <tr>\n",
       "      <th>TAX</th>\n",
       "      <td>NaN</td>\n",
       "      <td>1.0</td>\n",
       "      <td>NaN</td>\n",
       "    </tr>\n",
       "    <tr>\n",
       "      <th>PTRATIO</th>\n",
       "      <td>NaN</td>\n",
       "      <td>1.0</td>\n",
       "      <td>1.0</td>\n",
       "    </tr>\n",
       "    <tr>\n",
       "      <th>LSTAT</th>\n",
       "      <td>1.746977</td>\n",
       "      <td>0.5</td>\n",
       "      <td>0.0</td>\n",
       "    </tr>\n",
       "  </tbody>\n",
       "</table>\n",
       "</div>"
      ],
      "text/plain": [
       "              RMSE  BMR  BAR\n",
       "CRIM           NaN  1.0  1.0\n",
       "ZN             NaN  1.0  NaN\n",
       "INDUS          NaN  1.0  NaN\n",
       "NOX            NaN  NaN  NaN\n",
       "RM        1.361463  0.4  0.0\n",
       "AGE            NaN  1.0  NaN\n",
       "DIS       1.137869  0.8  0.5\n",
       "RAD      11.720004  0.5  0.0\n",
       "TAX            NaN  1.0  NaN\n",
       "PTRATIO        NaN  1.0  1.0\n",
       "LSTAT     1.746977  0.5  0.0"
      ]
     },
     "execution_count": 24,
     "metadata": {},
     "output_type": "execute_result"
    }
   ],
   "source": [
    "local_fidelities[(max_depth, focus_class)] = statistics\n",
    "statistics"
   ]
  },
  {
   "cell_type": "markdown",
   "id": "06dc6a42-6d89-4135-8681-69683b4d1663",
   "metadata": {},
   "source": [
    "#### Complexity"
   ]
  },
  {
   "cell_type": "markdown",
   "id": "f38b2579-9e3b-43e2-9439-338bbdba573c",
   "metadata": {},
   "source": [
    "##### (0, 1)"
   ]
  },
  {
   "cell_type": "code",
   "execution_count": 25,
   "id": "ccb77603-6f6e-46a4-be1e-0e4b704e28ec",
   "metadata": {},
   "outputs": [],
   "source": [
    "focus_class_idx, focus_class = comparer.check_class('(0, 1)')\n",
    "ground_truth_instance_indices, ground_truth = ground_truth_per_class[focus_class]\n",
    "constraints_focus, rules_focus, class_occurences_focus, instance_indices_per_rule_focus =\\\n",
    "    zip(*[(constraint, rule, class_occurences, instance_indices)\n",
    "     for constraint, rule, class_occurences, label, instance_indices\n",
    "     in zip(constraints, rules, class_occurences, labels, instance_indices_per_rule)\n",
    "     if label == focus_class_idx])"
   ]
  },
  {
   "cell_type": "code",
   "execution_count": 26,
   "id": "6332429a-ec84-4186-8b5a-15a7c991c10e",
   "metadata": {},
   "outputs": [
    {
     "data": {
      "text/plain": [
       "Rules          2\n",
       "Constraints    7\n",
       "dtype: int64"
      ]
     },
     "execution_count": 26,
     "metadata": {},
     "output_type": "execute_result"
    }
   ],
   "source": [
    "res = get_complexity(constraints_focus)\n",
    "complexities[(max_depth, focus_class)] = res\n",
    "res"
   ]
  },
  {
   "cell_type": "markdown",
   "id": "9f26af5f-b263-4150-8f66-4cea5eadbc90",
   "metadata": {},
   "source": [
    "##### (2, 1)"
   ]
  },
  {
   "cell_type": "code",
   "execution_count": 27,
   "id": "b6c687ba-f739-435d-9bc6-9a2571811260",
   "metadata": {},
   "outputs": [],
   "source": [
    "focus_class_idx, focus_class = comparer.check_class('(2, 1)')\n",
    "ground_truth_instance_indices, ground_truth = ground_truth_per_class[focus_class]\n",
    "constraints_focus, rules_focus, class_occurences_focus, instance_indices_per_rule_focus =\\\n",
    "    zip(*[(constraint, rule, class_occurences, instance_indices)\n",
    "     for constraint, rule, class_occurences, label, instance_indices\n",
    "     in zip(constraints, rules, class_occurences, labels, instance_indices_per_rule)\n",
    "     if label == focus_class_idx])"
   ]
  },
  {
   "cell_type": "code",
   "execution_count": 28,
   "id": "04ac63e1-ec3d-492d-8457-1991dabcce4b",
   "metadata": {},
   "outputs": [
    {
     "data": {
      "text/plain": [
       "Rules          2\n",
       "Constraints    8\n",
       "dtype: int64"
      ]
     },
     "execution_count": 28,
     "metadata": {},
     "output_type": "execute_result"
    }
   ],
   "source": [
    "res = get_complexity(constraints_focus)\n",
    "complexities[(max_depth, focus_class)] = res\n",
    "res"
   ]
  },
  {
   "cell_type": "markdown",
   "id": "c320e360-26ed-4f40-9e71-d0e4cf889746",
   "metadata": {},
   "source": [
    "## Tree with Depth 5"
   ]
  },
  {
   "cell_type": "code",
   "execution_count": 57,
   "id": "afa6e921-5ecf-4ebe-b270-bbfaf314c3ab",
   "metadata": {},
   "outputs": [
    {
     "name": "stdout",
     "output_type": "stream",
     "text": [
      "CPU times: user 6.78 ms, sys: 2.29 ms, total: 9.06 ms\n",
      "Wall time: 7.45 ms\n"
     ]
    },
    {
     "data": {
      "text/html": [
       "<div>\n",
       "<style scoped>\n",
       "    .dataframe tbody tr th:only-of-type {\n",
       "        vertical-align: middle;\n",
       "    }\n",
       "\n",
       "    .dataframe tbody tr th {\n",
       "        vertical-align: top;\n",
       "    }\n",
       "\n",
       "    .dataframe thead th {\n",
       "        text-align: right;\n",
       "    }\n",
       "</style>\n",
       "<table border=\"1\" class=\"dataframe\">\n",
       "  <thead>\n",
       "    <tr style=\"text-align: right;\">\n",
       "      <th></th>\n",
       "      <th>Precision</th>\n",
       "      <th>Recall</th>\n",
       "      <th>F1 Score</th>\n",
       "      <th>Support</th>\n",
       "    </tr>\n",
       "  </thead>\n",
       "  <tbody>\n",
       "    <tr>\n",
       "      <th>(0, 0)</th>\n",
       "      <td>0.986842</td>\n",
       "      <td>0.986842</td>\n",
       "      <td>0.986842</td>\n",
       "      <td>76</td>\n",
       "    </tr>\n",
       "    <tr>\n",
       "      <th>(0, 1)</th>\n",
       "      <td>0.846154</td>\n",
       "      <td>0.846154</td>\n",
       "      <td>0.846154</td>\n",
       "      <td>13</td>\n",
       "    </tr>\n",
       "    <tr>\n",
       "      <th>(1, 1)</th>\n",
       "      <td>0.965517</td>\n",
       "      <td>0.965517</td>\n",
       "      <td>0.965517</td>\n",
       "      <td>58</td>\n",
       "    </tr>\n",
       "    <tr>\n",
       "      <th>(1, 2)</th>\n",
       "      <td>1.000000</td>\n",
       "      <td>1.000000</td>\n",
       "      <td>1.000000</td>\n",
       "      <td>1</td>\n",
       "    </tr>\n",
       "    <tr>\n",
       "      <th>(2, 1)</th>\n",
       "      <td>1.000000</td>\n",
       "      <td>1.000000</td>\n",
       "      <td>1.000000</td>\n",
       "      <td>3</td>\n",
       "    </tr>\n",
       "    <tr>\n",
       "      <th>(2, 2)</th>\n",
       "      <td>1.000000</td>\n",
       "      <td>1.000000</td>\n",
       "      <td>1.000000</td>\n",
       "      <td>95</td>\n",
       "    </tr>\n",
       "  </tbody>\n",
       "</table>\n",
       "</div>"
      ],
      "text/plain": [
       "        Precision    Recall  F1 Score  Support\n",
       "(0, 0)   0.986842  0.986842  0.986842       76\n",
       "(0, 1)   0.846154  0.846154  0.846154       13\n",
       "(1, 1)   0.965517  0.965517  0.965517       58\n",
       "(1, 2)   1.000000  1.000000  1.000000        1\n",
       "(2, 1)   1.000000  1.000000  1.000000        3\n",
       "(2, 2)   1.000000  1.000000  1.000000       95"
      ]
     },
     "execution_count": 57,
     "metadata": {},
     "output_type": "execute_result"
    }
   ],
   "source": [
    "%%time\n",
    "max_depth = 5\n",
    "model = train_surrogate_tree(X, mclass_diff, max_depth=max_depth)\n",
    "evaluate(model, X, mclass_diff, comparer.class_names);"
   ]
  },
  {
   "cell_type": "code",
   "execution_count": 58,
   "id": "4a1beaeb-6188-4ddd-b2ff-56958b2fe937",
   "metadata": {},
   "outputs": [
    {
     "data": {
      "image/png": "[encoded data removed]",
      "text/plain": [
       "<Figure size 360x360 with 1 Axes>"
      ]
     },
     "metadata": {
      "needs_background": "light"
     },
     "output_type": "display_data"
    }
   ],
   "source": [
    "feature_importances, feature_order = get_feature_importances(model)\n",
    "plot_feature_importances(feature_names, feature_importances, feature_order, figsize=(5, 5))"
   ]
  },
  {
   "cell_type": "code",
   "execution_count": 59,
   "id": "eb524604-dfc1-41fb-9aff-1b8d8494cd1b",
   "metadata": {},
   "outputs": [],
   "source": [
    "constraints, rules, class_occurences, labels, instance_indices_per_rule =\\\n",
    "    extract_rules(model, feature_names, comparer.difference_classes, X, mclass_diff)"
   ]
  },
  {
   "cell_type": "code",
   "execution_count": 60,
   "id": "101ed5c3-f64c-43d6-b54e-bb7f8d0f0b72",
   "metadata": {},
   "outputs": [],
   "source": [
    "rules = constraint_matrix_to_rules(constraints, feature_names, feature_order, feature_precisions, latex=True)"
   ]
  },
  {
   "cell_type": "code",
   "execution_count": 61,
   "id": "50e957e8-8976-4128-88f7-876c50d20395",
   "metadata": {},
   "outputs": [
    {
     "name": "stdout",
     "output_type": "stream",
     "text": [
      "\\item $\\mathit{LSTAT} \\leq 6.26 \\land \\mathit{RM} \\leq 6.62 \\land \\mathit{RAD} \\leq 6.00 \\land \\mathit{DIS} \\leq 7.10$ [0, 0, 0, 1, 0, 0]\n"
     ]
    }
   ],
   "source": [
    "for label, rule, class_occurences_part in zip(labels, rules, class_occurences):\n",
    "    if comparer.class_names[label] == '(1, 2)':\n",
    "        print(f'\\item ${rule}$ {class_occurences_part.astype(int).tolist()}')"
   ]
  },
  {
   "cell_type": "markdown",
   "id": "8f510ce0-7e85-494b-8134-534f18147a8b",
   "metadata": {},
   "source": [
    "### Evaluation"
   ]
  },
  {
   "cell_type": "markdown",
   "id": "7d20bd1d-d55c-48c6-9b2f-723a4be6dde4",
   "metadata": {},
   "source": [
    "#### Global Fidelity"
   ]
  },
  {
   "cell_type": "code",
   "execution_count": 35,
   "id": "d79ef63d-1025-4fc8-9aac-f01af4166758",
   "metadata": {},
   "outputs": [
    {
     "data": {
      "text/html": [
       "<div>\n",
       "<style scoped>\n",
       "    .dataframe tbody tr th:only-of-type {\n",
       "        vertical-align: middle;\n",
       "    }\n",
       "\n",
       "    .dataframe tbody tr th {\n",
       "        vertical-align: top;\n",
       "    }\n",
       "\n",
       "    .dataframe thead th {\n",
       "        text-align: right;\n",
       "    }\n",
       "</style>\n",
       "<table border=\"1\" class=\"dataframe\">\n",
       "  <thead>\n",
       "    <tr style=\"text-align: right;\">\n",
       "      <th></th>\n",
       "      <th>Precision</th>\n",
       "      <th>Recall</th>\n",
       "      <th>F1 Score</th>\n",
       "      <th>Support</th>\n",
       "    </tr>\n",
       "  </thead>\n",
       "  <tbody>\n",
       "    <tr>\n",
       "      <th>(0, 0)</th>\n",
       "      <td>0.986842</td>\n",
       "      <td>0.986842</td>\n",
       "      <td>0.986842</td>\n",
       "      <td>76</td>\n",
       "    </tr>\n",
       "    <tr>\n",
       "      <th>(0, 1)</th>\n",
       "      <td>0.846154</td>\n",
       "      <td>0.846154</td>\n",
       "      <td>0.846154</td>\n",
       "      <td>13</td>\n",
       "    </tr>\n",
       "    <tr>\n",
       "      <th>(1, 1)</th>\n",
       "      <td>0.965517</td>\n",
       "      <td>0.965517</td>\n",
       "      <td>0.965517</td>\n",
       "      <td>58</td>\n",
       "    </tr>\n",
       "    <tr>\n",
       "      <th>(1, 2)</th>\n",
       "      <td>1.000000</td>\n",
       "      <td>1.000000</td>\n",
       "      <td>1.000000</td>\n",
       "      <td>1</td>\n",
       "    </tr>\n",
       "    <tr>\n",
       "      <th>(2, 1)</th>\n",
       "      <td>1.000000</td>\n",
       "      <td>1.000000</td>\n",
       "      <td>1.000000</td>\n",
       "      <td>3</td>\n",
       "    </tr>\n",
       "    <tr>\n",
       "      <th>(2, 2)</th>\n",
       "      <td>1.000000</td>\n",
       "      <td>1.000000</td>\n",
       "      <td>1.000000</td>\n",
       "      <td>95</td>\n",
       "    </tr>\n",
       "  </tbody>\n",
       "</table>\n",
       "</div>"
      ],
      "text/plain": [
       "        Precision    Recall  F1 Score  Support\n",
       "(0, 0)   0.986842  0.986842  0.986842       76\n",
       "(0, 1)   0.846154  0.846154  0.846154       13\n",
       "(1, 1)   0.965517  0.965517  0.965517       58\n",
       "(1, 2)   1.000000  1.000000  1.000000        1\n",
       "(2, 1)   1.000000  1.000000  1.000000        3\n",
       "(2, 2)   1.000000  1.000000  1.000000       95"
      ]
     },
     "execution_count": 35,
     "metadata": {},
     "output_type": "execute_result"
    }
   ],
   "source": [
    "scores = evaluate(model, X, mclass_diff, comparer.class_names)\n",
    "global_fidelities[max_depth] = scores\n",
    "scores"
   ]
  },
  {
   "cell_type": "markdown",
   "id": "92ecfc30-bd29-4f38-8a45-aab7b16121ff",
   "metadata": {},
   "source": [
    "#### Counterfactual Fidelity Error"
   ]
  },
  {
   "cell_type": "markdown",
   "id": "69a7526d-e7bc-4439-a7db-ec160d141255",
   "metadata": {},
   "source": [
    "##### (1, 2)"
   ]
  },
  {
   "cell_type": "code",
   "execution_count": 36,
   "id": "de7bd937-2063-4616-a8ba-23ea64b68e30",
   "metadata": {},
   "outputs": [],
   "source": [
    "focus_class_idx, focus_class = comparer.check_class('(1, 2)')\n",
    "ground_truth_instance_indices, ground_truth = ground_truth_per_class[focus_class]\n",
    "constraints_focus, rules_focus, class_occurences_focus, instance_indices_per_rule_focus =\\\n",
    "    zip(*[(constraint, rule, class_occurences, instance_indices)\n",
    "     for constraint, rule, class_occurences, label, instance_indices\n",
    "     in zip(constraints, rules, class_occurences, labels, instance_indices_per_rule)\n",
    "     if label == focus_class_idx])"
   ]
  },
  {
   "cell_type": "code",
   "execution_count": 37,
   "id": "9dbd2caf-824b-48ca-90ea-3e6b99cbb728",
   "metadata": {},
   "outputs": [
    {
     "name": "stderr",
     "output_type": "stream",
     "text": [
      "invalid value encountered in true_divide\n",
      "invalid value encountered in true_divide\n"
     ]
    }
   ],
   "source": [
    "errors, statistics = evaluate_counterfactual_fidelity(comparer, ground_truth_instance_indices,\n",
    "                                                      ground_truth, instance_indices_per_rule_focus,\n",
    "                                                      constraints_focus)"
   ]
  },
  {
   "cell_type": "code",
   "execution_count": 38,
   "id": "5fbbc5fd-a754-46ae-b987-14ba5951900d",
   "metadata": {},
   "outputs": [
    {
     "data": {
      "text/html": [
       "<div>\n",
       "<style scoped>\n",
       "    .dataframe tbody tr th:only-of-type {\n",
       "        vertical-align: middle;\n",
       "    }\n",
       "\n",
       "    .dataframe tbody tr th {\n",
       "        vertical-align: top;\n",
       "    }\n",
       "\n",
       "    .dataframe thead th {\n",
       "        text-align: right;\n",
       "    }\n",
       "</style>\n",
       "<table border=\"1\" class=\"dataframe\">\n",
       "  <thead>\n",
       "    <tr style=\"text-align: right;\">\n",
       "      <th></th>\n",
       "      <th>RMSE</th>\n",
       "      <th>BMR</th>\n",
       "      <th>BAR</th>\n",
       "    </tr>\n",
       "  </thead>\n",
       "  <tbody>\n",
       "    <tr>\n",
       "      <th>CRIM</th>\n",
       "      <td>NaN</td>\n",
       "      <td>1.0</td>\n",
       "      <td>NaN</td>\n",
       "    </tr>\n",
       "    <tr>\n",
       "      <th>ZN</th>\n",
       "      <td>NaN</td>\n",
       "      <td>1.0</td>\n",
       "      <td>NaN</td>\n",
       "    </tr>\n",
       "    <tr>\n",
       "      <th>INDUS</th>\n",
       "      <td>NaN</td>\n",
       "      <td>1.0</td>\n",
       "      <td>NaN</td>\n",
       "    </tr>\n",
       "    <tr>\n",
       "      <th>NOX</th>\n",
       "      <td>NaN</td>\n",
       "      <td>NaN</td>\n",
       "      <td>NaN</td>\n",
       "    </tr>\n",
       "    <tr>\n",
       "      <th>RM</th>\n",
       "      <td>1.120368</td>\n",
       "      <td>0.5</td>\n",
       "      <td>0.0</td>\n",
       "    </tr>\n",
       "    <tr>\n",
       "      <th>AGE</th>\n",
       "      <td>NaN</td>\n",
       "      <td>1.0</td>\n",
       "      <td>NaN</td>\n",
       "    </tr>\n",
       "    <tr>\n",
       "      <th>DIS</th>\n",
       "      <td>NaN</td>\n",
       "      <td>1.0</td>\n",
       "      <td>NaN</td>\n",
       "    </tr>\n",
       "    <tr>\n",
       "      <th>RAD</th>\n",
       "      <td>4.754540</td>\n",
       "      <td>0.0</td>\n",
       "      <td>0.0</td>\n",
       "    </tr>\n",
       "    <tr>\n",
       "      <th>TAX</th>\n",
       "      <td>NaN</td>\n",
       "      <td>NaN</td>\n",
       "      <td>NaN</td>\n",
       "    </tr>\n",
       "    <tr>\n",
       "      <th>PTRATIO</th>\n",
       "      <td>NaN</td>\n",
       "      <td>1.0</td>\n",
       "      <td>NaN</td>\n",
       "    </tr>\n",
       "    <tr>\n",
       "      <th>LSTAT</th>\n",
       "      <td>0.015000</td>\n",
       "      <td>0.5</td>\n",
       "      <td>0.0</td>\n",
       "    </tr>\n",
       "  </tbody>\n",
       "</table>\n",
       "</div>"
      ],
      "text/plain": [
       "             RMSE  BMR  BAR\n",
       "CRIM          NaN  1.0  NaN\n",
       "ZN            NaN  1.0  NaN\n",
       "INDUS         NaN  1.0  NaN\n",
       "NOX           NaN  NaN  NaN\n",
       "RM       1.120368  0.5  0.0\n",
       "AGE           NaN  1.0  NaN\n",
       "DIS           NaN  1.0  NaN\n",
       "RAD      4.754540  0.0  0.0\n",
       "TAX           NaN  NaN  NaN\n",
       "PTRATIO       NaN  1.0  NaN\n",
       "LSTAT    0.015000  0.5  0.0"
      ]
     },
     "execution_count": 38,
     "metadata": {},
     "output_type": "execute_result"
    }
   ],
   "source": [
    "local_fidelities[(max_depth, focus_class)] = statistics\n",
    "statistics"
   ]
  },
  {
   "cell_type": "markdown",
   "id": "82e8836a-9850-4a3a-8377-15b3d7433562",
   "metadata": {},
   "source": [
    "#### Complexity"
   ]
  },
  {
   "cell_type": "markdown",
   "id": "1ed0de30-03c5-4658-8bb5-58730da79af1",
   "metadata": {},
   "source": [
    "##### (1, 2)"
   ]
  },
  {
   "cell_type": "code",
   "execution_count": 39,
   "id": "ae0f31ce-dd19-47e9-aaf4-c1debf03e62d",
   "metadata": {},
   "outputs": [],
   "source": [
    "focus_class_idx, focus_class = comparer.check_class('(1, 2)')\n",
    "ground_truth_instance_indices, ground_truth = ground_truth_per_class[focus_class]\n",
    "constraints_focus, rules_focus, class_occurences_focus, instance_indices_per_rule_focus =\\\n",
    "    zip(*[(constraint, rule, class_occurences, instance_indices)\n",
    "     for constraint, rule, class_occurences, label, instance_indices\n",
    "     in zip(constraints, rules, class_occurences, labels, instance_indices_per_rule)\n",
    "     if label == focus_class_idx])"
   ]
  },
  {
   "cell_type": "code",
   "execution_count": 40,
   "id": "e3c1b9d3-411b-4494-826c-9d1b9f599b2b",
   "metadata": {},
   "outputs": [
    {
     "data": {
      "text/plain": [
       "Rules          1\n",
       "Constraints    4\n",
       "dtype: int64"
      ]
     },
     "execution_count": 40,
     "metadata": {},
     "output_type": "execute_result"
    }
   ],
   "source": [
    "res = get_complexity(constraints_focus)\n",
    "complexities[(max_depth, focus_class)] = res\n",
    "res"
   ]
  },
  {
   "cell_type": "markdown",
   "id": "4614c777-f604-42ab-8942-5dfe829d9f88",
   "metadata": {},
   "source": [
    "## Tree with Depth 8"
   ]
  },
  {
   "cell_type": "code",
   "execution_count": 62,
   "id": "f0b749f4-73ed-42e2-8fec-72b93cc4db70",
   "metadata": {},
   "outputs": [
    {
     "name": "stdout",
     "output_type": "stream",
     "text": [
      "CPU times: user 8.33 ms, sys: 15.1 ms, total: 23.5 ms\n",
      "Wall time: 25.8 ms\n"
     ]
    },
    {
     "data": {
      "text/html": [
       "<div>\n",
       "<style scoped>\n",
       "    .dataframe tbody tr th:only-of-type {\n",
       "        vertical-align: middle;\n",
       "    }\n",
       "\n",
       "    .dataframe tbody tr th {\n",
       "        vertical-align: top;\n",
       "    }\n",
       "\n",
       "    .dataframe thead th {\n",
       "        text-align: right;\n",
       "    }\n",
       "</style>\n",
       "<table border=\"1\" class=\"dataframe\">\n",
       "  <thead>\n",
       "    <tr style=\"text-align: right;\">\n",
       "      <th></th>\n",
       "      <th>Precision</th>\n",
       "      <th>Recall</th>\n",
       "      <th>F1 Score</th>\n",
       "      <th>Support</th>\n",
       "    </tr>\n",
       "  </thead>\n",
       "  <tbody>\n",
       "    <tr>\n",
       "      <th>(0, 0)</th>\n",
       "      <td>1.0</td>\n",
       "      <td>1.0</td>\n",
       "      <td>1.0</td>\n",
       "      <td>76</td>\n",
       "    </tr>\n",
       "    <tr>\n",
       "      <th>(0, 1)</th>\n",
       "      <td>1.0</td>\n",
       "      <td>1.0</td>\n",
       "      <td>1.0</td>\n",
       "      <td>13</td>\n",
       "    </tr>\n",
       "    <tr>\n",
       "      <th>(1, 1)</th>\n",
       "      <td>1.0</td>\n",
       "      <td>1.0</td>\n",
       "      <td>1.0</td>\n",
       "      <td>58</td>\n",
       "    </tr>\n",
       "    <tr>\n",
       "      <th>(1, 2)</th>\n",
       "      <td>1.0</td>\n",
       "      <td>1.0</td>\n",
       "      <td>1.0</td>\n",
       "      <td>1</td>\n",
       "    </tr>\n",
       "    <tr>\n",
       "      <th>(2, 1)</th>\n",
       "      <td>1.0</td>\n",
       "      <td>1.0</td>\n",
       "      <td>1.0</td>\n",
       "      <td>3</td>\n",
       "    </tr>\n",
       "    <tr>\n",
       "      <th>(2, 2)</th>\n",
       "      <td>1.0</td>\n",
       "      <td>1.0</td>\n",
       "      <td>1.0</td>\n",
       "      <td>95</td>\n",
       "    </tr>\n",
       "  </tbody>\n",
       "</table>\n",
       "</div>"
      ],
      "text/plain": [
       "        Precision  Recall  F1 Score  Support\n",
       "(0, 0)        1.0     1.0       1.0       76\n",
       "(0, 1)        1.0     1.0       1.0       13\n",
       "(1, 1)        1.0     1.0       1.0       58\n",
       "(1, 2)        1.0     1.0       1.0        1\n",
       "(2, 1)        1.0     1.0       1.0        3\n",
       "(2, 2)        1.0     1.0       1.0       95"
      ]
     },
     "execution_count": 62,
     "metadata": {},
     "output_type": "execute_result"
    }
   ],
   "source": [
    "%%time\n",
    "max_depth = 8\n",
    "model = train_surrogate_tree(X, mclass_diff, max_depth=max_depth)\n",
    "evaluate(model, X, mclass_diff, comparer.class_names);"
   ]
  },
  {
   "cell_type": "code",
   "execution_count": 63,
   "id": "faa72422-1fe4-4b58-be9d-3f41aa9c182e",
   "metadata": {},
   "outputs": [
    {
     "data": {
      "image/png": "[encoded data removed]",
      "text/plain": [
       "<Figure size 360x360 with 1 Axes>"
      ]
     },
     "metadata": {
      "needs_background": "light"
     },
     "output_type": "display_data"
    }
   ],
   "source": [
    "feature_importances, feature_order = get_feature_importances(model)\n",
    "plot_feature_importances(feature_names, feature_importances, feature_order, figsize=(5, 5))"
   ]
  },
  {
   "cell_type": "code",
   "execution_count": 64,
   "id": "65747d00-860f-41b3-933f-bdb23c5be46b",
   "metadata": {},
   "outputs": [],
   "source": [
    "constraints, rules, class_occurences, labels, instance_indices_per_rule =\\\n",
    "    extract_rules(model, feature_names, comparer.difference_classes, X, mclass_diff)"
   ]
  },
  {
   "cell_type": "code",
   "execution_count": 65,
   "id": "3a2d06e0-5f42-4fb4-ba98-50dda5b59806",
   "metadata": {},
   "outputs": [],
   "source": [
    "rules = constraint_matrix_to_rules(constraints, feature_names, feature_order, feature_precisions, latex=True)"
   ]
  },
  {
   "cell_type": "code",
   "execution_count": 66,
   "id": "08d8d8d9-f018-4fd8-b1e3-1db769e5f8ea",
   "metadata": {},
   "outputs": [
    {
     "name": "stdout",
     "output_type": "stream",
     "text": [
      "\\item $16.29 < \\mathit{LSTAT} \\leq 17.72 \\land \\mathit{NOX} > 0.59 \\land \\mathit{CRIM} \\leq 1$ [0, 4, 0, 0, 0, 0]\n",
      "\\item $9.48 < \\mathit{LSTAT} \\leq 12.61 \\land 0.59 < \\mathit{NOX} \\leq 0.62$ [0, 3, 0, 0, 0, 0]\n",
      "\\item $\\mathit{LSTAT} > 17.52 \\land \\mathit{NOX} \\leq 0.59 \\land \\mathit{DIS} > 3.79 \\land \\mathit{PTRATIO} > 20.60$ [0, 2, 0, 0, 0, 0]\n",
      "\\item $16.72 < \\mathit{LSTAT} \\leq 17.52 \\land \\mathit{NOX} \\leq 0.59 \\land 2.27 < \\mathit{DIS} \\leq 5.52$ [0, 2, 0, 0, 0, 0]\n",
      "\\item $12.61 < \\mathit{LSTAT} \\leq 14.31 \\land \\mathit{NOX} > 0.59 \\land \\mathit{DIS} > 2.12 \\land \\mathit{CRIM} > 1$ [0, 1, 0, 0, 0, 0]\n",
      "\\item $9.48 < \\mathit{LSTAT} \\leq 16.72 \\land 0.49 < \\mathit{NOX} \\leq 0.59 \\land \\mathit{DIS} > 2.27 \\land \\mathit{PTRATIO} \\leq 16.50 \\land \\mathit{AGE} > 0$ [0, 1, 0, 0, 0, 0]\n"
     ]
    }
   ],
   "source": [
    "for label, rule, class_occurences_part in zip(labels, rules, class_occurences):\n",
    "    if comparer.class_names[label] == '(0, 1)':\n",
    "        print(f'\\item ${rule}$ {class_occurences_part.astype(int).tolist()}')"
   ]
  },
  {
   "cell_type": "markdown",
   "id": "47a5df8a-5804-4760-a9e6-23ec9cbfba96",
   "metadata": {},
   "source": [
    "### Evaluation"
   ]
  },
  {
   "cell_type": "markdown",
   "id": "349a084c-ec2a-435c-959a-70be419d0451",
   "metadata": {},
   "source": [
    "#### Global Fidelity"
   ]
  },
  {
   "cell_type": "code",
   "execution_count": 45,
   "id": "68dcb419-0a60-410a-89f9-59f7733266b9",
   "metadata": {},
   "outputs": [
    {
     "data": {
      "text/html": [
       "<div>\n",
       "<style scoped>\n",
       "    .dataframe tbody tr th:only-of-type {\n",
       "        vertical-align: middle;\n",
       "    }\n",
       "\n",
       "    .dataframe tbody tr th {\n",
       "        vertical-align: top;\n",
       "    }\n",
       "\n",
       "    .dataframe thead th {\n",
       "        text-align: right;\n",
       "    }\n",
       "</style>\n",
       "<table border=\"1\" class=\"dataframe\">\n",
       "  <thead>\n",
       "    <tr style=\"text-align: right;\">\n",
       "      <th></th>\n",
       "      <th>Precision</th>\n",
       "      <th>Recall</th>\n",
       "      <th>F1 Score</th>\n",
       "      <th>Support</th>\n",
       "    </tr>\n",
       "  </thead>\n",
       "  <tbody>\n",
       "    <tr>\n",
       "      <th>(0, 0)</th>\n",
       "      <td>1.0</td>\n",
       "      <td>1.0</td>\n",
       "      <td>1.0</td>\n",
       "      <td>76</td>\n",
       "    </tr>\n",
       "    <tr>\n",
       "      <th>(0, 1)</th>\n",
       "      <td>1.0</td>\n",
       "      <td>1.0</td>\n",
       "      <td>1.0</td>\n",
       "      <td>13</td>\n",
       "    </tr>\n",
       "    <tr>\n",
       "      <th>(1, 1)</th>\n",
       "      <td>1.0</td>\n",
       "      <td>1.0</td>\n",
       "      <td>1.0</td>\n",
       "      <td>58</td>\n",
       "    </tr>\n",
       "    <tr>\n",
       "      <th>(1, 2)</th>\n",
       "      <td>1.0</td>\n",
       "      <td>1.0</td>\n",
       "      <td>1.0</td>\n",
       "      <td>1</td>\n",
       "    </tr>\n",
       "    <tr>\n",
       "      <th>(2, 1)</th>\n",
       "      <td>1.0</td>\n",
       "      <td>1.0</td>\n",
       "      <td>1.0</td>\n",
       "      <td>3</td>\n",
       "    </tr>\n",
       "    <tr>\n",
       "      <th>(2, 2)</th>\n",
       "      <td>1.0</td>\n",
       "      <td>1.0</td>\n",
       "      <td>1.0</td>\n",
       "      <td>95</td>\n",
       "    </tr>\n",
       "  </tbody>\n",
       "</table>\n",
       "</div>"
      ],
      "text/plain": [
       "        Precision  Recall  F1 Score  Support\n",
       "(0, 0)        1.0     1.0       1.0       76\n",
       "(0, 1)        1.0     1.0       1.0       13\n",
       "(1, 1)        1.0     1.0       1.0       58\n",
       "(1, 2)        1.0     1.0       1.0        1\n",
       "(2, 1)        1.0     1.0       1.0        3\n",
       "(2, 2)        1.0     1.0       1.0       95"
      ]
     },
     "execution_count": 45,
     "metadata": {},
     "output_type": "execute_result"
    }
   ],
   "source": [
    "scores = evaluate(model, X, mclass_diff, comparer.class_names)\n",
    "global_fidelities[max_depth] = scores\n",
    "scores"
   ]
  },
  {
   "cell_type": "markdown",
   "id": "8dad1691-2972-4ee2-b7e9-b452068caa56",
   "metadata": {},
   "source": [
    "#### Counterfactual Fidelity Error"
   ]
  },
  {
   "cell_type": "markdown",
   "id": "adc1091b-886a-4399-b8a8-3137befc9e91",
   "metadata": {},
   "source": [
    "##### (0, 1)"
   ]
  },
  {
   "cell_type": "code",
   "execution_count": 46,
   "id": "664a14c3-ae4d-470a-a6b0-26a6625b099a",
   "metadata": {},
   "outputs": [],
   "source": [
    "focus_class_idx, focus_class = comparer.check_class('(0, 1)')\n",
    "ground_truth_instance_indices, ground_truth = ground_truth_per_class[focus_class]\n",
    "constraints_focus, rules_focus, class_occurences_focus, instance_indices_per_rule_focus =\\\n",
    "    zip(*[(constraint, rule, class_occurences, instance_indices)\n",
    "     for constraint, rule, class_occurences, label, instance_indices\n",
    "     in zip(constraints, rules, class_occurences, labels, instance_indices_per_rule)\n",
    "     if label == focus_class_idx])"
   ]
  },
  {
   "cell_type": "code",
   "execution_count": 47,
   "id": "c506213a-40d5-4364-9e12-3fb04aab51e1",
   "metadata": {},
   "outputs": [
    {
     "name": "stderr",
     "output_type": "stream",
     "text": [
      "invalid value encountered in true_divide\n",
      "invalid value encountered in true_divide\n"
     ]
    }
   ],
   "source": [
    "errors, statistics = evaluate_counterfactual_fidelity(comparer, ground_truth_instance_indices,\n",
    "                                                      ground_truth, instance_indices_per_rule_focus,\n",
    "                                                      constraints_focus)"
   ]
  },
  {
   "cell_type": "code",
   "execution_count": 48,
   "id": "f2df0f59-28b5-4b0a-993a-73ff0a3c303c",
   "metadata": {},
   "outputs": [
    {
     "data": {
      "text/html": [
       "<div>\n",
       "<style scoped>\n",
       "    .dataframe tbody tr th:only-of-type {\n",
       "        vertical-align: middle;\n",
       "    }\n",
       "\n",
       "    .dataframe tbody tr th {\n",
       "        vertical-align: top;\n",
       "    }\n",
       "\n",
       "    .dataframe thead th {\n",
       "        text-align: right;\n",
       "    }\n",
       "</style>\n",
       "<table border=\"1\" class=\"dataframe\">\n",
       "  <thead>\n",
       "    <tr style=\"text-align: right;\">\n",
       "      <th></th>\n",
       "      <th>RMSE</th>\n",
       "      <th>BMR</th>\n",
       "      <th>BAR</th>\n",
       "    </tr>\n",
       "  </thead>\n",
       "  <tbody>\n",
       "    <tr>\n",
       "      <th>CRIM</th>\n",
       "      <td>0.794867</td>\n",
       "      <td>0.631579</td>\n",
       "      <td>0.0</td>\n",
       "    </tr>\n",
       "    <tr>\n",
       "      <th>ZN</th>\n",
       "      <td>6.250000</td>\n",
       "      <td>0.846154</td>\n",
       "      <td>0.0</td>\n",
       "    </tr>\n",
       "    <tr>\n",
       "      <th>INDUS</th>\n",
       "      <td>NaN</td>\n",
       "      <td>1.000000</td>\n",
       "      <td>NaN</td>\n",
       "    </tr>\n",
       "    <tr>\n",
       "      <th>NOX</th>\n",
       "      <td>NaN</td>\n",
       "      <td>NaN</td>\n",
       "      <td>1.0</td>\n",
       "    </tr>\n",
       "    <tr>\n",
       "      <th>RM</th>\n",
       "      <td>NaN</td>\n",
       "      <td>1.000000</td>\n",
       "      <td>1.0</td>\n",
       "    </tr>\n",
       "    <tr>\n",
       "      <th>AGE</th>\n",
       "      <td>NaN</td>\n",
       "      <td>1.000000</td>\n",
       "      <td>NaN</td>\n",
       "    </tr>\n",
       "    <tr>\n",
       "      <th>DIS</th>\n",
       "      <td>NaN</td>\n",
       "      <td>1.000000</td>\n",
       "      <td>1.0</td>\n",
       "    </tr>\n",
       "    <tr>\n",
       "      <th>RAD</th>\n",
       "      <td>NaN</td>\n",
       "      <td>1.000000</td>\n",
       "      <td>NaN</td>\n",
       "    </tr>\n",
       "    <tr>\n",
       "      <th>TAX</th>\n",
       "      <td>20.500000</td>\n",
       "      <td>0.956522</td>\n",
       "      <td>0.0</td>\n",
       "    </tr>\n",
       "    <tr>\n",
       "      <th>PTRATIO</th>\n",
       "      <td>0.432782</td>\n",
       "      <td>0.833333</td>\n",
       "      <td>0.0</td>\n",
       "    </tr>\n",
       "    <tr>\n",
       "      <th>LSTAT</th>\n",
       "      <td>1.573000</td>\n",
       "      <td>0.076923</td>\n",
       "      <td>0.0</td>\n",
       "    </tr>\n",
       "  </tbody>\n",
       "</table>\n",
       "</div>"
      ],
      "text/plain": [
       "              RMSE       BMR  BAR\n",
       "CRIM      0.794867  0.631579  0.0\n",
       "ZN        6.250000  0.846154  0.0\n",
       "INDUS          NaN  1.000000  NaN\n",
       "NOX            NaN       NaN  1.0\n",
       "RM             NaN  1.000000  1.0\n",
       "AGE            NaN  1.000000  NaN\n",
       "DIS            NaN  1.000000  1.0\n",
       "RAD            NaN  1.000000  NaN\n",
       "TAX      20.500000  0.956522  0.0\n",
       "PTRATIO   0.432782  0.833333  0.0\n",
       "LSTAT     1.573000  0.076923  0.0"
      ]
     },
     "execution_count": 48,
     "metadata": {},
     "output_type": "execute_result"
    }
   ],
   "source": [
    "local_fidelities[(max_depth, focus_class)] = statistics\n",
    "statistics"
   ]
  },
  {
   "cell_type": "markdown",
   "id": "3aaeb4d6-83c1-43a5-9536-ddcda7c355d2",
   "metadata": {},
   "source": [
    "#### Complexity"
   ]
  },
  {
   "cell_type": "markdown",
   "id": "424a5b9a-9d59-48d7-811a-82f7d088912e",
   "metadata": {},
   "source": [
    "##### (0, 1)"
   ]
  },
  {
   "cell_type": "code",
   "execution_count": 49,
   "id": "57def856-44dd-459e-bb02-37dcb957697c",
   "metadata": {},
   "outputs": [],
   "source": [
    "focus_class_idx, focus_class = comparer.check_class('(0, 1)')\n",
    "ground_truth_instance_indices, ground_truth = ground_truth_per_class[focus_class]\n",
    "constraints_focus, rules_focus, class_occurences_focus, instance_indices_per_rule_focus =\\\n",
    "    zip(*[(constraint, rule, class_occurences, instance_indices)\n",
    "     for constraint, rule, class_occurences, label, instance_indices\n",
    "     in zip(constraints, rules, class_occurences, labels, instance_indices_per_rule)\n",
    "     if label == focus_class_idx])"
   ]
  },
  {
   "cell_type": "code",
   "execution_count": 50,
   "id": "2318d51e-3f7c-4050-807f-5ee5e62cd3bd",
   "metadata": {},
   "outputs": [
    {
     "data": {
      "text/plain": [
       "Rules           6\n",
       "Constraints    28\n",
       "dtype: int64"
      ]
     },
     "execution_count": 50,
     "metadata": {},
     "output_type": "execute_result"
    }
   ],
   "source": [
    "res = get_complexity(constraints_focus)\n",
    "complexities[(max_depth, focus_class)] = res\n",
    "res"
   ]
  },
  {
   "cell_type": "markdown",
   "id": "66ed68af-7348-4112-873f-32c702418f14",
   "metadata": {},
   "source": [
    "# Summary"
   ]
  },
  {
   "cell_type": "code",
   "execution_count": 51,
   "id": "0a56c4db-7f44-4c18-9fa6-9c0d7803e02b",
   "metadata": {},
   "outputs": [],
   "source": [
    "def map_index(index):\n",
    "    class_, depth = index[0], index[1]\n",
    "    if class_ == '(0, 1)' and depth == 4:\n",
    "        level = 'global'\n",
    "    elif class_ == '(0, 1)' and depth == 8:\n",
    "        level = 'local'\n",
    "    elif class_ == '(1, 2)' and depth == 5:\n",
    "        level = 'global'\n",
    "    elif class_ == '(2, 1)' and depth == 4:\n",
    "        level = 'global'\n",
    "    else:\n",
    "        level = None\n",
    "    return (class_, level) if len(index) == 2 else (class_, level, index[2])"
   ]
  },
  {
   "cell_type": "markdown",
   "id": "2b08ff94-09ac-4aac-afeb-ac2ecdaa0cd4",
   "metadata": {},
   "source": [
    "## Global Fidelity"
   ]
  },
  {
   "cell_type": "code",
   "execution_count": 52,
   "id": "2664344d-9241-45e6-99ae-cbc81ecddd43",
   "metadata": {},
   "outputs": [
    {
     "data": {
      "text/html": [
       "<div>\n",
       "<style scoped>\n",
       "    .dataframe tbody tr th:only-of-type {\n",
       "        vertical-align: middle;\n",
       "    }\n",
       "\n",
       "    .dataframe tbody tr th {\n",
       "        vertical-align: top;\n",
       "    }\n",
       "\n",
       "    .dataframe thead th {\n",
       "        text-align: right;\n",
       "    }\n",
       "</style>\n",
       "<table border=\"1\" class=\"dataframe\">\n",
       "  <thead>\n",
       "    <tr style=\"text-align: right;\">\n",
       "      <th></th>\n",
       "      <th></th>\n",
       "      <th>Precision</th>\n",
       "      <th>Recall</th>\n",
       "      <th>F1 Score</th>\n",
       "      <th>Support</th>\n",
       "    </tr>\n",
       "    <tr>\n",
       "      <th>class</th>\n",
       "      <th>depth</th>\n",
       "      <th></th>\n",
       "      <th></th>\n",
       "      <th></th>\n",
       "      <th></th>\n",
       "    </tr>\n",
       "  </thead>\n",
       "  <tbody>\n",
       "    <tr>\n",
       "      <th rowspan=\"3\" valign=\"top\">(0, 1)</th>\n",
       "      <th>4</th>\n",
       "      <td>0.833333</td>\n",
       "      <td>0.384615</td>\n",
       "      <td>0.526316</td>\n",
       "      <td>13</td>\n",
       "    </tr>\n",
       "    <tr>\n",
       "      <th>5</th>\n",
       "      <td>0.846154</td>\n",
       "      <td>0.846154</td>\n",
       "      <td>0.846154</td>\n",
       "      <td>13</td>\n",
       "    </tr>\n",
       "    <tr>\n",
       "      <th>8</th>\n",
       "      <td>1.000000</td>\n",
       "      <td>1.000000</td>\n",
       "      <td>1.000000</td>\n",
       "      <td>13</td>\n",
       "    </tr>\n",
       "    <tr>\n",
       "      <th rowspan=\"3\" valign=\"top\">(1, 2)</th>\n",
       "      <th>4</th>\n",
       "      <td>0.000000</td>\n",
       "      <td>0.000000</td>\n",
       "      <td>0.000000</td>\n",
       "      <td>1</td>\n",
       "    </tr>\n",
       "    <tr>\n",
       "      <th>5</th>\n",
       "      <td>1.000000</td>\n",
       "      <td>1.000000</td>\n",
       "      <td>1.000000</td>\n",
       "      <td>1</td>\n",
       "    </tr>\n",
       "    <tr>\n",
       "      <th>8</th>\n",
       "      <td>1.000000</td>\n",
       "      <td>1.000000</td>\n",
       "      <td>1.000000</td>\n",
       "      <td>1</td>\n",
       "    </tr>\n",
       "    <tr>\n",
       "      <th rowspan=\"3\" valign=\"top\">(2, 1)</th>\n",
       "      <th>4</th>\n",
       "      <td>0.750000</td>\n",
       "      <td>1.000000</td>\n",
       "      <td>0.857143</td>\n",
       "      <td>3</td>\n",
       "    </tr>\n",
       "    <tr>\n",
       "      <th>5</th>\n",
       "      <td>1.000000</td>\n",
       "      <td>1.000000</td>\n",
       "      <td>1.000000</td>\n",
       "      <td>3</td>\n",
       "    </tr>\n",
       "    <tr>\n",
       "      <th>8</th>\n",
       "      <td>1.000000</td>\n",
       "      <td>1.000000</td>\n",
       "      <td>1.000000</td>\n",
       "      <td>3</td>\n",
       "    </tr>\n",
       "  </tbody>\n",
       "</table>\n",
       "</div>"
      ],
      "text/plain": [
       "              Precision    Recall  F1 Score  Support\n",
       "class  depth                                        \n",
       "(0, 1) 4       0.833333  0.384615  0.526316       13\n",
       "       5       0.846154  0.846154  0.846154       13\n",
       "       8       1.000000  1.000000  1.000000       13\n",
       "(1, 2) 4       0.000000  0.000000  0.000000        1\n",
       "       5       1.000000  1.000000  1.000000        1\n",
       "       8       1.000000  1.000000  1.000000        1\n",
       "(2, 1) 4       0.750000  1.000000  0.857143        3\n",
       "       5       1.000000  1.000000  1.000000        3\n",
       "       8       1.000000  1.000000  1.000000        3"
      ]
     },
     "execution_count": 52,
     "metadata": {},
     "output_type": "execute_result"
    }
   ],
   "source": [
    "global_fidelity = pd.concat(global_fidelities.values(), keys=global_fidelities.keys(), names=('depth', 'class'))\n",
    "global_fidelity = global_fidelity[np.in1d(global_fidelity.index.get_level_values('class'), comparer.difference_class_names)]\n",
    "global_fidelity = global_fidelity.reorder_levels(['class', 'depth']).sort_index()\n",
    "global_fidelity"
   ]
  },
  {
   "cell_type": "markdown",
   "id": "474604ad-c447-4d2c-86bb-acbe1b8e8ea3",
   "metadata": {},
   "source": [
    "## Local Fidelity"
   ]
  },
  {
   "cell_type": "code",
   "execution_count": 53,
   "id": "7d210c42-26c8-4e81-8486-413181a26aaf",
   "metadata": {},
   "outputs": [
    {
     "data": {
      "text/html": [
       "<div>\n",
       "<style scoped>\n",
       "    .dataframe tbody tr th:only-of-type {\n",
       "        vertical-align: middle;\n",
       "    }\n",
       "\n",
       "    .dataframe tbody tr th {\n",
       "        vertical-align: top;\n",
       "    }\n",
       "\n",
       "    .dataframe thead th {\n",
       "        text-align: right;\n",
       "    }\n",
       "</style>\n",
       "<table border=\"1\" class=\"dataframe\">\n",
       "  <thead>\n",
       "    <tr style=\"text-align: right;\">\n",
       "      <th></th>\n",
       "      <th></th>\n",
       "      <th></th>\n",
       "      <th>RMSE</th>\n",
       "      <th>BMR</th>\n",
       "      <th>BAR</th>\n",
       "    </tr>\n",
       "    <tr>\n",
       "      <th>class</th>\n",
       "      <th>depth</th>\n",
       "      <th>feature</th>\n",
       "      <th></th>\n",
       "      <th></th>\n",
       "      <th></th>\n",
       "    </tr>\n",
       "  </thead>\n",
       "  <tbody>\n",
       "    <tr>\n",
       "      <th rowspan=\"22\" valign=\"top\">(0, 1)</th>\n",
       "      <th rowspan=\"11\" valign=\"top\">4</th>\n",
       "      <th>AGE</th>\n",
       "      <td>NaN</td>\n",
       "      <td>1.000000</td>\n",
       "      <td>NaN</td>\n",
       "    </tr>\n",
       "    <tr>\n",
       "      <th>CRIM</th>\n",
       "      <td>NaN</td>\n",
       "      <td>1.000000</td>\n",
       "      <td>NaN</td>\n",
       "    </tr>\n",
       "    <tr>\n",
       "      <th>DIS</th>\n",
       "      <td>NaN</td>\n",
       "      <td>1.000000</td>\n",
       "      <td>NaN</td>\n",
       "    </tr>\n",
       "    <tr>\n",
       "      <th>INDUS</th>\n",
       "      <td>4.985777</td>\n",
       "      <td>0.500000</td>\n",
       "      <td>0.0</td>\n",
       "    </tr>\n",
       "    <tr>\n",
       "      <th>LSTAT</th>\n",
       "      <td>0.776577</td>\n",
       "      <td>0.200000</td>\n",
       "      <td>0.0</td>\n",
       "    </tr>\n",
       "    <tr>\n",
       "      <th>NOX</th>\n",
       "      <td>NaN</td>\n",
       "      <td>NaN</td>\n",
       "      <td>1.0</td>\n",
       "    </tr>\n",
       "    <tr>\n",
       "      <th>PTRATIO</th>\n",
       "      <td>0.374834</td>\n",
       "      <td>0.666667</td>\n",
       "      <td>0.0</td>\n",
       "    </tr>\n",
       "    <tr>\n",
       "      <th>RAD</th>\n",
       "      <td>NaN</td>\n",
       "      <td>1.000000</td>\n",
       "      <td>NaN</td>\n",
       "    </tr>\n",
       "    <tr>\n",
       "      <th>RM</th>\n",
       "      <td>NaN</td>\n",
       "      <td>1.000000</td>\n",
       "      <td>NaN</td>\n",
       "    </tr>\n",
       "    <tr>\n",
       "      <th>TAX</th>\n",
       "      <td>NaN</td>\n",
       "      <td>1.000000</td>\n",
       "      <td>NaN</td>\n",
       "    </tr>\n",
       "    <tr>\n",
       "      <th>ZN</th>\n",
       "      <td>NaN</td>\n",
       "      <td>1.000000</td>\n",
       "      <td>NaN</td>\n",
       "    </tr>\n",
       "    <tr>\n",
       "      <th rowspan=\"11\" valign=\"top\">8</th>\n",
       "      <th>AGE</th>\n",
       "      <td>NaN</td>\n",
       "      <td>1.000000</td>\n",
       "      <td>NaN</td>\n",
       "    </tr>\n",
       "    <tr>\n",
       "      <th>CRIM</th>\n",
       "      <td>0.794867</td>\n",
       "      <td>0.631579</td>\n",
       "      <td>0.0</td>\n",
       "    </tr>\n",
       "    <tr>\n",
       "      <th>DIS</th>\n",
       "      <td>NaN</td>\n",
       "      <td>1.000000</td>\n",
       "      <td>1.0</td>\n",
       "    </tr>\n",
       "    <tr>\n",
       "      <th>INDUS</th>\n",
       "      <td>NaN</td>\n",
       "      <td>1.000000</td>\n",
       "      <td>NaN</td>\n",
       "    </tr>\n",
       "    <tr>\n",
       "      <th>LSTAT</th>\n",
       "      <td>1.573000</td>\n",
       "      <td>0.076923</td>\n",
       "      <td>0.0</td>\n",
       "    </tr>\n",
       "    <tr>\n",
       "      <th>NOX</th>\n",
       "      <td>NaN</td>\n",
       "      <td>NaN</td>\n",
       "      <td>1.0</td>\n",
       "    </tr>\n",
       "    <tr>\n",
       "      <th>PTRATIO</th>\n",
       "      <td>0.432782</td>\n",
       "      <td>0.833333</td>\n",
       "      <td>0.0</td>\n",
       "    </tr>\n",
       "    <tr>\n",
       "      <th>RAD</th>\n",
       "      <td>NaN</td>\n",
       "      <td>1.000000</td>\n",
       "      <td>NaN</td>\n",
       "    </tr>\n",
       "    <tr>\n",
       "      <th>RM</th>\n",
       "      <td>NaN</td>\n",
       "      <td>1.000000</td>\n",
       "      <td>1.0</td>\n",
       "    </tr>\n",
       "    <tr>\n",
       "      <th>TAX</th>\n",
       "      <td>20.500000</td>\n",
       "      <td>0.956522</td>\n",
       "      <td>0.0</td>\n",
       "    </tr>\n",
       "    <tr>\n",
       "      <th>ZN</th>\n",
       "      <td>6.250000</td>\n",
       "      <td>0.846154</td>\n",
       "      <td>0.0</td>\n",
       "    </tr>\n",
       "    <tr>\n",
       "      <th rowspan=\"11\" valign=\"top\">(1, 2)</th>\n",
       "      <th rowspan=\"11\" valign=\"top\">5</th>\n",
       "      <th>AGE</th>\n",
       "      <td>NaN</td>\n",
       "      <td>1.000000</td>\n",
       "      <td>NaN</td>\n",
       "    </tr>\n",
       "    <tr>\n",
       "      <th>CRIM</th>\n",
       "      <td>NaN</td>\n",
       "      <td>1.000000</td>\n",
       "      <td>NaN</td>\n",
       "    </tr>\n",
       "    <tr>\n",
       "      <th>DIS</th>\n",
       "      <td>NaN</td>\n",
       "      <td>1.000000</td>\n",
       "      <td>NaN</td>\n",
       "    </tr>\n",
       "    <tr>\n",
       "      <th>INDUS</th>\n",
       "      <td>NaN</td>\n",
       "      <td>1.000000</td>\n",
       "      <td>NaN</td>\n",
       "    </tr>\n",
       "    <tr>\n",
       "      <th>LSTAT</th>\n",
       "      <td>0.015000</td>\n",
       "      <td>0.500000</td>\n",
       "      <td>0.0</td>\n",
       "    </tr>\n",
       "    <tr>\n",
       "      <th>NOX</th>\n",
       "      <td>NaN</td>\n",
       "      <td>NaN</td>\n",
       "      <td>NaN</td>\n",
       "    </tr>\n",
       "    <tr>\n",
       "      <th>PTRATIO</th>\n",
       "      <td>NaN</td>\n",
       "      <td>1.000000</td>\n",
       "      <td>NaN</td>\n",
       "    </tr>\n",
       "    <tr>\n",
       "      <th>RAD</th>\n",
       "      <td>4.754540</td>\n",
       "      <td>0.000000</td>\n",
       "      <td>0.0</td>\n",
       "    </tr>\n",
       "    <tr>\n",
       "      <th>RM</th>\n",
       "      <td>1.120368</td>\n",
       "      <td>0.500000</td>\n",
       "      <td>0.0</td>\n",
       "    </tr>\n",
       "    <tr>\n",
       "      <th>TAX</th>\n",
       "      <td>NaN</td>\n",
       "      <td>NaN</td>\n",
       "      <td>NaN</td>\n",
       "    </tr>\n",
       "    <tr>\n",
       "      <th>ZN</th>\n",
       "      <td>NaN</td>\n",
       "      <td>1.000000</td>\n",
       "      <td>NaN</td>\n",
       "    </tr>\n",
       "    <tr>\n",
       "      <th rowspan=\"11\" valign=\"top\">(2, 1)</th>\n",
       "      <th rowspan=\"11\" valign=\"top\">4</th>\n",
       "      <th>AGE</th>\n",
       "      <td>NaN</td>\n",
       "      <td>1.000000</td>\n",
       "      <td>NaN</td>\n",
       "    </tr>\n",
       "    <tr>\n",
       "      <th>CRIM</th>\n",
       "      <td>NaN</td>\n",
       "      <td>1.000000</td>\n",
       "      <td>1.0</td>\n",
       "    </tr>\n",
       "    <tr>\n",
       "      <th>DIS</th>\n",
       "      <td>1.137869</td>\n",
       "      <td>0.800000</td>\n",
       "      <td>0.5</td>\n",
       "    </tr>\n",
       "    <tr>\n",
       "      <th>INDUS</th>\n",
       "      <td>NaN</td>\n",
       "      <td>1.000000</td>\n",
       "      <td>NaN</td>\n",
       "    </tr>\n",
       "    <tr>\n",
       "      <th>LSTAT</th>\n",
       "      <td>1.746977</td>\n",
       "      <td>0.500000</td>\n",
       "      <td>0.0</td>\n",
       "    </tr>\n",
       "    <tr>\n",
       "      <th>NOX</th>\n",
       "      <td>NaN</td>\n",
       "      <td>NaN</td>\n",
       "      <td>NaN</td>\n",
       "    </tr>\n",
       "    <tr>\n",
       "      <th>PTRATIO</th>\n",
       "      <td>NaN</td>\n",
       "      <td>1.000000</td>\n",
       "      <td>1.0</td>\n",
       "    </tr>\n",
       "    <tr>\n",
       "      <th>RAD</th>\n",
       "      <td>11.720004</td>\n",
       "      <td>0.500000</td>\n",
       "      <td>0.0</td>\n",
       "    </tr>\n",
       "    <tr>\n",
       "      <th>RM</th>\n",
       "      <td>1.361463</td>\n",
       "      <td>0.400000</td>\n",
       "      <td>0.0</td>\n",
       "    </tr>\n",
       "    <tr>\n",
       "      <th>TAX</th>\n",
       "      <td>NaN</td>\n",
       "      <td>1.000000</td>\n",
       "      <td>NaN</td>\n",
       "    </tr>\n",
       "    <tr>\n",
       "      <th>ZN</th>\n",
       "      <td>NaN</td>\n",
       "      <td>1.000000</td>\n",
       "      <td>NaN</td>\n",
       "    </tr>\n",
       "  </tbody>\n",
       "</table>\n",
       "</div>"
      ],
      "text/plain": [
       "                           RMSE       BMR  BAR\n",
       "class  depth feature                          \n",
       "(0, 1) 4     AGE            NaN  1.000000  NaN\n",
       "             CRIM           NaN  1.000000  NaN\n",
       "             DIS            NaN  1.000000  NaN\n",
       "             INDUS     4.985777  0.500000  0.0\n",
       "             LSTAT     0.776577  0.200000  0.0\n",
       "             NOX            NaN       NaN  1.0\n",
       "             PTRATIO   0.374834  0.666667  0.0\n",
       "             RAD            NaN  1.000000  NaN\n",
       "             RM             NaN  1.000000  NaN\n",
       "             TAX            NaN  1.000000  NaN\n",
       "             ZN             NaN  1.000000  NaN\n",
       "       8     AGE            NaN  1.000000  NaN\n",
       "             CRIM      0.794867  0.631579  0.0\n",
       "             DIS            NaN  1.000000  1.0\n",
       "             INDUS          NaN  1.000000  NaN\n",
       "             LSTAT     1.573000  0.076923  0.0\n",
       "             NOX            NaN       NaN  1.0\n",
       "             PTRATIO   0.432782  0.833333  0.0\n",
       "             RAD            NaN  1.000000  NaN\n",
       "             RM             NaN  1.000000  1.0\n",
       "             TAX      20.500000  0.956522  0.0\n",
       "             ZN        6.250000  0.846154  0.0\n",
       "(1, 2) 5     AGE            NaN  1.000000  NaN\n",
       "             CRIM           NaN  1.000000  NaN\n",
       "             DIS            NaN  1.000000  NaN\n",
       "             INDUS          NaN  1.000000  NaN\n",
       "             LSTAT     0.015000  0.500000  0.0\n",
       "             NOX            NaN       NaN  NaN\n",
       "             PTRATIO        NaN  1.000000  NaN\n",
       "             RAD       4.754540  0.000000  0.0\n",
       "             RM        1.120368  0.500000  0.0\n",
       "             TAX            NaN       NaN  NaN\n",
       "             ZN             NaN  1.000000  NaN\n",
       "(2, 1) 4     AGE            NaN  1.000000  NaN\n",
       "             CRIM           NaN  1.000000  1.0\n",
       "             DIS       1.137869  0.800000  0.5\n",
       "             INDUS          NaN  1.000000  NaN\n",
       "             LSTAT     1.746977  0.500000  0.0\n",
       "             NOX            NaN       NaN  NaN\n",
       "             PTRATIO        NaN  1.000000  1.0\n",
       "             RAD      11.720004  0.500000  0.0\n",
       "             RM        1.361463  0.400000  0.0\n",
       "             TAX            NaN  1.000000  NaN\n",
       "             ZN             NaN  1.000000  NaN"
      ]
     },
     "execution_count": 53,
     "metadata": {},
     "output_type": "execute_result"
    }
   ],
   "source": [
    "local_fidelity = pd.concat(local_fidelities.values(), keys=local_fidelities.keys(), names=('depth', 'class', 'feature'))\n",
    "local_fidelity = local_fidelity.reorder_levels(['class', 'depth', 'feature']).sort_index()\n",
    "local_fidelity"
   ]
  },
  {
   "cell_type": "markdown",
   "id": "d17231e1-da3c-4ab2-b301-138595628c80",
   "metadata": {},
   "source": [
    "## Complexity"
   ]
  },
  {
   "cell_type": "code",
   "execution_count": 54,
   "id": "044f7ce6-3158-4d9f-b87b-ec9236efa8fb",
   "metadata": {},
   "outputs": [
    {
     "data": {
      "text/html": [
       "<div>\n",
       "<style scoped>\n",
       "    .dataframe tbody tr th:only-of-type {\n",
       "        vertical-align: middle;\n",
       "    }\n",
       "\n",
       "    .dataframe tbody tr th {\n",
       "        vertical-align: top;\n",
       "    }\n",
       "\n",
       "    .dataframe thead th {\n",
       "        text-align: right;\n",
       "    }\n",
       "</style>\n",
       "<table border=\"1\" class=\"dataframe\">\n",
       "  <thead>\n",
       "    <tr style=\"text-align: right;\">\n",
       "      <th></th>\n",
       "      <th></th>\n",
       "      <th>Rules</th>\n",
       "      <th>Constraints</th>\n",
       "    </tr>\n",
       "    <tr>\n",
       "      <th>class</th>\n",
       "      <th>depth</th>\n",
       "      <th></th>\n",
       "      <th></th>\n",
       "    </tr>\n",
       "  </thead>\n",
       "  <tbody>\n",
       "    <tr>\n",
       "      <th rowspan=\"2\" valign=\"top\">(0, 1)</th>\n",
       "      <th>4</th>\n",
       "      <td>2</td>\n",
       "      <td>7</td>\n",
       "    </tr>\n",
       "    <tr>\n",
       "      <th>8</th>\n",
       "      <td>6</td>\n",
       "      <td>28</td>\n",
       "    </tr>\n",
       "    <tr>\n",
       "      <th>(1, 2)</th>\n",
       "      <th>5</th>\n",
       "      <td>1</td>\n",
       "      <td>4</td>\n",
       "    </tr>\n",
       "    <tr>\n",
       "      <th>(2, 1)</th>\n",
       "      <th>4</th>\n",
       "      <td>2</td>\n",
       "      <td>8</td>\n",
       "    </tr>\n",
       "  </tbody>\n",
       "</table>\n",
       "</div>"
      ],
      "text/plain": [
       "              Rules  Constraints\n",
       "class  depth                    \n",
       "(0, 1) 4          2            7\n",
       "       8          6           28\n",
       "(1, 2) 5          1            4\n",
       "(2, 1) 4          2            8"
      ]
     },
     "execution_count": 54,
     "metadata": {},
     "output_type": "execute_result"
    }
   ],
   "source": [
    "complexity = pd.concat(complexities.values(), axis=1, keys=complexities.keys(), names=('depth', 'class')).T\n",
    "complexity = complexity.reorder_levels(['class', 'depth']).sort_index()\n",
    "complexity"
   ]
  },
  {
   "cell_type": "markdown",
   "id": "f3be193c-f13e-4e89-8033-dd5f32163bc7",
   "metadata": {},
   "source": [
    "## Generation Time"
   ]
  },
  {
   "cell_type": "markdown",
   "id": "3b229a15-e5df-41ba-beba-04d5c4a1069f",
   "metadata": {},
   "source": [
    "<1s"
   ]
  },
  {
   "cell_type": "code",
   "execution_count": 55,
   "id": "016ed3dc-74db-4048-9131-4581f7fae4a0",
   "metadata": {},
   "outputs": [],
   "source": [
    "global_fidelity.index = global_fidelity.index.map(map_index)\n",
    "global_fidelity = global_fidelity[global_fidelity.index.get_level_values('depth').notnull()]\n",
    "global_fidelity.index.rename(['class', 'level'], inplace=True)\n",
    "\n",
    "local_fidelity.index = local_fidelity.index.map(map_index)\n",
    "local_fidelity = local_fidelity[local_fidelity.index.get_level_values('depth').notnull()]\n",
    "local_fidelity.index.rename(['class', 'level', 'feature'], inplace=True)\n",
    "\n",
    "complexity.index = complexity.index.map(map_index)\n",
    "complexity = complexity[complexity.index.get_level_values('depth').notnull()]\n",
    "complexity.index.rename(['class', 'level'], inplace=True)\n",
    "\n",
    "with open('results.baseline.pickle', 'wb') as f:\n",
    "    pickle.dump((global_fidelity, local_fidelity, complexity), f)"
   ]
  },
  {
   "cell_type": "code",
   "execution_count": null,
   "id": "2287e75a-f90a-4657-8db1-70072c338fb0",
   "metadata": {},
   "outputs": [],
   "source": []
  }
 ],
 "metadata": {
  "kernelspec": {
   "display_name": "Python 3",
   "language": "python",
   "name": "python3"
  },
  "language_info": {
   "codemirror_mode": {
    "name": "ipython",
    "version": 3
   },
   "file_extension": ".py",
   "mimetype": "text/x-python",
   "name": "python",
   "nbconvert_exporter": "python",
   "pygments_lexer": "ipython3",
   "version": "3.9.10"
  }
 },
 "nbformat": 4,
 "nbformat_minor": 5
}
