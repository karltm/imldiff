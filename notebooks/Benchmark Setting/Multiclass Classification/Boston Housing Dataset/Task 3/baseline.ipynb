{
 "cells": [
  {
   "cell_type": "code",
   "execution_count": 1,
   "id": "0d0567ad-b2d3-4c70-99f9-cbbf8ba34f26",
   "metadata": {},
   "outputs": [],
   "source": [
    "import pandas as pd\n",
    "import numpy as np\n",
    "import scipy as sp\n",
    "from datetime import datetime\n",
    "import pickle\n",
    "from comparers import ModelComparer\n",
    "import matplotlib.pyplot as plt\n",
    "from IPython.display import display\n",
    "from util import RuleClassifier, find_counterfactuals, counterfactuals_to_constraint_matrix,\\\n",
    "                 evaluate_counterfactual_fidelity, get_complexity\n",
    "from surrogate_tree import train_surrogate_tree, tree_to_rules, plot_surrogate_tree,\\\n",
    "                 get_feature_importances, plot_feature_importances, plot_tree_leafs_for_class,\\\n",
    "                 tree_to_constraint_matrix, constraint_matrix_to_rules, extract_rules, print_rules,\\\n",
    "                 evaluate\n",
    "from tasks.boston_housing import make_task3 as make_task"
   ]
  },
  {
   "cell_type": "code",
   "execution_count": 2,
   "id": "d016e30a-0630-4928-99e4-f564cbda6ea3",
   "metadata": {},
   "outputs": [
    {
     "name": "stderr",
     "output_type": "stream",
     "text": [
      "Trying to unpickle estimator LabelBinarizer from version 0.24.1 when using version 0.24.2. This might lead to breaking code or invalid results. Use at your own risk.\n",
      "Trying to unpickle estimator MLPClassifier from version 0.24.1 when using version 0.24.2. This might lead to breaking code or invalid results. Use at your own risk.\n"
     ]
    }
   ],
   "source": [
    "clf_a, clf_b, X, y, feature_names, categorical_features, feature_precisions = make_task()\n",
    "comparer = ModelComparer(clf_a, clf_b, feature_names)"
   ]
  },
  {
   "cell_type": "markdown",
   "id": "f6962e63-b0cd-4418-8f91-08256b225eba",
   "metadata": {},
   "source": [
    "# Explanations"
   ]
  },
  {
   "cell_type": "code",
   "execution_count": 3,
   "id": "55d5383f-12a6-4970-b6b8-4e98ea815e1f",
   "metadata": {},
   "outputs": [],
   "source": [
    "mclass_diff = comparer.predict_mclass_diff(X)"
   ]
  },
  {
   "cell_type": "code",
   "execution_count": 4,
   "id": "8ce2911f-0c2f-442e-b618-4285a10e0bab",
   "metadata": {},
   "outputs": [],
   "source": [
    "ground_truth_per_class = {}\n",
    "for label in comparer.difference_class_names:\n",
    "    with open(f'ground_truth.{label}.pickle', 'rb') as f:\n",
    "        ground_truth_per_class[label] = pickle.load(f)"
   ]
  },
  {
   "cell_type": "code",
   "execution_count": 5,
   "id": "2f8c5513-bacf-4cf6-a8be-66ab28dc5c64",
   "metadata": {},
   "outputs": [],
   "source": [
    "global_fidelities = {}\n",
    "local_fidelities = {}\n",
    "complexities = {}"
   ]
  },
  {
   "cell_type": "markdown",
   "id": "80cc2ed4-dada-48fa-8e64-d059ce5541ab",
   "metadata": {},
   "source": [
    "Trees with depths below 7 are not complex enough to describe all instances of the difference classes."
   ]
  },
  {
   "cell_type": "code",
   "execution_count": 6,
   "id": "908d84f9-8d42-4ebc-a588-e117e8426038",
   "metadata": {},
   "outputs": [
    {
     "name": "stdout",
     "output_type": "stream",
     "text": [
      "              precision    recall  f1-score   support\n",
      "\n",
      "      (0, 0)       0.86      0.86      0.86        76\n",
      "      (0, 1)       0.00      0.00      0.00        13\n",
      "      (1, 1)       0.65      0.95      0.77        58\n",
      "      (1, 2)       0.00      0.00      0.00         1\n",
      "      (2, 1)       0.00      0.00      0.00         3\n",
      "      (2, 2)       0.98      0.88      0.93        95\n",
      "\n",
      "    accuracy                           0.83       246\n",
      "   macro avg       0.41      0.45      0.43       246\n",
      "weighted avg       0.80      0.83      0.81       246\n",
      "\n",
      "CPU times: user 17.3 ms, sys: 4.43 ms, total: 21.7 ms\n",
      "Wall time: 23.1 ms\n"
     ]
    },
    {
     "name": "stderr",
     "output_type": "stream",
     "text": [
      "Precision and F-score are ill-defined and being set to 0.0 in labels with no predicted samples. Use `zero_division` parameter to control this behavior.\n",
      "Precision and F-score are ill-defined and being set to 0.0 in labels with no predicted samples. Use `zero_division` parameter to control this behavior.\n",
      "Precision and F-score are ill-defined and being set to 0.0 in labels with no predicted samples. Use `zero_division` parameter to control this behavior.\n",
      "Precision and F-score are ill-defined and being set to 0.0 in labels with no predicted samples. Use `zero_division` parameter to control this behavior.\n"
     ]
    },
    {
     "data": {
      "text/html": [
       "<div>\n",
       "<style scoped>\n",
       "    .dataframe tbody tr th:only-of-type {\n",
       "        vertical-align: middle;\n",
       "    }\n",
       "\n",
       "    .dataframe tbody tr th {\n",
       "        vertical-align: top;\n",
       "    }\n",
       "\n",
       "    .dataframe thead th {\n",
       "        text-align: right;\n",
       "    }\n",
       "</style>\n",
       "<table border=\"1\" class=\"dataframe\">\n",
       "  <thead>\n",
       "    <tr style=\"text-align: right;\">\n",
       "      <th></th>\n",
       "      <th>Precision</th>\n",
       "      <th>Recall</th>\n",
       "      <th>F1 Score</th>\n",
       "      <th>Support</th>\n",
       "    </tr>\n",
       "  </thead>\n",
       "  <tbody>\n",
       "    <tr>\n",
       "      <th>(0, 0)</th>\n",
       "      <td>0.855263</td>\n",
       "      <td>0.855263</td>\n",
       "      <td>0.855263</td>\n",
       "      <td>76</td>\n",
       "    </tr>\n",
       "    <tr>\n",
       "      <th>(0, 1)</th>\n",
       "      <td>0.000000</td>\n",
       "      <td>0.000000</td>\n",
       "      <td>0.000000</td>\n",
       "      <td>13</td>\n",
       "    </tr>\n",
       "    <tr>\n",
       "      <th>(1, 1)</th>\n",
       "      <td>0.654762</td>\n",
       "      <td>0.948276</td>\n",
       "      <td>0.774648</td>\n",
       "      <td>58</td>\n",
       "    </tr>\n",
       "    <tr>\n",
       "      <th>(1, 2)</th>\n",
       "      <td>0.000000</td>\n",
       "      <td>0.000000</td>\n",
       "      <td>0.000000</td>\n",
       "      <td>1</td>\n",
       "    </tr>\n",
       "    <tr>\n",
       "      <th>(2, 1)</th>\n",
       "      <td>0.000000</td>\n",
       "      <td>0.000000</td>\n",
       "      <td>0.000000</td>\n",
       "      <td>3</td>\n",
       "    </tr>\n",
       "    <tr>\n",
       "      <th>(2, 2)</th>\n",
       "      <td>0.976744</td>\n",
       "      <td>0.884211</td>\n",
       "      <td>0.928177</td>\n",
       "      <td>95</td>\n",
       "    </tr>\n",
       "  </tbody>\n",
       "</table>\n",
       "</div>"
      ],
      "text/plain": [
       "        Precision    Recall  F1 Score  Support\n",
       "(0, 0)   0.855263  0.855263  0.855263       76\n",
       "(0, 1)   0.000000  0.000000  0.000000       13\n",
       "(1, 1)   0.654762  0.948276  0.774648       58\n",
       "(1, 2)   0.000000  0.000000  0.000000        1\n",
       "(2, 1)   0.000000  0.000000  0.000000        3\n",
       "(2, 2)   0.976744  0.884211  0.928177       95"
      ]
     },
     "execution_count": 6,
     "metadata": {},
     "output_type": "execute_result"
    }
   ],
   "source": [
    "%%time\n",
    "model = train_surrogate_tree(X, mclass_diff, max_depth=2)\n",
    "evaluate(model, X, mclass_diff, comparer.class_names);"
   ]
  },
  {
   "cell_type": "code",
   "execution_count": 7,
   "id": "7520c1cc-5fd0-4dbf-9d3e-9c21a7664f77",
   "metadata": {},
   "outputs": [
    {
     "name": "stdout",
     "output_type": "stream",
     "text": [
      "              precision    recall  f1-score   support\n",
      "\n",
      "      (0, 0)       0.90      0.96      0.93        76\n",
      "      (0, 1)       0.60      0.23      0.33        13\n",
      "      (1, 1)       0.89      0.95      0.92        58\n",
      "      (1, 2)       0.00      0.00      0.00         1\n",
      "      (2, 1)       1.00      0.33      0.50         3\n",
      "      (2, 2)       0.97      0.99      0.98        95\n",
      "\n",
      "    accuracy                           0.92       246\n",
      "   macro avg       0.73      0.58      0.61       246\n",
      "weighted avg       0.91      0.92      0.91       246\n",
      "\n",
      "CPU times: user 14.3 ms, sys: 2.86 ms, total: 17.1 ms\n",
      "Wall time: 20.2 ms\n"
     ]
    },
    {
     "name": "stderr",
     "output_type": "stream",
     "text": [
      "Precision and F-score are ill-defined and being set to 0.0 in labels with no predicted samples. Use `zero_division` parameter to control this behavior.\n",
      "Precision and F-score are ill-defined and being set to 0.0 in labels with no predicted samples. Use `zero_division` parameter to control this behavior.\n",
      "Precision and F-score are ill-defined and being set to 0.0 in labels with no predicted samples. Use `zero_division` parameter to control this behavior.\n",
      "Precision and F-score are ill-defined and being set to 0.0 in labels with no predicted samples. Use `zero_division` parameter to control this behavior.\n"
     ]
    },
    {
     "data": {
      "text/html": [
       "<div>\n",
       "<style scoped>\n",
       "    .dataframe tbody tr th:only-of-type {\n",
       "        vertical-align: middle;\n",
       "    }\n",
       "\n",
       "    .dataframe tbody tr th {\n",
       "        vertical-align: top;\n",
       "    }\n",
       "\n",
       "    .dataframe thead th {\n",
       "        text-align: right;\n",
       "    }\n",
       "</style>\n",
       "<table border=\"1\" class=\"dataframe\">\n",
       "  <thead>\n",
       "    <tr style=\"text-align: right;\">\n",
       "      <th></th>\n",
       "      <th>Precision</th>\n",
       "      <th>Recall</th>\n",
       "      <th>F1 Score</th>\n",
       "      <th>Support</th>\n",
       "    </tr>\n",
       "  </thead>\n",
       "  <tbody>\n",
       "    <tr>\n",
       "      <th>(0, 0)</th>\n",
       "      <td>0.901235</td>\n",
       "      <td>0.960526</td>\n",
       "      <td>0.929936</td>\n",
       "      <td>76</td>\n",
       "    </tr>\n",
       "    <tr>\n",
       "      <th>(0, 1)</th>\n",
       "      <td>0.600000</td>\n",
       "      <td>0.230769</td>\n",
       "      <td>0.333333</td>\n",
       "      <td>13</td>\n",
       "    </tr>\n",
       "    <tr>\n",
       "      <th>(1, 1)</th>\n",
       "      <td>0.887097</td>\n",
       "      <td>0.948276</td>\n",
       "      <td>0.916667</td>\n",
       "      <td>58</td>\n",
       "    </tr>\n",
       "    <tr>\n",
       "      <th>(1, 2)</th>\n",
       "      <td>0.000000</td>\n",
       "      <td>0.000000</td>\n",
       "      <td>0.000000</td>\n",
       "      <td>1</td>\n",
       "    </tr>\n",
       "    <tr>\n",
       "      <th>(2, 1)</th>\n",
       "      <td>1.000000</td>\n",
       "      <td>0.333333</td>\n",
       "      <td>0.500000</td>\n",
       "      <td>3</td>\n",
       "    </tr>\n",
       "    <tr>\n",
       "      <th>(2, 2)</th>\n",
       "      <td>0.969072</td>\n",
       "      <td>0.989474</td>\n",
       "      <td>0.979167</td>\n",
       "      <td>95</td>\n",
       "    </tr>\n",
       "  </tbody>\n",
       "</table>\n",
       "</div>"
      ],
      "text/plain": [
       "        Precision    Recall  F1 Score  Support\n",
       "(0, 0)   0.901235  0.960526  0.929936       76\n",
       "(0, 1)   0.600000  0.230769  0.333333       13\n",
       "(1, 1)   0.887097  0.948276  0.916667       58\n",
       "(1, 2)   0.000000  0.000000  0.000000        1\n",
       "(2, 1)   1.000000  0.333333  0.500000        3\n",
       "(2, 2)   0.969072  0.989474  0.979167       95"
      ]
     },
     "execution_count": 7,
     "metadata": {},
     "output_type": "execute_result"
    }
   ],
   "source": [
    "%%time\n",
    "model = train_surrogate_tree(X, mclass_diff, max_depth=3)\n",
    "evaluate(model, X, mclass_diff, comparer.class_names);"
   ]
  },
  {
   "cell_type": "code",
   "execution_count": 8,
   "id": "e3eb7793-1cb7-4c5c-b2f1-322d634b1851",
   "metadata": {},
   "outputs": [
    {
     "name": "stdout",
     "output_type": "stream",
     "text": [
      "              precision    recall  f1-score   support\n",
      "\n",
      "      (0, 0)       0.93      0.97      0.95        76\n",
      "      (0, 1)       0.83      0.38      0.53        13\n",
      "      (1, 1)       0.90      0.98      0.94        58\n",
      "      (1, 2)       0.00      0.00      0.00         1\n",
      "      (2, 1)       0.75      1.00      0.86         3\n",
      "      (2, 2)       1.00      0.98      0.99        95\n",
      "\n",
      "    accuracy                           0.94       246\n",
      "   macro avg       0.74      0.72      0.71       246\n",
      "weighted avg       0.94      0.94      0.94       246\n",
      "\n",
      "CPU times: user 16.1 ms, sys: 3.31 ms, total: 19.4 ms\n",
      "Wall time: 20.1 ms\n"
     ]
    },
    {
     "name": "stderr",
     "output_type": "stream",
     "text": [
      "Precision and F-score are ill-defined and being set to 0.0 in labels with no predicted samples. Use `zero_division` parameter to control this behavior.\n",
      "Precision and F-score are ill-defined and being set to 0.0 in labels with no predicted samples. Use `zero_division` parameter to control this behavior.\n",
      "Precision and F-score are ill-defined and being set to 0.0 in labels with no predicted samples. Use `zero_division` parameter to control this behavior.\n",
      "Precision and F-score are ill-defined and being set to 0.0 in labels with no predicted samples. Use `zero_division` parameter to control this behavior.\n"
     ]
    },
    {
     "data": {
      "text/html": [
       "<div>\n",
       "<style scoped>\n",
       "    .dataframe tbody tr th:only-of-type {\n",
       "        vertical-align: middle;\n",
       "    }\n",
       "\n",
       "    .dataframe tbody tr th {\n",
       "        vertical-align: top;\n",
       "    }\n",
       "\n",
       "    .dataframe thead th {\n",
       "        text-align: right;\n",
       "    }\n",
       "</style>\n",
       "<table border=\"1\" class=\"dataframe\">\n",
       "  <thead>\n",
       "    <tr style=\"text-align: right;\">\n",
       "      <th></th>\n",
       "      <th>Precision</th>\n",
       "      <th>Recall</th>\n",
       "      <th>F1 Score</th>\n",
       "      <th>Support</th>\n",
       "    </tr>\n",
       "  </thead>\n",
       "  <tbody>\n",
       "    <tr>\n",
       "      <th>(0, 0)</th>\n",
       "      <td>0.925000</td>\n",
       "      <td>0.973684</td>\n",
       "      <td>0.948718</td>\n",
       "      <td>76</td>\n",
       "    </tr>\n",
       "    <tr>\n",
       "      <th>(0, 1)</th>\n",
       "      <td>0.833333</td>\n",
       "      <td>0.384615</td>\n",
       "      <td>0.526316</td>\n",
       "      <td>13</td>\n",
       "    </tr>\n",
       "    <tr>\n",
       "      <th>(1, 1)</th>\n",
       "      <td>0.904762</td>\n",
       "      <td>0.982759</td>\n",
       "      <td>0.942149</td>\n",
       "      <td>58</td>\n",
       "    </tr>\n",
       "    <tr>\n",
       "      <th>(1, 2)</th>\n",
       "      <td>0.000000</td>\n",
       "      <td>0.000000</td>\n",
       "      <td>0.000000</td>\n",
       "      <td>1</td>\n",
       "    </tr>\n",
       "    <tr>\n",
       "      <th>(2, 1)</th>\n",
       "      <td>0.750000</td>\n",
       "      <td>1.000000</td>\n",
       "      <td>0.857143</td>\n",
       "      <td>3</td>\n",
       "    </tr>\n",
       "    <tr>\n",
       "      <th>(2, 2)</th>\n",
       "      <td>1.000000</td>\n",
       "      <td>0.978947</td>\n",
       "      <td>0.989362</td>\n",
       "      <td>95</td>\n",
       "    </tr>\n",
       "  </tbody>\n",
       "</table>\n",
       "</div>"
      ],
      "text/plain": [
       "        Precision    Recall  F1 Score  Support\n",
       "(0, 0)   0.925000  0.973684  0.948718       76\n",
       "(0, 1)   0.833333  0.384615  0.526316       13\n",
       "(1, 1)   0.904762  0.982759  0.942149       58\n",
       "(1, 2)   0.000000  0.000000  0.000000        1\n",
       "(2, 1)   0.750000  1.000000  0.857143        3\n",
       "(2, 2)   1.000000  0.978947  0.989362       95"
      ]
     },
     "execution_count": 8,
     "metadata": {},
     "output_type": "execute_result"
    }
   ],
   "source": [
    "%%time\n",
    "model = train_surrogate_tree(X, mclass_diff, max_depth=4)\n",
    "evaluate(model, X, mclass_diff, comparer.class_names);"
   ]
  },
  {
   "cell_type": "code",
   "execution_count": 9,
   "id": "9de11d01-10bb-4201-9eda-7db03a6ccae8",
   "metadata": {},
   "outputs": [
    {
     "name": "stdout",
     "output_type": "stream",
     "text": [
      "              precision    recall  f1-score   support\n",
      "\n",
      "      (0, 0)       0.99      0.99      0.99        76\n",
      "      (0, 1)       0.85      0.85      0.85        13\n",
      "      (1, 1)       0.97      0.97      0.97        58\n",
      "      (1, 2)       1.00      1.00      1.00         1\n",
      "      (2, 1)       1.00      1.00      1.00         3\n",
      "      (2, 2)       1.00      1.00      1.00        95\n",
      "\n",
      "    accuracy                           0.98       246\n",
      "   macro avg       0.97      0.97      0.97       246\n",
      "weighted avg       0.98      0.98      0.98       246\n",
      "\n",
      "CPU times: user 15.4 ms, sys: 2.01 ms, total: 17.4 ms\n",
      "Wall time: 18.5 ms\n"
     ]
    },
    {
     "data": {
      "text/html": [
       "<div>\n",
       "<style scoped>\n",
       "    .dataframe tbody tr th:only-of-type {\n",
       "        vertical-align: middle;\n",
       "    }\n",
       "\n",
       "    .dataframe tbody tr th {\n",
       "        vertical-align: top;\n",
       "    }\n",
       "\n",
       "    .dataframe thead th {\n",
       "        text-align: right;\n",
       "    }\n",
       "</style>\n",
       "<table border=\"1\" class=\"dataframe\">\n",
       "  <thead>\n",
       "    <tr style=\"text-align: right;\">\n",
       "      <th></th>\n",
       "      <th>Precision</th>\n",
       "      <th>Recall</th>\n",
       "      <th>F1 Score</th>\n",
       "      <th>Support</th>\n",
       "    </tr>\n",
       "  </thead>\n",
       "  <tbody>\n",
       "    <tr>\n",
       "      <th>(0, 0)</th>\n",
       "      <td>0.986842</td>\n",
       "      <td>0.986842</td>\n",
       "      <td>0.986842</td>\n",
       "      <td>76</td>\n",
       "    </tr>\n",
       "    <tr>\n",
       "      <th>(0, 1)</th>\n",
       "      <td>0.846154</td>\n",
       "      <td>0.846154</td>\n",
       "      <td>0.846154</td>\n",
       "      <td>13</td>\n",
       "    </tr>\n",
       "    <tr>\n",
       "      <th>(1, 1)</th>\n",
       "      <td>0.965517</td>\n",
       "      <td>0.965517</td>\n",
       "      <td>0.965517</td>\n",
       "      <td>58</td>\n",
       "    </tr>\n",
       "    <tr>\n",
       "      <th>(1, 2)</th>\n",
       "      <td>1.000000</td>\n",
       "      <td>1.000000</td>\n",
       "      <td>1.000000</td>\n",
       "      <td>1</td>\n",
       "    </tr>\n",
       "    <tr>\n",
       "      <th>(2, 1)</th>\n",
       "      <td>1.000000</td>\n",
       "      <td>1.000000</td>\n",
       "      <td>1.000000</td>\n",
       "      <td>3</td>\n",
       "    </tr>\n",
       "    <tr>\n",
       "      <th>(2, 2)</th>\n",
       "      <td>1.000000</td>\n",
       "      <td>1.000000</td>\n",
       "      <td>1.000000</td>\n",
       "      <td>95</td>\n",
       "    </tr>\n",
       "  </tbody>\n",
       "</table>\n",
       "</div>"
      ],
      "text/plain": [
       "        Precision    Recall  F1 Score  Support\n",
       "(0, 0)   0.986842  0.986842  0.986842       76\n",
       "(0, 1)   0.846154  0.846154  0.846154       13\n",
       "(1, 1)   0.965517  0.965517  0.965517       58\n",
       "(1, 2)   1.000000  1.000000  1.000000        1\n",
       "(2, 1)   1.000000  1.000000  1.000000        3\n",
       "(2, 2)   1.000000  1.000000  1.000000       95"
      ]
     },
     "execution_count": 9,
     "metadata": {},
     "output_type": "execute_result"
    }
   ],
   "source": [
    "%%time\n",
    "model = train_surrogate_tree(X, mclass_diff, max_depth=5)\n",
    "evaluate(model, X, mclass_diff, comparer.class_names);"
   ]
  },
  {
   "cell_type": "code",
   "execution_count": 10,
   "id": "38678792-59f8-416a-9b7d-e7fa42f88767",
   "metadata": {},
   "outputs": [
    {
     "name": "stdout",
     "output_type": "stream",
     "text": [
      "              precision    recall  f1-score   support\n",
      "\n",
      "      (0, 0)       0.97      1.00      0.99        76\n",
      "      (0, 1)       1.00      0.92      0.96        13\n",
      "      (1, 1)       1.00      0.98      0.99        58\n",
      "      (1, 2)       1.00      1.00      1.00         1\n",
      "      (2, 1)       1.00      1.00      1.00         3\n",
      "      (2, 2)       1.00      1.00      1.00        95\n",
      "\n",
      "    accuracy                           0.99       246\n",
      "   macro avg       1.00      0.98      0.99       246\n",
      "weighted avg       0.99      0.99      0.99       246\n",
      "\n",
      "CPU times: user 10.7 ms, sys: 1.91 ms, total: 12.6 ms\n",
      "Wall time: 19.4 ms\n"
     ]
    },
    {
     "data": {
      "text/html": [
       "<div>\n",
       "<style scoped>\n",
       "    .dataframe tbody tr th:only-of-type {\n",
       "        vertical-align: middle;\n",
       "    }\n",
       "\n",
       "    .dataframe tbody tr th {\n",
       "        vertical-align: top;\n",
       "    }\n",
       "\n",
       "    .dataframe thead th {\n",
       "        text-align: right;\n",
       "    }\n",
       "</style>\n",
       "<table border=\"1\" class=\"dataframe\">\n",
       "  <thead>\n",
       "    <tr style=\"text-align: right;\">\n",
       "      <th></th>\n",
       "      <th>Precision</th>\n",
       "      <th>Recall</th>\n",
       "      <th>F1 Score</th>\n",
       "      <th>Support</th>\n",
       "    </tr>\n",
       "  </thead>\n",
       "  <tbody>\n",
       "    <tr>\n",
       "      <th>(0, 0)</th>\n",
       "      <td>0.974359</td>\n",
       "      <td>1.000000</td>\n",
       "      <td>0.987013</td>\n",
       "      <td>76</td>\n",
       "    </tr>\n",
       "    <tr>\n",
       "      <th>(0, 1)</th>\n",
       "      <td>1.000000</td>\n",
       "      <td>0.923077</td>\n",
       "      <td>0.960000</td>\n",
       "      <td>13</td>\n",
       "    </tr>\n",
       "    <tr>\n",
       "      <th>(1, 1)</th>\n",
       "      <td>1.000000</td>\n",
       "      <td>0.982759</td>\n",
       "      <td>0.991304</td>\n",
       "      <td>58</td>\n",
       "    </tr>\n",
       "    <tr>\n",
       "      <th>(1, 2)</th>\n",
       "      <td>1.000000</td>\n",
       "      <td>1.000000</td>\n",
       "      <td>1.000000</td>\n",
       "      <td>1</td>\n",
       "    </tr>\n",
       "    <tr>\n",
       "      <th>(2, 1)</th>\n",
       "      <td>1.000000</td>\n",
       "      <td>1.000000</td>\n",
       "      <td>1.000000</td>\n",
       "      <td>3</td>\n",
       "    </tr>\n",
       "    <tr>\n",
       "      <th>(2, 2)</th>\n",
       "      <td>1.000000</td>\n",
       "      <td>1.000000</td>\n",
       "      <td>1.000000</td>\n",
       "      <td>95</td>\n",
       "    </tr>\n",
       "  </tbody>\n",
       "</table>\n",
       "</div>"
      ],
      "text/plain": [
       "        Precision    Recall  F1 Score  Support\n",
       "(0, 0)   0.974359  1.000000  0.987013       76\n",
       "(0, 1)   1.000000  0.923077  0.960000       13\n",
       "(1, 1)   1.000000  0.982759  0.991304       58\n",
       "(1, 2)   1.000000  1.000000  1.000000        1\n",
       "(2, 1)   1.000000  1.000000  1.000000        3\n",
       "(2, 2)   1.000000  1.000000  1.000000       95"
      ]
     },
     "execution_count": 10,
     "metadata": {},
     "output_type": "execute_result"
    }
   ],
   "source": [
    "%%time\n",
    "model = train_surrogate_tree(X, mclass_diff, max_depth=6)\n",
    "evaluate(model, X, mclass_diff, comparer.class_names);"
   ]
  },
  {
   "cell_type": "markdown",
   "id": "836ed32a-1a95-43ee-b721-40e6d9123a62",
   "metadata": {},
   "source": [
    "## Tree with Depth 7"
   ]
  },
  {
   "cell_type": "code",
   "execution_count": 11,
   "id": "f0b749f4-73ed-42e2-8fec-72b93cc4db70",
   "metadata": {},
   "outputs": [
    {
     "name": "stdout",
     "output_type": "stream",
     "text": [
      "              precision    recall  f1-score   support\n",
      "\n",
      "      (0, 0)       0.99      1.00      0.99        76\n",
      "      (0, 1)       1.00      1.00      1.00        13\n",
      "      (1, 1)       1.00      0.98      0.99        58\n",
      "      (1, 2)       1.00      1.00      1.00         1\n",
      "      (2, 1)       1.00      1.00      1.00         3\n",
      "      (2, 2)       1.00      1.00      1.00        95\n",
      "\n",
      "    accuracy                           1.00       246\n",
      "   macro avg       1.00      1.00      1.00       246\n",
      "weighted avg       1.00      1.00      1.00       246\n",
      "\n",
      "CPU times: user 14.1 ms, sys: 2.52 ms, total: 16.6 ms\n",
      "Wall time: 24 ms\n"
     ]
    },
    {
     "data": {
      "text/html": [
       "<div>\n",
       "<style scoped>\n",
       "    .dataframe tbody tr th:only-of-type {\n",
       "        vertical-align: middle;\n",
       "    }\n",
       "\n",
       "    .dataframe tbody tr th {\n",
       "        vertical-align: top;\n",
       "    }\n",
       "\n",
       "    .dataframe thead th {\n",
       "        text-align: right;\n",
       "    }\n",
       "</style>\n",
       "<table border=\"1\" class=\"dataframe\">\n",
       "  <thead>\n",
       "    <tr style=\"text-align: right;\">\n",
       "      <th></th>\n",
       "      <th>Precision</th>\n",
       "      <th>Recall</th>\n",
       "      <th>F1 Score</th>\n",
       "      <th>Support</th>\n",
       "    </tr>\n",
       "  </thead>\n",
       "  <tbody>\n",
       "    <tr>\n",
       "      <th>(0, 0)</th>\n",
       "      <td>0.987013</td>\n",
       "      <td>1.000000</td>\n",
       "      <td>0.993464</td>\n",
       "      <td>76</td>\n",
       "    </tr>\n",
       "    <tr>\n",
       "      <th>(0, 1)</th>\n",
       "      <td>1.000000</td>\n",
       "      <td>1.000000</td>\n",
       "      <td>1.000000</td>\n",
       "      <td>13</td>\n",
       "    </tr>\n",
       "    <tr>\n",
       "      <th>(1, 1)</th>\n",
       "      <td>1.000000</td>\n",
       "      <td>0.982759</td>\n",
       "      <td>0.991304</td>\n",
       "      <td>58</td>\n",
       "    </tr>\n",
       "    <tr>\n",
       "      <th>(1, 2)</th>\n",
       "      <td>1.000000</td>\n",
       "      <td>1.000000</td>\n",
       "      <td>1.000000</td>\n",
       "      <td>1</td>\n",
       "    </tr>\n",
       "    <tr>\n",
       "      <th>(2, 1)</th>\n",
       "      <td>1.000000</td>\n",
       "      <td>1.000000</td>\n",
       "      <td>1.000000</td>\n",
       "      <td>3</td>\n",
       "    </tr>\n",
       "    <tr>\n",
       "      <th>(2, 2)</th>\n",
       "      <td>1.000000</td>\n",
       "      <td>1.000000</td>\n",
       "      <td>1.000000</td>\n",
       "      <td>95</td>\n",
       "    </tr>\n",
       "  </tbody>\n",
       "</table>\n",
       "</div>"
      ],
      "text/plain": [
       "        Precision    Recall  F1 Score  Support\n",
       "(0, 0)   0.987013  1.000000  0.993464       76\n",
       "(0, 1)   1.000000  1.000000  1.000000       13\n",
       "(1, 1)   1.000000  0.982759  0.991304       58\n",
       "(1, 2)   1.000000  1.000000  1.000000        1\n",
       "(2, 1)   1.000000  1.000000  1.000000        3\n",
       "(2, 2)   1.000000  1.000000  1.000000       95"
      ]
     },
     "execution_count": 11,
     "metadata": {},
     "output_type": "execute_result"
    }
   ],
   "source": [
    "%%time\n",
    "max_depth = 7\n",
    "model = train_surrogate_tree(X, mclass_diff, max_depth=max_depth)\n",
    "evaluate(model, X, mclass_diff, comparer.class_names);"
   ]
  },
  {
   "cell_type": "code",
   "execution_count": 12,
   "id": "faa72422-1fe4-4b58-be9d-3f41aa9c182e",
   "metadata": {},
   "outputs": [
    {
     "data": {
      "image/png": "[encoded data removed]",
      "text/plain": [
       "<Figure size 360x360 with 1 Axes>"
      ]
     },
     "metadata": {
      "needs_background": "light"
     },
     "output_type": "display_data"
    }
   ],
   "source": [
    "feature_importances, feature_order = get_feature_importances(model)\n",
    "plot_feature_importances(feature_names, feature_importances, feature_order, figsize=(5, 5))"
   ]
  },
  {
   "cell_type": "code",
   "execution_count": 13,
   "id": "65747d00-860f-41b3-933f-bdb23c5be46b",
   "metadata": {},
   "outputs": [
    {
     "name": "stdout",
     "output_type": "stream",
     "text": [
      "1. CRIM <= 0.9839633405208588 and NOX > 0.5909999907016754 and 16.290000438690186 < LSTAT <= 17.722667694091797 => (0, 1) [0, 4, 0, 0, 0, 0]\n",
      "2. 0.5909999907016754 < NOX <= 0.6180000007152557 and 9.477545261383057 < LSTAT <= 12.607422828674316 => (0, 1) [0, 3, 0, 0, 0, 0]\n",
      "3. CRIM <= 1.4226450324058533 and NOX <= 0.5909999907016754 and PTRATIO > 20.600000381469727 and LSTAT > 17.515000343322754 => (0, 1) [0, 2, 0, 0, 0, 0]\n",
      "4. INDUS > 8.005000114440918 and NOX <= 0.5909999907016754 and DIS > 2.271081805229187 and 16.715493202209473 < LSTAT <= 17.515000343322754 => (0, 1) [0, 2, 0, 0, 0, 0]\n",
      "5. NOX <= 0.7439999878406525 and RM <= 6.61963152885437 and DIS > 1.4821309447288513 and RAD > 6.0 and LSTAT <= 9.477545261383057 => (2, 1) [0, 0, 0, 0, 2, 0]\n",
      "6. CRIM > 0.9839633405208588 and NOX > 0.5909999907016754 and 14.144999980926514 < LSTAT <= 14.309999942779541 => (0, 1) [0, 1, 0, 0, 0, 0]\n",
      "7. INDUS <= 13.90500020980835 and NOX <= 0.5909999907016754 and DIS > 2.271081805229187 and PTRATIO <= 16.5 and 9.477545261383057 < LSTAT <= 16.715493202209473 => (0, 1) [0, 1, 0, 0, 0, 0]\n",
      "8. RM > 6.61963152885437 and PTRATIO > 20.600000381469727 and LSTAT <= 9.477545261383057 => (2, 1) [0, 0, 0, 0, 1, 0]\n",
      "9. INDUS > 4.6450000405311584 and RM <= 6.61963152885437 and RAD <= 6.0 and LSTAT <= 6.255000114440918 => (1, 2) [0, 0, 0, 1, 0, 0]\n"
     ]
    }
   ],
   "source": [
    "constraints, rules, class_occurences, labels, instance_indices_per_rule =\\\n",
    "    extract_rules(model, feature_names, comparer.difference_classes, X, mclass_diff)\n",
    "print_rules(rules, class_occurences, comparer.class_names, labels)"
   ]
  },
  {
   "cell_type": "markdown",
   "id": "47a5df8a-5804-4760-a9e6-23ec9cbfba96",
   "metadata": {},
   "source": [
    "## Evaluation"
   ]
  },
  {
   "cell_type": "markdown",
   "id": "349a084c-ec2a-435c-959a-70be419d0451",
   "metadata": {},
   "source": [
    "### Global Fidelity"
   ]
  },
  {
   "cell_type": "code",
   "execution_count": 14,
   "id": "68dcb419-0a60-410a-89f9-59f7733266b9",
   "metadata": {},
   "outputs": [
    {
     "name": "stdout",
     "output_type": "stream",
     "text": [
      "              precision    recall  f1-score   support\n",
      "\n",
      "      (0, 0)       0.99      1.00      0.99        76\n",
      "      (0, 1)       1.00      1.00      1.00        13\n",
      "      (1, 1)       1.00      0.98      0.99        58\n",
      "      (1, 2)       1.00      1.00      1.00         1\n",
      "      (2, 1)       1.00      1.00      1.00         3\n",
      "      (2, 2)       1.00      1.00      1.00        95\n",
      "\n",
      "    accuracy                           1.00       246\n",
      "   macro avg       1.00      1.00      1.00       246\n",
      "weighted avg       1.00      1.00      1.00       246\n",
      "\n"
     ]
    }
   ],
   "source": [
    "global_fidelities[max_depth] = evaluate(model, X, mclass_diff, comparer.class_names)"
   ]
  },
  {
   "cell_type": "markdown",
   "id": "8dad1691-2972-4ee2-b7e9-b452068caa56",
   "metadata": {},
   "source": [
    "### Counterfactual Fidelity Error"
   ]
  },
  {
   "cell_type": "markdown",
   "id": "adc1091b-886a-4399-b8a8-3137befc9e91",
   "metadata": {},
   "source": [
    "#### (0, 1)"
   ]
  },
  {
   "cell_type": "code",
   "execution_count": 15,
   "id": "664a14c3-ae4d-470a-a6b0-26a6625b099a",
   "metadata": {},
   "outputs": [],
   "source": [
    "focus_class_idx, focus_class = comparer.check_class('(0, 1)')\n",
    "ground_truth_instance_indices, ground_truth = ground_truth_per_class[focus_class]\n",
    "constraints_focus, rules_focus, class_occurences_focus, instance_indices_per_rule_focus =\\\n",
    "    zip(*[(constraint, rule, class_occurences, instance_indices)\n",
    "     for constraint, rule, class_occurences, label, instance_indices\n",
    "     in zip(constraints, rules, class_occurences, labels, instance_indices_per_rule)\n",
    "     if label == focus_class_idx])"
   ]
  },
  {
   "cell_type": "code",
   "execution_count": 16,
   "id": "c506213a-40d5-4364-9e12-3fb04aab51e1",
   "metadata": {},
   "outputs": [
    {
     "name": "stderr",
     "output_type": "stream",
     "text": [
      "invalid value encountered in true_divide\n",
      "invalid value encountered in true_divide\n"
     ]
    }
   ],
   "source": [
    "errors, statistics = evaluate_counterfactual_fidelity(comparer, ground_truth_instance_indices,\n",
    "                                                      ground_truth, instance_indices_per_rule_focus,\n",
    "                                                      constraints_focus)"
   ]
  },
  {
   "cell_type": "code",
   "execution_count": 17,
   "id": "f2df0f59-28b5-4b0a-993a-73ff0a3c303c",
   "metadata": {},
   "outputs": [
    {
     "data": {
      "text/html": [
       "<div>\n",
       "<style scoped>\n",
       "    .dataframe tbody tr th:only-of-type {\n",
       "        vertical-align: middle;\n",
       "    }\n",
       "\n",
       "    .dataframe tbody tr th {\n",
       "        vertical-align: top;\n",
       "    }\n",
       "\n",
       "    .dataframe thead th {\n",
       "        text-align: right;\n",
       "    }\n",
       "</style>\n",
       "<table border=\"1\" class=\"dataframe\">\n",
       "  <thead>\n",
       "    <tr style=\"text-align: right;\">\n",
       "      <th></th>\n",
       "      <th>RMSE</th>\n",
       "      <th>BMR</th>\n",
       "      <th>BAR</th>\n",
       "    </tr>\n",
       "  </thead>\n",
       "  <tbody>\n",
       "    <tr>\n",
       "      <th>CRIM</th>\n",
       "      <td>0.794867</td>\n",
       "      <td>0.631579</td>\n",
       "      <td>0.0</td>\n",
       "    </tr>\n",
       "    <tr>\n",
       "      <th>ZN</th>\n",
       "      <td>NaN</td>\n",
       "      <td>1.000000</td>\n",
       "      <td>NaN</td>\n",
       "    </tr>\n",
       "    <tr>\n",
       "      <th>INDUS</th>\n",
       "      <td>1.681197</td>\n",
       "      <td>0.850000</td>\n",
       "      <td>0.0</td>\n",
       "    </tr>\n",
       "    <tr>\n",
       "      <th>NOX</th>\n",
       "      <td>NaN</td>\n",
       "      <td>NaN</td>\n",
       "      <td>1.0</td>\n",
       "    </tr>\n",
       "    <tr>\n",
       "      <th>RM</th>\n",
       "      <td>NaN</td>\n",
       "      <td>1.000000</td>\n",
       "      <td>NaN</td>\n",
       "    </tr>\n",
       "    <tr>\n",
       "      <th>AGE</th>\n",
       "      <td>NaN</td>\n",
       "      <td>1.000000</td>\n",
       "      <td>NaN</td>\n",
       "    </tr>\n",
       "    <tr>\n",
       "      <th>DIS</th>\n",
       "      <td>NaN</td>\n",
       "      <td>1.000000</td>\n",
       "      <td>1.0</td>\n",
       "    </tr>\n",
       "    <tr>\n",
       "      <th>RAD</th>\n",
       "      <td>NaN</td>\n",
       "      <td>1.000000</td>\n",
       "      <td>NaN</td>\n",
       "    </tr>\n",
       "    <tr>\n",
       "      <th>TAX</th>\n",
       "      <td>NaN</td>\n",
       "      <td>1.000000</td>\n",
       "      <td>NaN</td>\n",
       "    </tr>\n",
       "    <tr>\n",
       "      <th>PTRATIO</th>\n",
       "      <td>0.432782</td>\n",
       "      <td>0.833333</td>\n",
       "      <td>0.0</td>\n",
       "    </tr>\n",
       "    <tr>\n",
       "      <th>LSTAT</th>\n",
       "      <td>1.270440</td>\n",
       "      <td>0.076923</td>\n",
       "      <td>0.0</td>\n",
       "    </tr>\n",
       "  </tbody>\n",
       "</table>\n",
       "</div>"
      ],
      "text/plain": [
       "             RMSE       BMR  BAR\n",
       "CRIM     0.794867  0.631579  0.0\n",
       "ZN            NaN  1.000000  NaN\n",
       "INDUS    1.681197  0.850000  0.0\n",
       "NOX           NaN       NaN  1.0\n",
       "RM            NaN  1.000000  NaN\n",
       "AGE           NaN  1.000000  NaN\n",
       "DIS           NaN  1.000000  1.0\n",
       "RAD           NaN  1.000000  NaN\n",
       "TAX           NaN  1.000000  NaN\n",
       "PTRATIO  0.432782  0.833333  0.0\n",
       "LSTAT    1.270440  0.076923  0.0"
      ]
     },
     "execution_count": 17,
     "metadata": {},
     "output_type": "execute_result"
    }
   ],
   "source": [
    "local_fidelities[(max_depth, focus_class)] = statistics\n",
    "statistics"
   ]
  },
  {
   "cell_type": "markdown",
   "id": "0557ed89-4d99-4da6-b3df-c05649bb76f0",
   "metadata": {},
   "source": [
    "#### (1, 2)"
   ]
  },
  {
   "cell_type": "code",
   "execution_count": 18,
   "id": "1b030482-a64c-460c-adcd-7d83bfc40a03",
   "metadata": {},
   "outputs": [],
   "source": [
    "focus_class_idx, focus_class = comparer.check_class('(1, 2)')\n",
    "ground_truth_instance_indices, ground_truth = ground_truth_per_class[focus_class]\n",
    "constraints_focus, rules_focus, class_occurences_focus, instance_indices_per_rule_focus =\\\n",
    "    zip(*[(constraint, rule, class_occurences, instance_indices)\n",
    "     for constraint, rule, class_occurences, label, instance_indices\n",
    "     in zip(constraints, rules, class_occurences, labels, instance_indices_per_rule)\n",
    "     if label == focus_class_idx])"
   ]
  },
  {
   "cell_type": "code",
   "execution_count": 19,
   "id": "45ba2b30-beb7-43cd-8e0c-16957d769e90",
   "metadata": {},
   "outputs": [
    {
     "name": "stderr",
     "output_type": "stream",
     "text": [
      "invalid value encountered in true_divide\n",
      "invalid value encountered in true_divide\n"
     ]
    }
   ],
   "source": [
    "errors, statistics = evaluate_counterfactual_fidelity(comparer, ground_truth_instance_indices,\n",
    "                                                      ground_truth, instance_indices_per_rule_focus,\n",
    "                                                      constraints_focus)"
   ]
  },
  {
   "cell_type": "code",
   "execution_count": 20,
   "id": "03467b8f-fe38-4b82-9665-e8d435c470c9",
   "metadata": {},
   "outputs": [
    {
     "data": {
      "text/html": [
       "<div>\n",
       "<style scoped>\n",
       "    .dataframe tbody tr th:only-of-type {\n",
       "        vertical-align: middle;\n",
       "    }\n",
       "\n",
       "    .dataframe tbody tr th {\n",
       "        vertical-align: top;\n",
       "    }\n",
       "\n",
       "    .dataframe thead th {\n",
       "        text-align: right;\n",
       "    }\n",
       "</style>\n",
       "<table border=\"1\" class=\"dataframe\">\n",
       "  <thead>\n",
       "    <tr style=\"text-align: right;\">\n",
       "      <th></th>\n",
       "      <th>RMSE</th>\n",
       "      <th>BMR</th>\n",
       "      <th>BAR</th>\n",
       "    </tr>\n",
       "  </thead>\n",
       "  <tbody>\n",
       "    <tr>\n",
       "      <th>CRIM</th>\n",
       "      <td>NaN</td>\n",
       "      <td>1.0</td>\n",
       "      <td>NaN</td>\n",
       "    </tr>\n",
       "    <tr>\n",
       "      <th>ZN</th>\n",
       "      <td>NaN</td>\n",
       "      <td>1.0</td>\n",
       "      <td>NaN</td>\n",
       "    </tr>\n",
       "    <tr>\n",
       "      <th>INDUS</th>\n",
       "      <td>NaN</td>\n",
       "      <td>1.0</td>\n",
       "      <td>1.0</td>\n",
       "    </tr>\n",
       "    <tr>\n",
       "      <th>NOX</th>\n",
       "      <td>NaN</td>\n",
       "      <td>NaN</td>\n",
       "      <td>NaN</td>\n",
       "    </tr>\n",
       "    <tr>\n",
       "      <th>RM</th>\n",
       "      <td>1.120368</td>\n",
       "      <td>0.5</td>\n",
       "      <td>0.0</td>\n",
       "    </tr>\n",
       "    <tr>\n",
       "      <th>AGE</th>\n",
       "      <td>NaN</td>\n",
       "      <td>1.0</td>\n",
       "      <td>NaN</td>\n",
       "    </tr>\n",
       "    <tr>\n",
       "      <th>DIS</th>\n",
       "      <td>NaN</td>\n",
       "      <td>1.0</td>\n",
       "      <td>NaN</td>\n",
       "    </tr>\n",
       "    <tr>\n",
       "      <th>RAD</th>\n",
       "      <td>6.720000</td>\n",
       "      <td>0.5</td>\n",
       "      <td>0.0</td>\n",
       "    </tr>\n",
       "    <tr>\n",
       "      <th>TAX</th>\n",
       "      <td>NaN</td>\n",
       "      <td>NaN</td>\n",
       "      <td>NaN</td>\n",
       "    </tr>\n",
       "    <tr>\n",
       "      <th>PTRATIO</th>\n",
       "      <td>NaN</td>\n",
       "      <td>1.0</td>\n",
       "      <td>NaN</td>\n",
       "    </tr>\n",
       "    <tr>\n",
       "      <th>LSTAT</th>\n",
       "      <td>0.015000</td>\n",
       "      <td>0.5</td>\n",
       "      <td>0.0</td>\n",
       "    </tr>\n",
       "  </tbody>\n",
       "</table>\n",
       "</div>"
      ],
      "text/plain": [
       "             RMSE  BMR  BAR\n",
       "CRIM          NaN  1.0  NaN\n",
       "ZN            NaN  1.0  NaN\n",
       "INDUS         NaN  1.0  1.0\n",
       "NOX           NaN  NaN  NaN\n",
       "RM       1.120368  0.5  0.0\n",
       "AGE           NaN  1.0  NaN\n",
       "DIS           NaN  1.0  NaN\n",
       "RAD      6.720000  0.5  0.0\n",
       "TAX           NaN  NaN  NaN\n",
       "PTRATIO       NaN  1.0  NaN\n",
       "LSTAT    0.015000  0.5  0.0"
      ]
     },
     "execution_count": 20,
     "metadata": {},
     "output_type": "execute_result"
    }
   ],
   "source": [
    "local_fidelities[(max_depth, focus_class)] = statistics\n",
    "statistics"
   ]
  },
  {
   "cell_type": "markdown",
   "id": "c6c0f99f-2391-4efb-b763-62ff027604ed",
   "metadata": {},
   "source": [
    "#### (2, 1)"
   ]
  },
  {
   "cell_type": "code",
   "execution_count": 21,
   "id": "09d39ce4-c30d-4cc6-b970-391caa01c87b",
   "metadata": {},
   "outputs": [],
   "source": [
    "focus_class_idx, focus_class = comparer.check_class('(2, 1)')\n",
    "ground_truth_instance_indices, ground_truth = ground_truth_per_class[focus_class]\n",
    "constraints_focus, rules_focus, class_occurences_focus, instance_indices_per_rule_focus =\\\n",
    "    zip(*[(constraint, rule, class_occurences, instance_indices)\n",
    "     for constraint, rule, class_occurences, label, instance_indices\n",
    "     in zip(constraints, rules, class_occurences, labels, instance_indices_per_rule)\n",
    "     if label == focus_class_idx])"
   ]
  },
  {
   "cell_type": "code",
   "execution_count": 22,
   "id": "f7ab8cf0-f4b5-481f-9915-cd6621447be3",
   "metadata": {},
   "outputs": [
    {
     "name": "stderr",
     "output_type": "stream",
     "text": [
      "invalid value encountered in true_divide\n",
      "invalid value encountered in true_divide\n"
     ]
    }
   ],
   "source": [
    "errors, statistics = evaluate_counterfactual_fidelity(comparer, ground_truth_instance_indices,\n",
    "                                                      ground_truth, instance_indices_per_rule_focus,\n",
    "                                                      constraints_focus)"
   ]
  },
  {
   "cell_type": "code",
   "execution_count": 23,
   "id": "f068ee59-8353-4c6a-bca6-20d4af012056",
   "metadata": {},
   "outputs": [
    {
     "data": {
      "text/html": [
       "<div>\n",
       "<style scoped>\n",
       "    .dataframe tbody tr th:only-of-type {\n",
       "        vertical-align: middle;\n",
       "    }\n",
       "\n",
       "    .dataframe tbody tr th {\n",
       "        vertical-align: top;\n",
       "    }\n",
       "\n",
       "    .dataframe thead th {\n",
       "        text-align: right;\n",
       "    }\n",
       "</style>\n",
       "<table border=\"1\" class=\"dataframe\">\n",
       "  <thead>\n",
       "    <tr style=\"text-align: right;\">\n",
       "      <th></th>\n",
       "      <th>RMSE</th>\n",
       "      <th>BMR</th>\n",
       "      <th>BAR</th>\n",
       "    </tr>\n",
       "  </thead>\n",
       "  <tbody>\n",
       "    <tr>\n",
       "      <th>CRIM</th>\n",
       "      <td>NaN</td>\n",
       "      <td>1.0</td>\n",
       "      <td>NaN</td>\n",
       "    </tr>\n",
       "    <tr>\n",
       "      <th>ZN</th>\n",
       "      <td>NaN</td>\n",
       "      <td>1.0</td>\n",
       "      <td>NaN</td>\n",
       "    </tr>\n",
       "    <tr>\n",
       "      <th>INDUS</th>\n",
       "      <td>NaN</td>\n",
       "      <td>1.0</td>\n",
       "      <td>NaN</td>\n",
       "    </tr>\n",
       "    <tr>\n",
       "      <th>NOX</th>\n",
       "      <td>NaN</td>\n",
       "      <td>NaN</td>\n",
       "      <td>1.0</td>\n",
       "    </tr>\n",
       "    <tr>\n",
       "      <th>RM</th>\n",
       "      <td>1.361463</td>\n",
       "      <td>0.4</td>\n",
       "      <td>0.0</td>\n",
       "    </tr>\n",
       "    <tr>\n",
       "      <th>AGE</th>\n",
       "      <td>NaN</td>\n",
       "      <td>1.0</td>\n",
       "      <td>NaN</td>\n",
       "    </tr>\n",
       "    <tr>\n",
       "      <th>DIS</th>\n",
       "      <td>1.137869</td>\n",
       "      <td>0.8</td>\n",
       "      <td>0.5</td>\n",
       "    </tr>\n",
       "    <tr>\n",
       "      <th>RAD</th>\n",
       "      <td>11.720004</td>\n",
       "      <td>0.5</td>\n",
       "      <td>0.0</td>\n",
       "    </tr>\n",
       "    <tr>\n",
       "      <th>TAX</th>\n",
       "      <td>NaN</td>\n",
       "      <td>1.0</td>\n",
       "      <td>NaN</td>\n",
       "    </tr>\n",
       "    <tr>\n",
       "      <th>PTRATIO</th>\n",
       "      <td>NaN</td>\n",
       "      <td>1.0</td>\n",
       "      <td>1.0</td>\n",
       "    </tr>\n",
       "    <tr>\n",
       "      <th>LSTAT</th>\n",
       "      <td>1.746977</td>\n",
       "      <td>0.5</td>\n",
       "      <td>0.0</td>\n",
       "    </tr>\n",
       "  </tbody>\n",
       "</table>\n",
       "</div>"
      ],
      "text/plain": [
       "              RMSE  BMR  BAR\n",
       "CRIM           NaN  1.0  NaN\n",
       "ZN             NaN  1.0  NaN\n",
       "INDUS          NaN  1.0  NaN\n",
       "NOX            NaN  NaN  1.0\n",
       "RM        1.361463  0.4  0.0\n",
       "AGE            NaN  1.0  NaN\n",
       "DIS       1.137869  0.8  0.5\n",
       "RAD      11.720004  0.5  0.0\n",
       "TAX            NaN  1.0  NaN\n",
       "PTRATIO        NaN  1.0  1.0\n",
       "LSTAT     1.746977  0.5  0.0"
      ]
     },
     "execution_count": 23,
     "metadata": {},
     "output_type": "execute_result"
    }
   ],
   "source": [
    "local_fidelities[(max_depth, focus_class)] = statistics\n",
    "statistics"
   ]
  },
  {
   "cell_type": "markdown",
   "id": "3aaeb4d6-83c1-43a5-9536-ddcda7c355d2",
   "metadata": {},
   "source": [
    "### Complexity"
   ]
  },
  {
   "cell_type": "markdown",
   "id": "424a5b9a-9d59-48d7-811a-82f7d088912e",
   "metadata": {},
   "source": [
    "#### (0, 1)"
   ]
  },
  {
   "cell_type": "code",
   "execution_count": 24,
   "id": "57def856-44dd-459e-bb02-37dcb957697c",
   "metadata": {},
   "outputs": [],
   "source": [
    "focus_class_idx, focus_class = comparer.check_class('(0, 1)')\n",
    "ground_truth_instance_indices, ground_truth = ground_truth_per_class[focus_class]\n",
    "constraints_focus, rules_focus, class_occurences_focus, instance_indices_per_rule_focus =\\\n",
    "    zip(*[(constraint, rule, class_occurences, instance_indices)\n",
    "     for constraint, rule, class_occurences, label, instance_indices\n",
    "     in zip(constraints, rules, class_occurences, labels, instance_indices_per_rule)\n",
    "     if label == focus_class_idx])"
   ]
  },
  {
   "cell_type": "code",
   "execution_count": 25,
   "id": "2318d51e-3f7c-4050-807f-5ee5e62cd3bd",
   "metadata": {},
   "outputs": [
    {
     "data": {
      "text/plain": [
       "Rules           6\n",
       "Constraints    27\n",
       "dtype: int64"
      ]
     },
     "execution_count": 25,
     "metadata": {},
     "output_type": "execute_result"
    }
   ],
   "source": [
    "res = get_complexity(constraints_focus)\n",
    "complexities[(max_depth, focus_class)] = res\n",
    "res"
   ]
  },
  {
   "cell_type": "markdown",
   "id": "187b1c1b-43af-4419-903c-2ca88a8d7059",
   "metadata": {},
   "source": [
    "#### (1, 2)"
   ]
  },
  {
   "cell_type": "code",
   "execution_count": 26,
   "id": "23faddff-db41-404d-890b-77794289ffc5",
   "metadata": {},
   "outputs": [],
   "source": [
    "focus_class_idx, focus_class = comparer.check_class('(1, 2)')\n",
    "ground_truth_instance_indices, ground_truth = ground_truth_per_class[focus_class]\n",
    "constraints_focus, rules_focus, class_occurences_focus, instance_indices_per_rule_focus =\\\n",
    "    zip(*[(constraint, rule, class_occurences, instance_indices)\n",
    "     for constraint, rule, class_occurences, label, instance_indices\n",
    "     in zip(constraints, rules, class_occurences, labels, instance_indices_per_rule)\n",
    "     if label == focus_class_idx])"
   ]
  },
  {
   "cell_type": "code",
   "execution_count": 27,
   "id": "457dd2ac-a2a5-4a8a-9c0d-803cc9fda985",
   "metadata": {},
   "outputs": [
    {
     "data": {
      "text/plain": [
       "Rules          1\n",
       "Constraints    4\n",
       "dtype: int64"
      ]
     },
     "execution_count": 27,
     "metadata": {},
     "output_type": "execute_result"
    }
   ],
   "source": [
    "res = get_complexity(constraints_focus)\n",
    "complexities[(max_depth, focus_class)] = res\n",
    "res"
   ]
  },
  {
   "cell_type": "markdown",
   "id": "bfec3b0d-9031-4f04-a691-8bc776c138d9",
   "metadata": {},
   "source": [
    "#### (2, 1)"
   ]
  },
  {
   "cell_type": "code",
   "execution_count": 28,
   "id": "03a4c793-24f1-4e56-9447-13af3ba4657e",
   "metadata": {},
   "outputs": [],
   "source": [
    "focus_class_idx, focus_class = comparer.check_class('(2, 1)')\n",
    "ground_truth_instance_indices, ground_truth = ground_truth_per_class[focus_class]\n",
    "constraints_focus, rules_focus, class_occurences_focus, instance_indices_per_rule_focus =\\\n",
    "    zip(*[(constraint, rule, class_occurences, instance_indices)\n",
    "     for constraint, rule, class_occurences, label, instance_indices\n",
    "     in zip(constraints, rules, class_occurences, labels, instance_indices_per_rule)\n",
    "     if label == focus_class_idx])"
   ]
  },
  {
   "cell_type": "code",
   "execution_count": 29,
   "id": "2c4267c8-ad43-4cee-9ba8-c0c3ed0640ee",
   "metadata": {},
   "outputs": [
    {
     "data": {
      "text/plain": [
       "Rules          2\n",
       "Constraints    8\n",
       "dtype: int64"
      ]
     },
     "execution_count": 29,
     "metadata": {},
     "output_type": "execute_result"
    }
   ],
   "source": [
    "res = get_complexity(constraints_focus)\n",
    "complexities[(max_depth, focus_class)] = res\n",
    "res"
   ]
  },
  {
   "cell_type": "markdown",
   "id": "66ed68af-7348-4112-873f-32c702418f14",
   "metadata": {},
   "source": [
    "# Summary"
   ]
  },
  {
   "cell_type": "code",
   "execution_count": 30,
   "id": "0a56c4db-7f44-4c18-9fa6-9c0d7803e02b",
   "metadata": {},
   "outputs": [],
   "source": [
    "def map_index(index):\n",
    "    class_, depth = index[0], index[1]\n",
    "    if depth == 7:\n",
    "        level = 'global'\n",
    "    else:\n",
    "        level = None\n",
    "    return (class_, level) if len(index) == 2 else (class_, level, index[2])"
   ]
  },
  {
   "cell_type": "markdown",
   "id": "2b08ff94-09ac-4aac-afeb-ac2ecdaa0cd4",
   "metadata": {},
   "source": [
    "## Global Fidelity"
   ]
  },
  {
   "cell_type": "code",
   "execution_count": 31,
   "id": "2664344d-9241-45e6-99ae-cbc81ecddd43",
   "metadata": {},
   "outputs": [
    {
     "data": {
      "text/html": [
       "<div>\n",
       "<style scoped>\n",
       "    .dataframe tbody tr th:only-of-type {\n",
       "        vertical-align: middle;\n",
       "    }\n",
       "\n",
       "    .dataframe tbody tr th {\n",
       "        vertical-align: top;\n",
       "    }\n",
       "\n",
       "    .dataframe thead th {\n",
       "        text-align: right;\n",
       "    }\n",
       "</style>\n",
       "<table border=\"1\" class=\"dataframe\">\n",
       "  <thead>\n",
       "    <tr style=\"text-align: right;\">\n",
       "      <th></th>\n",
       "      <th></th>\n",
       "      <th>Precision</th>\n",
       "      <th>Recall</th>\n",
       "      <th>F1 Score</th>\n",
       "      <th>Support</th>\n",
       "    </tr>\n",
       "    <tr>\n",
       "      <th>class</th>\n",
       "      <th>depth</th>\n",
       "      <th></th>\n",
       "      <th></th>\n",
       "      <th></th>\n",
       "      <th></th>\n",
       "    </tr>\n",
       "  </thead>\n",
       "  <tbody>\n",
       "    <tr>\n",
       "      <th>(0, 1)</th>\n",
       "      <th>7</th>\n",
       "      <td>1.0</td>\n",
       "      <td>1.0</td>\n",
       "      <td>1.0</td>\n",
       "      <td>13</td>\n",
       "    </tr>\n",
       "    <tr>\n",
       "      <th>(1, 2)</th>\n",
       "      <th>7</th>\n",
       "      <td>1.0</td>\n",
       "      <td>1.0</td>\n",
       "      <td>1.0</td>\n",
       "      <td>1</td>\n",
       "    </tr>\n",
       "    <tr>\n",
       "      <th>(2, 1)</th>\n",
       "      <th>7</th>\n",
       "      <td>1.0</td>\n",
       "      <td>1.0</td>\n",
       "      <td>1.0</td>\n",
       "      <td>3</td>\n",
       "    </tr>\n",
       "  </tbody>\n",
       "</table>\n",
       "</div>"
      ],
      "text/plain": [
       "              Precision  Recall  F1 Score  Support\n",
       "class  depth                                      \n",
       "(0, 1) 7            1.0     1.0       1.0       13\n",
       "(1, 2) 7            1.0     1.0       1.0        1\n",
       "(2, 1) 7            1.0     1.0       1.0        3"
      ]
     },
     "execution_count": 31,
     "metadata": {},
     "output_type": "execute_result"
    }
   ],
   "source": [
    "global_fidelity = pd.concat(global_fidelities.values(), keys=global_fidelities.keys(), names=('depth', 'class'))\n",
    "global_fidelity = global_fidelity[np.in1d(global_fidelity.index.get_level_values('class'), comparer.difference_class_names)]\n",
    "global_fidelity = global_fidelity.reorder_levels(['class', 'depth']).sort_index()\n",
    "global_fidelity"
   ]
  },
  {
   "cell_type": "markdown",
   "id": "474604ad-c447-4d2c-86bb-acbe1b8e8ea3",
   "metadata": {},
   "source": [
    "## Local Fidelity"
   ]
  },
  {
   "cell_type": "code",
   "execution_count": 32,
   "id": "7d210c42-26c8-4e81-8486-413181a26aaf",
   "metadata": {},
   "outputs": [
    {
     "data": {
      "text/html": [
       "<div>\n",
       "<style scoped>\n",
       "    .dataframe tbody tr th:only-of-type {\n",
       "        vertical-align: middle;\n",
       "    }\n",
       "\n",
       "    .dataframe tbody tr th {\n",
       "        vertical-align: top;\n",
       "    }\n",
       "\n",
       "    .dataframe thead th {\n",
       "        text-align: right;\n",
       "    }\n",
       "</style>\n",
       "<table border=\"1\" class=\"dataframe\">\n",
       "  <thead>\n",
       "    <tr style=\"text-align: right;\">\n",
       "      <th></th>\n",
       "      <th></th>\n",
       "      <th></th>\n",
       "      <th>RMSE</th>\n",
       "      <th>BMR</th>\n",
       "      <th>BAR</th>\n",
       "    </tr>\n",
       "    <tr>\n",
       "      <th>class</th>\n",
       "      <th>depth</th>\n",
       "      <th>feature</th>\n",
       "      <th></th>\n",
       "      <th></th>\n",
       "      <th></th>\n",
       "    </tr>\n",
       "  </thead>\n",
       "  <tbody>\n",
       "    <tr>\n",
       "      <th rowspan=\"11\" valign=\"top\">(0, 1)</th>\n",
       "      <th rowspan=\"11\" valign=\"top\">7</th>\n",
       "      <th>AGE</th>\n",
       "      <td>NaN</td>\n",
       "      <td>1.000000</td>\n",
       "      <td>NaN</td>\n",
       "    </tr>\n",
       "    <tr>\n",
       "      <th>CRIM</th>\n",
       "      <td>0.794867</td>\n",
       "      <td>0.631579</td>\n",
       "      <td>0.0</td>\n",
       "    </tr>\n",
       "    <tr>\n",
       "      <th>DIS</th>\n",
       "      <td>NaN</td>\n",
       "      <td>1.000000</td>\n",
       "      <td>1.0</td>\n",
       "    </tr>\n",
       "    <tr>\n",
       "      <th>INDUS</th>\n",
       "      <td>1.681197</td>\n",
       "      <td>0.850000</td>\n",
       "      <td>0.0</td>\n",
       "    </tr>\n",
       "    <tr>\n",
       "      <th>LSTAT</th>\n",
       "      <td>1.270440</td>\n",
       "      <td>0.076923</td>\n",
       "      <td>0.0</td>\n",
       "    </tr>\n",
       "    <tr>\n",
       "      <th>NOX</th>\n",
       "      <td>NaN</td>\n",
       "      <td>NaN</td>\n",
       "      <td>1.0</td>\n",
       "    </tr>\n",
       "    <tr>\n",
       "      <th>PTRATIO</th>\n",
       "      <td>0.432782</td>\n",
       "      <td>0.833333</td>\n",
       "      <td>0.0</td>\n",
       "    </tr>\n",
       "    <tr>\n",
       "      <th>RAD</th>\n",
       "      <td>NaN</td>\n",
       "      <td>1.000000</td>\n",
       "      <td>NaN</td>\n",
       "    </tr>\n",
       "    <tr>\n",
       "      <th>RM</th>\n",
       "      <td>NaN</td>\n",
       "      <td>1.000000</td>\n",
       "      <td>NaN</td>\n",
       "    </tr>\n",
       "    <tr>\n",
       "      <th>TAX</th>\n",
       "      <td>NaN</td>\n",
       "      <td>1.000000</td>\n",
       "      <td>NaN</td>\n",
       "    </tr>\n",
       "    <tr>\n",
       "      <th>ZN</th>\n",
       "      <td>NaN</td>\n",
       "      <td>1.000000</td>\n",
       "      <td>NaN</td>\n",
       "    </tr>\n",
       "    <tr>\n",
       "      <th rowspan=\"11\" valign=\"top\">(1, 2)</th>\n",
       "      <th rowspan=\"11\" valign=\"top\">7</th>\n",
       "      <th>AGE</th>\n",
       "      <td>NaN</td>\n",
       "      <td>1.000000</td>\n",
       "      <td>NaN</td>\n",
       "    </tr>\n",
       "    <tr>\n",
       "      <th>CRIM</th>\n",
       "      <td>NaN</td>\n",
       "      <td>1.000000</td>\n",
       "      <td>NaN</td>\n",
       "    </tr>\n",
       "    <tr>\n",
       "      <th>DIS</th>\n",
       "      <td>NaN</td>\n",
       "      <td>1.000000</td>\n",
       "      <td>NaN</td>\n",
       "    </tr>\n",
       "    <tr>\n",
       "      <th>INDUS</th>\n",
       "      <td>NaN</td>\n",
       "      <td>1.000000</td>\n",
       "      <td>1.0</td>\n",
       "    </tr>\n",
       "    <tr>\n",
       "      <th>LSTAT</th>\n",
       "      <td>0.015000</td>\n",
       "      <td>0.500000</td>\n",
       "      <td>0.0</td>\n",
       "    </tr>\n",
       "    <tr>\n",
       "      <th>NOX</th>\n",
       "      <td>NaN</td>\n",
       "      <td>NaN</td>\n",
       "      <td>NaN</td>\n",
       "    </tr>\n",
       "    <tr>\n",
       "      <th>PTRATIO</th>\n",
       "      <td>NaN</td>\n",
       "      <td>1.000000</td>\n",
       "      <td>NaN</td>\n",
       "    </tr>\n",
       "    <tr>\n",
       "      <th>RAD</th>\n",
       "      <td>6.720000</td>\n",
       "      <td>0.500000</td>\n",
       "      <td>0.0</td>\n",
       "    </tr>\n",
       "    <tr>\n",
       "      <th>RM</th>\n",
       "      <td>1.120368</td>\n",
       "      <td>0.500000</td>\n",
       "      <td>0.0</td>\n",
       "    </tr>\n",
       "    <tr>\n",
       "      <th>TAX</th>\n",
       "      <td>NaN</td>\n",
       "      <td>NaN</td>\n",
       "      <td>NaN</td>\n",
       "    </tr>\n",
       "    <tr>\n",
       "      <th>ZN</th>\n",
       "      <td>NaN</td>\n",
       "      <td>1.000000</td>\n",
       "      <td>NaN</td>\n",
       "    </tr>\n",
       "    <tr>\n",
       "      <th rowspan=\"11\" valign=\"top\">(2, 1)</th>\n",
       "      <th rowspan=\"11\" valign=\"top\">7</th>\n",
       "      <th>AGE</th>\n",
       "      <td>NaN</td>\n",
       "      <td>1.000000</td>\n",
       "      <td>NaN</td>\n",
       "    </tr>\n",
       "    <tr>\n",
       "      <th>CRIM</th>\n",
       "      <td>NaN</td>\n",
       "      <td>1.000000</td>\n",
       "      <td>NaN</td>\n",
       "    </tr>\n",
       "    <tr>\n",
       "      <th>DIS</th>\n",
       "      <td>1.137869</td>\n",
       "      <td>0.800000</td>\n",
       "      <td>0.5</td>\n",
       "    </tr>\n",
       "    <tr>\n",
       "      <th>INDUS</th>\n",
       "      <td>NaN</td>\n",
       "      <td>1.000000</td>\n",
       "      <td>NaN</td>\n",
       "    </tr>\n",
       "    <tr>\n",
       "      <th>LSTAT</th>\n",
       "      <td>1.746977</td>\n",
       "      <td>0.500000</td>\n",
       "      <td>0.0</td>\n",
       "    </tr>\n",
       "    <tr>\n",
       "      <th>NOX</th>\n",
       "      <td>NaN</td>\n",
       "      <td>NaN</td>\n",
       "      <td>1.0</td>\n",
       "    </tr>\n",
       "    <tr>\n",
       "      <th>PTRATIO</th>\n",
       "      <td>NaN</td>\n",
       "      <td>1.000000</td>\n",
       "      <td>1.0</td>\n",
       "    </tr>\n",
       "    <tr>\n",
       "      <th>RAD</th>\n",
       "      <td>11.720004</td>\n",
       "      <td>0.500000</td>\n",
       "      <td>0.0</td>\n",
       "    </tr>\n",
       "    <tr>\n",
       "      <th>RM</th>\n",
       "      <td>1.361463</td>\n",
       "      <td>0.400000</td>\n",
       "      <td>0.0</td>\n",
       "    </tr>\n",
       "    <tr>\n",
       "      <th>TAX</th>\n",
       "      <td>NaN</td>\n",
       "      <td>1.000000</td>\n",
       "      <td>NaN</td>\n",
       "    </tr>\n",
       "    <tr>\n",
       "      <th>ZN</th>\n",
       "      <td>NaN</td>\n",
       "      <td>1.000000</td>\n",
       "      <td>NaN</td>\n",
       "    </tr>\n",
       "  </tbody>\n",
       "</table>\n",
       "</div>"
      ],
      "text/plain": [
       "                           RMSE       BMR  BAR\n",
       "class  depth feature                          \n",
       "(0, 1) 7     AGE            NaN  1.000000  NaN\n",
       "             CRIM      0.794867  0.631579  0.0\n",
       "             DIS            NaN  1.000000  1.0\n",
       "             INDUS     1.681197  0.850000  0.0\n",
       "             LSTAT     1.270440  0.076923  0.0\n",
       "             NOX            NaN       NaN  1.0\n",
       "             PTRATIO   0.432782  0.833333  0.0\n",
       "             RAD            NaN  1.000000  NaN\n",
       "             RM             NaN  1.000000  NaN\n",
       "             TAX            NaN  1.000000  NaN\n",
       "             ZN             NaN  1.000000  NaN\n",
       "(1, 2) 7     AGE            NaN  1.000000  NaN\n",
       "             CRIM           NaN  1.000000  NaN\n",
       "             DIS            NaN  1.000000  NaN\n",
       "             INDUS          NaN  1.000000  1.0\n",
       "             LSTAT     0.015000  0.500000  0.0\n",
       "             NOX            NaN       NaN  NaN\n",
       "             PTRATIO        NaN  1.000000  NaN\n",
       "             RAD       6.720000  0.500000  0.0\n",
       "             RM        1.120368  0.500000  0.0\n",
       "             TAX            NaN       NaN  NaN\n",
       "             ZN             NaN  1.000000  NaN\n",
       "(2, 1) 7     AGE            NaN  1.000000  NaN\n",
       "             CRIM           NaN  1.000000  NaN\n",
       "             DIS       1.137869  0.800000  0.5\n",
       "             INDUS          NaN  1.000000  NaN\n",
       "             LSTAT     1.746977  0.500000  0.0\n",
       "             NOX            NaN       NaN  1.0\n",
       "             PTRATIO        NaN  1.000000  1.0\n",
       "             RAD      11.720004  0.500000  0.0\n",
       "             RM        1.361463  0.400000  0.0\n",
       "             TAX            NaN  1.000000  NaN\n",
       "             ZN             NaN  1.000000  NaN"
      ]
     },
     "execution_count": 32,
     "metadata": {},
     "output_type": "execute_result"
    }
   ],
   "source": [
    "local_fidelity = pd.concat(local_fidelities.values(), keys=local_fidelities.keys(), names=('depth', 'class', 'feature'))\n",
    "local_fidelity = local_fidelity.reorder_levels(['class', 'depth', 'feature']).sort_index()\n",
    "local_fidelity"
   ]
  },
  {
   "cell_type": "markdown",
   "id": "d17231e1-da3c-4ab2-b301-138595628c80",
   "metadata": {},
   "source": [
    "## Complexity"
   ]
  },
  {
   "cell_type": "code",
   "execution_count": 33,
   "id": "044f7ce6-3158-4d9f-b87b-ec9236efa8fb",
   "metadata": {},
   "outputs": [
    {
     "data": {
      "text/html": [
       "<div>\n",
       "<style scoped>\n",
       "    .dataframe tbody tr th:only-of-type {\n",
       "        vertical-align: middle;\n",
       "    }\n",
       "\n",
       "    .dataframe tbody tr th {\n",
       "        vertical-align: top;\n",
       "    }\n",
       "\n",
       "    .dataframe thead th {\n",
       "        text-align: right;\n",
       "    }\n",
       "</style>\n",
       "<table border=\"1\" class=\"dataframe\">\n",
       "  <thead>\n",
       "    <tr style=\"text-align: right;\">\n",
       "      <th></th>\n",
       "      <th></th>\n",
       "      <th>Rules</th>\n",
       "      <th>Constraints</th>\n",
       "    </tr>\n",
       "    <tr>\n",
       "      <th>class</th>\n",
       "      <th>depth</th>\n",
       "      <th></th>\n",
       "      <th></th>\n",
       "    </tr>\n",
       "  </thead>\n",
       "  <tbody>\n",
       "    <tr>\n",
       "      <th>(0, 1)</th>\n",
       "      <th>7</th>\n",
       "      <td>6</td>\n",
       "      <td>27</td>\n",
       "    </tr>\n",
       "    <tr>\n",
       "      <th>(1, 2)</th>\n",
       "      <th>7</th>\n",
       "      <td>1</td>\n",
       "      <td>4</td>\n",
       "    </tr>\n",
       "    <tr>\n",
       "      <th>(2, 1)</th>\n",
       "      <th>7</th>\n",
       "      <td>2</td>\n",
       "      <td>8</td>\n",
       "    </tr>\n",
       "  </tbody>\n",
       "</table>\n",
       "</div>"
      ],
      "text/plain": [
       "              Rules  Constraints\n",
       "class  depth                    \n",
       "(0, 1) 7          6           27\n",
       "(1, 2) 7          1            4\n",
       "(2, 1) 7          2            8"
      ]
     },
     "execution_count": 33,
     "metadata": {},
     "output_type": "execute_result"
    }
   ],
   "source": [
    "complexity = pd.concat(complexities.values(), axis=1, keys=complexities.keys(), names=('depth', 'class')).T\n",
    "complexity = complexity.reorder_levels(['class', 'depth']).sort_index()\n",
    "complexity"
   ]
  },
  {
   "cell_type": "markdown",
   "id": "f3be193c-f13e-4e89-8033-dd5f32163bc7",
   "metadata": {},
   "source": [
    "## Generation Time"
   ]
  },
  {
   "cell_type": "markdown",
   "id": "3b229a15-e5df-41ba-beba-04d5c4a1069f",
   "metadata": {},
   "source": [
    "<1s"
   ]
  },
  {
   "cell_type": "code",
   "execution_count": 34,
   "id": "016ed3dc-74db-4048-9131-4581f7fae4a0",
   "metadata": {},
   "outputs": [],
   "source": [
    "global_fidelity.index = global_fidelity.index.map(map_index)\n",
    "global_fidelity = global_fidelity[global_fidelity.index.get_level_values('depth').notnull()]\n",
    "global_fidelity.index.rename(['class', 'level'], inplace=True)\n",
    "\n",
    "local_fidelity.index = local_fidelity.index.map(map_index)\n",
    "local_fidelity = local_fidelity[local_fidelity.index.get_level_values('depth').notnull()]\n",
    "local_fidelity.index.rename(['class', 'level', 'feature'], inplace=True)\n",
    "\n",
    "complexity.index = complexity.index.map(map_index)\n",
    "complexity = complexity[complexity.index.get_level_values('depth').notnull()]\n",
    "complexity.index.rename(['class', 'level'], inplace=True)\n",
    "\n",
    "with open('results.baseline.pickle', 'wb') as f:\n",
    "    pickle.dump((global_fidelity, local_fidelity, complexity), f)"
   ]
  },
  {
   "cell_type": "code",
   "execution_count": null,
   "id": "2287e75a-f90a-4657-8db1-70072c338fb0",
   "metadata": {},
   "outputs": [],
   "source": []
  }
 ],
 "metadata": {
  "kernelspec": {
   "display_name": "Python 3",
   "language": "python",
   "name": "python3"
  },
  "language_info": {
   "codemirror_mode": {
    "name": "ipython",
    "version": 3
   },
   "file_extension": ".py",
   "mimetype": "text/x-python",
   "name": "python",
   "nbconvert_exporter": "python",
   "pygments_lexer": "ipython3",
   "version": "3.9.10"
  }
 },
 "nbformat": 4,
 "nbformat_minor": 5
}
