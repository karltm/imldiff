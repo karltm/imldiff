{
 "cells": [
  {
   "cell_type": "code",
   "execution_count": 1,
   "id": "adf4e2c4-fc61-456c-bb7f-7d3e4379bb65",
   "metadata": {},
   "outputs": [],
   "source": [
    "import pandas as pd\n",
    "import numpy as np\n",
    "import scipy as sp\n",
    "from datetime import datetime\n",
    "import pickle\n",
    "import cloudpickle\n",
    "from comparers import ModelComparer\n",
    "from util import calc_ground_truth_constraints, constraint_matrix_to_rules\n",
    "from tasks.boston_housing import make_task3 as make_task\n",
    "import matplotlib.pyplot as plt\n",
    "from IPython.display import display"
   ]
  },
  {
   "cell_type": "code",
   "execution_count": 2,
   "id": "3dd68cd6-8a09-4a9f-b8b3-d57920fda9f6",
   "metadata": {},
   "outputs": [
    {
     "name": "stderr",
     "output_type": "stream",
     "text": [
      "Trying to unpickle estimator LabelBinarizer from version 0.24.1 when using version 0.24.2. This might lead to breaking code or invalid results. Use at your own risk.\n",
      "Trying to unpickle estimator MLPClassifier from version 0.24.1 when using version 0.24.2. This might lead to breaking code or invalid results. Use at your own risk.\n"
     ]
    }
   ],
   "source": [
    "clf_a, clf_b, X, y, feature_names, categorical_features, feature_precisions = make_task()\n",
    "comparer = ModelComparer(clf_a, clf_b, feature_names)"
   ]
  },
  {
   "cell_type": "code",
   "execution_count": 3,
   "id": "8c17a9a1-db7e-4ba9-8ad5-43ab5dcacf32",
   "metadata": {},
   "outputs": [
    {
     "data": {
      "image/png": "[encoded data removed]",
      "text/plain": [
       "<Figure size 432x288 with 2 Axes>"
      ]
     },
     "metadata": {
      "needs_background": "light"
     },
     "output_type": "display_data"
    }
   ],
   "source": [
    "comparer.plot_confusion_matrix(X)"
   ]
  },
  {
   "cell_type": "markdown",
   "id": "ce707e55-23b5-4bea-b10e-e30eeb91c9f2",
   "metadata": {},
   "source": [
    "# Ground Truth"
   ]
  },
  {
   "cell_type": "code",
   "execution_count": 4,
   "id": "0fe9e016-b47d-444a-b110-30319ac689ba",
   "metadata": {},
   "outputs": [
    {
     "name": "stdout",
     "output_type": "stream",
     "text": [
      "(0, 1)\n",
      "8: 3.0 < CRIM <= 6.0 and ZN <= 0.0 and INDUS > 16.87 and RM <= 6.73 and AGE > 1.0 and DIS <= 4.72 and RAD > 21.4 and TAX > 499.0 and 16.71 < PTRATIO <= 20.73 and 13.9 < LSTAT <= 16.12\n",
      "28: 0.0 < CRIM <= 3.0 and ZN <= 3.0 and INDUS > 13.87 and RM <= 8.07 and AGE > 1.0 and RAD <= 16.77 and 287.0 < TAX <= 508.0 and PTRATIO <= 17.14 and 10.29 < LSTAT <= 12.93\n",
      "40: 1.0 < CRIM <= 4.0 and ZN <= 1.0 and INDUS > 16.97 and RM <= 7.33 and AGE > 0.0 and DIS <= 6.59 and RAD <= 23.9 and 222.0 < TAX <= 451.0 and PTRATIO <= 15.83 and 10.48 < LSTAT <= 13.13\n",
      "42: CRIM <= 1.0 and ZN <= 4.0 and INDUS <= 10.63 and RM > 4.71 and AGE > 1.0 and RAD <= 8.67 and 260.0 < TAX <= 447.0 and PTRATIO > 20.07 and 16.39 < LSTAT <= 18.78\n",
      "74: CRIM <= 1.0 and ZN <= 5.0 and 13.05 < INDUS <= 24.77 and RM > 4.59 and AGE > 1.0 and RAD <= 9.4 and 383.0 < TAX <= 597.0 and PTRATIO > 20.12 and 15.13 < LSTAT <= 17.85\n",
      "151: 0.0 < CRIM <= 3.0 and ZN <= 0.0 and 7.25 < INDUS <= 18.12 and RM <= 6.39 and AGE > 1.0 and DIS <= 5.82 and 2.29 < RAD <= 22.27 and TAX <= 323.0 and 17.27 < PTRATIO <= 21.36 and 16.85 < LSTAT <= 19.16\n",
      "152: 0.0 < CRIM <= 3.0 and ZN <= 4.0 and 12.03 < INDUS <= 23.69 and RM > 4.28 and AGE > 1.0 and RAD <= 12.82 and 326.0 < TAX <= 541.0 and 13.15 < PTRATIO <= 17.92 and 10.24 < LSTAT <= 12.89\n",
      "157: CRIM <= 1.0 and ZN <= 5.0 and 11.88 < INDUS <= 23.25 and RM > 5.22 and AGE > 1.0 and RAD <= 6.56 and 411.0 < TAX <= 618.0 and PTRATIO > 20.69 and 14.9 < LSTAT <= 17.59\n",
      "180: CRIM <= 1.0 and ZN <= 4.0 and INDUS > 14.29 and RM > 3.93 and AGE > 1.0 and RAD <= 12.4 and 353.0 < TAX <= 574.0 and PTRATIO > 19.53 and 15.36 < LSTAT <= 18.13\n",
      "196: 0.0 < CRIM <= 3.0 and ZN <= 0.0 and 7.44 < INDUS <= 18.43 and RM <= 5.9 and AGE > 1.0 and DIS <= 5.44 and 2.66 < RAD <= 22.85 and TAX <= 319.0 and 17.16 < PTRATIO <= 21.28 and 16.63 < LSTAT <= 18.96\n",
      "238: CRIM <= 0.0 and ZN <= 0.0 and 12.37 < INDUS <= 16.66 and 4.81 < RM <= 6.51 and AGE > 0.0 and DIS <= 5.36 and 2.03 < RAD <= 10.18 and 224.0 < TAX <= 303.0 and 15.36 < PTRATIO <= 17.03 and 13.14 < LSTAT <= 14.09\n",
      "244: CRIM <= 1.0 and ZN <= 4.0 and 13.34 < INDUS <= 25.26 and RM > 4.35 and AGE > 1.0 and RAD <= 10.33 and 374.0 < TAX <= 591.0 and PTRATIO > 19.94 and 15.29 < LSTAT <= 18.05\n",
      "245: CRIM <= 1.0 and ZN <= 5.0 and INDUS <= 9.22 and RM > 5.71 and AGE > 1.0 and RAD <= 6.03 and 286.0 < TAX <= 467.0 and PTRATIO > 20.59 and 16.59 < LSTAT <= 18.94\n",
      "\n",
      "(0, 2)\n",
      "\n",
      "(1, 0)\n",
      "\n",
      "(1, 2)\n",
      "51: CRIM <= 14.0 and ZN <= 89.0 and INDUS <= 8.14 and 6.2 < RM <= 7.74 and AGE <= 0.0 and 1.9 < DIS <= 5.65 and 4.27 < RAD <= 12.72 and PTRATIO > 17.34 and 4.51 < LSTAT <= 6.27\n",
      "\n",
      "(2, 0)\n",
      "\n",
      "(2, 1)\n",
      "34: 0.0 < CRIM <= 12.0 and ZN <= 81.0 and 12.1 < INDUS <= 19.61 and RM <= 4.35 and AGE > 1.0 and DIS <= 2.24 and RAD > 22.57 and TAX > 301.0 and PTRATIO > 13.03 and 6.18 < LSTAT <= 7.41\n",
      "77: CRIM <= 6.0 and 24.0 < ZN <= 61.0 and INDUS <= 2.85 and 6.5 < RM <= 6.93 and AGE > 0.0 and 2.62 < DIS <= 3.64 and 6.39 < RAD <= 9.3 and TAX <= 299.0 and 8.55 < LSTAT <= 9.05\n",
      "101: CRIM <= 5.0 and ZN <= 39.0 and 8.77 < INDUS <= 16.31 and 6.06 < RM <= 7.21 and AGE > 1.0 and 1.41 < DIS <= 4.17 and RAD <= 3.89 and TAX <= 592.0 and 5.97 < LSTAT <= 7.31\n",
      "\n",
      "CPU times: user 21.6 s, sys: 175 ms, total: 21.8 s\n",
      "Wall time: 22.3 s\n"
     ]
    }
   ],
   "source": [
    "%%time\n",
    "for label in comparer.difference_class_names:\n",
    "    print(label)\n",
    "    ground_truth_instance_indices, ground_truth = calc_ground_truth_constraints(comparer, feature_precisions, X, label)\n",
    "    with open(f'ground_truth.{label}.pickle', 'wb') as f:\n",
    "        pickle.dump((ground_truth_instance_indices, ground_truth), f)\n",
    "    rules = constraint_matrix_to_rules(ground_truth, feature_names)\n",
    "    for instance_idx, rule in zip(ground_truth_instance_indices, rules):\n",
    "        print(f'{instance_idx}: {rule}')\n",
    "    print()"
   ]
  },
  {
   "cell_type": "code",
   "execution_count": null,
   "id": "f58c53cf-5cb7-42ca-8c26-eea7b31ec36c",
   "metadata": {},
   "outputs": [],
   "source": []
  }
 ],
 "metadata": {
  "kernelspec": {
   "display_name": "Python 3",
   "language": "python",
   "name": "python3"
  },
  "language_info": {
   "codemirror_mode": {
    "name": "ipython",
    "version": 3
   },
   "file_extension": ".py",
   "mimetype": "text/x-python",
   "name": "python",
   "nbconvert_exporter": "python",
   "pygments_lexer": "ipython3",
   "version": "3.9.10"
  }
 },
 "nbformat": 4,
 "nbformat_minor": 5
}
