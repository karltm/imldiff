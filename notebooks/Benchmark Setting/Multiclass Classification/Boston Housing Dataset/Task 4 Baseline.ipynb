{
 "cells": [
  {
   "cell_type": "markdown",
   "id": "e6d92d78-d1f5-4643-882d-47588e1964b8",
   "metadata": {},
   "source": [
    "Summary: The most important feature of the surrogate decision tree, trained on the multiclass difference classifier, is LSTAT. Difference class $(0,1)$ is predicted between 9.62 and 15.474, $(1,0)$ is predicted between 16.423 and 16.715, $(1,2)$ and $(2,1)$ are predicted below 9.62."
   ]
  },
  {
   "cell_type": "code",
   "execution_count": 1,
   "id": "0d0567ad-b2d3-4c70-99f9-cbbf8ba34f26",
   "metadata": {},
   "outputs": [],
   "source": [
    "import pandas as pd\n",
    "import numpy as np\n",
    "import scipy as sp\n",
    "from datetime import datetime\n",
    "import pickle\n",
    "from comparers import ModelComparer\n",
    "import matplotlib.pyplot as plt\n",
    "from IPython.display import display\n",
    "from sklearn.tree import DecisionTreeClassifier, plot_tree\n",
    "from baseline import get_rules, dt_feature_importance\n",
    "task_name = 't4'"
   ]
  },
  {
   "cell_type": "code",
   "execution_count": 2,
   "id": "26bf2fb0-4987-40f1-bbef-06a95bf48800",
   "metadata": {},
   "outputs": [],
   "source": [
    "with open(task_name + '.comparer', 'rb') as f:\n",
    "    comparer = pickle.load(f)"
   ]
  },
  {
   "cell_type": "code",
   "execution_count": 3,
   "id": "ec7dc49c-8bbd-4c4d-a5e8-e562d60bfb30",
   "metadata": {
    "tags": []
   },
   "outputs": [
    {
     "data": {
      "text/html": [
       "<div>\n",
       "<style scoped>\n",
       "    .dataframe tbody tr th:only-of-type {\n",
       "        vertical-align: middle;\n",
       "    }\n",
       "\n",
       "    .dataframe tbody tr th {\n",
       "        vertical-align: top;\n",
       "    }\n",
       "\n",
       "    .dataframe thead th {\n",
       "        text-align: right;\n",
       "    }\n",
       "</style>\n",
       "<table border=\"1\" class=\"dataframe\">\n",
       "  <thead>\n",
       "    <tr style=\"text-align: right;\">\n",
       "      <th></th>\n",
       "      <th>CRIM</th>\n",
       "      <th>ZN</th>\n",
       "      <th>INDUS</th>\n",
       "      <th>NOX</th>\n",
       "      <th>RM</th>\n",
       "      <th>AGE</th>\n",
       "      <th>DIS</th>\n",
       "      <th>RAD</th>\n",
       "      <th>TAX</th>\n",
       "      <th>PTRATIO</th>\n",
       "      <th>LSTAT</th>\n",
       "    </tr>\n",
       "  </thead>\n",
       "  <tbody>\n",
       "    <tr>\n",
       "      <th>count</th>\n",
       "      <td>246.000000</td>\n",
       "      <td>246.000000</td>\n",
       "      <td>246.000000</td>\n",
       "      <td>246.000000</td>\n",
       "      <td>246.000000</td>\n",
       "      <td>246.000000</td>\n",
       "      <td>246.000000</td>\n",
       "      <td>246.000000</td>\n",
       "      <td>246.000000</td>\n",
       "      <td>246.000000</td>\n",
       "      <td>246.000000</td>\n",
       "    </tr>\n",
       "    <tr>\n",
       "      <th>mean</th>\n",
       "      <td>2.720010</td>\n",
       "      <td>12.841063</td>\n",
       "      <td>11.718208</td>\n",
       "      <td>0.572581</td>\n",
       "      <td>6.511388</td>\n",
       "      <td>1.304878</td>\n",
       "      <td>3.501706</td>\n",
       "      <td>9.346908</td>\n",
       "      <td>403.132604</td>\n",
       "      <td>18.125578</td>\n",
       "      <td>11.736981</td>\n",
       "    </tr>\n",
       "    <tr>\n",
       "      <th>std</th>\n",
       "      <td>6.388147</td>\n",
       "      <td>25.552540</td>\n",
       "      <td>7.290396</td>\n",
       "      <td>0.125307</td>\n",
       "      <td>0.889747</td>\n",
       "      <td>0.813494</td>\n",
       "      <td>2.007156</td>\n",
       "      <td>8.493772</td>\n",
       "      <td>165.416533</td>\n",
       "      <td>2.524334</td>\n",
       "      <td>7.372550</td>\n",
       "    </tr>\n",
       "    <tr>\n",
       "      <th>min</th>\n",
       "      <td>0.009060</td>\n",
       "      <td>0.000000</td>\n",
       "      <td>1.210000</td>\n",
       "      <td>0.389000</td>\n",
       "      <td>3.561000</td>\n",
       "      <td>0.000000</td>\n",
       "      <td>1.137912</td>\n",
       "      <td>1.000000</td>\n",
       "      <td>188.000000</td>\n",
       "      <td>13.000000</td>\n",
       "      <td>1.763949</td>\n",
       "    </tr>\n",
       "    <tr>\n",
       "      <th>25%</th>\n",
       "      <td>0.099321</td>\n",
       "      <td>0.000000</td>\n",
       "      <td>4.243588</td>\n",
       "      <td>0.462112</td>\n",
       "      <td>5.882000</td>\n",
       "      <td>1.000000</td>\n",
       "      <td>1.967365</td>\n",
       "      <td>4.000000</td>\n",
       "      <td>273.000000</td>\n",
       "      <td>15.707491</td>\n",
       "      <td>5.008267</td>\n",
       "    </tr>\n",
       "    <tr>\n",
       "      <th>50%</th>\n",
       "      <td>0.540032</td>\n",
       "      <td>0.000000</td>\n",
       "      <td>9.900000</td>\n",
       "      <td>0.544000</td>\n",
       "      <td>6.315500</td>\n",
       "      <td>2.000000</td>\n",
       "      <td>2.866600</td>\n",
       "      <td>5.000000</td>\n",
       "      <td>362.186013</td>\n",
       "      <td>18.571912</td>\n",
       "      <td>9.950000</td>\n",
       "    </tr>\n",
       "    <tr>\n",
       "      <th>75%</th>\n",
       "      <td>3.181873</td>\n",
       "      <td>20.000000</td>\n",
       "      <td>18.100000</td>\n",
       "      <td>0.638740</td>\n",
       "      <td>7.134552</td>\n",
       "      <td>2.000000</td>\n",
       "      <td>4.621654</td>\n",
       "      <td>8.000000</td>\n",
       "      <td>461.000000</td>\n",
       "      <td>20.200000</td>\n",
       "      <td>17.091674</td>\n",
       "    </tr>\n",
       "    <tr>\n",
       "      <th>max</th>\n",
       "      <td>73.534100</td>\n",
       "      <td>100.000000</td>\n",
       "      <td>25.650000</td>\n",
       "      <td>0.871000</td>\n",
       "      <td>8.638029</td>\n",
       "      <td>2.000000</td>\n",
       "      <td>10.710300</td>\n",
       "      <td>24.000000</td>\n",
       "      <td>679.526743</td>\n",
       "      <td>22.000000</td>\n",
       "      <td>36.980000</td>\n",
       "    </tr>\n",
       "  </tbody>\n",
       "</table>\n",
       "</div>"
      ],
      "text/plain": [
       "             CRIM          ZN       INDUS         NOX          RM         AGE  \\\n",
       "count  246.000000  246.000000  246.000000  246.000000  246.000000  246.000000   \n",
       "mean     2.720010   12.841063   11.718208    0.572581    6.511388    1.304878   \n",
       "std      6.388147   25.552540    7.290396    0.125307    0.889747    0.813494   \n",
       "min      0.009060    0.000000    1.210000    0.389000    3.561000    0.000000   \n",
       "25%      0.099321    0.000000    4.243588    0.462112    5.882000    1.000000   \n",
       "50%      0.540032    0.000000    9.900000    0.544000    6.315500    2.000000   \n",
       "75%      3.181873   20.000000   18.100000    0.638740    7.134552    2.000000   \n",
       "max     73.534100  100.000000   25.650000    0.871000    8.638029    2.000000   \n",
       "\n",
       "              DIS         RAD         TAX     PTRATIO       LSTAT  \n",
       "count  246.000000  246.000000  246.000000  246.000000  246.000000  \n",
       "mean     3.501706    9.346908  403.132604   18.125578   11.736981  \n",
       "std      2.007156    8.493772  165.416533    2.524334    7.372550  \n",
       "min      1.137912    1.000000  188.000000   13.000000    1.763949  \n",
       "25%      1.967365    4.000000  273.000000   15.707491    5.008267  \n",
       "50%      2.866600    5.000000  362.186013   18.571912    9.950000  \n",
       "75%      4.621654    8.000000  461.000000   20.200000   17.091674  \n",
       "max     10.710300   24.000000  679.526743   22.000000   36.980000  "
      ]
     },
     "execution_count": 3,
     "metadata": {},
     "output_type": "execute_result"
    }
   ],
   "source": [
    "X = pd.read_csv('test_data.csv')\n",
    "y = X['price']\n",
    "X = X.drop(columns=['Unnamed: 0', 'price'])\n",
    "feature_names = X.columns.to_numpy()\n",
    "class_names = y.unique().astype(str)\n",
    "X.describe()"
   ]
  },
  {
   "cell_type": "code",
   "execution_count": 4,
   "id": "4ea6d0c6-6fb9-426c-af38-2774b7a11428",
   "metadata": {},
   "outputs": [
    {
     "data": {
      "text/plain": [
       "2.0    130\n",
       "1.0     61\n",
       "0.0     55\n",
       "Name: AGE, dtype: int64"
      ]
     },
     "execution_count": 4,
     "metadata": {},
     "output_type": "execute_result"
    }
   ],
   "source": [
    "X['AGE'].value_counts()"
   ]
  },
  {
   "cell_type": "code",
   "execution_count": 5,
   "id": "8736c41f-6139-41e6-9d66-9916551f1407",
   "metadata": {},
   "outputs": [],
   "source": [
    "is_pred_diff = comparer.predict_bin_diff(X)\n",
    "mclass_diff = comparer.predict_mclass_diff(X)"
   ]
  },
  {
   "cell_type": "code",
   "execution_count": 6,
   "id": "41cffaeb-be91-4b63-8eb0-9606b15f8b83",
   "metadata": {
    "tags": []
   },
   "outputs": [
    {
     "data": {
      "image/png": "[encoded data removed]",
      "text/plain": [
       "<Figure size 432x288 with 2 Axes>"
      ]
     },
     "metadata": {
      "needs_background": "light"
     },
     "output_type": "display_data"
    }
   ],
   "source": [
    "comparer.plot_confusion_matrix(X)"
   ]
  },
  {
   "cell_type": "code",
   "execution_count": 41,
   "id": "201e5195-fc68-46ec-be63-2dcc724508ba",
   "metadata": {},
   "outputs": [],
   "source": [
    "mclass_tree = DecisionTreeClassifier(max_depth=5)\n",
    "mclass_tree.fit(X, mclass_diff)\n",
    "class_names = comparer.class_names[mclass_tree.classes_]"
   ]
  },
  {
   "cell_type": "code",
   "execution_count": 42,
   "id": "a63ead4f-507e-4bf6-867d-331461e695d3",
   "metadata": {},
   "outputs": [],
   "source": [
    "feature_importances = dt_feature_importance(mclass_tree)\n",
    "feature_order = np.flip(np.argsort(feature_importances))"
   ]
  },
  {
   "cell_type": "code",
   "execution_count": 43,
   "id": "724884eb-ae5d-41e5-a959-ae1ecd5a30e1",
   "metadata": {},
   "outputs": [
    {
     "data": {
      "image/png": "[encoded data removed]",
      "text/plain": [
       "<Figure size 1008x504 with 1 Axes>"
      ]
     },
     "metadata": {
      "needs_background": "light"
     },
     "output_type": "display_data"
    }
   ],
   "source": [
    "fig, ax = plt.subplots(figsize=(14, 7))\n",
    "ax.set_title('Relative feature importance')\n",
    "ax.scatter(comparer.feature_names[feature_order], feature_importances[feature_order])\n",
    "plt.show()"
   ]
  },
  {
   "cell_type": "markdown",
   "id": "d0011f84-6269-4410-9495-d05d56d26b0f",
   "metadata": {},
   "source": [
    "Class $(0,1)$ is predicted for LSTAT between 9.62 and 15.474."
   ]
  },
  {
   "cell_type": "code",
   "execution_count": 44,
   "id": "0f3d667f-a659-4ee5-ae00-d15569a4b0fe",
   "metadata": {},
   "outputs": [
    {
     "name": "stdout",
     "output_type": "stream",
     "text": [
      "if (LSTAT > 9.62) and (LSTAT <= 11.37) and (NOX > 0.591) then class: (0, 1) (proba: 100.0%) | based on 1 samples\n",
      "if (LSTAT > 11.37) and (LSTAT <= 15.474) and (NOX > 0.591) and (RM > 6.166) then class: (0, 1) (proba: 50.0%) | based on 2 samples\n"
     ]
    }
   ],
   "source": [
    "rules = get_rules(mclass_tree, comparer.feature_names, class_names, '(0, 1)', feature_order)\n",
    "for rule in rules:\n",
    "    print(rule)"
   ]
  },
  {
   "cell_type": "markdown",
   "id": "08dfffd3-055e-4577-a326-7e9c7da05369",
   "metadata": {},
   "source": [
    "Class $(1,0)$ is predicted for LSTAT between 16.423 and 16.715."
   ]
  },
  {
   "cell_type": "code",
   "execution_count": 45,
   "id": "a39e4464-c9b3-4ecd-a99d-6538ef920def",
   "metadata": {},
   "outputs": [
    {
     "name": "stdout",
     "output_type": "stream",
     "text": [
      "if (LSTAT > 16.423) and (LSTAT <= 16.715) and (NOX <= 0.591) and (DIS > 2.271) then class: (1, 0) (proba: 66.67%) | based on 3 samples\n"
     ]
    }
   ],
   "source": [
    "rules = get_rules(mclass_tree, comparer.feature_names, class_names, '(1, 0)', feature_order)\n",
    "for rule in rules:\n",
    "    print(rule)"
   ]
  },
  {
   "cell_type": "markdown",
   "id": "64e84387-f60f-4a61-993f-df791dc3726a",
   "metadata": {},
   "source": [
    "Class $(1,2)$ is predicted for LSTAT below 9.62."
   ]
  },
  {
   "cell_type": "code",
   "execution_count": 46,
   "id": "4541e067-d046-4c4f-b975-489066c8fe89",
   "metadata": {},
   "outputs": [
    {
     "name": "stdout",
     "output_type": "stream",
     "text": [
      "if (LSTAT <= 9.62) and (RM <= 6.598) and (RAD <= 15.0) and (ZN > 57.5) then class: (1, 2) (proba: 100.0%) | based on 3 samples\n",
      "if (LSTAT <= 9.215) and (RM > 6.598) and (CRIM <= 0.012) and (PTRATIO <= 20.6) then class: (1, 2) (proba: 100.0%) | based on 1 samples\n",
      "if (LSTAT > 9.215) and (LSTAT <= 9.62) and (RM > 6.598) and (INDUS <= 4.55) then class: (1, 2) (proba: 100.0%) | based on 1 samples\n"
     ]
    }
   ],
   "source": [
    "rules = get_rules(mclass_tree, comparer.feature_names, class_names, '(1, 2)', feature_order)\n",
    "for rule in rules:\n",
    "    print(rule)"
   ]
  },
  {
   "cell_type": "markdown",
   "id": "a7ec6951-07d1-4f5e-9aeb-5a3a512d8745",
   "metadata": {},
   "source": [
    "Class $(2,1)$ is predicted for LSTAT below 9.62."
   ]
  },
  {
   "cell_type": "code",
   "execution_count": 47,
   "id": "671d5998-97f8-4045-8bb9-a333c2fe8772",
   "metadata": {},
   "outputs": [
    {
     "name": "stdout",
     "output_type": "stream",
     "text": [
      "if (LSTAT <= 9.62) and (RM <= 4.754) and (RAD > 15.0) then class: (2, 1) (proba: 100.0%) | based on 1 samples\n",
      "if (LSTAT <= 9.215) and (RM > 6.598) and (PTRATIO > 20.6) then class: (2, 1) (proba: 100.0%) | based on 1 samples\n"
     ]
    }
   ],
   "source": [
    "rules = get_rules(mclass_tree, comparer.feature_names, class_names, '(2, 1)', feature_order)\n",
    "for rule in rules:\n",
    "    print(rule)"
   ]
  },
  {
   "cell_type": "code",
   "execution_count": 26,
   "id": "bdc966ce-7dc2-4fa1-96dc-8b14e1d1a9c8",
   "metadata": {},
   "outputs": [],
   "source": [
    "#fig, ax = plt.subplots(figsize=(42, 28))\n",
    "#plot_tree(mclass_tree, feature_names=comparer.feature_names, class_names=class_names, ax=ax);"
   ]
  },
  {
   "cell_type": "code",
   "execution_count": null,
   "id": "269f5ee1-ee34-4678-91ea-9fe31915a242",
   "metadata": {},
   "outputs": [],
   "source": []
  }
 ],
 "metadata": {
  "kernelspec": {
   "display_name": "Python 3",
   "language": "python",
   "name": "python3"
  },
  "language_info": {
   "codemirror_mode": {
    "name": "ipython",
    "version": 3
   },
   "file_extension": ".py",
   "mimetype": "text/x-python",
   "name": "python",
   "nbconvert_exporter": "python",
   "pygments_lexer": "ipython3",
   "version": "3.9.7"
  }
 },
 "nbformat": 4,
 "nbformat_minor": 5
}
