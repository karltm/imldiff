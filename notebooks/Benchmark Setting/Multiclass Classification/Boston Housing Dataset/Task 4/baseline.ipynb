{
 "cells": [
  {
   "cell_type": "code",
   "execution_count": 1,
   "id": "0d0567ad-b2d3-4c70-99f9-cbbf8ba34f26",
   "metadata": {},
   "outputs": [],
   "source": [
    "import pandas as pd\n",
    "import numpy as np\n",
    "import scipy as sp\n",
    "from datetime import datetime\n",
    "import pickle\n",
    "from comparers import ModelComparer\n",
    "import matplotlib.pyplot as plt\n",
    "from IPython.display import display\n",
    "from util import RuleClassifier, find_counterfactuals, counterfactuals_to_constraint_matrix,\\\n",
    "                 evaluate_counterfactual_fidelity, get_complexity\n",
    "from surrogate_tree import train_surrogate_tree, tree_to_rules, plot_surrogate_tree,\\\n",
    "                 get_feature_importances, plot_feature_importances, plot_tree_leafs_for_class,\\\n",
    "                 tree_to_constraint_matrix, constraint_matrix_to_rules, extract_rules, print_rules,\\\n",
    "                 evaluate, search_max_depth_parameter\n",
    "from tasks.boston_housing import make_task4 as make_task"
   ]
  },
  {
   "cell_type": "code",
   "execution_count": 2,
   "id": "79d17ece-998e-4bdd-933e-2ccd8f07415c",
   "metadata": {},
   "outputs": [
    {
     "name": "stderr",
     "output_type": "stream",
     "text": [
      "Trying to unpickle estimator LabelBinarizer from version 0.24.1 when using version 0.24.2. This might lead to breaking code or invalid results. Use at your own risk.\n",
      "Trying to unpickle estimator MLPClassifier from version 0.24.1 when using version 0.24.2. This might lead to breaking code or invalid results. Use at your own risk.\n"
     ]
    }
   ],
   "source": [
    "clf_a, clf_b, X, y, feature_names, categorical_features, feature_precisions = make_task()\n",
    "comparer = ModelComparer(clf_a, clf_b, feature_names)"
   ]
  },
  {
   "cell_type": "markdown",
   "id": "d215025c-ce22-4031-b9d8-1a7bc8eafcde",
   "metadata": {},
   "source": [
    "### Find Optimal Solution"
   ]
  },
  {
   "cell_type": "code",
   "execution_count": 7,
   "id": "27d437d5-b38c-4bfc-a2e0-76a57bd85453",
   "metadata": {},
   "outputs": [
    {
     "name": "stderr",
     "output_type": "stream",
     "text": [
      "Precision and F-score are ill-defined and being set to 0.0 in labels with no predicted samples. Use `zero_division` parameter to control this behavior.\n",
      "Precision and F-score are ill-defined and being set to 0.0 in labels with no predicted samples. Use `zero_division` parameter to control this behavior.\n",
      "Precision and F-score are ill-defined and being set to 0.0 in labels with no predicted samples. Use `zero_division` parameter to control this behavior.\n",
      "Precision and F-score are ill-defined and being set to 0.0 in labels with no predicted samples. Use `zero_division` parameter to control this behavior.\n",
      "Precision and F-score are ill-defined and being set to 0.0 in labels with no predicted samples. Use `zero_division` parameter to control this behavior.\n",
      "Precision and F-score are ill-defined and being set to 0.0 in labels with no predicted samples. Use `zero_division` parameter to control this behavior.\n",
      "Precision and F-score are ill-defined and being set to 0.0 in labels with no predicted samples. Use `zero_division` parameter to control this behavior.\n",
      "Precision and F-score are ill-defined and being set to 0.0 in labels with no predicted samples. Use `zero_division` parameter to control this behavior.\n"
     ]
    },
    {
     "name": "stdout",
     "output_type": "stream",
     "text": [
      "CPU times: user 929 ms, sys: 31.4 ms, total: 961 ms\n",
      "Wall time: 670 ms\n"
     ]
    },
    {
     "name": "stderr",
     "output_type": "stream",
     "text": [
      "Precision and F-score are ill-defined and being set to 0.0 in labels with no predicted samples. Use `zero_division` parameter to control this behavior.\n",
      "Precision and F-score are ill-defined and being set to 0.0 in labels with no predicted samples. Use `zero_division` parameter to control this behavior.\n",
      "Precision and F-score are ill-defined and being set to 0.0 in labels with no predicted samples. Use `zero_division` parameter to control this behavior.\n"
     ]
    }
   ],
   "source": [
    "%%time\n",
    "metrics = search_max_depth_parameter(X, mclass_diff, feature_names, comparer.difference_classes, start=2, stop=20)"
   ]
  },
  {
   "cell_type": "code",
   "execution_count": 11,
   "id": "b2eccf4a-4858-4ad7-ac33-0ff29ee5c19a",
   "metadata": {},
   "outputs": [
    {
     "data": {
      "image/png": "[encoded data removed]",
      "text/plain": [
       "<Figure size 432x288 with 1 Axes>"
      ]
     },
     "metadata": {
      "needs_background": "light"
     },
     "output_type": "display_data"
    }
   ],
   "source": [
    "metrics.loc[:, ('precision', 'recall')].plot()\n",
    "plt.xlabel('max_depth')\n",
    "plt.ylabel('score')\n",
    "plt.savefig('boston4-baseline-pr-curve.pdf')"
   ]
  },
  {
   "cell_type": "markdown",
   "id": "3f16cb24-7b41-48a3-aa87-29b6a7fbdb1b",
   "metadata": {},
   "source": [
    "# Explanations"
   ]
  },
  {
   "cell_type": "code",
   "execution_count": 3,
   "id": "a20a9624-bb43-4ada-b2c0-6923310204db",
   "metadata": {},
   "outputs": [],
   "source": [
    "mclass_diff = comparer.predict_mclass_diff(X)"
   ]
  },
  {
   "cell_type": "code",
   "execution_count": 4,
   "id": "aef9d234-32e9-4c88-bad6-08e169fea6c3",
   "metadata": {},
   "outputs": [],
   "source": [
    "ground_truth_per_class = {}\n",
    "for label in comparer.difference_class_names:\n",
    "    with open(f'ground_truth.{label}.pickle', 'rb') as f:\n",
    "        ground_truth_per_class[label] = pickle.load(f)"
   ]
  },
  {
   "cell_type": "markdown",
   "id": "e672c609-19c6-4d67-81c8-a035266d4510",
   "metadata": {},
   "source": [
    "Trees with depths below 7 are not complex enough to describe all instances of the difference classes."
   ]
  },
  {
   "cell_type": "code",
   "execution_count": 5,
   "id": "ec920979-2636-49cb-9387-b990996c17b9",
   "metadata": {},
   "outputs": [
    {
     "name": "stdout",
     "output_type": "stream",
     "text": [
      "              precision    recall  f1-score   support\n",
      "\n",
      "      (0, 0)       0.96      0.83      0.89        86\n",
      "      (0, 1)       0.00      0.00      0.00         3\n",
      "      (1, 0)       0.00      0.00      0.00         2\n",
      "      (1, 1)       0.60      0.96      0.74        52\n",
      "      (1, 2)       0.00      0.00      0.00         5\n",
      "      (2, 1)       0.00      0.00      0.00         2\n",
      "      (2, 2)       0.96      0.89      0.92        96\n",
      "\n",
      "    accuracy                           0.84       246\n",
      "   macro avg       0.36      0.38      0.36       246\n",
      "weighted avg       0.84      0.84      0.83       246\n",
      "\n",
      "CPU times: user 13.2 ms, sys: 3.54 ms, total: 16.8 ms\n",
      "Wall time: 19.9 ms\n"
     ]
    },
    {
     "name": "stderr",
     "output_type": "stream",
     "text": [
      "Precision and F-score are ill-defined and being set to 0.0 in labels with no predicted samples. Use `zero_division` parameter to control this behavior.\n",
      "Precision and F-score are ill-defined and being set to 0.0 in labels with no predicted samples. Use `zero_division` parameter to control this behavior.\n",
      "Precision and F-score are ill-defined and being set to 0.0 in labels with no predicted samples. Use `zero_division` parameter to control this behavior.\n"
     ]
    }
   ],
   "source": [
    "%%time\n",
    "model = train_surrogate_tree(X, mclass_diff, max_depth=2)\n",
    "evaluate(model, X, mclass_diff, comparer.class_names)"
   ]
  },
  {
   "cell_type": "code",
   "execution_count": 6,
   "id": "87481022-b460-4878-99fe-c65e90c3b28e",
   "metadata": {},
   "outputs": [
    {
     "name": "stdout",
     "output_type": "stream",
     "text": [
      "              precision    recall  f1-score   support\n",
      "\n",
      "      (0, 0)       0.97      0.97      0.97        86\n",
      "      (0, 1)       1.00      0.33      0.50         3\n",
      "      (1, 0)       0.00      0.00      0.00         2\n",
      "      (1, 1)       0.83      0.96      0.89        52\n",
      "      (1, 2)       0.00      0.00      0.00         5\n",
      "      (2, 1)       0.00      0.00      0.00         2\n",
      "      (2, 2)       0.97      1.00      0.98        96\n",
      "\n",
      "    accuracy                           0.93       246\n",
      "   macro avg       0.54      0.47      0.48       246\n",
      "weighted avg       0.90      0.93      0.92       246\n",
      "\n",
      "CPU times: user 13 ms, sys: 3.27 ms, total: 16.3 ms\n",
      "Wall time: 17.4 ms\n"
     ]
    },
    {
     "name": "stderr",
     "output_type": "stream",
     "text": [
      "Precision and F-score are ill-defined and being set to 0.0 in labels with no predicted samples. Use `zero_division` parameter to control this behavior.\n",
      "Precision and F-score are ill-defined and being set to 0.0 in labels with no predicted samples. Use `zero_division` parameter to control this behavior.\n",
      "Precision and F-score are ill-defined and being set to 0.0 in labels with no predicted samples. Use `zero_division` parameter to control this behavior.\n"
     ]
    }
   ],
   "source": [
    "%%time\n",
    "model = train_surrogate_tree(X, mclass_diff, max_depth=3)\n",
    "evaluate(model, X, mclass_diff, comparer.class_names)"
   ]
  },
  {
   "cell_type": "code",
   "execution_count": 7,
   "id": "9acb6f43-db15-4781-8b0b-e767c3ad6293",
   "metadata": {},
   "outputs": [
    {
     "name": "stdout",
     "output_type": "stream",
     "text": [
      "              precision    recall  f1-score   support\n",
      "\n",
      "      (0, 0)       0.98      0.99      0.98        86\n",
      "      (0, 1)       1.00      0.33      0.50         3\n",
      "      (1, 0)       0.00      0.00      0.00         2\n",
      "      (1, 1)       0.93      0.98      0.95        52\n",
      "      (1, 2)       1.00      0.80      0.89         5\n",
      "      (2, 1)       1.00      1.00      1.00         2\n",
      "      (2, 2)       0.99      1.00      0.99        96\n",
      "\n",
      "    accuracy                           0.97       246\n",
      "   macro avg       0.84      0.73      0.76       246\n",
      "weighted avg       0.96      0.97      0.97       246\n",
      "\n",
      "CPU times: user 10.6 ms, sys: 2.45 ms, total: 13.1 ms\n",
      "Wall time: 16.3 ms\n"
     ]
    },
    {
     "name": "stderr",
     "output_type": "stream",
     "text": [
      "Precision and F-score are ill-defined and being set to 0.0 in labels with no predicted samples. Use `zero_division` parameter to control this behavior.\n",
      "Precision and F-score are ill-defined and being set to 0.0 in labels with no predicted samples. Use `zero_division` parameter to control this behavior.\n",
      "Precision and F-score are ill-defined and being set to 0.0 in labels with no predicted samples. Use `zero_division` parameter to control this behavior.\n"
     ]
    }
   ],
   "source": [
    "%%time\n",
    "model = train_surrogate_tree(X, mclass_diff, max_depth=4)\n",
    "evaluate(model, X, mclass_diff, comparer.class_names)"
   ]
  },
  {
   "cell_type": "code",
   "execution_count": 8,
   "id": "4c2bfa19-d5f6-4bfa-b356-4e7901bc5fc6",
   "metadata": {},
   "outputs": [
    {
     "name": "stdout",
     "output_type": "stream",
     "text": [
      "              precision    recall  f1-score   support\n",
      "\n",
      "      (0, 0)       1.00      0.99      0.99        86\n",
      "      (0, 1)       0.67      0.67      0.67         3\n",
      "      (1, 0)       0.67      1.00      0.80         2\n",
      "      (1, 1)       0.96      0.96      0.96        52\n",
      "      (1, 2)       1.00      1.00      1.00         5\n",
      "      (2, 1)       1.00      1.00      1.00         2\n",
      "      (2, 2)       1.00      1.00      1.00        96\n",
      "\n",
      "    accuracy                           0.98       246\n",
      "   macro avg       0.90      0.95      0.92       246\n",
      "weighted avg       0.99      0.98      0.98       246\n",
      "\n",
      "CPU times: user 9.74 ms, sys: 2.01 ms, total: 11.8 ms\n",
      "Wall time: 12.9 ms\n"
     ]
    }
   ],
   "source": [
    "%%time\n",
    "model = train_surrogate_tree(X, mclass_diff, max_depth=5)\n",
    "evaluate(model, X, mclass_diff, comparer.class_names)"
   ]
  },
  {
   "cell_type": "code",
   "execution_count": 9,
   "id": "d282413c-f14c-4113-a65a-9ce3007c07ab",
   "metadata": {},
   "outputs": [
    {
     "name": "stdout",
     "output_type": "stream",
     "text": [
      "              precision    recall  f1-score   support\n",
      "\n",
      "      (0, 0)       0.98      1.00      0.99        86\n",
      "      (0, 1)       1.00      0.67      0.80         3\n",
      "      (1, 0)       1.00      1.00      1.00         2\n",
      "      (1, 1)       1.00      0.98      0.99        52\n",
      "      (1, 2)       1.00      1.00      1.00         5\n",
      "      (2, 1)       1.00      1.00      1.00         2\n",
      "      (2, 2)       1.00      1.00      1.00        96\n",
      "\n",
      "    accuracy                           0.99       246\n",
      "   macro avg       1.00      0.95      0.97       246\n",
      "weighted avg       0.99      0.99      0.99       246\n",
      "\n",
      "CPU times: user 11.3 ms, sys: 2.62 ms, total: 14 ms\n",
      "Wall time: 16.1 ms\n"
     ]
    }
   ],
   "source": [
    "%%time\n",
    "model = train_surrogate_tree(X, mclass_diff, max_depth=6)\n",
    "evaluate(model, X, mclass_diff, comparer.class_names)"
   ]
  },
  {
   "cell_type": "markdown",
   "id": "3db7a529-3541-452e-95fb-b7fe3c6619a5",
   "metadata": {},
   "source": [
    "## Tree with Depth 7"
   ]
  },
  {
   "cell_type": "code",
   "execution_count": 12,
   "id": "f9cde873-f8b5-4d11-885f-bb4fb282d935",
   "metadata": {},
   "outputs": [
    {
     "name": "stdout",
     "output_type": "stream",
     "text": [
      "              precision    recall  f1-score   support\n",
      "\n",
      "      (0, 0)       0.99      1.00      0.99        86\n",
      "      (0, 1)       1.00      1.00      1.00         3\n",
      "      (1, 0)       1.00      1.00      1.00         2\n",
      "      (1, 1)       1.00      0.98      0.99        52\n",
      "      (1, 2)       1.00      1.00      1.00         5\n",
      "      (2, 1)       1.00      1.00      1.00         2\n",
      "      (2, 2)       1.00      1.00      1.00        96\n",
      "\n",
      "    accuracy                           1.00       246\n",
      "   macro avg       1.00      1.00      1.00       246\n",
      "weighted avg       1.00      1.00      1.00       246\n",
      "\n",
      "CPU times: user 12.1 ms, sys: 2.81 ms, total: 14.9 ms\n",
      "Wall time: 16.9 ms\n"
     ]
    }
   ],
   "source": [
    "%%time\n",
    "model = train_surrogate_tree(X, mclass_diff, max_depth=7)\n",
    "evaluate(model, X, mclass_diff, comparer.class_names)"
   ]
  },
  {
   "cell_type": "code",
   "execution_count": 13,
   "id": "f9ff6347-0fe3-426b-b37a-e2f57a5f7768",
   "metadata": {},
   "outputs": [
    {
     "data": {
      "image/png": "[encoded data removed]",
      "text/plain": [
       "<Figure size 360x360 with 1 Axes>"
      ]
     },
     "metadata": {
      "needs_background": "light"
     },
     "output_type": "display_data"
    }
   ],
   "source": [
    "feature_importances, feature_order = get_feature_importances(model)\n",
    "plot_feature_importances(feature_names, feature_importances, feature_order, figsize=(5, 5))"
   ]
  },
  {
   "cell_type": "code",
   "execution_count": 14,
   "id": "831cb873-6770-41d9-9bd9-b1833b8d0535",
   "metadata": {},
   "outputs": [
    {
     "name": "stdout",
     "output_type": "stream",
     "text": [
      "1. ZN > 57.5 and RM <= 6.5975000858306885 and RAD <= 15.0 and LSTAT <= 9.619999885559082 => (1, 2) [0, 0, 0, 0, 3, 0, 0]\n",
      "2. CRIM <= 0.8610349893569946 and NOX <= 0.5909999907016754 and DIS > 2.271081805229187 and 16.423087120056152 < LSTAT <= 16.715493202209473 => (1, 0) [0, 0, 2, 0, 0, 0, 0]\n",
      "3. NOX > 0.5909999907016754 and RM > 6.165999889373779 and 11.37000036239624 < LSTAT <= 14.789999961853027 => (0, 1) [0, 1, 0, 0, 0, 0, 0]\n",
      "4. NOX > 0.5909999907016754 and 9.619999885559082 < LSTAT <= 11.37000036239624 => (0, 1) [0, 1, 0, 0, 0, 0, 0]\n",
      "5. INDUS <= 13.90500020980835 and NOX <= 0.5909999907016754 and DIS > 2.271081805229187 and PTRATIO <= 16.5 and 9.619999885559082 < LSTAT <= 16.423087120056152 => (0, 1) [0, 1, 0, 0, 0, 0, 0]\n",
      "6. RM > 6.5975000858306885 and TAX <= 274.0 and 9.21500015258789 < LSTAT <= 9.619999885559082 => (1, 2) [0, 0, 0, 0, 1, 0, 0]\n",
      "7. RM > 6.5975000858306885 and PTRATIO > 20.600000381469727 and LSTAT <= 9.21500015258789 => (2, 1) [0, 0, 0, 0, 0, 1, 0]\n",
      "8. CRIM <= 0.01169000007212162 and RM > 6.5975000858306885 and PTRATIO <= 20.600000381469727 and LSTAT <= 9.21500015258789 => (1, 2) [0, 0, 0, 0, 1, 0, 0]\n",
      "9. RM <= 4.753877282142639 and RAD > 15.0 and LSTAT <= 9.619999885559082 => (2, 1) [0, 0, 0, 0, 0, 1, 0]\n"
     ]
    }
   ],
   "source": [
    "constraints, rules, class_occurences, labels, instance_indices_per_rule =\\\n",
    "    extract_rules(model, feature_names, comparer.difference_classes, X, mclass_diff)\n",
    "print_rules(rules, class_occurences, comparer.class_names, labels)"
   ]
  },
  {
   "cell_type": "markdown",
   "id": "5041b359-7dfe-40bd-983a-285e8f63260e",
   "metadata": {},
   "source": [
    "## Evaluation"
   ]
  },
  {
   "cell_type": "markdown",
   "id": "7c1443ae-3008-404a-baa1-1616def26943",
   "metadata": {},
   "source": [
    "### Global Fidelity"
   ]
  },
  {
   "cell_type": "code",
   "execution_count": 15,
   "id": "c2c1daa4-4865-44b2-99e3-168c6e5c035e",
   "metadata": {},
   "outputs": [
    {
     "name": "stdout",
     "output_type": "stream",
     "text": [
      "              precision    recall  f1-score   support\n",
      "\n",
      "      (0, 0)       0.99      1.00      0.99        86\n",
      "      (0, 1)       1.00      1.00      1.00         3\n",
      "      (1, 0)       1.00      1.00      1.00         2\n",
      "      (1, 1)       1.00      0.98      0.99        52\n",
      "      (1, 2)       1.00      1.00      1.00         5\n",
      "      (2, 1)       1.00      1.00      1.00         2\n",
      "      (2, 2)       1.00      1.00      1.00        96\n",
      "\n",
      "    accuracy                           1.00       246\n",
      "   macro avg       1.00      1.00      1.00       246\n",
      "weighted avg       1.00      1.00      1.00       246\n",
      "\n"
     ]
    }
   ],
   "source": [
    "evaluate(model, X, mclass_diff, comparer.class_names)"
   ]
  },
  {
   "cell_type": "markdown",
   "id": "4683dd2c-1506-40fc-a0c2-d76649609289",
   "metadata": {},
   "source": [
    "### Counterfactual Fidelity Error"
   ]
  },
  {
   "cell_type": "markdown",
   "id": "80a61200-0e7b-4870-a0e0-228463f5bc37",
   "metadata": {},
   "source": [
    "#### (0, 1)"
   ]
  },
  {
   "cell_type": "code",
   "execution_count": 16,
   "id": "e524567a-b6c4-499e-9da6-1ff32f14881b",
   "metadata": {},
   "outputs": [],
   "source": [
    "focus_class_idx, focus_class = comparer.check_class('(0, 1)')\n",
    "ground_truth_instance_indices, ground_truth = ground_truth_per_class[focus_class]\n",
    "constraints_focus, rules_focus, class_occurences_focus, instance_indices_per_rule_focus =\\\n",
    "    zip(*[(constraint, rule, class_occurences, instance_indices)\n",
    "     for constraint, rule, class_occurences, label, instance_indices\n",
    "     in zip(constraints, rules, class_occurences, labels, instance_indices_per_rule)\n",
    "     if label == focus_class_idx])"
   ]
  },
  {
   "cell_type": "code",
   "execution_count": 17,
   "id": "a417f67c-3e79-4138-b2d9-59355ccd02cb",
   "metadata": {},
   "outputs": [
    {
     "name": "stderr",
     "output_type": "stream",
     "text": [
      "invalid value encountered in true_divide\n",
      "invalid value encountered in true_divide\n"
     ]
    }
   ],
   "source": [
    "errors, rmse, boundary_miss_rate, boundary_add_rate = \\\n",
    "    evaluate_counterfactual_fidelity(comparer, ground_truth_instance_indices, ground_truth, instance_indices_per_rule_focus, constraints_focus)"
   ]
  },
  {
   "cell_type": "code",
   "execution_count": 18,
   "id": "17f1642c-04eb-43e4-82ca-ef8433c8453c",
   "metadata": {},
   "outputs": [
    {
     "data": {
      "text/plain": [
       "CRIM            NaN\n",
       "ZN              NaN\n",
       "INDUS      8.195000\n",
       "NOX             NaN\n",
       "RM         0.386000\n",
       "AGE             NaN\n",
       "DIS             NaN\n",
       "RAD             NaN\n",
       "TAX             NaN\n",
       "PTRATIO    0.530000\n",
       "LSTAT      1.910487\n",
       "dtype: float64"
      ]
     },
     "execution_count": 18,
     "metadata": {},
     "output_type": "execute_result"
    }
   ],
   "source": [
    "rmse"
   ]
  },
  {
   "cell_type": "code",
   "execution_count": 19,
   "id": "97185182-195c-48ba-a888-eb01f5a061ff",
   "metadata": {},
   "outputs": [
    {
     "data": {
      "text/plain": [
       "CRIM       1.000000\n",
       "ZN         1.000000\n",
       "INDUS      0.833333\n",
       "NOX             NaN\n",
       "RM         0.833333\n",
       "AGE        1.000000\n",
       "DIS        1.000000\n",
       "RAD        1.000000\n",
       "TAX        1.000000\n",
       "PTRATIO    0.833333\n",
       "LSTAT      0.000000\n",
       "dtype: float64"
      ]
     },
     "execution_count": 19,
     "metadata": {},
     "output_type": "execute_result"
    }
   ],
   "source": [
    "boundary_miss_rate"
   ]
  },
  {
   "cell_type": "code",
   "execution_count": 20,
   "id": "3277289b-419b-4f37-9699-99871c7e8685",
   "metadata": {},
   "outputs": [
    {
     "data": {
      "text/plain": [
       "CRIM       NaN\n",
       "ZN         NaN\n",
       "INDUS      0.0\n",
       "NOX        1.0\n",
       "RM         0.0\n",
       "AGE        NaN\n",
       "DIS        1.0\n",
       "RAD        NaN\n",
       "TAX        NaN\n",
       "PTRATIO    0.0\n",
       "LSTAT      0.0\n",
       "dtype: float64"
      ]
     },
     "execution_count": 20,
     "metadata": {},
     "output_type": "execute_result"
    }
   ],
   "source": [
    "boundary_add_rate"
   ]
  },
  {
   "cell_type": "markdown",
   "id": "d0050304-7859-4fbd-a4dd-ee78e117e4b8",
   "metadata": {},
   "source": [
    "#### (1, 0)"
   ]
  },
  {
   "cell_type": "code",
   "execution_count": 21,
   "id": "81562e0c-207f-4cc8-bbdb-92f7ca0071cc",
   "metadata": {},
   "outputs": [],
   "source": [
    "focus_class_idx, focus_class = comparer.check_class('(1, 0)')\n",
    "ground_truth_instance_indices, ground_truth = ground_truth_per_class[focus_class]\n",
    "constraints_focus, rules_focus, class_occurences_focus, instance_indices_per_rule_focus =\\\n",
    "    zip(*[(constraint, rule, class_occurences, instance_indices)\n",
    "     for constraint, rule, class_occurences, label, instance_indices\n",
    "     in zip(constraints, rules, class_occurences, labels, instance_indices_per_rule)\n",
    "     if label == focus_class_idx])"
   ]
  },
  {
   "cell_type": "code",
   "execution_count": 22,
   "id": "0c7c8b8f-bfd1-4026-b3a3-a1ef695a5a66",
   "metadata": {},
   "outputs": [],
   "source": [
    "errors, rmse, boundary_miss_rate, boundary_add_rate = \\\n",
    "    evaluate_counterfactual_fidelity(comparer, ground_truth_instance_indices, ground_truth, instance_indices_per_rule_focus, constraints_focus)"
   ]
  },
  {
   "cell_type": "code",
   "execution_count": 23,
   "id": "dc1c6bb6-a36b-475f-b226-d5b51f6c6d4e",
   "metadata": {},
   "outputs": [
    {
     "data": {
      "text/plain": [
       "CRIM       0.138965\n",
       "ZN              NaN\n",
       "INDUS           NaN\n",
       "NOX        0.139000\n",
       "RM              NaN\n",
       "AGE             NaN\n",
       "DIS        0.875900\n",
       "RAD             NaN\n",
       "TAX             NaN\n",
       "PTRATIO         NaN\n",
       "LSTAT      0.053146\n",
       "dtype: float64"
      ]
     },
     "execution_count": 23,
     "metadata": {},
     "output_type": "execute_result"
    }
   ],
   "source": [
    "rmse"
   ]
  },
  {
   "cell_type": "code",
   "execution_count": 24,
   "id": "45dda331-ecb3-48f4-88c4-296ee2d59769",
   "metadata": {},
   "outputs": [
    {
     "data": {
      "text/plain": [
       "CRIM       0.5\n",
       "ZN         1.0\n",
       "INDUS      1.0\n",
       "NOX        0.0\n",
       "RM         1.0\n",
       "AGE        1.0\n",
       "DIS        0.0\n",
       "RAD        1.0\n",
       "TAX        1.0\n",
       "PTRATIO    1.0\n",
       "LSTAT      0.0\n",
       "dtype: float64"
      ]
     },
     "execution_count": 24,
     "metadata": {},
     "output_type": "execute_result"
    }
   ],
   "source": [
    "boundary_miss_rate"
   ]
  },
  {
   "cell_type": "code",
   "execution_count": 25,
   "id": "1e13ce34-8418-4f85-bc8d-d759f50330a6",
   "metadata": {},
   "outputs": [
    {
     "data": {
      "text/plain": [
       "CRIM       0.0\n",
       "ZN         NaN\n",
       "INDUS      NaN\n",
       "NOX        0.5\n",
       "RM         NaN\n",
       "AGE        NaN\n",
       "DIS        0.0\n",
       "RAD        NaN\n",
       "TAX        NaN\n",
       "PTRATIO    NaN\n",
       "LSTAT      0.0\n",
       "dtype: float64"
      ]
     },
     "execution_count": 25,
     "metadata": {},
     "output_type": "execute_result"
    }
   ],
   "source": [
    "boundary_add_rate"
   ]
  },
  {
   "cell_type": "markdown",
   "id": "652f0e71-ae54-4e80-946d-9e284d9e5a88",
   "metadata": {},
   "source": [
    "#### (1, 2)"
   ]
  },
  {
   "cell_type": "code",
   "execution_count": 26,
   "id": "bceb0c47-f000-48af-a5dd-1259e7a54703",
   "metadata": {},
   "outputs": [],
   "source": [
    "focus_class_idx, focus_class = comparer.check_class('(1, 2)')\n",
    "ground_truth_instance_indices, ground_truth = ground_truth_per_class[focus_class]\n",
    "constraints_focus, rules_focus, class_occurences_focus, instance_indices_per_rule_focus =\\\n",
    "    zip(*[(constraint, rule, class_occurences, instance_indices)\n",
    "     for constraint, rule, class_occurences, label, instance_indices\n",
    "     in zip(constraints, rules, class_occurences, labels, instance_indices_per_rule)\n",
    "     if label == focus_class_idx])"
   ]
  },
  {
   "cell_type": "code",
   "execution_count": 27,
   "id": "87b1e5d9-2665-4849-9035-130068722556",
   "metadata": {},
   "outputs": [],
   "source": [
    "errors, rmse, boundary_miss_rate, boundary_add_rate = \\\n",
    "    evaluate_counterfactual_fidelity(comparer, ground_truth_instance_indices, ground_truth, instance_indices_per_rule_focus, constraints_focus)"
   ]
  },
  {
   "cell_type": "code",
   "execution_count": 28,
   "id": "627bce83-6f75-4f1f-887a-e11cf4076f2d",
   "metadata": {},
   "outputs": [
    {
     "data": {
      "text/plain": [
       "CRIM        7.988310\n",
       "ZN          3.403430\n",
       "INDUS            NaN\n",
       "NOX              NaN\n",
       "RM          1.639575\n",
       "AGE              NaN\n",
       "DIS              NaN\n",
       "RAD         3.051371\n",
       "TAX        35.000000\n",
       "PTRATIO          NaN\n",
       "LSTAT       1.828180\n",
       "dtype: float64"
      ]
     },
     "execution_count": 28,
     "metadata": {},
     "output_type": "execute_result"
    }
   ],
   "source": [
    "rmse"
   ]
  },
  {
   "cell_type": "code",
   "execution_count": 29,
   "id": "abac2729-aa3f-47f8-b48c-2702bef0ad51",
   "metadata": {},
   "outputs": [
    {
     "data": {
      "text/plain": [
       "CRIM       0.800000\n",
       "ZN         0.500000\n",
       "INDUS      1.000000\n",
       "NOX        1.000000\n",
       "RM         0.444444\n",
       "AGE        1.000000\n",
       "DIS        1.000000\n",
       "RAD        0.500000\n",
       "TAX        0.833333\n",
       "PTRATIO         NaN\n",
       "LSTAT      0.400000\n",
       "dtype: float64"
      ]
     },
     "execution_count": 29,
     "metadata": {},
     "output_type": "execute_result"
    }
   ],
   "source": [
    "boundary_miss_rate"
   ]
  },
  {
   "cell_type": "code",
   "execution_count": 30,
   "id": "d74069ea-fe34-454c-ab58-cc4dc9d5dc48",
   "metadata": {},
   "outputs": [
    {
     "data": {
      "text/plain": [
       "CRIM       0.0\n",
       "ZN         0.0\n",
       "INDUS      NaN\n",
       "NOX        NaN\n",
       "RM         0.0\n",
       "AGE        NaN\n",
       "DIS        NaN\n",
       "RAD        0.0\n",
       "TAX        0.0\n",
       "PTRATIO    1.0\n",
       "LSTAT      0.0\n",
       "dtype: float64"
      ]
     },
     "execution_count": 30,
     "metadata": {},
     "output_type": "execute_result"
    }
   ],
   "source": [
    "boundary_add_rate"
   ]
  },
  {
   "cell_type": "markdown",
   "id": "794203d6-3a86-4b0e-a6c8-73f267b89c8e",
   "metadata": {},
   "source": [
    "#### (2, 1)"
   ]
  },
  {
   "cell_type": "code",
   "execution_count": 31,
   "id": "23e35994-b155-4859-9209-f4b18b9718ae",
   "metadata": {},
   "outputs": [],
   "source": [
    "focus_class_idx, focus_class = comparer.check_class('(2, 1)')\n",
    "ground_truth_instance_indices, ground_truth = ground_truth_per_class[focus_class]\n",
    "constraints_focus, rules_focus, class_occurences_focus, instance_indices_per_rule_focus =\\\n",
    "    zip(*[(constraint, rule, class_occurences, instance_indices)\n",
    "     for constraint, rule, class_occurences, label, instance_indices\n",
    "     in zip(constraints, rules, class_occurences, labels, instance_indices_per_rule)\n",
    "     if label == focus_class_idx])"
   ]
  },
  {
   "cell_type": "code",
   "execution_count": 32,
   "id": "77b16fa4-86d8-4737-a41d-dee244bd5131",
   "metadata": {},
   "outputs": [],
   "source": [
    "errors, rmse, boundary_miss_rate, boundary_add_rate = \\\n",
    "    evaluate_counterfactual_fidelity(comparer, ground_truth_instance_indices, ground_truth, instance_indices_per_rule_focus, constraints_focus)"
   ]
  },
  {
   "cell_type": "code",
   "execution_count": 33,
   "id": "b23fbb56-f050-49d3-b48a-8f635a50fd9d",
   "metadata": {},
   "outputs": [
    {
     "data": {
      "text/plain": [
       "CRIM            NaN\n",
       "ZN              NaN\n",
       "INDUS           NaN\n",
       "NOX             NaN\n",
       "RM         0.411720\n",
       "AGE             NaN\n",
       "DIS             NaN\n",
       "RAD        7.570000\n",
       "TAX             NaN\n",
       "PTRATIO         NaN\n",
       "LSTAT      2.063144\n",
       "dtype: float64"
      ]
     },
     "execution_count": 33,
     "metadata": {},
     "output_type": "execute_result"
    }
   ],
   "source": [
    "rmse"
   ]
  },
  {
   "cell_type": "code",
   "execution_count": 34,
   "id": "8413c061-3294-4cb2-846e-69f256185897",
   "metadata": {},
   "outputs": [
    {
     "data": {
      "text/plain": [
       "CRIM       1.000000\n",
       "ZN         1.000000\n",
       "INDUS      1.000000\n",
       "NOX             NaN\n",
       "RM         0.333333\n",
       "AGE        1.000000\n",
       "DIS        1.000000\n",
       "RAD        0.500000\n",
       "TAX        1.000000\n",
       "PTRATIO    1.000000\n",
       "LSTAT      0.500000\n",
       "dtype: float64"
      ]
     },
     "execution_count": 34,
     "metadata": {},
     "output_type": "execute_result"
    }
   ],
   "source": [
    "boundary_miss_rate"
   ]
  },
  {
   "cell_type": "code",
   "execution_count": 35,
   "id": "91d88a51-2d74-4404-a116-16b927116823",
   "metadata": {},
   "outputs": [
    {
     "data": {
      "text/plain": [
       "CRIM       NaN\n",
       "ZN         NaN\n",
       "INDUS      NaN\n",
       "NOX        NaN\n",
       "RM         0.0\n",
       "AGE        NaN\n",
       "DIS        NaN\n",
       "RAD        0.0\n",
       "TAX        NaN\n",
       "PTRATIO    1.0\n",
       "LSTAT      0.0\n",
       "dtype: float64"
      ]
     },
     "execution_count": 35,
     "metadata": {},
     "output_type": "execute_result"
    }
   ],
   "source": [
    "boundary_add_rate"
   ]
  },
  {
   "cell_type": "markdown",
   "id": "68fc498e-9f9e-40df-a95e-b6e119248664",
   "metadata": {},
   "source": [
    "### Complexity"
   ]
  },
  {
   "cell_type": "markdown",
   "id": "a276cba6-eb81-451f-a82d-fbf6c5b26338",
   "metadata": {},
   "source": [
    "#### (0, 1)"
   ]
  },
  {
   "cell_type": "code",
   "execution_count": 36,
   "id": "f4fd8445-2f51-48eb-8e88-6cfb16439064",
   "metadata": {},
   "outputs": [],
   "source": [
    "focus_class_idx, focus_class = comparer.check_class('(0, 1)')\n",
    "ground_truth_instance_indices, ground_truth = ground_truth_per_class[focus_class]\n",
    "constraints_focus, rules_focus, class_occurences_focus, instance_indices_per_rule_focus =\\\n",
    "    zip(*[(constraint, rule, class_occurences, instance_indices)\n",
    "     for constraint, rule, class_occurences, label, instance_indices\n",
    "     in zip(constraints, rules, class_occurences, labels, instance_indices_per_rule)\n",
    "     if label == focus_class_idx])"
   ]
  },
  {
   "cell_type": "code",
   "execution_count": 37,
   "id": "cf673fd7-b67e-41fb-8172-00b80d8b3862",
   "metadata": {},
   "outputs": [
    {
     "name": "stdout",
     "output_type": "stream",
     "text": [
      "Number of rules: 3\n",
      "Number of constraints: 13 (4.3 per rule)\n"
     ]
    }
   ],
   "source": [
    "get_complexity(constraints_focus)"
   ]
  },
  {
   "cell_type": "markdown",
   "id": "95d0b4ec-43ae-4a5e-a2bd-7b9115ab945a",
   "metadata": {},
   "source": [
    "#### (1, 0)"
   ]
  },
  {
   "cell_type": "code",
   "execution_count": 38,
   "id": "8674a965-f921-41d4-8a66-3d0f7aad6ee1",
   "metadata": {},
   "outputs": [],
   "source": [
    "focus_class_idx, focus_class = comparer.check_class('(1, 0)')\n",
    "ground_truth_instance_indices, ground_truth = ground_truth_per_class[focus_class]\n",
    "constraints_focus, rules_focus, class_occurences_focus, instance_indices_per_rule_focus =\\\n",
    "    zip(*[(constraint, rule, class_occurences, instance_indices)\n",
    "     for constraint, rule, class_occurences, label, instance_indices\n",
    "     in zip(constraints, rules, class_occurences, labels, instance_indices_per_rule)\n",
    "     if label == focus_class_idx])"
   ]
  },
  {
   "cell_type": "code",
   "execution_count": 39,
   "id": "560f2ff6-480a-428d-8813-3a840fc582e1",
   "metadata": {},
   "outputs": [
    {
     "name": "stdout",
     "output_type": "stream",
     "text": [
      "Number of rules: 1\n",
      "Number of constraints: 5 (5.0 per rule)\n"
     ]
    }
   ],
   "source": [
    "get_complexity(constraints_focus)"
   ]
  },
  {
   "cell_type": "markdown",
   "id": "96a2df5c-d711-42d7-ad4e-48c6ea06392d",
   "metadata": {},
   "source": [
    "#### (1, 2)"
   ]
  },
  {
   "cell_type": "code",
   "execution_count": 40,
   "id": "075d4908-118b-4f36-85e6-5e4e99ddd5a7",
   "metadata": {},
   "outputs": [],
   "source": [
    "focus_class_idx, focus_class = comparer.check_class('(1, 2)')\n",
    "ground_truth_instance_indices, ground_truth = ground_truth_per_class[focus_class]\n",
    "constraints_focus, rules_focus, class_occurences_focus, instance_indices_per_rule_focus =\\\n",
    "    zip(*[(constraint, rule, class_occurences, instance_indices)\n",
    "     for constraint, rule, class_occurences, label, instance_indices\n",
    "     in zip(constraints, rules, class_occurences, labels, instance_indices_per_rule)\n",
    "     if label == focus_class_idx])"
   ]
  },
  {
   "cell_type": "code",
   "execution_count": 41,
   "id": "66059bb7-14da-4b8a-a45c-dae42b619130",
   "metadata": {},
   "outputs": [
    {
     "name": "stdout",
     "output_type": "stream",
     "text": [
      "Number of rules: 3\n",
      "Number of constraints: 12 (4.0 per rule)\n"
     ]
    }
   ],
   "source": [
    "get_complexity(constraints_focus)"
   ]
  },
  {
   "cell_type": "markdown",
   "id": "72e06753-78b9-4ce2-ae1d-f2ad6d4eeb97",
   "metadata": {},
   "source": [
    "#### (2, 1)"
   ]
  },
  {
   "cell_type": "code",
   "execution_count": 42,
   "id": "9239445e-ae17-4798-b3e8-3347d3073feb",
   "metadata": {},
   "outputs": [],
   "source": [
    "focus_class_idx, focus_class = comparer.check_class('(2, 1)')\n",
    "ground_truth_instance_indices, ground_truth = ground_truth_per_class[focus_class]\n",
    "constraints_focus, rules_focus, class_occurences_focus, instance_indices_per_rule_focus =\\\n",
    "    zip(*[(constraint, rule, class_occurences, instance_indices)\n",
    "     for constraint, rule, class_occurences, label, instance_indices\n",
    "     in zip(constraints, rules, class_occurences, labels, instance_indices_per_rule)\n",
    "     if label == focus_class_idx])"
   ]
  },
  {
   "cell_type": "code",
   "execution_count": 43,
   "id": "fcbb937c-ca89-4a48-beed-29748c12e157",
   "metadata": {},
   "outputs": [
    {
     "name": "stdout",
     "output_type": "stream",
     "text": [
      "Number of rules: 2\n",
      "Number of constraints: 6 (3.0 per rule)\n"
     ]
    }
   ],
   "source": [
    "get_complexity(constraints_focus)"
   ]
  }
 ],
 "metadata": {
  "kernelspec": {
   "display_name": "Python 3",
   "language": "python",
   "name": "python3"
  },
  "language_info": {
   "codemirror_mode": {
    "name": "ipython",
    "version": 3
   },
   "file_extension": ".py",
   "mimetype": "text/x-python",
   "name": "python",
   "nbconvert_exporter": "python",
   "pygments_lexer": "ipython3",
   "version": "3.9.10"
  }
 },
 "nbformat": 4,
 "nbformat_minor": 5
}
