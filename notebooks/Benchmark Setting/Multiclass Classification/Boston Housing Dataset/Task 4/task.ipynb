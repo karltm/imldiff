{
 "cells": [
  {
   "cell_type": "code",
   "execution_count": 2,
   "id": "fc612e3a-5c9e-4252-bbbb-c76fd53cf9bd",
   "metadata": {},
   "outputs": [],
   "source": [
    "import pandas as pd\n",
    "import numpy as np\n",
    "import scipy as sp\n",
    "from datetime import datetime\n",
    "import pickle\n",
    "from comparers import ModelComparer\n",
    "import matplotlib.pyplot as plt\n",
    "from IPython.display import display\n",
    "from util import calc_ground_truth_constraints, constraint_matrix_to_rules\n",
    "from tasks.boston_housing import make_task4 as make_task"
   ]
  },
  {
   "cell_type": "code",
   "execution_count": 3,
   "id": "bf2ba5ef-30b5-40b1-86fd-4fd5f530605a",
   "metadata": {},
   "outputs": [
    {
     "name": "stderr",
     "output_type": "stream",
     "text": [
      "Trying to unpickle estimator LabelBinarizer from version 0.24.1 when using version 0.24.2. This might lead to breaking code or invalid results. Use at your own risk.\n",
      "Trying to unpickle estimator MLPClassifier from version 0.24.1 when using version 0.24.2. This might lead to breaking code or invalid results. Use at your own risk.\n"
     ]
    }
   ],
   "source": [
    "clf_a, clf_b, X, y, feature_names, categorical_features, feature_precisions = make_task()\n",
    "comparer = ModelComparer(clf_a, clf_b, feature_names)"
   ]
  },
  {
   "cell_type": "code",
   "execution_count": 4,
   "id": "381a5c5a-ef0c-4f1e-be9b-972c5d6d28c5",
   "metadata": {
    "tags": []
   },
   "outputs": [
    {
     "data": {
      "image/png": "[encoded data removed]",
      "text/plain": [
       "<Figure size 432x288 with 2 Axes>"
      ]
     },
     "metadata": {
      "needs_background": "light"
     },
     "output_type": "display_data"
    }
   ],
   "source": [
    "comparer.plot_confusion_matrix(X)"
   ]
  },
  {
   "cell_type": "markdown",
   "id": "b609b217-f4fd-4ed8-bc2a-2d676d2ae873",
   "metadata": {},
   "source": [
    "# Ground Truth"
   ]
  },
  {
   "cell_type": "code",
   "execution_count": 5,
   "id": "605982b9-5feb-4147-8589-35eb534fbeaa",
   "metadata": {},
   "outputs": [
    {
     "name": "stdout",
     "output_type": "stream",
     "text": [
      "(0, 1)\n",
      "8: 3.0 < CRIM <= 4.0 and ZN <= 0.0 and 16.87 < INDUS <= 20.8 and 5.78 < RM <= 6.73 and AGE > 1.0 and DIS <= 4.72 and RAD > 21.4 and TAX > 599.0 and 19.18 < PTRATIO <= 20.73 and 13.9 < LSTAT <= 14.68\n",
      "40: 1.0 < CRIM <= 2.0 and ZN <= 1.0 and 16.97 < INDUS <= 20.65 and 6.14 < RM <= 7.33 and AGE > 0.0 and DIS <= 6.59 and 375.0 < TAX <= 451.0 and 14.3 < PTRATIO <= 15.83 and 10.48 < LSTAT <= 11.29\n",
      "238: CRIM <= 1.0 and ZN <= 0.0 and 12.37 < INDUS <= 22.1 and 4.81 < RM <= 6.51 and AGE > 0.0 and DIS <= 5.36 and RAD > 2.03 and TAX <= 303.0 and 13.36 < PTRATIO <= 17.03 and 13.14 < LSTAT <= 14.89\n",
      "\n",
      "(0, 2)\n",
      "\n",
      "(1, 0)\n",
      "23: 0.0 < CRIM <= 1.0 and ZN <= 0.0 and 7.13 < INDUS <= 8.83 and 5.3 < RM <= 5.75 and AGE > 1.0 and DIS > 3.32 and RAD <= 5.34 and 294.0 < TAX <= 326.0 and 20.7 < PTRATIO <= 21.38 and 16.33 < LSTAT <= 16.67\n",
      "156: 0.0 < CRIM <= 1.0 and ZN <= 0.0 and 7.73 < INDUS <= 9.14 and NOX <= 0.73 and 5.22 < RM <= 5.71 and AGE > 1.0 and DIS > 2.93 and RAD <= 5.93 and 288.0 < TAX <= 314.0 and 20.58 < PTRATIO <= 21.15 and 16.4 < LSTAT <= 16.71\n",
      "\n",
      "(1, 2)\n",
      "22: CRIM <= 42.0 and ZN > 53.0 and INDUS <= 3.75 and 5.94 < RM <= 7.99 and AGE <= 1.0 and DIS > 7.21 and RAD <= 11.65 and TAX <= 495.0 and 3.87 < LSTAT <= 6.22\n",
      "55: CRIM <= 1.0 and 16.0 < ZN <= 25.0 and 3.54 < INDUS <= 5.01 and NOX <= 0.79 and 6.99 < RM <= 7.29 and 0.0 < AGE <= 1.0 and 1.94 < DIS <= 2.63 and 3.81 < RAD <= 5.38 and 215.0 < TAX <= 309.0 and 9.44 < LSTAT <= 9.78\n",
      "68: CRIM <= 8.0 and ZN > 55.0 and INDUS <= 16.12 and 3.66 < RM <= 8.63 and AGE <= 1.0 and DIS > 3.67 and RAD <= 7.56 and TAX > 239.0 and 6.04 < LSTAT <= 11.58\n",
      "122: CRIM <= 25.0 and ZN > 54.0 and INDUS <= 15.56 and RM <= 7.85 and AGE <= 1.0 and DIS > 5.23 and RAD <= 11.26 and TAX > 236.0 and 4.82 < LSTAT <= 9.66\n",
      "206: CRIM <= 30.0 and ZN > 56.0 and INDUS <= 9.84 and 3.73 < RM <= 7.67 and AGE <= 1.0 and DIS > 6.32 and RAD <= 13.35 and TAX <= 656.0 and 3.58 < LSTAT <= 7.94\n",
      "\n",
      "(2, 0)\n",
      "\n",
      "(2, 1)\n",
      "34: 0.0 < CRIM <= 8.0 and ZN <= 18.0 and 10.73 < INDUS <= 19.61 and RM <= 4.53 and AGE > 1.0 and DIS <= 2.24 and RAD > 22.57 and TAX > 301.0 and PTRATIO > 13.03 and 6.06 < LSTAT <= 7.41\n",
      "101: CRIM <= 2.0 and ZN <= 6.0 and 9.8 < INDUS <= 16.31 and 6.06 < RM <= 7.17 and AGE > 1.0 and 1.44 < DIS <= 4.17 and RAD <= 3.23 and 6.05 < LSTAT <= 7.31\n",
      "\n",
      "CPU times: user 13.5 s, sys: 146 ms, total: 13.7 s\n",
      "Wall time: 14 s\n"
     ]
    }
   ],
   "source": [
    "%%time\n",
    "for label in comparer.difference_class_names:\n",
    "    print(label)\n",
    "    ground_truth_instance_indices, ground_truth = calc_ground_truth_constraints(comparer, feature_precisions, X, label)\n",
    "    with open(f'ground_truth.{label}.pickle', 'wb') as f:\n",
    "        pickle.dump((ground_truth_instance_indices, ground_truth), f)\n",
    "    rules = constraint_matrix_to_rules(ground_truth, feature_names)\n",
    "    for instance_idx, rule in zip(ground_truth_instance_indices, rules):\n",
    "        print(f'{instance_idx}: {rule}')\n",
    "    print()"
   ]
  },
  {
   "cell_type": "code",
   "execution_count": null,
   "id": "8df96fc4-1b70-44cf-a4bd-997e93e03714",
   "metadata": {},
   "outputs": [],
   "source": []
  }
 ],
 "metadata": {
  "kernelspec": {
   "display_name": "Python 3",
   "language": "python",
   "name": "python3"
  },
  "language_info": {
   "codemirror_mode": {
    "name": "ipython",
    "version": 3
   },
   "file_extension": ".py",
   "mimetype": "text/x-python",
   "name": "python",
   "nbconvert_exporter": "python",
   "pygments_lexer": "ipython3",
   "version": "3.9.10"
  }
 },
 "nbformat": 4,
 "nbformat_minor": 5
}
