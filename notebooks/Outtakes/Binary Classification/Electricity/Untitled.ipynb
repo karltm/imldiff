{
 "cells": [
  {
   "cell_type": "markdown",
   "id": "d61d8767-f6b8-43c3-af9f-3877d35f05cb",
   "metadata": {},
   "source": [
    "https://moa.cms.waikato.ac.nz/datasets/"
   ]
  },
  {
   "cell_type": "code",
   "execution_count": 1,
   "id": "51429abe-8d87-422b-aa12-7476018ad698",
   "metadata": {},
   "outputs": [],
   "source": [
    "import pandas as pd"
   ]
  },
  {
   "cell_type": "code",
   "execution_count": 10,
   "id": "b850506f-d7df-4588-a785-f457140ceaf3",
   "metadata": {},
   "outputs": [
    {
     "data": {
      "text/html": [
       "<div>\n",
       "<style scoped>\n",
       "    .dataframe tbody tr th:only-of-type {\n",
       "        vertical-align: middle;\n",
       "    }\n",
       "\n",
       "    .dataframe tbody tr th {\n",
       "        vertical-align: top;\n",
       "    }\n",
       "\n",
       "    .dataframe thead th {\n",
       "        text-align: right;\n",
       "    }\n",
       "</style>\n",
       "<table border=\"1\" class=\"dataframe\">\n",
       "  <thead>\n",
       "    <tr style=\"text-align: right;\">\n",
       "      <th></th>\n",
       "      <th>date</th>\n",
       "      <th>day</th>\n",
       "      <th>period</th>\n",
       "      <th>nswprice</th>\n",
       "      <th>nswdemand</th>\n",
       "      <th>vicprice</th>\n",
       "      <th>vicdemand</th>\n",
       "      <th>transfer</th>\n",
       "    </tr>\n",
       "  </thead>\n",
       "  <tbody>\n",
       "    <tr>\n",
       "      <th>0</th>\n",
       "      <td>0.0000</td>\n",
       "      <td>2</td>\n",
       "      <td>0.000000</td>\n",
       "      <td>0.056443</td>\n",
       "      <td>0.439155</td>\n",
       "      <td>0.003467</td>\n",
       "      <td>0.422915</td>\n",
       "      <td>0.414912</td>\n",
       "    </tr>\n",
       "    <tr>\n",
       "      <th>1</th>\n",
       "      <td>0.0000</td>\n",
       "      <td>2</td>\n",
       "      <td>0.021277</td>\n",
       "      <td>0.051699</td>\n",
       "      <td>0.415055</td>\n",
       "      <td>0.003467</td>\n",
       "      <td>0.422915</td>\n",
       "      <td>0.414912</td>\n",
       "    </tr>\n",
       "    <tr>\n",
       "      <th>2</th>\n",
       "      <td>0.0000</td>\n",
       "      <td>2</td>\n",
       "      <td>0.042553</td>\n",
       "      <td>0.051489</td>\n",
       "      <td>0.385004</td>\n",
       "      <td>0.003467</td>\n",
       "      <td>0.422915</td>\n",
       "      <td>0.414912</td>\n",
       "    </tr>\n",
       "    <tr>\n",
       "      <th>3</th>\n",
       "      <td>0.0000</td>\n",
       "      <td>2</td>\n",
       "      <td>0.063830</td>\n",
       "      <td>0.045485</td>\n",
       "      <td>0.314639</td>\n",
       "      <td>0.003467</td>\n",
       "      <td>0.422915</td>\n",
       "      <td>0.414912</td>\n",
       "    </tr>\n",
       "    <tr>\n",
       "      <th>4</th>\n",
       "      <td>0.0000</td>\n",
       "      <td>2</td>\n",
       "      <td>0.085106</td>\n",
       "      <td>0.042482</td>\n",
       "      <td>0.251116</td>\n",
       "      <td>0.003467</td>\n",
       "      <td>0.422915</td>\n",
       "      <td>0.414912</td>\n",
       "    </tr>\n",
       "    <tr>\n",
       "      <th>...</th>\n",
       "      <td>...</td>\n",
       "      <td>...</td>\n",
       "      <td>...</td>\n",
       "      <td>...</td>\n",
       "      <td>...</td>\n",
       "      <td>...</td>\n",
       "      <td>...</td>\n",
       "      <td>...</td>\n",
       "    </tr>\n",
       "    <tr>\n",
       "      <th>45307</th>\n",
       "      <td>0.9158</td>\n",
       "      <td>7</td>\n",
       "      <td>0.914894</td>\n",
       "      <td>0.044224</td>\n",
       "      <td>0.340672</td>\n",
       "      <td>0.003033</td>\n",
       "      <td>0.255049</td>\n",
       "      <td>0.405263</td>\n",
       "    </tr>\n",
       "    <tr>\n",
       "      <th>45308</th>\n",
       "      <td>0.9158</td>\n",
       "      <td>7</td>\n",
       "      <td>0.936170</td>\n",
       "      <td>0.044884</td>\n",
       "      <td>0.355549</td>\n",
       "      <td>0.003072</td>\n",
       "      <td>0.241326</td>\n",
       "      <td>0.420614</td>\n",
       "    </tr>\n",
       "    <tr>\n",
       "      <th>45309</th>\n",
       "      <td>0.9158</td>\n",
       "      <td>7</td>\n",
       "      <td>0.957447</td>\n",
       "      <td>0.043593</td>\n",
       "      <td>0.340970</td>\n",
       "      <td>0.002983</td>\n",
       "      <td>0.247799</td>\n",
       "      <td>0.362281</td>\n",
       "    </tr>\n",
       "    <tr>\n",
       "      <th>45310</th>\n",
       "      <td>0.9158</td>\n",
       "      <td>7</td>\n",
       "      <td>0.978723</td>\n",
       "      <td>0.066651</td>\n",
       "      <td>0.329366</td>\n",
       "      <td>0.004630</td>\n",
       "      <td>0.345417</td>\n",
       "      <td>0.206579</td>\n",
       "    </tr>\n",
       "    <tr>\n",
       "      <th>45311</th>\n",
       "      <td>0.9158</td>\n",
       "      <td>7</td>\n",
       "      <td>1.000000</td>\n",
       "      <td>0.050679</td>\n",
       "      <td>0.288753</td>\n",
       "      <td>0.003542</td>\n",
       "      <td>0.355256</td>\n",
       "      <td>0.231140</td>\n",
       "    </tr>\n",
       "  </tbody>\n",
       "</table>\n",
       "<p>45312 rows × 8 columns</p>\n",
       "</div>"
      ],
      "text/plain": [
       "         date  day    period  nswprice  nswdemand  vicprice  vicdemand  \\\n",
       "0      0.0000    2  0.000000  0.056443   0.439155  0.003467   0.422915   \n",
       "1      0.0000    2  0.021277  0.051699   0.415055  0.003467   0.422915   \n",
       "2      0.0000    2  0.042553  0.051489   0.385004  0.003467   0.422915   \n",
       "3      0.0000    2  0.063830  0.045485   0.314639  0.003467   0.422915   \n",
       "4      0.0000    2  0.085106  0.042482   0.251116  0.003467   0.422915   \n",
       "...       ...  ...       ...       ...        ...       ...        ...   \n",
       "45307  0.9158    7  0.914894  0.044224   0.340672  0.003033   0.255049   \n",
       "45308  0.9158    7  0.936170  0.044884   0.355549  0.003072   0.241326   \n",
       "45309  0.9158    7  0.957447  0.043593   0.340970  0.002983   0.247799   \n",
       "45310  0.9158    7  0.978723  0.066651   0.329366  0.004630   0.345417   \n",
       "45311  0.9158    7  1.000000  0.050679   0.288753  0.003542   0.355256   \n",
       "\n",
       "       transfer  \n",
       "0      0.414912  \n",
       "1      0.414912  \n",
       "2      0.414912  \n",
       "3      0.414912  \n",
       "4      0.414912  \n",
       "...         ...  \n",
       "45307  0.405263  \n",
       "45308  0.420614  \n",
       "45309  0.362281  \n",
       "45310  0.206579  \n",
       "45311  0.231140  \n",
       "\n",
       "[45312 rows x 8 columns]"
      ]
     },
     "execution_count": 10,
     "metadata": {},
     "output_type": "execute_result"
    }
   ],
   "source": [
    "X = pd.read_csv('electricity-normalized.csv')\n",
    "y = X.pop('class')\n",
    "X"
   ]
  },
  {
   "cell_type": "code",
   "execution_count": 11,
   "id": "47c5bfcb-7048-4b62-9b62-3335d0e6af55",
   "metadata": {},
   "outputs": [
    {
     "data": {
      "text/plain": [
       "0          UP\n",
       "1          UP\n",
       "2          UP\n",
       "3          UP\n",
       "4        DOWN\n",
       "         ... \n",
       "45307    DOWN\n",
       "45308    DOWN\n",
       "45309    DOWN\n",
       "45310      UP\n",
       "45311    DOWN\n",
       "Name: class, Length: 45312, dtype: object"
      ]
     },
     "execution_count": 11,
     "metadata": {},
     "output_type": "execute_result"
    }
   ],
   "source": [
    "y"
   ]
  },
  {
   "cell_type": "code",
   "execution_count": 4,
   "id": "2058c1e7-b0bc-471d-b31b-b2f0713e36bd",
   "metadata": {},
   "outputs": [],
   "source": [
    "import xgboost"
   ]
  },
  {
   "cell_type": "code",
   "execution_count": 5,
   "id": "d7ddf9dc-9a36-4f23-bd1e-9e80eb4cb81b",
   "metadata": {},
   "outputs": [],
   "source": [
    "from sklearn.model_selection import cross_val_score"
   ]
  },
  {
   "cell_type": "code",
   "execution_count": 25,
   "id": "b7839f8f-4141-44a3-9737-4d82e92d7215",
   "metadata": {},
   "outputs": [
    {
     "name": "stderr",
     "output_type": "stream",
     "text": [
      "/Users/karl/Dev/imldiff/.venv/lib/python3.9/site-packages/xgboost/sklearn.py:1146: UserWarning: The use of label encoder in XGBClassifier is deprecated and will be removed in a future release. To remove this warning, do the following: 1) Pass option use_label_encoder=False when constructing XGBClassifier object; and 2) Encode your labels (y) as integers starting with 0, i.e. 0, 1, 2, ..., [num_class - 1].\n",
      "  warnings.warn(label_encoder_deprecation_msg, UserWarning)\n"
     ]
    },
    {
     "name": "stdout",
     "output_type": "stream",
     "text": [
      "[14:39:15] WARNING: /Users/travis/build/dmlc/xgboost/src/learner.cc:1095: Starting in XGBoost 1.3.0, the default evaluation metric used with the objective 'binary:logistic' was changed from 'error' to 'logloss'. Explicitly set eval_metric if you'd like to restore the old behavior.\n"
     ]
    },
    {
     "name": "stderr",
     "output_type": "stream",
     "text": [
      "/Users/karl/Dev/imldiff/.venv/lib/python3.9/site-packages/xgboost/data.py:112: UserWarning: Use subset (sliced data) of np.ndarray is not recommended because it will generate extra copies and increase memory consumption\n",
      "  warnings.warn(\n",
      "/Users/karl/Dev/imldiff/.venv/lib/python3.9/site-packages/xgboost/sklearn.py:1146: UserWarning: The use of label encoder in XGBClassifier is deprecated and will be removed in a future release. To remove this warning, do the following: 1) Pass option use_label_encoder=False when constructing XGBClassifier object; and 2) Encode your labels (y) as integers starting with 0, i.e. 0, 1, 2, ..., [num_class - 1].\n",
      "  warnings.warn(label_encoder_deprecation_msg, UserWarning)\n"
     ]
    },
    {
     "name": "stdout",
     "output_type": "stream",
     "text": [
      "[14:39:19] WARNING: /Users/travis/build/dmlc/xgboost/src/learner.cc:1095: Starting in XGBoost 1.3.0, the default evaluation metric used with the objective 'binary:logistic' was changed from 'error' to 'logloss'. Explicitly set eval_metric if you'd like to restore the old behavior.\n"
     ]
    },
    {
     "name": "stderr",
     "output_type": "stream",
     "text": [
      "/Users/karl/Dev/imldiff/.venv/lib/python3.9/site-packages/xgboost/data.py:112: UserWarning: Use subset (sliced data) of np.ndarray is not recommended because it will generate extra copies and increase memory consumption\n",
      "  warnings.warn(\n",
      "/Users/karl/Dev/imldiff/.venv/lib/python3.9/site-packages/xgboost/sklearn.py:1146: UserWarning: The use of label encoder in XGBClassifier is deprecated and will be removed in a future release. To remove this warning, do the following: 1) Pass option use_label_encoder=False when constructing XGBClassifier object; and 2) Encode your labels (y) as integers starting with 0, i.e. 0, 1, 2, ..., [num_class - 1].\n",
      "  warnings.warn(label_encoder_deprecation_msg, UserWarning)\n"
     ]
    },
    {
     "name": "stdout",
     "output_type": "stream",
     "text": [
      "[14:39:22] WARNING: /Users/travis/build/dmlc/xgboost/src/learner.cc:1095: Starting in XGBoost 1.3.0, the default evaluation metric used with the objective 'binary:logistic' was changed from 'error' to 'logloss'. Explicitly set eval_metric if you'd like to restore the old behavior.\n"
     ]
    },
    {
     "name": "stderr",
     "output_type": "stream",
     "text": [
      "/Users/karl/Dev/imldiff/.venv/lib/python3.9/site-packages/xgboost/data.py:112: UserWarning: Use subset (sliced data) of np.ndarray is not recommended because it will generate extra copies and increase memory consumption\n",
      "  warnings.warn(\n",
      "/Users/karl/Dev/imldiff/.venv/lib/python3.9/site-packages/xgboost/sklearn.py:1146: UserWarning: The use of label encoder in XGBClassifier is deprecated and will be removed in a future release. To remove this warning, do the following: 1) Pass option use_label_encoder=False when constructing XGBClassifier object; and 2) Encode your labels (y) as integers starting with 0, i.e. 0, 1, 2, ..., [num_class - 1].\n",
      "  warnings.warn(label_encoder_deprecation_msg, UserWarning)\n"
     ]
    },
    {
     "name": "stdout",
     "output_type": "stream",
     "text": [
      "[14:39:26] WARNING: /Users/travis/build/dmlc/xgboost/src/learner.cc:1095: Starting in XGBoost 1.3.0, the default evaluation metric used with the objective 'binary:logistic' was changed from 'error' to 'logloss'. Explicitly set eval_metric if you'd like to restore the old behavior.\n"
     ]
    },
    {
     "name": "stderr",
     "output_type": "stream",
     "text": [
      "/Users/karl/Dev/imldiff/.venv/lib/python3.9/site-packages/xgboost/data.py:112: UserWarning: Use subset (sliced data) of np.ndarray is not recommended because it will generate extra copies and increase memory consumption\n",
      "  warnings.warn(\n",
      "/Users/karl/Dev/imldiff/.venv/lib/python3.9/site-packages/xgboost/sklearn.py:1146: UserWarning: The use of label encoder in XGBClassifier is deprecated and will be removed in a future release. To remove this warning, do the following: 1) Pass option use_label_encoder=False when constructing XGBClassifier object; and 2) Encode your labels (y) as integers starting with 0, i.e. 0, 1, 2, ..., [num_class - 1].\n",
      "  warnings.warn(label_encoder_deprecation_msg, UserWarning)\n"
     ]
    },
    {
     "name": "stdout",
     "output_type": "stream",
     "text": [
      "[14:39:30] WARNING: /Users/travis/build/dmlc/xgboost/src/learner.cc:1095: Starting in XGBoost 1.3.0, the default evaluation metric used with the objective 'binary:logistic' was changed from 'error' to 'logloss'. Explicitly set eval_metric if you'd like to restore the old behavior.\n"
     ]
    },
    {
     "name": "stderr",
     "output_type": "stream",
     "text": [
      "/Users/karl/Dev/imldiff/.venv/lib/python3.9/site-packages/xgboost/data.py:112: UserWarning: Use subset (sliced data) of np.ndarray is not recommended because it will generate extra copies and increase memory consumption\n",
      "  warnings.warn(\n",
      "/Users/karl/Dev/imldiff/.venv/lib/python3.9/site-packages/xgboost/sklearn.py:1146: UserWarning: The use of label encoder in XGBClassifier is deprecated and will be removed in a future release. To remove this warning, do the following: 1) Pass option use_label_encoder=False when constructing XGBClassifier object; and 2) Encode your labels (y) as integers starting with 0, i.e. 0, 1, 2, ..., [num_class - 1].\n",
      "  warnings.warn(label_encoder_deprecation_msg, UserWarning)\n"
     ]
    },
    {
     "name": "stdout",
     "output_type": "stream",
     "text": [
      "[14:39:38] WARNING: /Users/travis/build/dmlc/xgboost/src/learner.cc:1095: Starting in XGBoost 1.3.0, the default evaluation metric used with the objective 'binary:logistic' was changed from 'error' to 'logloss'. Explicitly set eval_metric if you'd like to restore the old behavior.\n"
     ]
    },
    {
     "name": "stderr",
     "output_type": "stream",
     "text": [
      "/Users/karl/Dev/imldiff/.venv/lib/python3.9/site-packages/xgboost/data.py:112: UserWarning: Use subset (sliced data) of np.ndarray is not recommended because it will generate extra copies and increase memory consumption\n",
      "  warnings.warn(\n",
      "/Users/karl/Dev/imldiff/.venv/lib/python3.9/site-packages/xgboost/sklearn.py:1146: UserWarning: The use of label encoder in XGBClassifier is deprecated and will be removed in a future release. To remove this warning, do the following: 1) Pass option use_label_encoder=False when constructing XGBClassifier object; and 2) Encode your labels (y) as integers starting with 0, i.e. 0, 1, 2, ..., [num_class - 1].\n",
      "  warnings.warn(label_encoder_deprecation_msg, UserWarning)\n"
     ]
    },
    {
     "name": "stdout",
     "output_type": "stream",
     "text": [
      "[14:39:41] WARNING: /Users/travis/build/dmlc/xgboost/src/learner.cc:1095: Starting in XGBoost 1.3.0, the default evaluation metric used with the objective 'binary:logistic' was changed from 'error' to 'logloss'. Explicitly set eval_metric if you'd like to restore the old behavior.\n"
     ]
    },
    {
     "name": "stderr",
     "output_type": "stream",
     "text": [
      "/Users/karl/Dev/imldiff/.venv/lib/python3.9/site-packages/xgboost/data.py:112: UserWarning: Use subset (sliced data) of np.ndarray is not recommended because it will generate extra copies and increase memory consumption\n",
      "  warnings.warn(\n",
      "/Users/karl/Dev/imldiff/.venv/lib/python3.9/site-packages/xgboost/sklearn.py:1146: UserWarning: The use of label encoder in XGBClassifier is deprecated and will be removed in a future release. To remove this warning, do the following: 1) Pass option use_label_encoder=False when constructing XGBClassifier object; and 2) Encode your labels (y) as integers starting with 0, i.e. 0, 1, 2, ..., [num_class - 1].\n",
      "  warnings.warn(label_encoder_deprecation_msg, UserWarning)\n"
     ]
    },
    {
     "name": "stdout",
     "output_type": "stream",
     "text": [
      "[14:39:45] WARNING: /Users/travis/build/dmlc/xgboost/src/learner.cc:1095: Starting in XGBoost 1.3.0, the default evaluation metric used with the objective 'binary:logistic' was changed from 'error' to 'logloss'. Explicitly set eval_metric if you'd like to restore the old behavior.\n"
     ]
    },
    {
     "name": "stderr",
     "output_type": "stream",
     "text": [
      "/Users/karl/Dev/imldiff/.venv/lib/python3.9/site-packages/xgboost/data.py:112: UserWarning: Use subset (sliced data) of np.ndarray is not recommended because it will generate extra copies and increase memory consumption\n",
      "  warnings.warn(\n",
      "/Users/karl/Dev/imldiff/.venv/lib/python3.9/site-packages/xgboost/sklearn.py:1146: UserWarning: The use of label encoder in XGBClassifier is deprecated and will be removed in a future release. To remove this warning, do the following: 1) Pass option use_label_encoder=False when constructing XGBClassifier object; and 2) Encode your labels (y) as integers starting with 0, i.e. 0, 1, 2, ..., [num_class - 1].\n",
      "  warnings.warn(label_encoder_deprecation_msg, UserWarning)\n"
     ]
    },
    {
     "name": "stdout",
     "output_type": "stream",
     "text": [
      "[14:39:49] WARNING: /Users/travis/build/dmlc/xgboost/src/learner.cc:1095: Starting in XGBoost 1.3.0, the default evaluation metric used with the objective 'binary:logistic' was changed from 'error' to 'logloss'. Explicitly set eval_metric if you'd like to restore the old behavior.\n"
     ]
    },
    {
     "name": "stderr",
     "output_type": "stream",
     "text": [
      "/Users/karl/Dev/imldiff/.venv/lib/python3.9/site-packages/xgboost/data.py:112: UserWarning: Use subset (sliced data) of np.ndarray is not recommended because it will generate extra copies and increase memory consumption\n",
      "  warnings.warn(\n",
      "/Users/karl/Dev/imldiff/.venv/lib/python3.9/site-packages/xgboost/sklearn.py:1146: UserWarning: The use of label encoder in XGBClassifier is deprecated and will be removed in a future release. To remove this warning, do the following: 1) Pass option use_label_encoder=False when constructing XGBClassifier object; and 2) Encode your labels (y) as integers starting with 0, i.e. 0, 1, 2, ..., [num_class - 1].\n",
      "  warnings.warn(label_encoder_deprecation_msg, UserWarning)\n"
     ]
    },
    {
     "name": "stdout",
     "output_type": "stream",
     "text": [
      "[14:39:52] WARNING: /Users/travis/build/dmlc/xgboost/src/learner.cc:1095: Starting in XGBoost 1.3.0, the default evaluation metric used with the objective 'binary:logistic' was changed from 'error' to 'logloss'. Explicitly set eval_metric if you'd like to restore the old behavior.\n"
     ]
    },
    {
     "name": "stderr",
     "output_type": "stream",
     "text": [
      "/Users/karl/Dev/imldiff/.venv/lib/python3.9/site-packages/xgboost/data.py:112: UserWarning: Use subset (sliced data) of np.ndarray is not recommended because it will generate extra copies and increase memory consumption\n",
      "  warnings.warn(\n"
     ]
    },
    {
     "data": {
      "text/plain": [
       "array([0.81751986, 0.8413504 , 0.74222026, 0.75722798, 0.63981461,\n",
       "       0.71794306, 0.69079673, 0.69741779, 0.70823218, 0.78415361])"
      ]
     },
     "execution_count": 25,
     "metadata": {},
     "output_type": "execute_result"
    }
   ],
   "source": [
    "clf = xgboost.XGBClassifier()\n",
    "cross_val_score(clf, X.loc[:, X.columns != 'date'], y, cv=10)"
   ]
  },
  {
   "cell_type": "code",
   "execution_count": 13,
   "id": "230cb392-78e2-4fc4-9bc7-8aba13361232",
   "metadata": {},
   "outputs": [],
   "source": [
    "from sklearn.ensemble import RandomForestClassifier"
   ]
  },
  {
   "cell_type": "code",
   "execution_count": 26,
   "id": "9e52099d-3a18-42b6-b755-782682587cbf",
   "metadata": {},
   "outputs": [
    {
     "data": {
      "text/plain": [
       "array([0.81509267, 0.81641659, 0.73979254, 0.73074377, 0.62436548,\n",
       "       0.70381814, 0.70050761, 0.69741779, 0.71198411, 0.7715736 ])"
      ]
     },
     "execution_count": 26,
     "metadata": {},
     "output_type": "execute_result"
    }
   ],
   "source": [
    "clf_rf = RandomForestClassifier()\n",
    "cross_val_score(clf_rf, X.loc[:, X.columns != 'date'], y, cv=10)"
   ]
  },
  {
   "cell_type": "code",
   "execution_count": 51,
   "id": "733140ec-367b-4001-bdc6-cee0705e490d",
   "metadata": {},
   "outputs": [],
   "source": [
    "n_samples = X.shape[0]\n",
    "X_train1, y_train1 = X[:int(n_samples/3)], y[:int(n_samples/3)]\n",
    "X_train2, y_train2 = X[:int(2*n_samples/3)], y[:int(2*n_samples/3)]\n",
    "X_test, y_test = X[int(2*n_samples/3):], y[int(2*n_samples/3):]"
   ]
  },
  {
   "cell_type": "code",
   "execution_count": 52,
   "id": "cdac7ae4-fc14-4c29-97a8-32383ee68730",
   "metadata": {},
   "outputs": [],
   "source": [
    "from sklearn.model_selection import StratifiedKFold"
   ]
  },
  {
   "cell_type": "code",
   "execution_count": 53,
   "id": "8f6b7bf3-702a-4abc-9923-82f26cedc1ec",
   "metadata": {},
   "outputs": [],
   "source": [
    "def make_classifier(X, y):\n",
    "    skf = StratifiedKFold(n_splits=10)\n",
    "    best_score = 0\n",
    "    for train_index, test_index in skf.split(X, y):\n",
    "        clf = RandomForestClassifier()\n",
    "        clf.fit(X.iloc[train_index], y.iloc[train_index])\n",
    "        score = clf.score(X.iloc[test_index], y.iloc[test_index])\n",
    "        if score > best_score:\n",
    "            best_clf, best_score = clf, score\n",
    "        print(score)\n",
    "    return best_clf"
   ]
  },
  {
   "cell_type": "code",
   "execution_count": 54,
   "id": "abd2c75c-9356-440e-83f4-b52c46543acd",
   "metadata": {},
   "outputs": [
    {
     "name": "stdout",
     "output_type": "stream",
     "text": [
      "0.8041032428855063\n",
      "0.8014559894109861\n",
      "0.827928524156188\n",
      "0.8272667107875579\n",
      "0.7562913907284768\n",
      "0.8483443708609272\n",
      "0.8450331125827815\n",
      "0.8119205298013245\n",
      "0.8264900662251655\n",
      "0.7788079470198676\n"
     ]
    }
   ],
   "source": [
    "clf_a = make_classifier(X_train1.loc[:, X_train1.columns != 'date'], y_train1)"
   ]
  },
  {
   "cell_type": "code",
   "execution_count": 55,
   "id": "e992ea6b-a683-48ba-ab74-6fb24935043f",
   "metadata": {},
   "outputs": [
    {
     "name": "stdout",
     "output_type": "stream",
     "text": [
      "0.7990731545845746\n",
      "0.8341608738828202\n",
      "0.8093346573982125\n",
      "0.7838464084740152\n",
      "0.8242303872889771\n",
      "0.5872227739159219\n",
      "0.6868586560741476\n",
      "0.6726249586229726\n",
      "0.759271523178808\n",
      "0.6625827814569536\n"
     ]
    }
   ],
   "source": [
    "clf_b = make_classifier(X_train2.loc[:, X_train2.columns != 'date'], y_train2)"
   ]
  },
  {
   "cell_type": "code",
   "execution_count": 56,
   "id": "8f9e8fea-ed44-4f91-8f5a-2fabc311ac67",
   "metadata": {},
   "outputs": [
    {
     "data": {
      "text/plain": [
       "0.7409957627118644"
      ]
     },
     "execution_count": 56,
     "metadata": {},
     "output_type": "execute_result"
    }
   ],
   "source": [
    "clf_a.score(X_test.loc[:, X_test.columns != 'date'], y_test)"
   ]
  },
  {
   "cell_type": "code",
   "execution_count": 57,
   "id": "1fbd806a-d83c-44e3-a0ee-ba4f386edbb4",
   "metadata": {},
   "outputs": [
    {
     "data": {
      "text/plain": [
       "0.704978813559322"
      ]
     },
     "execution_count": 57,
     "metadata": {},
     "output_type": "execute_result"
    }
   ],
   "source": [
    "clf_b.score(X_test.loc[:, X_test.columns != 'date'], y_test)"
   ]
  },
  {
   "cell_type": "code",
   "execution_count": null,
   "id": "0acc6494-7140-44ae-90bc-bb6ca9d02286",
   "metadata": {},
   "outputs": [],
   "source": []
  }
 ],
 "metadata": {
  "kernelspec": {
   "display_name": "Python 3",
   "language": "python",
   "name": "python3"
  },
  "language_info": {
   "codemirror_mode": {
    "name": "ipython",
    "version": 3
   },
   "file_extension": ".py",
   "mimetype": "text/x-python",
   "name": "python",
   "nbconvert_exporter": "python",
   "pygments_lexer": "ipython3",
   "version": "3.9.6"
  }
 },
 "nbformat": 4,
 "nbformat_minor": 5
}
