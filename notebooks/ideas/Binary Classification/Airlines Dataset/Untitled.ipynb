{
 "cells": [
  {
   "cell_type": "markdown",
   "id": "7f75cd35-ad2d-4480-aab3-ab5a748bb59f",
   "metadata": {},
   "source": [
    "https://moa.cms.waikato.ac.nz/datasets/\n",
    "https://kt.ijs.si/elena_ikonomovska/data.html"
   ]
  },
  {
   "cell_type": "code",
   "execution_count": 1,
   "id": "13f6fe58-c750-4563-a02e-5ca4c5cd2904",
   "metadata": {},
   "outputs": [],
   "source": [
    "from scipy.io import arff\n",
    "import pandas as pd"
   ]
  },
  {
   "cell_type": "code",
   "execution_count": 2,
   "id": "57dc5567-6a4c-461a-864f-b1b43ff2734b",
   "metadata": {},
   "outputs": [
    {
     "data": {
      "text/plain": [
       "Dataset: out\n",
       "\tAirline's type is nominal, range is ('US', 'AA', 'AS', 'CO', 'DL', 'B6', 'HA', 'OO', '9E', 'OH', 'EV', 'XE', 'YV', 'UA', 'MQ', 'FL', 'F9', 'WN')\n",
       "\tFlight's type is numeric\n",
       "\tAirportFrom's type is nominal, range is ('PHX', 'LAX', 'SFO', 'ANC', 'LAS', 'SLC', 'DEN', 'ONT', 'FAI', 'BQN', 'PSE', 'HNL', 'BIS', 'IYK', 'EWR', 'BOS', 'MKE', 'GFK', 'OMA', 'GSO', 'LMT', 'SEA', 'MCO', 'TPA', 'DLH', 'MSP', 'FAR', 'MFE', 'MSY', 'VPS', 'BWI', 'MAF', 'LWS', 'RST', 'ALB', 'DSM', 'CHS', 'MSN', 'JAX', 'SAT', 'PNS', 'BHM', 'LIT', 'SAV', 'BNA', 'ICT', 'ECP', 'DHN', 'MGM', 'CAE', 'PWM', 'ACV', 'EKO', 'PHL', 'ATL', 'PDX', 'RIC', 'BTR', 'HRL', 'MYR', 'TUS', 'SBN', 'CAK', 'TVC', 'CLE', 'ORD', 'DAY', 'MFR', 'BTV', 'TLH', 'TYS', 'DFW', 'FLL', 'AUS', 'CHA', 'CMH', 'LRD', 'BRO', 'CRP', 'LAN', 'PVD', 'FWA', 'JFK', 'LGA', 'OKC', 'PIT', 'PBI', 'ORF', 'DCA', 'AEX', 'SYR', 'SHV', 'VLD', 'BDL', 'FAT', 'BZN', 'RDM', 'LFT', 'IPL', 'EAU', 'ERI', 'BUF', 'IAH', 'MCI', 'AGS', 'ABI', 'GRR', 'LBB', 'CLT', 'LEX', 'MBS', 'MOD', 'AMA', 'SGF', 'AZO', 'ABE', 'SWF', 'BGM', 'AVP', 'FNT', 'GSP', 'ATW', 'ITH', 'TUL', 'COS', 'ELP', 'ABQ', 'SMF', 'STL', 'IAD', 'DTW', 'RDU', 'RSW', 'OAK', 'ROC', 'IND', 'CVG', 'MDW', 'SDF', 'ABY', 'TRI', 'XNA', 'ROA', 'MLI', 'LYH', 'EVV', 'HPN', 'FAY', 'EWN', 'CSG', 'GPT', 'MLU', 'MOB', 'OAJ', 'CHO', 'ILM', 'BMI', 'PHF', 'ACY', 'JAN', 'CID', 'GRK', 'HOU', 'CRW', 'HTS', 'PSC', 'BOI', 'SBP', 'CLD', 'PSP', 'SBA', 'MEM', 'MRY', 'GEG', 'RDD', 'PAH', 'CMX', 'SPI', 'EUG', 'CIC', 'PIH', 'SGU', 'COD', 'MIA', 'MHT', 'GRB', 'FSD', 'SJU', 'AVL', 'BFL', 'RAP', 'DRO', 'PIA', 'OGG', 'SIT', 'TXK', 'RNO', 'DAL', 'SCE', 'MEI', 'MDT', 'FCA', 'SJC', 'KOA', 'PLN', 'SAN', 'GNV', 'HLN', 'GJT', 'CPR', 'FSM', 'CMI', 'GTF', 'HDN', 'ITO', 'MTJ', 'HSV', 'BTM', 'BIL', 'COU', 'MSO', 'SMX', 'TWF', 'ISP', 'GCC', 'LIH', 'LNK', 'DAB', 'SNA', 'MQT', 'LGB', 'CWA', 'LSE', 'BUR', 'ACT', 'MHK', 'MOT', 'IDA', 'SUN', 'GTR', 'MLB', 'SRQ', 'JAC', 'ASE', 'LCH', 'JNU', 'ROW', 'BQK', 'YUM', 'FLG', 'EGE', 'GUC', 'EYW', 'RKS', 'BGR', 'ELM', 'ADQ', 'OTZ', 'OTH', 'STT', 'KTN', 'BET', 'SJT', 'CDC', 'CEC', 'SPS', 'SCC', 'STX', 'OME', 'MKG', 'WRG', 'TYR', 'BRW', 'GGG', 'PSG', 'BKG', 'YAK', 'CLL', 'SAF', 'CYS', 'LWB', 'CDV', 'FLO', 'BLI', 'DBQ', 'TOL', 'UTM', 'PIE', 'ADK', 'ABR', 'TEX', 'MMH', 'GUM')\n",
       "\tAirportTo's type is nominal, range is ('CLT', 'DFW', 'SEA', 'IAH', 'MSP', 'DTW', 'ORD', 'ATL', 'PDX', 'JFK', 'SLC', 'HNL', 'PHX', 'MCO', 'OGG', 'LAX', 'KOA', 'ITO', 'SFO', 'MIA', 'IAD', 'SMF', 'PHL', 'LIH', 'DEN', 'LGA', 'MEM', 'CVG', 'YUM', 'CWA', 'MKE', 'BQN', 'FAI', 'LAS', 'ANC', 'BOS', 'LGB', 'FLL', 'SJU', 'EWR', 'DCA', 'BWI', 'RDU', 'MCI', 'TYS', 'SAN', 'ONT', 'OAK', 'MDW', 'BNA', 'DAL', 'CLE', 'JAX', 'JNU', 'RNO', 'ELP', 'SAT', 'OTZ', 'MBS', 'BDL', 'STL', 'HOU', 'AUS', 'SNA', 'SJC', 'LIT', 'TUS', 'TUL', 'CMH', 'LAN', 'IND', 'AMA', 'CRP', 'PIT', 'RKS', 'FWA', 'TPA', 'PBI', 'JAN', 'DSM', 'ADQ', 'GRB', 'PVD', 'ABQ', 'SDF', 'RSW', 'MSY', 'BUR', 'BOI', 'TLH', 'BHM', 'ACV', 'ORF', 'BET', 'KTN', 'RIC', 'SRQ', 'BTR', 'XNA', 'MHT', 'GRR', 'SBN', 'SBA', 'ROA', 'CID', 'GPT', 'MFR', 'SGU', 'HPN', 'OMA', 'OTH', 'GSP', 'LMT', 'BUF', 'MSN', 'BFL', 'CAE', 'HRL', 'OKC', 'SYR', 'COS', 'BTV', 'CDC', 'SCC', 'DAY', 'SJT', 'TVC', 'ROC', 'ISP', 'MRY', 'SBP', 'MLI', 'MOB', 'CIC', 'SAV', 'FAT', 'EKO', 'GEG', 'ECP', 'LFT', 'SUN', 'HSV', 'SHV', 'CHA', 'CAK', 'BZN', 'MAF', 'GSO', 'MDT', 'PHF', 'ICT', 'AZO', 'RAP', 'CHS', 'CLD', 'MKG', 'VPS', 'PIH', 'ATW', 'AGS', 'PNS', 'BIL', 'SPI', 'FAR', 'CPR', 'PIA', 'SPS', 'TWF', 'LBB', 'ALB', 'CEC', 'DRO', 'GJT', 'GNV', 'RST', 'AVL', 'GRK', 'PSP', 'LEX', 'TRI', 'SGF', 'FSM', 'RDD', 'OME', 'MFE', 'LSE', 'BMI', 'MYR', 'FAY', 'FSD', 'EUG', 'MGM', 'EVV', 'MLB', 'FNT', 'STT', 'WRG', 'ABE', 'BIS', 'MOT', 'MLU', 'GFK', 'RDM', 'COU', 'LRD', 'PSC', 'MOD', 'PWM', 'ILM', 'ABY', 'CRW', 'TXK', 'BRO', 'BRW', 'EYW', 'DAB', 'ROW', 'ABI', 'EAU', 'TYR', 'MSO', 'FLG', 'CSG', 'VLD', 'DHN', 'OAJ', 'AEX', 'CHO', 'SAF', 'GGG', 'FCA', 'ASE', 'BKG', 'MHK', 'LNK', 'MQT', 'YAK', 'GTR', 'SMX', 'SWF', 'ITH', 'AVP', 'ELM', 'BGM', 'SIT', 'PSG', 'CYS', 'CLL', 'SCE', 'LWB', 'LCH', 'GCC', 'IYK', 'LWS', 'COD', 'HLN', 'BQK', 'GTF', 'DLH', 'BTM', 'EGE', 'IDA', 'JAC', 'HDN', 'MTJ', 'CMX', 'CMI', 'CDV', 'LYH', 'ACT', 'STX', 'IPL', 'PAH', 'HTS', 'MEI', 'BLI', 'ERI', 'EWN', 'FLO', 'ACY', 'DBQ', 'TOL', 'GUC', 'PLN', 'BGR', 'PSE', 'PIE', 'UTM', 'ADK', 'ABR', 'TEX', 'MMH', 'GUM')\n",
       "\tDayOfWeek's type is nominal, range is ('1', '2', '3', '4', '5', '6', '7')\n",
       "\tTime's type is numeric\n",
       "\tLength's type is numeric\n",
       "\tDelay's type is nominal, range is ('0', '1')"
      ]
     },
     "execution_count": 2,
     "metadata": {},
     "output_type": "execute_result"
    }
   ],
   "source": [
    "data = arff.loadarff('airlines.arff')\n",
    "data[1]"
   ]
  },
  {
   "cell_type": "code",
   "execution_count": 3,
   "id": "95690612-50bc-4be1-bb6c-1b697fae1e03",
   "metadata": {},
   "outputs": [
    {
     "data": {
      "text/html": [
       "<div>\n",
       "<style scoped>\n",
       "    .dataframe tbody tr th:only-of-type {\n",
       "        vertical-align: middle;\n",
       "    }\n",
       "\n",
       "    .dataframe tbody tr th {\n",
       "        vertical-align: top;\n",
       "    }\n",
       "\n",
       "    .dataframe thead th {\n",
       "        text-align: right;\n",
       "    }\n",
       "</style>\n",
       "<table border=\"1\" class=\"dataframe\">\n",
       "  <thead>\n",
       "    <tr style=\"text-align: right;\">\n",
       "      <th></th>\n",
       "      <th>Airline</th>\n",
       "      <th>Flight</th>\n",
       "      <th>AirportFrom</th>\n",
       "      <th>AirportTo</th>\n",
       "      <th>DayOfWeek</th>\n",
       "      <th>Time</th>\n",
       "      <th>Length</th>\n",
       "    </tr>\n",
       "  </thead>\n",
       "  <tbody>\n",
       "    <tr>\n",
       "      <th>0</th>\n",
       "      <td>4</td>\n",
       "      <td>269.0</td>\n",
       "      <td>253</td>\n",
       "      <td>135</td>\n",
       "      <td>2</td>\n",
       "      <td>15.0</td>\n",
       "      <td>205.0</td>\n",
       "    </tr>\n",
       "    <tr>\n",
       "      <th>1</th>\n",
       "      <td>14</td>\n",
       "      <td>1558.0</td>\n",
       "      <td>217</td>\n",
       "      <td>60</td>\n",
       "      <td>2</td>\n",
       "      <td>15.0</td>\n",
       "      <td>222.0</td>\n",
       "    </tr>\n",
       "    <tr>\n",
       "      <th>2</th>\n",
       "      <td>1</td>\n",
       "      <td>2400.0</td>\n",
       "      <td>154</td>\n",
       "      <td>80</td>\n",
       "      <td>2</td>\n",
       "      <td>20.0</td>\n",
       "      <td>165.0</td>\n",
       "    </tr>\n",
       "    <tr>\n",
       "      <th>3</th>\n",
       "      <td>1</td>\n",
       "      <td>2466.0</td>\n",
       "      <td>253</td>\n",
       "      <td>80</td>\n",
       "      <td>2</td>\n",
       "      <td>20.0</td>\n",
       "      <td>195.0</td>\n",
       "    </tr>\n",
       "    <tr>\n",
       "      <th>4</th>\n",
       "      <td>2</td>\n",
       "      <td>108.0</td>\n",
       "      <td>14</td>\n",
       "      <td>252</td>\n",
       "      <td>2</td>\n",
       "      <td>30.0</td>\n",
       "      <td>202.0</td>\n",
       "    </tr>\n",
       "  </tbody>\n",
       "</table>\n",
       "</div>"
      ],
      "text/plain": [
       "   Airline  Flight  AirportFrom  AirportTo  DayOfWeek  Time  Length\n",
       "0        4   269.0          253        135          2  15.0   205.0\n",
       "1       14  1558.0          217         60          2  15.0   222.0\n",
       "2        1  2400.0          154         80          2  20.0   165.0\n",
       "3        1  2466.0          253         80          2  20.0   195.0\n",
       "4        2   108.0           14        252          2  30.0   202.0"
      ]
     },
     "execution_count": 3,
     "metadata": {},
     "output_type": "execute_result"
    }
   ],
   "source": [
    "X = pd.DataFrame(data[0])\n",
    "y = X.pop('Delay').astype(int)\n",
    "X['Airline'] = X['Airline'].astype('category').cat.codes\n",
    "X['AirportFrom'] = X['AirportFrom'].astype('category').cat.codes\n",
    "X['AirportTo'] = X['AirportTo'].astype('category').cat.codes\n",
    "X['DayOfWeek'] = X['DayOfWeek'].astype('category').cat.codes\n",
    "X.head()"
   ]
  },
  {
   "cell_type": "code",
   "execution_count": 4,
   "id": "c89588fa-9439-42a7-9dca-ad759c39bcbd",
   "metadata": {},
   "outputs": [
    {
     "data": {
      "text/plain": [
       "Airline           int8\n",
       "Flight         float64\n",
       "AirportFrom      int16\n",
       "AirportTo        int16\n",
       "DayOfWeek         int8\n",
       "Time           float64\n",
       "Length         float64\n",
       "dtype: object"
      ]
     },
     "execution_count": 4,
     "metadata": {},
     "output_type": "execute_result"
    }
   ],
   "source": [
    "X.dtypes"
   ]
  },
  {
   "cell_type": "code",
   "execution_count": 5,
   "id": "19a5afe7-2005-4c6d-94de-1d0aca625a4b",
   "metadata": {},
   "outputs": [
    {
     "data": {
      "text/plain": [
       "<AxesSubplot:>"
      ]
     },
     "execution_count": 5,
     "metadata": {},
     "output_type": "execute_result"
    },
    {
     "data": {
      "image/png": "[encoded data removed]",
      "text/plain": [
       "<Figure size 432x288 with 1 Axes>"
      ]
     },
     "metadata": {
      "needs_background": "light"
     },
     "output_type": "display_data"
    }
   ],
   "source": [
    "y.plot()"
   ]
  },
  {
   "cell_type": "code",
   "execution_count": 7,
   "id": "526c0306-66be-4cf4-ae64-4f023b50ad9a",
   "metadata": {},
   "outputs": [
    {
     "data": {
      "text/plain": [
       "<AxesSubplot:>"
      ]
     },
     "execution_count": 7,
     "metadata": {},
     "output_type": "execute_result"
    },
    {
     "data": {
      "image/png": "[encoded data removed]",
      "text/plain": [
       "<Figure size 432x288 with 1 Axes>"
      ]
     },
     "metadata": {
      "needs_background": "light"
     },
     "output_type": "display_data"
    }
   ],
   "source": [
    "X.plot(y='Time')"
   ]
  },
  {
   "cell_type": "code",
   "execution_count": 8,
   "id": "9fe83f08-262d-4bdd-8cad-ec6afa5975e0",
   "metadata": {},
   "outputs": [
    {
     "data": {
      "text/plain": [
       "<AxesSubplot:>"
      ]
     },
     "execution_count": 8,
     "metadata": {},
     "output_type": "execute_result"
    },
    {
     "data": {
      "image/png": "[encoded data removed]",
      "text/plain": [
       "<Figure size 432x288 with 1 Axes>"
      ]
     },
     "metadata": {
      "needs_background": "light"
     },
     "output_type": "display_data"
    }
   ],
   "source": [
    "X.plot(y='Length')"
   ]
  },
  {
   "cell_type": "code",
   "execution_count": 11,
   "id": "a4a9138d-b0de-465f-bd5f-c83613515af5",
   "metadata": {},
   "outputs": [],
   "source": [
    "from sklearn.ensemble import RandomForestClassifier\n",
    "from sklearn.model_selection import cross_val_score"
   ]
  },
  {
   "cell_type": "code",
   "execution_count": 13,
   "id": "97b63016-c440-4af3-956c-4e28075b9d5d",
   "metadata": {},
   "outputs": [
    {
     "name": "stderr",
     "output_type": "stream",
     "text": [
      "[Parallel(n_jobs=1)]: Using backend SequentialBackend with 1 concurrent workers.\n"
     ]
    },
    {
     "name": "stdout",
     "output_type": "stream",
     "text": [
      "[CV] END .................................................... total time= 1.1min\n"
     ]
    },
    {
     "name": "stderr",
     "output_type": "stream",
     "text": [
      "[Parallel(n_jobs=1)]: Done   1 out of   1 | elapsed:  1.1min remaining:    0.0s\n"
     ]
    },
    {
     "name": "stdout",
     "output_type": "stream",
     "text": [
      "[CV] END .................................................... total time= 1.2min\n",
      "[CV] END .................................................... total time= 1.6min\n",
      "[CV] END .................................................... total time=  57.3s\n",
      "[CV] END .................................................... total time=  51.4s\n",
      "[CV] END .................................................... total time=  52.8s\n",
      "[CV] END .................................................... total time=  57.1s\n",
      "[CV] END .................................................... total time=  59.2s\n",
      "[CV] END .................................................... total time=  58.9s\n",
      "[CV] END .................................................... total time=  56.2s\n",
      "CPU times: user 1min 11s, sys: 1min 33s, total: 2min 44s\n",
      "Wall time: 10min 29s\n"
     ]
    },
    {
     "name": "stderr",
     "output_type": "stream",
     "text": [
      "[Parallel(n_jobs=1)]: Done  10 out of  10 | elapsed: 10.5min finished\n"
     ]
    },
    {
     "data": {
      "text/plain": [
       "array([0.62663379, 0.63314114, 0.54880513, 0.62210316, 0.59186473,\n",
       "       0.63165116, 0.64019801, 0.5873781 , 0.60660388, 0.61926657])"
      ]
     },
     "execution_count": 13,
     "metadata": {},
     "output_type": "execute_result"
    }
   ],
   "source": [
    "%%time\n",
    "clf_rf = RandomForestClassifier(n_jobs=4)\n",
    "cross_val_score(clf_rf, X, y, cv=10, verbose=2)"
   ]
  },
  {
   "cell_type": "code",
   "execution_count": 14,
   "id": "952eaeda-9f60-443a-bbe0-821bcfd3bdb9",
   "metadata": {},
   "outputs": [],
   "source": [
    "n_samples = X.shape[0]\n",
    "X_train1, y_train1 = X[:int(n_samples/3)], y[:int(n_samples/3)]\n",
    "X_train2, y_train2 = X[:int(2*n_samples/3)], y[:int(2*n_samples/3)]\n",
    "X_test, y_test = X[int(2*n_samples/3):], y[int(2*n_samples/3):]"
   ]
  },
  {
   "cell_type": "code",
   "execution_count": 24,
   "id": "fe3bd49e-e15b-433d-92b4-ba3034d4f180",
   "metadata": {},
   "outputs": [],
   "source": [
    "from sklearn.model_selection import StratifiedKFold, train_test_split"
   ]
  },
  {
   "cell_type": "code",
   "execution_count": 25,
   "id": "0011e250-d437-446b-a77a-3917839ab4d3",
   "metadata": {},
   "outputs": [],
   "source": [
    "def make_classifier(X, y):\n",
    "    X_train, X_test, y_train, y_test = train_test_split(X, y, test_size=0.2, stratify=y)\n",
    "    skf = StratifiedKFold(n_splits=10)\n",
    "    best_score = 0\n",
    "    for train_index, test_index in skf.split(X_train, y_train):\n",
    "        clf = RandomForestClassifier(n_jobs=4)\n",
    "        clf.fit(X.iloc[train_index], y.iloc[train_index])\n",
    "        score = clf.score(X.iloc[test_index], y.iloc[test_index])\n",
    "        if score > best_score:\n",
    "            best_clf, best_score = clf, score\n",
    "        print(score)\n",
    "    print(f'best: {best_clf.score(X_test, y_test)} (test)')\n",
    "    return best_clf"
   ]
  },
  {
   "cell_type": "code",
   "execution_count": 26,
   "id": "e4535717-b54d-41e9-9c1b-923ab973240b",
   "metadata": {},
   "outputs": [
    {
     "name": "stdout",
     "output_type": "stream",
     "text": [
      "0.5976779755283649\n",
      "0.6649749721913237\n",
      "0.7016129032258065\n",
      "0.6742908787541713\n",
      "0.6675472747497219\n",
      "0.6194118056038379\n",
      "0.6363762775498852\n",
      "0.655426545227004\n",
      "0.6311617882222068\n",
      "0.622610025724814\n",
      "best: 0.8580605689813399 (test)\n",
      "CPU times: user 5min 15s, sys: 10.3 s, total: 5min 25s\n",
      "Wall time: 1min 34s\n"
     ]
    }
   ],
   "source": [
    "%%time\n",
    "clf_a = make_classifier(X_train1, y_train1)"
   ]
  },
  {
   "cell_type": "code",
   "execution_count": 27,
   "id": "cc6dc209-b2f4-4ec4-a511-e1c4874a0058",
   "metadata": {},
   "outputs": [
    {
     "name": "stdout",
     "output_type": "stream",
     "text": [
      "0.6470261063023603\n",
      "0.6468870580873918\n",
      "0.6059025967254146\n",
      "0.6045468766294713\n",
      "0.64539228977648\n",
      "0.6421246567247193\n",
      "0.6235964820801613\n",
      "0.6002711440191887\n",
      "0.6321827093544686\n",
      "0.6022525810824904\n",
      "best: 0.7629800606246002 (test)\n",
      "CPU times: user 11min 57s, sys: 27 s, total: 12min 24s\n",
      "Wall time: 4min 38s\n"
     ]
    }
   ],
   "source": [
    "%%time\n",
    "clf_b = make_classifier(X_train2, y_train2)"
   ]
  },
  {
   "cell_type": "code",
   "execution_count": 28,
   "id": "74019c69-8db9-4644-abcf-c6e79ff3cdd3",
   "metadata": {},
   "outputs": [
    {
     "data": {
      "text/plain": [
       "0.5806056898133986"
      ]
     },
     "execution_count": 28,
     "metadata": {},
     "output_type": "execute_result"
    }
   ],
   "source": [
    "clf_a.score(X_test, y_test)"
   ]
  },
  {
   "cell_type": "code",
   "execution_count": 29,
   "id": "1b013cb5-a090-4f94-a120-1f2a00084c55",
   "metadata": {},
   "outputs": [
    {
     "data": {
      "text/plain": [
       "0.6048165966795517"
      ]
     },
     "execution_count": 29,
     "metadata": {},
     "output_type": "execute_result"
    }
   ],
   "source": [
    "clf_b.score(X_test, y_test)"
   ]
  },
  {
   "cell_type": "code",
   "execution_count": 30,
   "id": "f9328e39-a5f7-4187-b9ca-cc34e017800b",
   "metadata": {},
   "outputs": [],
   "source": [
    "import pickle"
   ]
  },
  {
   "cell_type": "code",
   "execution_count": 31,
   "id": "039f95e6-b323-4fc4-acdd-933f147625fb",
   "metadata": {},
   "outputs": [],
   "source": [
    "with open('classifiers.pickle', 'wb') as f:\n",
    "    pickle.dump((clf_a, clf_b), f, pickle.HIGHEST_PROTOCOL)"
   ]
  },
  {
   "cell_type": "code",
   "execution_count": 32,
   "id": "5627c37c-0efb-4d5f-b58d-aab6f52dc8b0",
   "metadata": {},
   "outputs": [],
   "source": [
    "n_samples = X.shape[0]\n",
    "X_train1, y_train1 = X[:int(n_samples/3)], y[:int(n_samples/3)]\n",
    "X_train2, y_train2 = X[int(n_samples/3):int(2*n_samples/3)], y[int(n_samples/3):int(2*n_samples/3)]\n",
    "X_test, y_test = X[int(2*n_samples/3):], y[int(2*n_samples/3):]"
   ]
  },
  {
   "cell_type": "code",
   "execution_count": 33,
   "id": "97be3905-b9a1-4dbe-b3ee-3cd73f538cb6",
   "metadata": {},
   "outputs": [],
   "source": [
    "def make_classifier(X, y):\n",
    "    X_train, X_test, y_train, y_test = train_test_split(X, y, test_size=0.2, stratify=y)\n",
    "    skf = StratifiedKFold(n_splits=10)\n",
    "    best_score = 0\n",
    "    for train_index, test_index in skf.split(X_train, y_train):\n",
    "        clf = RandomForestClassifier(n_jobs=4)\n",
    "        clf.fit(X.iloc[train_index], y.iloc[train_index])\n",
    "        score = clf.score(X.iloc[test_index], y.iloc[test_index])\n",
    "        if score > best_score:\n",
    "            best_clf, best_score = clf, score\n",
    "        print(score)\n",
    "    print(f'best: {best_clf.score(X_test, y_test)} (test)')\n",
    "    return best_clf"
   ]
  },
  {
   "cell_type": "code",
   "execution_count": 34,
   "id": "7733c0e5-e6f0-4682-8350-a6b56c87a727",
   "metadata": {},
   "outputs": [
    {
     "name": "stdout",
     "output_type": "stream",
     "text": [
      "0.5988598442714127\n",
      "0.6639321468298109\n",
      "0.709051724137931\n",
      "0.6744994438264739\n",
      "0.6634454949944383\n",
      "0.6218452339567545\n",
      "0.6307446290759925\n",
      "0.652297851630397\n",
      "0.6346381144406591\n",
      "0.6219147604811236\n",
      "best: 0.8580605689813399 (test)\n",
      "CPU times: user 5min 19s, sys: 11.6 s, total: 5min 31s\n",
      "Wall time: 1min 54s\n"
     ]
    }
   ],
   "source": [
    "%%time\n",
    "clf_a = make_classifier(X_train1, y_train1)"
   ]
  },
  {
   "cell_type": "code",
   "execution_count": 35,
   "id": "314321a3-5bb3-4a31-ae07-aba705649100",
   "metadata": {},
   "outputs": [
    {
     "name": "stdout",
     "output_type": "stream",
     "text": [
      "0.574805339265851\n",
      "0.5692436040044494\n",
      "0.610539488320356\n",
      "0.6289627363737486\n",
      "0.6471774193548387\n",
      "0.6415907668775638\n",
      "0.6246262949315163\n",
      "0.6278245150524925\n",
      "0.5799902662865883\n",
      "0.5838142251268859\n",
      "best: 0.8655969298367585 (test)\n",
      "CPU times: user 5min 33s, sys: 15 s, total: 5min 48s\n",
      "Wall time: 2min 29s\n"
     ]
    }
   ],
   "source": [
    "%%time\n",
    "clf_b = make_classifier(X_train2, y_train2)"
   ]
  },
  {
   "cell_type": "code",
   "execution_count": 36,
   "id": "ed4432d1-5a22-4fe5-97ad-6e5d9cf0cfd8",
   "metadata": {
    "tags": []
   },
   "outputs": [
    {
     "data": {
      "text/plain": [
       "0.5802497288578659"
      ]
     },
     "execution_count": 36,
     "metadata": {},
     "output_type": "execute_result"
    }
   ],
   "source": [
    "clf_a.score(X_test, y_test)"
   ]
  },
  {
   "cell_type": "code",
   "execution_count": 37,
   "id": "298a85a0-3439-4746-baae-56f73819fe75",
   "metadata": {
    "tags": []
   },
   "outputs": [
    {
     "data": {
      "text/plain": [
       "0.5973024833838538"
      ]
     },
     "execution_count": 37,
     "metadata": {},
     "output_type": "execute_result"
    }
   ],
   "source": [
    "clf_b.score(X_test, y_test)"
   ]
  },
  {
   "cell_type": "code",
   "execution_count": 47,
   "id": "62f1e888-8264-4b08-8758-05d429f47ac7",
   "metadata": {},
   "outputs": [],
   "source": [
    "with open('classifiers.2.pickle', 'wb') as f:\n",
    "    pickle.dump((clf_a, clf_b), f, pickle.HIGHEST_PROTOCOL)"
   ]
  },
  {
   "cell_type": "code",
   "execution_count": 42,
   "id": "4bb56852-034e-4665-86b0-e78e4e663da2",
   "metadata": {},
   "outputs": [],
   "source": [
    "from comparers import ModelComparer"
   ]
  },
  {
   "cell_type": "code",
   "execution_count": 44,
   "id": "a3bb3c08-eef6-4591-8b55-ebe291d21151",
   "metadata": {},
   "outputs": [],
   "source": [
    "comparer = ModelComparer(clf_a, clf_b, X.columns)\n",
    "comparer.fit(X, y)"
   ]
  },
  {
   "cell_type": "code",
   "execution_count": 45,
   "id": "50d00d3d-c57d-4cd8-bdb3-8fb8fb6e4203",
   "metadata": {},
   "outputs": [
    {
     "data": {
      "image/png": "[encoded data removed]",
      "text/plain": [
       "<Figure size 432x288 with 2 Axes>"
      ]
     },
     "metadata": {
      "needs_background": "light"
     },
     "output_type": "display_data"
    }
   ],
   "source": [
    "comparer.plot_confusion_matrix(X_test)"
   ]
  },
  {
   "cell_type": "code",
   "execution_count": 57,
   "id": "38ca8225-532d-4c98-9dc5-8c2c36b0d0fe",
   "metadata": {},
   "outputs": [],
   "source": [
    "from sklearn.metrics import classification_report"
   ]
  },
  {
   "cell_type": "code",
   "execution_count": 61,
   "id": "945010a0-8f84-4016-a631-49bb58aec1c2",
   "metadata": {},
   "outputs": [],
   "source": [
    "def make_classifier(X, y):\n",
    "    X_train, X_test, y_train, y_test = train_test_split(X, y, test_size=0.2, stratify=y)\n",
    "    clf = RandomForestClassifier(n_jobs=4)\n",
    "    clf.fit(X_train, y_train)\n",
    "    print(classification_report(y_test, clf.predict(X_test)))\n",
    "    return clf"
   ]
  },
  {
   "cell_type": "code",
   "execution_count": 62,
   "id": "4084122b-c32a-4d40-aae8-ee7ff208e414",
   "metadata": {},
   "outputs": [
    {
     "name": "stdout",
     "output_type": "stream",
     "text": [
      "              precision    recall  f1-score   support\n",
      "\n",
      "           0       0.73      0.77      0.75     23632\n",
      "           1       0.51      0.45      0.48     12327\n",
      "\n",
      "    accuracy                           0.66     35959\n",
      "   macro avg       0.62      0.61      0.61     35959\n",
      "weighted avg       0.65      0.66      0.66     35959\n",
      "\n",
      "CPU times: user 43.6 s, sys: 1.47 s, total: 45 s\n",
      "Wall time: 14.2 s\n"
     ]
    }
   ],
   "source": [
    "%%time\n",
    "clf_a = make_classifier(X_train1, y_train1)"
   ]
  },
  {
   "cell_type": "code",
   "execution_count": 63,
   "id": "8fabb2bb-b47d-4c04-90dc-60b849939d15",
   "metadata": {},
   "outputs": [
    {
     "name": "stdout",
     "output_type": "stream",
     "text": [
      "              precision    recall  f1-score   support\n",
      "\n",
      "           0       0.64      0.65      0.64     18534\n",
      "           1       0.62      0.60      0.61     17425\n",
      "\n",
      "    accuracy                           0.63     35959\n",
      "   macro avg       0.63      0.63      0.63     35959\n",
      "weighted avg       0.63      0.63      0.63     35959\n",
      "\n",
      "CPU times: user 45.5 s, sys: 1.43 s, total: 46.9 s\n",
      "Wall time: 13.8 s\n"
     ]
    }
   ],
   "source": [
    "%%time\n",
    "clf_b = make_classifier(X_train2, y_train2)"
   ]
  },
  {
   "cell_type": "code",
   "execution_count": 59,
   "id": "18c63ac7-4c24-4991-8db2-223121d92731",
   "metadata": {},
   "outputs": [
    {
     "name": "stdout",
     "output_type": "stream",
     "text": [
      "              precision    recall  f1-score   support\n",
      "\n",
      "           0       0.55      0.80      0.65     88287\n",
      "           1       0.66      0.37      0.47     91508\n",
      "\n",
      "    accuracy                           0.58    179795\n",
      "   macro avg       0.61      0.59      0.56    179795\n",
      "weighted avg       0.61      0.58      0.56    179795\n",
      "\n"
     ]
    }
   ],
   "source": [
    "print(classification_report(y_test, clf_a.predict(X_test)))"
   ]
  },
  {
   "cell_type": "code",
   "execution_count": 60,
   "id": "0b1c85cf-d44b-4a62-9c30-9c888878aa33",
   "metadata": {},
   "outputs": [
    {
     "name": "stdout",
     "output_type": "stream",
     "text": [
      "              precision    recall  f1-score   support\n",
      "\n",
      "           0       0.60      0.61      0.60     88287\n",
      "           1       0.62      0.60      0.61     91508\n",
      "\n",
      "    accuracy                           0.61    179795\n",
      "   macro avg       0.61      0.61      0.61    179795\n",
      "weighted avg       0.61      0.61      0.61    179795\n",
      "\n"
     ]
    }
   ],
   "source": [
    "print(classification_report(y_test, clf_b.predict(X_test)))"
   ]
  },
  {
   "cell_type": "code",
   "execution_count": 51,
   "id": "a847ae6b-9df1-4e76-a31f-c253bf907df9",
   "metadata": {
    "tags": []
   },
   "outputs": [
    {
     "data": {
      "text/plain": [
       "0.5821129619844824"
      ]
     },
     "execution_count": 51,
     "metadata": {},
     "output_type": "execute_result"
    }
   ],
   "source": [
    "clf_a.score(X_test, y_test)"
   ]
  },
  {
   "cell_type": "code",
   "execution_count": 52,
   "id": "04fe16b6-da9c-476f-989e-68babc16227a",
   "metadata": {
    "tags": []
   },
   "outputs": [
    {
     "data": {
      "text/plain": [
       "0.6066798298061681"
      ]
     },
     "execution_count": 52,
     "metadata": {},
     "output_type": "execute_result"
    }
   ],
   "source": [
    "clf_b.score(X_test, y_test)"
   ]
  },
  {
   "cell_type": "code",
   "execution_count": 64,
   "id": "1accfc9a-0705-41ee-85d3-cff33cd8454f",
   "metadata": {},
   "outputs": [],
   "source": [
    "with open('classifiers.3.pickle', 'wb') as f:\n",
    "    pickle.dump((clf_a, clf_b), f, pickle.HIGHEST_PROTOCOL)"
   ]
  },
  {
   "cell_type": "code",
   "execution_count": 54,
   "id": "ee2c0f4d-b5ff-451e-a385-cdee96cca90b",
   "metadata": {},
   "outputs": [],
   "source": [
    "from comparers import ModelComparer"
   ]
  },
  {
   "cell_type": "code",
   "execution_count": 55,
   "id": "f4d27771-acf2-4636-88b4-d93d3c305035",
   "metadata": {},
   "outputs": [],
   "source": [
    "comparer = ModelComparer(clf_a, clf_b, X.columns)\n",
    "comparer.fit(X, y)"
   ]
  },
  {
   "cell_type": "code",
   "execution_count": 56,
   "id": "dc549a76-a7d2-4a0e-b093-dadd3f77637f",
   "metadata": {},
   "outputs": [
    {
     "data": {
      "image/png": "[encoded data removed]",
      "text/plain": [
       "<Figure size 432x288 with 2 Axes>"
      ]
     },
     "metadata": {
      "needs_background": "light"
     },
     "output_type": "display_data"
    }
   ],
   "source": [
    "comparer.plot_confusion_matrix(X_test)"
   ]
  },
  {
   "cell_type": "code",
   "execution_count": null,
   "id": "d8f3e100-1469-4748-b344-d23128be4376",
   "metadata": {},
   "outputs": [],
   "source": []
  }
 ],
 "metadata": {
  "kernelspec": {
   "display_name": "Python 3",
   "language": "python",
   "name": "python3"
  },
  "language_info": {
   "codemirror_mode": {
    "name": "ipython",
    "version": 3
   },
   "file_extension": ".py",
   "mimetype": "text/x-python",
   "name": "python",
   "nbconvert_exporter": "python",
   "pygments_lexer": "ipython3",
   "version": "3.9.6"
  }
 },
 "nbformat": 4,
 "nbformat_minor": 5
}
